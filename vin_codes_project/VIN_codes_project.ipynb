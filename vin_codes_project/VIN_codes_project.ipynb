{
 "cells": [
  {
   "cell_type": "markdown",
   "metadata": {
    "id": "3K9ShajNZNVV"
   },
   "source": [
    "# Предсказание стоимости машин по VIN-коду"
   ]
  },
  {
   "cell_type": "markdown",
   "metadata": {
    "id": "5Wl-CCw9cM_9"
   },
   "source": [
    "**Цель:** составить модель, которая будет предсказывать цену автомобиля по её VIN-коду.\n",
    "\n",
    "**Задачи:**\n",
    "- изучить структуру VIN-кода, какие информационные компоненты он содержит (регион, производитель, характеристики автомобиля и т. д.).\n",
    "- составить регулярные выражения для поиска и извлечения конкретных частей VIN-кода, таких как производитель, модель и год выпуска.\n",
    "- распарсить текстовый массив данных с VIN-кодами и ценами.\n",
    "- решить задачу предсказания цены по VIN-коду.\n",
    "\n",
    "В нашем распоряжении имеются сырые данные по автомобилям Ford `vin_ford_train.txt` с VIN-кодами и ценами на автомобили, которым эти VIN-коды принадлежат.\n"
   ]
  },
  {
   "cell_type": "markdown",
   "metadata": {
    "id": "jEu2BNdaeu1r"
   },
   "source": [
    "## Подготовка данных"
   ]
  },
  {
   "cell_type": "markdown",
   "metadata": {
    "id": "HdGy8Cgze1cL"
   },
   "source": [
    "### Импортируем необходимые библиотеки"
   ]
  },
  {
   "cell_type": "code",
   "execution_count": 1,
   "metadata": {
    "id": "eiom4wj_gtur"
   },
   "outputs": [],
   "source": [
    "# !pip install catboost\n",
    "# !pip install lxml\n",
    "# !pip install category_encoders"
   ]
  },
  {
   "cell_type": "code",
   "execution_count": 2,
   "metadata": {
    "id": "KIZAnjUAYqZE"
   },
   "outputs": [],
   "source": [
    "import pandas as pd\n",
    "import numpy as np\n",
    "import matplotlib.pyplot as plt\n",
    "import seaborn as sns\n",
    "\n",
    "import re\n",
    "\n",
    "from category_encoders import MEstimateEncoder\n",
    "\n",
    "from sklearn.model_selection import GridSearchCV, RandomizedSearchCV\n",
    "\n",
    "from sklearn.ensemble import RandomForestRegressor\n",
    "from catboost import CatBoostRegressor\n",
    "from lightgbm import LGBMRegressor\n",
    "\n",
    "from sklearn.model_selection import train_test_split\n",
    "from sklearn.metrics import mean_squared_error, mean_absolute_percentage_error, mean_absolute_error\n",
    "\n",
    "import shap\n",
    "\n",
    "from sklearn.dummy import DummyRegressor\n",
    "\n",
    "RANDOM_STATE=23042024\n",
    "\n",
    "import warnings\n",
    "warnings.filterwarnings(\"ignore\")"
   ]
  },
  {
   "cell_type": "markdown",
   "metadata": {
    "id": "lTjJDolAjUTR"
   },
   "source": [
    "### Парсинг данных из файла"
   ]
  },
  {
   "cell_type": "markdown",
   "metadata": {
    "id": "MsXGNIYwkH24"
   },
   "source": [
    "#### Загрузим файл с данными `vin_ford_train.txt`"
   ]
  },
  {
   "cell_type": "code",
   "execution_count": 3,
   "metadata": {
    "id": "ouHDR6k3ZHJN"
   },
   "outputs": [],
   "source": [
    "with open('vin_ford_train.txt', 'r', encoding=\"utf-8\") as f:\n",
    "    vin_ford_train = f.read()"
   ]
  },
  {
   "cell_type": "code",
   "execution_count": 4,
   "metadata": {
    "colab": {
     "base_uri": "https://localhost:8080/",
     "height": 36
    },
    "executionInfo": {
     "elapsed": 4,
     "status": "ok",
     "timestamp": 1713847412471,
     "user": {
      "displayName": "Эдгар Низаев",
      "userId": "15628445951160379931"
     },
     "user_tz": -240
    },
    "id": "ZVlGoS64ZHtu",
    "outputId": "0da783e4-6f56-4f8c-e1ad-9a3b0ff1ba5e"
   },
   "outputs": [
    {
     "data": {
      "text/plain": [
       "'[2FMDK3JC4BBA41556:12500]мой[3FA6P0H75ER208976:14500]дядя [3FAHP08Z17R268380:1300][1FMCU0GX3DUC59421'"
      ]
     },
     "execution_count": 4,
     "metadata": {},
     "output_type": "execute_result"
    }
   ],
   "source": [
    "vin_ford_train[:100]"
   ]
  },
  {
   "cell_type": "markdown",
   "metadata": {
    "id": "s1sk5jb8rd2M"
   },
   "source": [
    "Видим в данных лишнюю информацию, будем иметь ввиду. При этом необходимые нам данные имеют формат [VIN-код:Цена]"
   ]
  },
  {
   "cell_type": "markdown",
   "metadata": {
    "id": "QQslm9YljzQw"
   },
   "source": [
    "#### Разрешенные символы"
   ]
  },
  {
   "cell_type": "markdown",
   "metadata": {
    "id": "gFUZHP2gsOxU"
   },
   "source": [
    "В VIN-коде запрещено использовать буквы `I, O, Q`. Все остальные буквы латинского алфавита и цифры от 0 до 9 использовать можно."
   ]
  },
  {
   "cell_type": "code",
   "execution_count": 5,
   "metadata": {
    "colab": {
     "base_uri": "https://localhost:8080/",
     "height": 36
    },
    "executionInfo": {
     "elapsed": 4,
     "status": "ok",
     "timestamp": 1713847412471,
     "user": {
      "displayName": "Эдгар Низаев",
      "userId": "15628445951160379931"
     },
     "user_tz": -240
    },
    "id": "0nNuaxiyZEdJ",
    "outputId": "65baed11-9e62-4203-a4ab-82d718013fd9"
   },
   "outputs": [
    {
     "data": {
      "text/plain": [
       "'ABCDEFGHJKLMNPRSTUVWXYZ1234567890'"
      ]
     },
     "execution_count": 5,
     "metadata": {},
     "output_type": "execute_result"
    }
   ],
   "source": [
    "ALLOWED_CHARS = [chr(x) for x in range(ord('A'), ord('Z')+1) if chr(x) not in ('I', 'O', 'Q')]\n",
    "ALLOWED_NUMS = [str(x) for x in range(1,10)] + ['0']\n",
    "ALLOWED = ''.join(ALLOWED_CHARS+ALLOWED_NUMS)\n",
    "ALLOWED"
   ]
  },
  {
   "cell_type": "markdown",
   "metadata": {
    "id": "2W409tlYlgDx"
   },
   "source": [
    "#### Регулярные выражения"
   ]
  },
  {
   "cell_type": "code",
   "execution_count": 6,
   "metadata": {
    "id": "6qJ5X5CglgeH"
   },
   "outputs": [],
   "source": [
    "WMI = f'(?P<wmi>[{ALLOWED}]{{3}})'                                               # 1-3 производитель\n",
    "BRAKE = f'(?P<brake>[{ALLOWED}])'                                                # 4 ремни безопасности, тормоза и грузоподъемность\n",
    "MODEL = f'(?P<model>[{ALLOWED}]{{3}})'                                           # 5-7 модель\n",
    "ENGINE = f'(?P<engine>[{ALLOWED}])'                                              # 8 двигатель\n",
    "CHECK = f'(?P<check>[{ALLOWED}])'                                                # 9 контрольный знак\n",
    "YEAR = f\"(?P<year>[{ALLOWED.replace('U', '').replace('Z', '')}])\"                # 10 год (в кодировке года не используются знаки U и Z)\n",
    "FACTORY = f'(?P<factory>[{ALLOWED}])'                                            # 11 завод-производитель\n",
    "SERIAL_NUM = f'(?P<serial_num>[{ALLOWED}]{{3}}\\\\d{{3}})'                         # 12-17 серийный номер"
   ]
  },
  {
   "cell_type": "markdown",
   "metadata": {
    "id": "A3H3Sg84m1xv"
   },
   "source": [
    "**Пример написания VIN-кода:**\n",
    "\n",
    "`2FM|D|K3J|C|4|B|B|A41556` где\n",
    "- 2FM - Производитель\n",
    "- D - Ремни безопасности, тормоза и грузоподъемность\n",
    "- K3J - Модель Ford Edge; SEL FWD ('10-'21), ST-Line FWD ('20-'21)\n",
    "- C - Двигатель\n",
    "- 4 - Контрольный знак\n",
    "- B - Год (1981, 2011)\n",
    "- B - Завод-производитель (Baltimore Assembly (Baltimore, Maryland) или Reatta Craft Centre/Lansing Craft Centre (Lansing Township, Michigan))\n",
    "- A41556 - Серийный номер"
   ]
  },
  {
   "cell_type": "code",
   "execution_count": 7,
   "metadata": {
    "id": "ks3S55x9ZII8"
   },
   "outputs": [],
   "source": [
    "vin_ford = f'{WMI}{BRAKE}{MODEL}{ENGINE}{CHECK}{YEAR}{FACTORY}{SERIAL_NUM}'\n",
    "price_ford = r'(?P<price>\\d+)'"
   ]
  },
  {
   "cell_type": "code",
   "execution_count": 8,
   "metadata": {
    "id": "qhHtJcUbZIj0"
   },
   "outputs": [],
   "source": [
    "data_ford = re.compile(f\"\\\\[{vin_ford}:{price_ford}\\\\]\")"
   ]
  },
  {
   "cell_type": "code",
   "execution_count": 9,
   "metadata": {
    "colab": {
     "base_uri": "https://localhost:8080/"
    },
    "executionInfo": {
     "elapsed": 3,
     "status": "ok",
     "timestamp": 1713847412877,
     "user": {
      "displayName": "Эдгар Низаев",
      "userId": "15628445951160379931"
     },
     "user_tz": -240
    },
    "id": "BiKPTw6tZI52",
    "outputId": "ba9d03a0-b1e6-4960-ba2a-5f71d7cabdad"
   },
   "outputs": [
    {
     "data": {
      "text/plain": [
       "[{'wmi': '2FM',\n",
       "  'brake': 'D',\n",
       "  'model': 'K3J',\n",
       "  'engine': 'C',\n",
       "  'check': '4',\n",
       "  'year': 'B',\n",
       "  'factory': 'B',\n",
       "  'serial_num': 'A41556',\n",
       "  'price': '12500'}]"
      ]
     },
     "execution_count": 9,
     "metadata": {},
     "output_type": "execute_result"
    }
   ],
   "source": [
    "values = []\n",
    "for x in data_ford.finditer(vin_ford_train):\n",
    "    values.append(x.groupdict())\n",
    "\n",
    "values[:1] #Выведем первую строчку c VIN-кодом и ценой"
   ]
  },
  {
   "cell_type": "markdown",
   "metadata": {
    "id": "B4j3buJNMpMt"
   },
   "source": [
    "#### Проверка корректности формата VIN-кода"
   ]
  },
  {
   "cell_type": "markdown",
   "metadata": {
    "id": "cDYxAQ5EMxzl"
   },
   "source": [
    "- Вин-код состоит из 17 знаков – цифр и букв, кроме 'I', 'O', 'Q'\n",
    "- Последние три знака – всегда цифры\n",
    "- Цена состоит из цифр, без лишних пробелов и знаков"
   ]
  },
  {
   "cell_type": "code",
   "execution_count": 10,
   "metadata": {
    "colab": {
     "base_uri": "https://localhost:8080/"
    },
    "executionInfo": {
     "elapsed": 3,
     "status": "ok",
     "timestamp": 1713847412878,
     "user": {
      "displayName": "Эдгар Низаев",
      "userId": "15628445951160379931"
     },
     "user_tz": -240
    },
    "id": "ELMju1eg8Fo9",
    "outputId": "5e55f8ec-d038-4619-e521-d821edfe7306"
   },
   "outputs": [
    {
     "data": {
      "text/plain": [
       "[{'invalid_data': '[1FM5K8D83DGB91002:XXXX]'},\n",
       " {'invalid_data': '[1FM5K8D83DGB9100X:26600]'}]"
      ]
     },
     "execution_count": 10,
     "metadata": {},
     "output_type": "execute_result"
    }
   ],
   "source": [
    "valid_vin = r'(\\w{14}\\d{3})'\n",
    "valid_price = r'(\\d+)'\n",
    "\n",
    "invalid_vin = r'(?!\\w{14}\\d{3})(\\w+)'\n",
    "invalid_price = r'(?!\\d+)(\\w+)'\n",
    "\n",
    "invalid_options = [\n",
    "    f\"\\\\[{invalid_vin}:{invalid_price}\\\\]\",\n",
    "    f\"\\\\[{valid_vin}:{invalid_price}\\\\]\",\n",
    "    f\"\\\\[{invalid_vin}:{valid_price}\\\\]\"\n",
    "]\n",
    "\n",
    "invalid_pattern = re.compile('(?P<invalid_data> ' + '|'.join(invalid_options) + ')')\n",
    "invalid_values = []\n",
    "for x in invalid_pattern.finditer(vin_ford_train):\n",
    "    invalid_values.append(x.groupdict())\n",
    "\n",
    "invalid_values"
   ]
  },
  {
   "cell_type": "markdown",
   "metadata": {
    "id": "f-hYXUUUe0St"
   },
   "source": [
    "Видим, что в данных есть две строчки, где некорректно записан VIN. Чтобы они не попали в наш рабочий датасет, в регулярном выражении для парсинга данных прописаны условия, которые не дадут данным строчкам спарситься (указано, что 3 последних знака это обязательно цифры и цена тоже обязательно является набором чисел)"
   ]
  },
  {
   "cell_type": "markdown",
   "metadata": {
    "id": "NvJbJv39XHJg"
   },
   "source": [
    "### Создадим датасет из спарсенных данных"
   ]
  },
  {
   "cell_type": "code",
   "execution_count": 11,
   "metadata": {
    "colab": {
     "base_uri": "https://localhost:8080/",
     "height": 363
    },
    "executionInfo": {
     "elapsed": 809,
     "status": "ok",
     "timestamp": 1713847413685,
     "user": {
      "displayName": "Эдгар Низаев",
      "userId": "15628445951160379931"
     },
     "user_tz": -240
    },
    "id": "u-f3C97ZXF3I",
    "outputId": "4ec8cd1d-41c2-4242-aa21-bf5e983c3fb4"
   },
   "outputs": [
    {
     "data": {
      "text/html": [
       "<div>\n",
       "<style scoped>\n",
       "    .dataframe tbody tr th:only-of-type {\n",
       "        vertical-align: middle;\n",
       "    }\n",
       "\n",
       "    .dataframe tbody tr th {\n",
       "        vertical-align: top;\n",
       "    }\n",
       "\n",
       "    .dataframe thead th {\n",
       "        text-align: right;\n",
       "    }\n",
       "</style>\n",
       "<table border=\"1\" class=\"dataframe\">\n",
       "  <thead>\n",
       "    <tr style=\"text-align: right;\">\n",
       "      <th></th>\n",
       "      <th>wmi</th>\n",
       "      <th>brake</th>\n",
       "      <th>model</th>\n",
       "      <th>engine</th>\n",
       "      <th>check</th>\n",
       "      <th>year</th>\n",
       "      <th>factory</th>\n",
       "      <th>serial_num</th>\n",
       "      <th>price</th>\n",
       "    </tr>\n",
       "  </thead>\n",
       "  <tbody>\n",
       "    <tr>\n",
       "      <th>0</th>\n",
       "      <td>2FM</td>\n",
       "      <td>D</td>\n",
       "      <td>K3J</td>\n",
       "      <td>C</td>\n",
       "      <td>4</td>\n",
       "      <td>B</td>\n",
       "      <td>B</td>\n",
       "      <td>A41556</td>\n",
       "      <td>12500</td>\n",
       "    </tr>\n",
       "    <tr>\n",
       "      <th>1</th>\n",
       "      <td>3FA</td>\n",
       "      <td>6</td>\n",
       "      <td>P0H</td>\n",
       "      <td>7</td>\n",
       "      <td>5</td>\n",
       "      <td>E</td>\n",
       "      <td>R</td>\n",
       "      <td>208976</td>\n",
       "      <td>14500</td>\n",
       "    </tr>\n",
       "    <tr>\n",
       "      <th>2</th>\n",
       "      <td>3FA</td>\n",
       "      <td>H</td>\n",
       "      <td>P08</td>\n",
       "      <td>Z</td>\n",
       "      <td>1</td>\n",
       "      <td>7</td>\n",
       "      <td>R</td>\n",
       "      <td>268380</td>\n",
       "      <td>1300</td>\n",
       "    </tr>\n",
       "    <tr>\n",
       "      <th>3</th>\n",
       "      <td>1FM</td>\n",
       "      <td>C</td>\n",
       "      <td>U0G</td>\n",
       "      <td>X</td>\n",
       "      <td>3</td>\n",
       "      <td>D</td>\n",
       "      <td>U</td>\n",
       "      <td>C59421</td>\n",
       "      <td>15200</td>\n",
       "    </tr>\n",
       "    <tr>\n",
       "      <th>4</th>\n",
       "      <td>1FA</td>\n",
       "      <td>H</td>\n",
       "      <td>P2E</td>\n",
       "      <td>8</td>\n",
       "      <td>9</td>\n",
       "      <td>D</td>\n",
       "      <td>G</td>\n",
       "      <td>119368</td>\n",
       "      <td>11600</td>\n",
       "    </tr>\n",
       "    <tr>\n",
       "      <th>5</th>\n",
       "      <td>1FM</td>\n",
       "      <td>5</td>\n",
       "      <td>K8D</td>\n",
       "      <td>8</td>\n",
       "      <td>2</td>\n",
       "      <td>D</td>\n",
       "      <td>G</td>\n",
       "      <td>A16143</td>\n",
       "      <td>26400</td>\n",
       "    </tr>\n",
       "    <tr>\n",
       "      <th>6</th>\n",
       "      <td>1FT</td>\n",
       "      <td>F</td>\n",
       "      <td>W1C</td>\n",
       "      <td>F</td>\n",
       "      <td>X</td>\n",
       "      <td>C</td>\n",
       "      <td>F</td>\n",
       "      <td>C23663</td>\n",
       "      <td>14000</td>\n",
       "    </tr>\n",
       "    <tr>\n",
       "      <th>7</th>\n",
       "      <td>2FM</td>\n",
       "      <td>D</td>\n",
       "      <td>K3J</td>\n",
       "      <td>C</td>\n",
       "      <td>6</td>\n",
       "      <td>C</td>\n",
       "      <td>B</td>\n",
       "      <td>A90002</td>\n",
       "      <td>19500</td>\n",
       "    </tr>\n",
       "    <tr>\n",
       "      <th>8</th>\n",
       "      <td>1FT</td>\n",
       "      <td>F</td>\n",
       "      <td>W1C</td>\n",
       "      <td>T</td>\n",
       "      <td>8</td>\n",
       "      <td>D</td>\n",
       "      <td>K</td>\n",
       "      <td>D06233</td>\n",
       "      <td>24400</td>\n",
       "    </tr>\n",
       "    <tr>\n",
       "      <th>9</th>\n",
       "      <td>1FM</td>\n",
       "      <td>Z</td>\n",
       "      <td>U64</td>\n",
       "      <td>W</td>\n",
       "      <td>1</td>\n",
       "      <td>3</td>\n",
       "      <td>U</td>\n",
       "      <td>C28949</td>\n",
       "      <td>2900</td>\n",
       "    </tr>\n",
       "  </tbody>\n",
       "</table>\n",
       "</div>"
      ],
      "text/plain": [
       "   wmi brake model engine check year factory serial_num  price\n",
       "0  2FM     D   K3J      C     4    B       B     A41556  12500\n",
       "1  3FA     6   P0H      7     5    E       R     208976  14500\n",
       "2  3FA     H   P08      Z     1    7       R     268380   1300\n",
       "3  1FM     C   U0G      X     3    D       U     C59421  15200\n",
       "4  1FA     H   P2E      8     9    D       G     119368  11600\n",
       "5  1FM     5   K8D      8     2    D       G     A16143  26400\n",
       "6  1FT     F   W1C      F     X    C       F     C23663  14000\n",
       "7  2FM     D   K3J      C     6    C       B     A90002  19500\n",
       "8  1FT     F   W1C      T     8    D       K     D06233  24400\n",
       "9  1FM     Z   U64      W     1    3       U     C28949   2900"
      ]
     },
     "execution_count": 11,
     "metadata": {},
     "output_type": "execute_result"
    }
   ],
   "source": [
    "df = pd.DataFrame(values)\n",
    "df.head(10)"
   ]
  },
  {
   "cell_type": "code",
   "execution_count": 12,
   "metadata": {
    "colab": {
     "base_uri": "https://localhost:8080/"
    },
    "executionInfo": {
     "elapsed": 6,
     "status": "ok",
     "timestamp": 1713847413685,
     "user": {
      "displayName": "Эдгар Низаев",
      "userId": "15628445951160379931"
     },
     "user_tz": -240
    },
    "id": "uWk1chc_XF6Q",
    "outputId": "4f68bb7d-ffb4-4f4e-a61e-bda4ffda6e56"
   },
   "outputs": [
    {
     "name": "stdout",
     "output_type": "stream",
     "text": [
      "<class 'pandas.core.frame.DataFrame'>\n",
      "RangeIndex: 71884 entries, 0 to 71883\n",
      "Data columns (total 9 columns):\n",
      " #   Column      Non-Null Count  Dtype \n",
      "---  ------      --------------  ----- \n",
      " 0   wmi         71884 non-null  object\n",
      " 1   brake       71884 non-null  object\n",
      " 2   model       71884 non-null  object\n",
      " 3   engine      71884 non-null  object\n",
      " 4   check       71884 non-null  object\n",
      " 5   year        71884 non-null  object\n",
      " 6   factory     71884 non-null  object\n",
      " 7   serial_num  71884 non-null  object\n",
      " 8   price       71884 non-null  object\n",
      "dtypes: object(9)\n",
      "memory usage: 4.9+ MB\n"
     ]
    }
   ],
   "source": [
    "df.info()"
   ]
  },
  {
   "cell_type": "markdown",
   "metadata": {
    "id": "1Pg2VGV2kppC"
   },
   "source": [
    "Видим, что тип всех данных - `object`, значения цены лучше перевести в `int`. Пропусков нет, что хорошо."
   ]
  },
  {
   "cell_type": "code",
   "execution_count": 13,
   "metadata": {
    "colab": {
     "base_uri": "https://localhost:8080/"
    },
    "executionInfo": {
     "elapsed": 5,
     "status": "ok",
     "timestamp": 1713847413685,
     "user": {
      "displayName": "Эдгар Низаев",
      "userId": "15628445951160379931"
     },
     "user_tz": -240
    },
    "id": "Kg0OR4vNk_BC",
    "outputId": "4108dc16-60c4-4244-8c5d-17f701e89a94"
   },
   "outputs": [
    {
     "name": "stdout",
     "output_type": "stream",
     "text": [
      "<class 'pandas.core.frame.DataFrame'>\n",
      "RangeIndex: 71884 entries, 0 to 71883\n",
      "Data columns (total 9 columns):\n",
      " #   Column      Non-Null Count  Dtype \n",
      "---  ------      --------------  ----- \n",
      " 0   wmi         71884 non-null  object\n",
      " 1   brake       71884 non-null  object\n",
      " 2   model       71884 non-null  object\n",
      " 3   engine      71884 non-null  object\n",
      " 4   check       71884 non-null  object\n",
      " 5   year        71884 non-null  object\n",
      " 6   factory     71884 non-null  object\n",
      " 7   serial_num  71884 non-null  object\n",
      " 8   price       71884 non-null  int32 \n",
      "dtypes: int32(1), object(8)\n",
      "memory usage: 4.7+ MB\n"
     ]
    }
   ],
   "source": [
    "df['price'] = df['price'].astype('int')\n",
    "df.info()"
   ]
  },
  {
   "cell_type": "markdown",
   "metadata": {
    "id": "iLCyqY4mlymx"
   },
   "source": [
    "## Проведем исследовательский анализ данных"
   ]
  },
  {
   "cell_type": "markdown",
   "metadata": {
    "id": "nw2Arb7fsGc2"
   },
   "source": [
    "#### Проверим дубликаты"
   ]
  },
  {
   "cell_type": "code",
   "execution_count": 14,
   "metadata": {
    "colab": {
     "base_uri": "https://localhost:8080/"
    },
    "executionInfo": {
     "elapsed": 3,
     "status": "ok",
     "timestamp": 1713847413685,
     "user": {
      "displayName": "Эдгар Низаев",
      "userId": "15628445951160379931"
     },
     "user_tz": -240
    },
    "id": "eV7tne42g7vD",
    "outputId": "de0f6c15-521a-4129-b4cf-143e68c90d49"
   },
   "outputs": [
    {
     "name": "stdout",
     "output_type": "stream",
     "text": [
      "Количество дубликатов: 0\n"
     ]
    }
   ],
   "source": [
    "print('Количество дубликатов:', df.duplicated().sum())"
   ]
  },
  {
   "cell_type": "markdown",
   "metadata": {},
   "source": [
    "#### Проверим пропуски"
   ]
  },
  {
   "cell_type": "code",
   "execution_count": 15,
   "metadata": {
    "tags": []
   },
   "outputs": [
    {
     "name": "stdout",
     "output_type": "stream",
     "text": [
      "Количество пропусков: 0\n"
     ]
    }
   ],
   "source": [
    "print(\"Количество пропусков:\", df.isnull().sum().sum())"
   ]
  },
  {
   "cell_type": "markdown",
   "metadata": {
    "id": "sqwIZbM8mJgx"
   },
   "source": [
    "#### Зависимость цены от года выпуска авто"
   ]
  },
  {
   "cell_type": "code",
   "execution_count": 16,
   "metadata": {
    "colab": {
     "base_uri": "https://localhost:8080/",
     "height": 487
    },
    "executionInfo": {
     "elapsed": 622,
     "status": "ok",
     "timestamp": 1713847414304,
     "user": {
      "displayName": "Эдгар Низаев",
      "userId": "15628445951160379931"
     },
     "user_tz": -240
    },
    "id": "o_7tnJx9XGAP",
    "outputId": "449eda97-7179-4497-8a6d-d3b758290945"
   },
   "outputs": [
    {
     "data": {
      "image/png": "[encoded data removed]",
      "text/plain": [
       "<Figure size 1000x500 with 1 Axes>"
      ]
     },
     "metadata": {},
     "output_type": "display_data"
    }
   ],
   "source": [
    "mean_in_years = df.groupby('year')['price'].mean().plot(\n",
    "    x='year',\n",
    "    kind='bar',\n",
    "    figsize=(10, 5),\n",
    "    grid=True,\n",
    "    title = 'Cредняя стоимость автомобилей в зависимости от года'\n",
    ")\n",
    "plt.xlabel('Год')\n",
    "plt.ylabel('Cредняя стоимость')\n",
    "plt.show()"
   ]
  },
  {
   "cell_type": "markdown",
   "metadata": {
    "id": "9bfgJzntm0wB"
   },
   "source": [
    "#### Количество выпущенных авто в зависимости от года выпуска"
   ]
  },
  {
   "cell_type": "code",
   "execution_count": 17,
   "metadata": {
    "colab": {
     "base_uri": "https://localhost:8080/",
     "height": 487
    },
    "executionInfo": {
     "elapsed": 395,
     "status": "ok",
     "timestamp": 1713847414697,
     "user": {
      "displayName": "Эдгар Низаев",
      "userId": "15628445951160379931"
     },
     "user_tz": -240
    },
    "id": "XWPOj57E8Fu1",
    "outputId": "31f7ef3f-7835-4fd0-d14a-ecfeba87a73d"
   },
   "outputs": [
    {
     "data": {
      "image/png": "[encoded data removed]",
      "text/plain": [
       "<Figure size 1000x500 with 1 Axes>"
      ]
     },
     "metadata": {},
     "output_type": "display_data"
    }
   ],
   "source": [
    "car_in_years = df.groupby('year')['year'].count().plot(\n",
    "    x='year',\n",
    "    kind='bar',\n",
    "    figsize=(10, 5),\n",
    "    grid=True,\n",
    "    title = 'Количество автомобилей в зависимости от года'\n",
    ")\n",
    "plt.xlabel('Год')\n",
    "plt.ylabel('Количество')\n",
    "plt.show()"
   ]
  },
  {
   "cell_type": "code",
   "execution_count": 18,
   "metadata": {
    "colab": {
     "base_uri": "https://localhost:8080/"
    },
    "executionInfo": {
     "elapsed": 7,
     "status": "ok",
     "timestamp": 1713847414697,
     "user": {
      "displayName": "Эдгар Низаев",
      "userId": "15628445951160379931"
     },
     "user_tz": -240
    },
    "id": "u7KNkJivpxVv",
    "outputId": "993b3350-54d1-4779-ae62-ba81245e3cd4"
   },
   "outputs": [
    {
     "data": {
      "text/plain": [
       "year\n",
       "1      601\n",
       "2      951\n",
       "3     1274\n",
       "4     1559\n",
       "5     2105\n",
       "6     2555\n",
       "7     2652\n",
       "8     3277\n",
       "9     1736\n",
       "A     3262\n",
       "B     5860\n",
       "C    12254\n",
       "D    17286\n",
       "E    14990\n",
       "F      653\n",
       "H        1\n",
       "K        1\n",
       "P        1\n",
       "R        6\n",
       "S       20\n",
       "T       30\n",
       "V       88\n",
       "W      113\n",
       "X      194\n",
       "Y      415\n",
       "Name: year, dtype: int64"
      ]
     },
     "execution_count": 18,
     "metadata": {},
     "output_type": "execute_result"
    }
   ],
   "source": [
    "df_gr = df.groupby('year')['year'].count()\n",
    "df_gr"
   ]
  },
  {
   "cell_type": "markdown",
   "metadata": {
    "id": "KjVU6GpTpIMg"
   },
   "source": [
    "Видим, что года с 1-9 и с A-F средняя стоимость автомобиля растет и в год F (1985, 2015) достигает своего пика. При этом если посмотреть на количество автомобилей в год F, то их там очень-очень мало - всего 653, а пик количества авто приходится на год D (1983, 2013). Объяснить это сложно, возможно, это особенности выгруженных данных (возможно, данные взяты за начало 2015 года и т.д.). При этом средняя стоимость 653 автомобилей за год F больше стоимости 17286 автомобилей за год D - интересно, возможно в выборку попали новые авто 2015 года (F) и старые авто 1983 года (D)."
   ]
  },
  {
   "cell_type": "markdown",
   "metadata": {
    "id": "-46O1T3krZr2"
   },
   "source": [
    "#### Проверим столбец с ценой (price)"
   ]
  },
  {
   "cell_type": "code",
   "execution_count": 19,
   "metadata": {
    "colab": {
     "base_uri": "https://localhost:8080/",
     "height": 468
    },
    "executionInfo": {
     "elapsed": 6,
     "status": "ok",
     "timestamp": 1713847414697,
     "user": {
      "displayName": "Эдгар Низаев",
      "userId": "15628445951160379931"
     },
     "user_tz": -240
    },
    "id": "P_iqJmzvg7pc",
    "outputId": "cd5f72d6-6adc-43eb-e591-028effae4060"
   },
   "outputs": [
    {
     "data": {
      "image/png": "[encoded data removed]",
      "text/plain": [
       "<Figure size 1000x500 with 1 Axes>"
      ]
     },
     "metadata": {},
     "output_type": "display_data"
    }
   ],
   "source": [
    "plt.figure(figsize=(10,5))\n",
    "df.boxplot(column=['price'])\n",
    "plt.ylim()\n",
    "plt.title('Диаграмма размаха цены на автомобили')\n",
    "plt.ylabel('Цена')\n",
    "plt.show()"
   ]
  },
  {
   "cell_type": "code",
   "execution_count": 20,
   "metadata": {
    "colab": {
     "base_uri": "https://localhost:8080/"
    },
    "executionInfo": {
     "elapsed": 7,
     "status": "ok",
     "timestamp": 1713847414698,
     "user": {
      "displayName": "Эдгар Низаев",
      "userId": "15628445951160379931"
     },
     "user_tz": -240
    },
    "id": "6F_qjfz0g7sb",
    "outputId": "875b6187-9cf2-4627-9174-392ade6e0a2b"
   },
   "outputs": [
    {
     "data": {
      "text/plain": [
       "count    71884.000000\n",
       "mean     14321.449377\n",
       "std       7827.057238\n",
       "min       1000.000000\n",
       "25%       8800.000000\n",
       "50%      13500.000000\n",
       "75%      19500.000000\n",
       "max      36500.000000\n",
       "Name: price, dtype: float64"
      ]
     },
     "execution_count": 20,
     "metadata": {},
     "output_type": "execute_result"
    }
   ],
   "source": [
    "df['price'].describe()"
   ]
  },
  {
   "cell_type": "markdown",
   "metadata": {
    "id": "mAmopZJ8scBm"
   },
   "source": [
    "Тут все нормально, есть автомобили за 36500, есть за 1000, вполне похоже на реальные цены за автомобили Ford."
   ]
  },
  {
   "cell_type": "markdown",
   "metadata": {
    "id": "3QhnrCwI6j-t"
   },
   "source": [
    "#### Посмотрим кто из производителей (wmi) имеет наибольшую выручку"
   ]
  },
  {
   "cell_type": "code",
   "execution_count": 21,
   "metadata": {
    "colab": {
     "base_uri": "https://localhost:8080/",
     "height": 488
    },
    "executionInfo": {
     "elapsed": 6,
     "status": "ok",
     "timestamp": 1713847414698,
     "user": {
      "displayName": "Эдгар Низаев",
      "userId": "15628445951160379931"
     },
     "user_tz": -240
    },
    "id": "NsvlKEtkg7xr",
    "outputId": "48aa28a7-52f6-4122-a77d-7b0b4d15b105"
   },
   "outputs": [
    {
     "data": {
      "text/html": [
       "<div>\n",
       "<style scoped>\n",
       "    .dataframe tbody tr th:only-of-type {\n",
       "        vertical-align: middle;\n",
       "    }\n",
       "\n",
       "    .dataframe tbody tr th {\n",
       "        vertical-align: top;\n",
       "    }\n",
       "\n",
       "    .dataframe thead th {\n",
       "        text-align: right;\n",
       "    }\n",
       "</style>\n",
       "<table border=\"1\" class=\"dataframe\">\n",
       "  <thead>\n",
       "    <tr style=\"text-align: right;\">\n",
       "      <th></th>\n",
       "      <th>wmi</th>\n",
       "      <th>price</th>\n",
       "    </tr>\n",
       "  </thead>\n",
       "  <tbody>\n",
       "    <tr>\n",
       "      <th>4</th>\n",
       "      <td>1FT</td>\n",
       "      <td>289653284</td>\n",
       "    </tr>\n",
       "    <tr>\n",
       "      <th>3</th>\n",
       "      <td>1FM</td>\n",
       "      <td>277011984</td>\n",
       "    </tr>\n",
       "    <tr>\n",
       "      <th>9</th>\n",
       "      <td>3FA</td>\n",
       "      <td>147905484</td>\n",
       "    </tr>\n",
       "    <tr>\n",
       "      <th>0</th>\n",
       "      <td>1FA</td>\n",
       "      <td>133667683</td>\n",
       "    </tr>\n",
       "    <tr>\n",
       "      <th>7</th>\n",
       "      <td>2FM</td>\n",
       "      <td>106368726</td>\n",
       "    </tr>\n",
       "    <tr>\n",
       "      <th>5</th>\n",
       "      <td>1ZV</td>\n",
       "      <td>49261924</td>\n",
       "    </tr>\n",
       "    <tr>\n",
       "      <th>1</th>\n",
       "      <td>1FB</td>\n",
       "      <td>20663407</td>\n",
       "    </tr>\n",
       "    <tr>\n",
       "      <th>2</th>\n",
       "      <td>1FD</td>\n",
       "      <td>2702625</td>\n",
       "    </tr>\n",
       "    <tr>\n",
       "      <th>11</th>\n",
       "      <td>4F2</td>\n",
       "      <td>873450</td>\n",
       "    </tr>\n",
       "    <tr>\n",
       "      <th>6</th>\n",
       "      <td>2FA</td>\n",
       "      <td>613050</td>\n",
       "    </tr>\n",
       "    <tr>\n",
       "      <th>8</th>\n",
       "      <td>2FT</td>\n",
       "      <td>556250</td>\n",
       "    </tr>\n",
       "    <tr>\n",
       "      <th>10</th>\n",
       "      <td>3FT</td>\n",
       "      <td>95350</td>\n",
       "    </tr>\n",
       "    <tr>\n",
       "      <th>12</th>\n",
       "      <td>4F4</td>\n",
       "      <td>73000</td>\n",
       "    </tr>\n",
       "    <tr>\n",
       "      <th>13</th>\n",
       "      <td>4N2</td>\n",
       "      <td>36850</td>\n",
       "    </tr>\n",
       "  </tbody>\n",
       "</table>\n",
       "</div>"
      ],
      "text/plain": [
       "    wmi      price\n",
       "4   1FT  289653284\n",
       "3   1FM  277011984\n",
       "9   3FA  147905484\n",
       "0   1FA  133667683\n",
       "7   2FM  106368726\n",
       "5   1ZV   49261924\n",
       "1   1FB   20663407\n",
       "2   1FD    2702625\n",
       "11  4F2     873450\n",
       "6   2FA     613050\n",
       "8   2FT     556250\n",
       "10  3FT      95350\n",
       "12  4F4      73000\n",
       "13  4N2      36850"
      ]
     },
     "execution_count": 21,
     "metadata": {},
     "output_type": "execute_result"
    }
   ],
   "source": [
    "wmi_vin = df.groupby('wmi').agg({'price':'sum'}).reset_index()\n",
    "wmi_vin.sort_values(by='price', ascending=False)"
   ]
  },
  {
   "cell_type": "code",
   "execution_count": 22,
   "metadata": {
    "colab": {
     "base_uri": "https://localhost:8080/",
     "height": 487
    },
    "executionInfo": {
     "elapsed": 920,
     "status": "ok",
     "timestamp": 1713847415613,
     "user": {
      "displayName": "Эдгар Низаев",
      "userId": "15628445951160379931"
     },
     "user_tz": -240
    },
    "id": "LKaRZi_Xspqu",
    "outputId": "370b144b-586b-4db2-9d70-62d73b841094"
   },
   "outputs": [
    {
     "data": {
      "image/png": "[encoded data removed]",
      "text/plain": [
       "<Figure size 1000x500 with 1 Axes>"
      ]
     },
     "metadata": {},
     "output_type": "display_data"
    }
   ],
   "source": [
    "wmi_vin.sort_values(by='price', ascending=False).plot(\n",
    "    x='wmi',\n",
    "    kind='bar',\n",
    "    figsize=(10, 5),\n",
    "    grid=True,\n",
    "    title = 'Суммарная выручка производителей'\n",
    ")\n",
    "plt.legend(['Суммарная выручка'])\n",
    "plt.xticks(rotation=0)\n",
    "plt.xlabel('Производитель')\n",
    "plt.ylabel('Суммарная выручка')\n",
    "plt.show()"
   ]
  },
  {
   "cell_type": "code",
   "execution_count": 23,
   "metadata": {
    "id": "3pfvKRq6spwG"
   },
   "outputs": [],
   "source": [
    "ford_wmi = {\n",
    "    '1FT': 'Ford truck',\n",
    "    '1FM': 'Ford MPV/SUV',\n",
    "    '3FA': 'Ford car',\n",
    "    '1FA': 'Ford car',\n",
    "    '2FM': 'Ford MPV/SUV',\n",
    "    '1ZV': 'Ford made by AutoAlliance International',\n",
    "    '1FB': 'Ford \"bus\" (van with more than 3 rows of seats)',\n",
    "    '1FD': 'Ford incomplete vehicle',\n",
    "    '4F2': 'Mazda SUV made by Ford',\n",
    "    '2FA': 'Ford car',\n",
    "    '2FT': 'Ford truck',\n",
    "    '3FT': 'Ford truck',\n",
    "    '4F4': 'Mazda truck made by Ford',\n",
    "    '4N2': 'Nissan Quest made by Ford'\n",
    "}"
   ]
  },
  {
   "cell_type": "markdown",
   "metadata": {
    "id": "NqebpWCv6IfU"
   },
   "source": [
    "Лидерами по выручке в нашем датасете являются производители с кодами 1FT (Ford truck) и 1FM (Ford MPV/SUV)."
   ]
  },
  {
   "cell_type": "markdown",
   "metadata": {
    "id": "fTFYoEEgJvdK"
   },
   "source": [
    "**Найдем лидера по средней цене**"
   ]
  },
  {
   "cell_type": "code",
   "execution_count": 24,
   "metadata": {
    "colab": {
     "base_uri": "https://localhost:8080/",
     "height": 487
    },
    "executionInfo": {
     "elapsed": 6,
     "status": "ok",
     "timestamp": 1713847415613,
     "user": {
      "displayName": "Эдгар Низаев",
      "userId": "15628445951160379931"
     },
     "user_tz": -240
    },
    "id": "unC35GqpJvdK",
    "outputId": "fb939d99-a157-4abe-a4a8-475f436d758f",
    "tags": []
   },
   "outputs": [
    {
     "data": {
      "image/png": "[encoded data removed]",
      "text/plain": [
       "<Figure size 1000x500 with 1 Axes>"
      ]
     },
     "metadata": {},
     "output_type": "display_data"
    }
   ],
   "source": [
    "df.groupby('wmi').agg({'price':'mean'}).reset_index().sort_values(by='price', ascending=False).plot(\n",
    "    x='wmi',\n",
    "    kind='bar',\n",
    "    figsize=(10, 5),\n",
    "    grid=True,\n",
    "    title = 'Средняя выручка производителей'\n",
    ")\n",
    "plt.legend(['Средняя выручка'])\n",
    "plt.xticks(rotation=0)\n",
    "plt.xlabel('Производитель')\n",
    "plt.ylabel('Средняя выручка')\n",
    "plt.show()"
   ]
  },
  {
   "cell_type": "markdown",
   "metadata": {
    "id": "xhGL3eOrJvdK"
   },
   "source": [
    "Тут интересно увидеть, что большая средняя выручка у 1FB, хотя в суммарной выручке выше данный производитель даже не в топ-5."
   ]
  },
  {
   "cell_type": "markdown",
   "metadata": {
    "id": "Ka8sTvbnspym"
   },
   "source": [
    "#### Посмотрим модель, имеющую наибольшую выручку"
   ]
  },
  {
   "cell_type": "code",
   "execution_count": 25,
   "metadata": {
    "colab": {
     "base_uri": "https://localhost:8080/",
     "height": 363
    },
    "executionInfo": {
     "elapsed": 5,
     "status": "ok",
     "timestamp": 1713847415613,
     "user": {
      "displayName": "Эдгар Низаев",
      "userId": "15628445951160379931"
     },
     "user_tz": -240
    },
    "id": "3uoYeud4JvdL",
    "outputId": "806fd13c-1c06-4481-ad19-816493dd7901",
    "tags": []
   },
   "outputs": [
    {
     "data": {
      "text/html": [
       "<div>\n",
       "<style scoped>\n",
       "    .dataframe tbody tr th:only-of-type {\n",
       "        vertical-align: middle;\n",
       "    }\n",
       "\n",
       "    .dataframe tbody tr th {\n",
       "        vertical-align: top;\n",
       "    }\n",
       "\n",
       "    .dataframe thead th {\n",
       "        text-align: right;\n",
       "    }\n",
       "</style>\n",
       "<table border=\"1\" class=\"dataframe\">\n",
       "  <thead>\n",
       "    <tr style=\"text-align: right;\">\n",
       "      <th></th>\n",
       "      <th>model</th>\n",
       "      <th>price</th>\n",
       "    </tr>\n",
       "  </thead>\n",
       "  <tbody>\n",
       "    <tr>\n",
       "      <th>314</th>\n",
       "      <td>W1E</td>\n",
       "      <td>99722023</td>\n",
       "    </tr>\n",
       "    <tr>\n",
       "      <th>106</th>\n",
       "      <td>P0H</td>\n",
       "      <td>78769608</td>\n",
       "    </tr>\n",
       "    <tr>\n",
       "      <th>144</th>\n",
       "      <td>P3F</td>\n",
       "      <td>39963141</td>\n",
       "    </tr>\n",
       "    <tr>\n",
       "      <th>91</th>\n",
       "      <td>K8D</td>\n",
       "      <td>30503364</td>\n",
       "    </tr>\n",
       "    <tr>\n",
       "      <th>313</th>\n",
       "      <td>W1C</td>\n",
       "      <td>24863375</td>\n",
       "    </tr>\n",
       "    <tr>\n",
       "      <th>67</th>\n",
       "      <td>K3J</td>\n",
       "      <td>23743950</td>\n",
       "    </tr>\n",
       "    <tr>\n",
       "      <th>236</th>\n",
       "      <td>U0G</td>\n",
       "      <td>22798805</td>\n",
       "    </tr>\n",
       "    <tr>\n",
       "      <th>342</th>\n",
       "      <td>X1E</td>\n",
       "      <td>21985500</td>\n",
       "    </tr>\n",
       "    <tr>\n",
       "      <th>148</th>\n",
       "      <td>P3K</td>\n",
       "      <td>21782903</td>\n",
       "    </tr>\n",
       "    <tr>\n",
       "      <th>92</th>\n",
       "      <td>K8F</td>\n",
       "      <td>20792250</td>\n",
       "    </tr>\n",
       "  </tbody>\n",
       "</table>\n",
       "</div>"
      ],
      "text/plain": [
       "    model     price\n",
       "314   W1E  99722023\n",
       "106   P0H  78769608\n",
       "144   P3F  39963141\n",
       "91    K8D  30503364\n",
       "313   W1C  24863375\n",
       "67    K3J  23743950\n",
       "236   U0G  22798805\n",
       "342   X1E  21985500\n",
       "148   P3K  21782903\n",
       "92    K8F  20792250"
      ]
     },
     "execution_count": 25,
     "metadata": {},
     "output_type": "execute_result"
    }
   ],
   "source": [
    "model_vin = df.groupby('model').agg({'price':'sum'}).reset_index()\n",
    "model_vin = model_vin.sort_values(by='price', ascending=False).head(10)\n",
    "model_vin"
   ]
  },
  {
   "cell_type": "code",
   "execution_count": 26,
   "metadata": {
    "colab": {
     "base_uri": "https://localhost:8080/",
     "height": 505
    },
    "executionInfo": {
     "elapsed": 553,
     "status": "ok",
     "timestamp": 1713847416161,
     "user": {
      "displayName": "Эдгар Низаев",
      "userId": "15628445951160379931"
     },
     "user_tz": -240
    },
    "id": "t_B4tLdHJvdL",
    "outputId": "73dd0907-f908-4544-ed24-414b6782e407",
    "tags": []
   },
   "outputs": [
    {
     "data": {
      "image/png": "[encoded data removed]",
      "text/plain": [
       "<Figure size 1000x500 with 1 Axes>"
      ]
     },
     "metadata": {},
     "output_type": "display_data"
    }
   ],
   "source": [
    "model_vin.sort_values(by='price', ascending=False).plot(\n",
    "    x='model',\n",
    "    kind='bar',\n",
    "    figsize=(10, 5),\n",
    "    grid=True,\n",
    "    title = 'Топ-10 моделей по суммарной выручке'\n",
    ")\n",
    "plt.legend(['Суммарная выручка'])\n",
    "plt.xticks(rotation=90)\n",
    "plt.xlabel('Модель авто')\n",
    "plt.ylabel('Суммарная выручка')\n",
    "plt.show()"
   ]
  },
  {
   "cell_type": "markdown",
   "metadata": {
    "id": "0gCm1Tr4JvdL"
   },
   "source": [
    "Особо выделяются модели W1E (*Ford F-Series, F-150, SuperCrew (Crew Cab), Styleside, 4WD ('10-'23)*) и P0H (*Ford Fusion; SE, FWD ('13-'20)*)."
   ]
  },
  {
   "cell_type": "code",
   "execution_count": 27,
   "metadata": {
    "colab": {
     "base_uri": "https://localhost:8080/"
    },
    "executionInfo": {
     "elapsed": 5,
     "status": "ok",
     "timestamp": 1713847416161,
     "user": {
      "displayName": "Эдгар Низаев",
      "userId": "15628445951160379931"
     },
     "user_tz": -240
    },
    "id": "DWOC_c-PJvdL",
    "outputId": "2904170e-f0c0-4c25-a59c-3a293dfdd076",
    "tags": []
   },
   "outputs": [
    {
     "data": {
      "text/plain": [
       "model\n",
       "P0H    6171\n",
       "P3F    3931\n",
       "W1E    3897\n",
       "P3K    1958\n",
       "P0J    1487\n",
       "       ... \n",
       "R2Y       1\n",
       "X15       1\n",
       "K30       1\n",
       "P7A       1\n",
       "F25       1\n",
       "Name: count, Length: 365, dtype: int64"
      ]
     },
     "execution_count": 27,
     "metadata": {},
     "output_type": "execute_result"
    }
   ],
   "source": [
    "df['model'].value_counts()"
   ]
  },
  {
   "cell_type": "code",
   "execution_count": 28,
   "metadata": {
    "colab": {
     "base_uri": "https://localhost:8080/",
     "height": 363
    },
    "executionInfo": {
     "elapsed": 4,
     "status": "ok",
     "timestamp": 1713847416161,
     "user": {
      "displayName": "Эдгар Низаев",
      "userId": "15628445951160379931"
     },
     "user_tz": -240
    },
    "id": "k-0Rjs93JvdL",
    "outputId": "c3f4b3fb-3bfa-491f-c858-f647cc7429af",
    "tags": []
   },
   "outputs": [
    {
     "data": {
      "text/html": [
       "<div>\n",
       "<style scoped>\n",
       "    .dataframe tbody tr th:only-of-type {\n",
       "        vertical-align: middle;\n",
       "    }\n",
       "\n",
       "    .dataframe tbody tr th {\n",
       "        vertical-align: top;\n",
       "    }\n",
       "\n",
       "    .dataframe thead th {\n",
       "        text-align: right;\n",
       "    }\n",
       "</style>\n",
       "<table border=\"1\" class=\"dataframe\">\n",
       "  <thead>\n",
       "    <tr style=\"text-align: right;\">\n",
       "      <th></th>\n",
       "      <th>model</th>\n",
       "      <th>price</th>\n",
       "    </tr>\n",
       "  </thead>\n",
       "  <tbody>\n",
       "    <tr>\n",
       "      <th>93</th>\n",
       "      <td>K8G</td>\n",
       "      <td>33595.953757</td>\n",
       "    </tr>\n",
       "    <tr>\n",
       "      <th>351</th>\n",
       "      <td>X2X</td>\n",
       "      <td>33250.000000</td>\n",
       "    </tr>\n",
       "    <tr>\n",
       "      <th>190</th>\n",
       "      <td>P8J</td>\n",
       "      <td>33177.272727</td>\n",
       "    </tr>\n",
       "    <tr>\n",
       "      <th>315</th>\n",
       "      <td>W1R</td>\n",
       "      <td>33162.500000</td>\n",
       "    </tr>\n",
       "    <tr>\n",
       "      <th>343</th>\n",
       "      <td>X1R</td>\n",
       "      <td>33125.000000</td>\n",
       "    </tr>\n",
       "    <tr>\n",
       "      <th>223</th>\n",
       "      <td>T89</td>\n",
       "      <td>32000.000000</td>\n",
       "    </tr>\n",
       "    <tr>\n",
       "      <th>331</th>\n",
       "      <td>W4D</td>\n",
       "      <td>30912.500000</td>\n",
       "    </tr>\n",
       "    <tr>\n",
       "      <th>222</th>\n",
       "      <td>T88</td>\n",
       "      <td>30000.000000</td>\n",
       "    </tr>\n",
       "    <tr>\n",
       "      <th>328</th>\n",
       "      <td>W3D</td>\n",
       "      <td>29957.894737</td>\n",
       "    </tr>\n",
       "    <tr>\n",
       "      <th>57</th>\n",
       "      <td>K1J</td>\n",
       "      <td>29779.517073</td>\n",
       "    </tr>\n",
       "  </tbody>\n",
       "</table>\n",
       "</div>"
      ],
      "text/plain": [
       "    model         price\n",
       "93    K8G  33595.953757\n",
       "351   X2X  33250.000000\n",
       "190   P8J  33177.272727\n",
       "315   W1R  33162.500000\n",
       "343   X1R  33125.000000\n",
       "223   T89  32000.000000\n",
       "331   W4D  30912.500000\n",
       "222   T88  30000.000000\n",
       "328   W3D  29957.894737\n",
       "57    K1J  29779.517073"
      ]
     },
     "execution_count": 28,
     "metadata": {},
     "output_type": "execute_result"
    }
   ],
   "source": [
    "model_vin_mean = df.groupby('model').agg({'price':'mean'}).reset_index()\n",
    "model_vin_mean = model_vin_mean.sort_values(by='price', ascending=False).head(10)\n",
    "model_vin_mean"
   ]
  },
  {
   "cell_type": "code",
   "execution_count": 29,
   "metadata": {
    "colab": {
     "base_uri": "https://localhost:8080/",
     "height": 506
    },
    "executionInfo": {
     "elapsed": 404,
     "status": "ok",
     "timestamp": 1713847416561,
     "user": {
      "displayName": "Эдгар Низаев",
      "userId": "15628445951160379931"
     },
     "user_tz": -240
    },
    "id": "MaS3mGG0JvdL",
    "outputId": "b7820280-9cad-4094-c15e-91ae0fbf7319",
    "tags": []
   },
   "outputs": [
    {
     "data": {
      "image/png": "[encoded data removed]",
      "text/plain": [
       "<Figure size 1000x500 with 1 Axes>"
      ]
     },
     "metadata": {},
     "output_type": "display_data"
    }
   ],
   "source": [
    "model_vin_mean.sort_values(by='price', ascending=False).plot(\n",
    "    x='model',\n",
    "    kind='bar',\n",
    "    figsize=(10, 5),\n",
    "    grid=True,\n",
    "    title = 'Топ-10 моделей по средней выручке'\n",
    ")\n",
    "plt.legend(['Средняя выручка'])\n",
    "plt.xticks(rotation=90)\n",
    "plt.xlabel('Модель авто')\n",
    "plt.ylabel('Средняя выручка')\n",
    "plt.show()"
   ]
  },
  {
   "cell_type": "markdown",
   "metadata": {
    "executionInfo": {
     "elapsed": 3,
     "status": "ok",
     "timestamp": 1713784781866,
     "user": {
      "displayName": "Эдгар Низаев",
      "userId": "15628445951160379931"
     },
     "user_tz": -240
    },
    "id": "1mat4FFhg70D"
   },
   "source": [
    "По средней выручке можно выделить сразу 5 авто:\n",
    "\n",
    "- K8G (*Ford Explorer; Sport, AWD ('13-'19)*)\n",
    "- X2X (*Ford Transit 350, Passenger Van, High Roof, Sliding Passenger-Side Cargo Door ('15-'19)*)\n",
    "- P8J (*Ford Mustang, Coupe; Shelby GT350/GT350R ('15-'20)*)\n",
    "- W1R (*Ford F-Series, F-150 Raptor, SuperCrew (Crew Cab), Styleside, 4WD ('11-'14, '17-'23)*)\n",
    "- X1R (*Ford F-Series, F-150 Raptor, Super Cab, Styleside, 4WD ('11-'14, '17-'20)*)\n"
   ]
  },
  {
   "cell_type": "markdown",
   "metadata": {
    "id": "4K4dLdQHJvdM"
   },
   "source": [
    "## Спарсим таблицы для расшифровки VIN-кода"
   ]
  },
  {
   "cell_type": "code",
   "execution_count": 30,
   "metadata": {
    "id": "OJX_an5SJvdM",
    "tags": []
   },
   "outputs": [],
   "source": [
    "list_of_tables = pd.read_html('https://en.wikibooks.org/wiki/Vehicle_Identification_Numbers_(VIN_codes)/Ford/VIN_Codes#American_models')"
   ]
  },
  {
   "cell_type": "code",
   "execution_count": 31,
   "metadata": {
    "colab": {
     "base_uri": "https://localhost:8080/"
    },
    "executionInfo": {
     "elapsed": 15,
     "status": "ok",
     "timestamp": 1713847416987,
     "user": {
      "displayName": "Эдгар Низаев",
      "userId": "15628445951160379931"
     },
     "user_tz": -240
    },
    "id": "tvclGkGLJvdM",
    "outputId": "2213e03a-5def-4a1d-c676-1e04d8b38861",
    "tags": []
   },
   "outputs": [
    {
     "data": {
      "text/plain": [
       "26"
      ]
     },
     "execution_count": 31,
     "metadata": {},
     "output_type": "execute_result"
    }
   ],
   "source": [
    "len(list_of_tables)"
   ]
  },
  {
   "cell_type": "markdown",
   "metadata": {
    "id": "7GYhg-X1JvdM"
   },
   "source": [
    "**1-3 значение в VIN-коде (производитель)**"
   ]
  },
  {
   "cell_type": "code",
   "execution_count": 32,
   "metadata": {
    "colab": {
     "base_uri": "https://localhost:8080/",
     "height": 424
    },
    "executionInfo": {
     "elapsed": 15,
     "status": "ok",
     "timestamp": 1713847416988,
     "user": {
      "displayName": "Эдгар Низаев",
      "userId": "15628445951160379931"
     },
     "user_tz": -240
    },
    "id": "5CrodKNyJvdM",
    "outputId": "43fe2a9f-3801-4408-d423-3dbc9eaae3f9",
    "tags": []
   },
   "outputs": [
    {
     "data": {
      "text/html": [
       "<div>\n",
       "<style scoped>\n",
       "    .dataframe tbody tr th:only-of-type {\n",
       "        vertical-align: middle;\n",
       "    }\n",
       "\n",
       "    .dataframe tbody tr th {\n",
       "        vertical-align: top;\n",
       "    }\n",
       "\n",
       "    .dataframe thead th {\n",
       "        text-align: right;\n",
       "    }\n",
       "</style>\n",
       "<table border=\"1\" class=\"dataframe\">\n",
       "  <thead>\n",
       "    <tr style=\"text-align: right;\">\n",
       "      <th></th>\n",
       "      <th>WMI</th>\n",
       "      <th>Country</th>\n",
       "      <th>Description</th>\n",
       "      <th>Vehicle types</th>\n",
       "    </tr>\n",
       "  </thead>\n",
       "  <tbody>\n",
       "    <tr>\n",
       "      <th>0</th>\n",
       "      <td>AFA</td>\n",
       "      <td>South Africa</td>\n",
       "      <td>Ford Motor Company of Southern Africa</td>\n",
       "      <td>NaN</td>\n",
       "    </tr>\n",
       "    <tr>\n",
       "      <th>1</th>\n",
       "      <td>JC0</td>\n",
       "      <td>Japan</td>\n",
       "      <td>Ford (made by Mazda)</td>\n",
       "      <td>NaN</td>\n",
       "    </tr>\n",
       "    <tr>\n",
       "      <th>2</th>\n",
       "      <td>JC2</td>\n",
       "      <td>Japan</td>\n",
       "      <td>Ford Courier pickup (made by Mazda)</td>\n",
       "      <td>NaN</td>\n",
       "    </tr>\n",
       "    <tr>\n",
       "      <th>3</th>\n",
       "      <td>KNJ</td>\n",
       "      <td>South Korea</td>\n",
       "      <td>Ford (made by Kia)</td>\n",
       "      <td>NaN</td>\n",
       "    </tr>\n",
       "    <tr>\n",
       "      <th>4</th>\n",
       "      <td>LFA</td>\n",
       "      <td>Taiwan</td>\n",
       "      <td>Ford Lio Ho</td>\n",
       "      <td>NaN</td>\n",
       "    </tr>\n",
       "    <tr>\n",
       "      <th>...</th>\n",
       "      <td>...</td>\n",
       "      <td>...</td>\n",
       "      <td>...</td>\n",
       "      <td>...</td>\n",
       "    </tr>\n",
       "    <tr>\n",
       "      <th>77</th>\n",
       "      <td>7A5</td>\n",
       "      <td>New Zealand</td>\n",
       "      <td>Ford New Zealand</td>\n",
       "      <td>NaN</td>\n",
       "    </tr>\n",
       "    <tr>\n",
       "      <th>78</th>\n",
       "      <td>8AF</td>\n",
       "      <td>Argentina</td>\n",
       "      <td>Ford Argentina</td>\n",
       "      <td>NaN</td>\n",
       "    </tr>\n",
       "    <tr>\n",
       "      <th>79</th>\n",
       "      <td>8XD</td>\n",
       "      <td>Venezuela</td>\n",
       "      <td>Ford Motor Venezuela</td>\n",
       "      <td>NaN</td>\n",
       "    </tr>\n",
       "    <tr>\n",
       "      <th>80</th>\n",
       "      <td>9BF</td>\n",
       "      <td>Brazil</td>\n",
       "      <td>Ford Brazil</td>\n",
       "      <td>NaN</td>\n",
       "    </tr>\n",
       "    <tr>\n",
       "      <th>81</th>\n",
       "      <td>94T</td>\n",
       "      <td>Brazil</td>\n",
       "      <td>Troller</td>\n",
       "      <td>NaN</td>\n",
       "    </tr>\n",
       "  </tbody>\n",
       "</table>\n",
       "<p>82 rows × 4 columns</p>\n",
       "</div>"
      ],
      "text/plain": [
       "    WMI       Country                            Description Vehicle types\n",
       "0   AFA  South Africa  Ford Motor Company of Southern Africa           NaN\n",
       "1   JC0         Japan                   Ford (made by Mazda)           NaN\n",
       "2   JC2         Japan    Ford Courier pickup (made by Mazda)           NaN\n",
       "3   KNJ   South Korea                     Ford (made by Kia)           NaN\n",
       "4   LFA        Taiwan                            Ford Lio Ho           NaN\n",
       "..  ...           ...                                    ...           ...\n",
       "77  7A5   New Zealand                       Ford New Zealand           NaN\n",
       "78  8AF     Argentina                         Ford Argentina           NaN\n",
       "79  8XD     Venezuela                   Ford Motor Venezuela           NaN\n",
       "80  9BF        Brazil                            Ford Brazil           NaN\n",
       "81  94T        Brazil                                Troller           NaN\n",
       "\n",
       "[82 rows x 4 columns]"
      ]
     },
     "execution_count": 32,
     "metadata": {},
     "output_type": "execute_result"
    }
   ],
   "source": [
    "df_wmi_1_3 = list_of_tables[24]\n",
    "df_wmi_1_3"
   ]
  },
  {
   "cell_type": "code",
   "execution_count": 33,
   "metadata": {
    "colab": {
     "base_uri": "https://localhost:8080/"
    },
    "executionInfo": {
     "elapsed": 14,
     "status": "ok",
     "timestamp": 1713847416988,
     "user": {
      "displayName": "Эдгар Низаев",
      "userId": "15628445951160379931"
     },
     "user_tz": -240
    },
    "id": "XbyRAikuJvdM",
    "outputId": "628c7189-9ae9-4f5f-dba9-7280f5d7bee9",
    "tags": []
   },
   "outputs": [
    {
     "name": "stdout",
     "output_type": "stream",
     "text": [
      "<class 'pandas.core.frame.DataFrame'>\n",
      "RangeIndex: 82 entries, 0 to 81\n",
      "Data columns (total 4 columns):\n",
      " #   Column         Non-Null Count  Dtype \n",
      "---  ------         --------------  ----- \n",
      " 0   WMI            82 non-null     object\n",
      " 1   Country        82 non-null     object\n",
      " 2   Description    82 non-null     object\n",
      " 3   Vehicle types  50 non-null     object\n",
      "dtypes: object(4)\n",
      "memory usage: 2.7+ KB\n"
     ]
    }
   ],
   "source": [
    "df_wmi_1_3.info()"
   ]
  },
  {
   "cell_type": "code",
   "execution_count": 34,
   "metadata": {
    "colab": {
     "base_uri": "https://localhost:8080/"
    },
    "executionInfo": {
     "elapsed": 13,
     "status": "ok",
     "timestamp": 1713847416988,
     "user": {
      "displayName": "Эдгар Низаев",
      "userId": "15628445951160379931"
     },
     "user_tz": -240
    },
    "id": "i7nch1N2JvdM",
    "outputId": "a174d460-b821-4e9b-88f5-87bfaaa109c0",
    "tags": []
   },
   "outputs": [
    {
     "data": {
      "text/plain": [
       "82"
      ]
     },
     "execution_count": 34,
     "metadata": {},
     "output_type": "execute_result"
    }
   ],
   "source": [
    "df_wmi_1_3['WMI'].nunique()"
   ]
  },
  {
   "cell_type": "markdown",
   "metadata": {
    "id": "0myCOaOiJvdM"
   },
   "source": [
    "**4 значение в VIN-коде (ремни безопасности, тормоза и грузоподъемность)**"
   ]
  },
  {
   "cell_type": "code",
   "execution_count": 35,
   "metadata": {
    "colab": {
     "base_uri": "https://localhost:8080/",
     "height": 457
    },
    "executionInfo": {
     "elapsed": 12,
     "status": "ok",
     "timestamp": 1713847416988,
     "user": {
      "displayName": "Эдгар Низаев",
      "userId": "15628445951160379931"
     },
     "user_tz": -240
    },
    "id": "V3HS3muMJvdM",
    "outputId": "32840f05-3902-4268-fdac-d41c9ae1e0d7",
    "tags": []
   },
   "outputs": [
    {
     "data": {
      "text/html": [
       "<div>\n",
       "<style scoped>\n",
       "    .dataframe tbody tr th:only-of-type {\n",
       "        vertical-align: middle;\n",
       "    }\n",
       "\n",
       "    .dataframe tbody tr th {\n",
       "        vertical-align: top;\n",
       "    }\n",
       "\n",
       "    .dataframe thead th {\n",
       "        text-align: right;\n",
       "    }\n",
       "</style>\n",
       "<table border=\"1\" class=\"dataframe\">\n",
       "  <thead>\n",
       "    <tr style=\"text-align: right;\">\n",
       "      <th></th>\n",
       "      <th>VIN code</th>\n",
       "      <th>Description</th>\n",
       "    </tr>\n",
       "  </thead>\n",
       "  <tbody>\n",
       "    <tr>\n",
       "      <th>0</th>\n",
       "      <td>B</td>\n",
       "      <td>Active belts (Manual)</td>\n",
       "    </tr>\n",
       "    <tr>\n",
       "      <th>1</th>\n",
       "      <td>P</td>\n",
       "      <td>Passive belts (Motorized)</td>\n",
       "    </tr>\n",
       "    <tr>\n",
       "      <th>2</th>\n",
       "      <td>C</td>\n",
       "      <td>Active Belts and Driver-side Front Airbag</td>\n",
       "    </tr>\n",
       "    <tr>\n",
       "      <th>3</th>\n",
       "      <td>A</td>\n",
       "      <td>Active (Manual) Belt (Driver) &amp; Passive (Motor...</td>\n",
       "    </tr>\n",
       "    <tr>\n",
       "      <th>4</th>\n",
       "      <td>L</td>\n",
       "      <td>Active Belts and Driver and Passenger (First G...</td>\n",
       "    </tr>\n",
       "    <tr>\n",
       "      <th>5</th>\n",
       "      <td>F</td>\n",
       "      <td>Active Belts and Driver and Passenger (Second ...</td>\n",
       "    </tr>\n",
       "    <tr>\n",
       "      <th>6</th>\n",
       "      <td>K</td>\n",
       "      <td>Active Belts and Driver and Passenger (Second ...</td>\n",
       "    </tr>\n",
       "    <tr>\n",
       "      <th>7</th>\n",
       "      <td>H</td>\n",
       "      <td>Active Belts and Driver and Passenger Front an...</td>\n",
       "    </tr>\n",
       "    <tr>\n",
       "      <th>8</th>\n",
       "      <td>B</td>\n",
       "      <td>Active Belts plus Driver and Passenger Front A...</td>\n",
       "    </tr>\n",
       "    <tr>\n",
       "      <th>9</th>\n",
       "      <td>H</td>\n",
       "      <td>Active Belts plus Driver and Passenger Front A...</td>\n",
       "    </tr>\n",
       "    <tr>\n",
       "      <th>10</th>\n",
       "      <td>D</td>\n",
       "      <td>Active Belts plus Driver and Passenger Front A...</td>\n",
       "    </tr>\n",
       "    <tr>\n",
       "      <th>11</th>\n",
       "      <td>6</td>\n",
       "      <td>Active Belts plus Driver and Passenger Front A...</td>\n",
       "    </tr>\n",
       "    <tr>\n",
       "      <th>12</th>\n",
       "      <td>G</td>\n",
       "      <td>Active Belts plus Driver and Passenger Front A...</td>\n",
       "    </tr>\n",
       "  </tbody>\n",
       "</table>\n",
       "</div>"
      ],
      "text/plain": [
       "   VIN code                                        Description\n",
       "0         B                              Active belts (Manual)\n",
       "1         P                          Passive belts (Motorized)\n",
       "2         C          Active Belts and Driver-side Front Airbag\n",
       "3         A  Active (Manual) Belt (Driver) & Passive (Motor...\n",
       "4         L  Active Belts and Driver and Passenger (First G...\n",
       "5         F  Active Belts and Driver and Passenger (Second ...\n",
       "6         K  Active Belts and Driver and Passenger (Second ...\n",
       "7         H  Active Belts and Driver and Passenger Front an...\n",
       "8         B  Active Belts plus Driver and Passenger Front A...\n",
       "9         H  Active Belts plus Driver and Passenger Front A...\n",
       "10        D  Active Belts plus Driver and Passenger Front A...\n",
       "11        6  Active Belts plus Driver and Passenger Front A...\n",
       "12        G  Active Belts plus Driver and Passenger Front A..."
      ]
     },
     "execution_count": 35,
     "metadata": {},
     "output_type": "execute_result"
    }
   ],
   "source": [
    "df_brake_4 = list_of_tables[4]\n",
    "df_brake_4"
   ]
  },
  {
   "cell_type": "code",
   "execution_count": 36,
   "metadata": {
    "colab": {
     "base_uri": "https://localhost:8080/"
    },
    "executionInfo": {
     "elapsed": 12,
     "status": "ok",
     "timestamp": 1713847416988,
     "user": {
      "displayName": "Эдгар Низаев",
      "userId": "15628445951160379931"
     },
     "user_tz": -240
    },
    "id": "ZJCrNaIKJvdM",
    "outputId": "0e429ba9-e051-4697-f1e7-dd3ff5bfb700",
    "tags": []
   },
   "outputs": [
    {
     "name": "stdout",
     "output_type": "stream",
     "text": [
      "<class 'pandas.core.frame.DataFrame'>\n",
      "RangeIndex: 13 entries, 0 to 12\n",
      "Data columns (total 2 columns):\n",
      " #   Column       Non-Null Count  Dtype \n",
      "---  ------       --------------  ----- \n",
      " 0   VIN code     13 non-null     object\n",
      " 1   Description  13 non-null     object\n",
      "dtypes: object(2)\n",
      "memory usage: 340.0+ bytes\n"
     ]
    }
   ],
   "source": [
    "df_brake_4.info()"
   ]
  },
  {
   "cell_type": "markdown",
   "metadata": {
    "id": "np51LuM7JvdM"
   },
   "source": [
    "**8 значение в VIN-коде (двигатель)**"
   ]
  },
  {
   "cell_type": "code",
   "execution_count": 37,
   "metadata": {
    "colab": {
     "base_uri": "https://localhost:8080/",
     "height": 563
    },
    "executionInfo": {
     "elapsed": 11,
     "status": "ok",
     "timestamp": 1713847416988,
     "user": {
      "displayName": "Эдгар Низаев",
      "userId": "15628445951160379931"
     },
     "user_tz": -240
    },
    "id": "d7_dkOs-JvdN",
    "outputId": "29682eac-d9d0-4d01-ed40-3ea2def9d9bc",
    "tags": []
   },
   "outputs": [
    {
     "data": {
      "text/html": [
       "<div>\n",
       "<style scoped>\n",
       "    .dataframe tbody tr th:only-of-type {\n",
       "        vertical-align: middle;\n",
       "    }\n",
       "\n",
       "    .dataframe tbody tr th {\n",
       "        vertical-align: top;\n",
       "    }\n",
       "\n",
       "    .dataframe thead th {\n",
       "        text-align: right;\n",
       "    }\n",
       "</style>\n",
       "<table border=\"1\" class=\"dataframe\">\n",
       "  <thead>\n",
       "    <tr style=\"text-align: right;\">\n",
       "      <th></th>\n",
       "      <th>Configuration</th>\n",
       "      <th>Name</th>\n",
       "      <th>Displacement</th>\n",
       "      <th>Description</th>\n",
       "      <th>Fuel</th>\n",
       "      <th>Power (hp)</th>\n",
       "      <th>Power (kW)</th>\n",
       "      <th>VIN code</th>\n",
       "      <th>Notes/Applications</th>\n",
       "    </tr>\n",
       "  </thead>\n",
       "  <tbody>\n",
       "    <tr>\n",
       "      <th>0</th>\n",
       "      <td>I3</td>\n",
       "      <td>Fox</td>\n",
       "      <td>1.0 L</td>\n",
       "      <td>DOHC 12V Ti-VCT DI Turbo IC (EcoBoost)</td>\n",
       "      <td>Gasoline</td>\n",
       "      <td>123</td>\n",
       "      <td>91</td>\n",
       "      <td>E</td>\n",
       "      <td>Ford Fiesta ('14-'17),  Ford Focus ('15-'18)</td>\n",
       "    </tr>\n",
       "    <tr>\n",
       "      <th>1</th>\n",
       "      <td>I4</td>\n",
       "      <td>Lima (LL23)</td>\n",
       "      <td>2.3 L</td>\n",
       "      <td>2-bbl. SOHC 8V</td>\n",
       "      <td>Gasoline</td>\n",
       "      <td>86-88</td>\n",
       "      <td>63-65</td>\n",
       "      <td>A</td>\n",
       "      <td>Ford Mustang, Mercury Capri, Ford Fairmont, Me...</td>\n",
       "    </tr>\n",
       "    <tr>\n",
       "      <th>2</th>\n",
       "      <td>I4</td>\n",
       "      <td>Lima (LL23)</td>\n",
       "      <td>2.3 L</td>\n",
       "      <td>2-bbl. SOHC 8V</td>\n",
       "      <td>Propane</td>\n",
       "      <td>86</td>\n",
       "      <td>63</td>\n",
       "      <td>6</td>\n",
       "      <td>Ford Granada, Mercury Cougar ('82)</td>\n",
       "    </tr>\n",
       "    <tr>\n",
       "      <th>3</th>\n",
       "      <td>I4</td>\n",
       "      <td>Lima (LL23)</td>\n",
       "      <td>2.3 L</td>\n",
       "      <td>1-bbl. SOHC 8V</td>\n",
       "      <td>Gasoline</td>\n",
       "      <td>88-90</td>\n",
       "      <td>65-66</td>\n",
       "      <td>A</td>\n",
       "      <td>Ford Mustang, Mercury Capri ('83-'86), Ford Fa...</td>\n",
       "    </tr>\n",
       "    <tr>\n",
       "      <th>4</th>\n",
       "      <td>I4</td>\n",
       "      <td>Lima (LL23)</td>\n",
       "      <td>2.3 L</td>\n",
       "      <td>1-bbl. SOHC 8V</td>\n",
       "      <td>Propane</td>\n",
       "      <td>88</td>\n",
       "      <td>65</td>\n",
       "      <td>6</td>\n",
       "      <td>Ford LTD, Mercury Marquis ('83-'84)</td>\n",
       "    </tr>\n",
       "    <tr>\n",
       "      <th>...</th>\n",
       "      <td>...</td>\n",
       "      <td>...</td>\n",
       "      <td>...</td>\n",
       "      <td>...</td>\n",
       "      <td>...</td>\n",
       "      <td>...</td>\n",
       "      <td>...</td>\n",
       "      <td>...</td>\n",
       "      <td>...</td>\n",
       "    </tr>\n",
       "    <tr>\n",
       "      <th>122</th>\n",
       "      <td>V8</td>\n",
       "      <td>Coyote</td>\n",
       "      <td>5.0 L (5,035 cc)</td>\n",
       "      <td>Port/Direct injection DOHC 32V Ti-VCT</td>\n",
       "      <td>Gasoline</td>\n",
       "      <td>470-480-500</td>\n",
       "      <td>346-353-368</td>\n",
       "      <td>0</td>\n",
       "      <td>Gen 6: Ford Mustang Bullitt ('19-'20), Ford Mu...</td>\n",
       "    </tr>\n",
       "    <tr>\n",
       "      <th>123</th>\n",
       "      <td>V8</td>\n",
       "      <td>Voodoo</td>\n",
       "      <td>5.2 L</td>\n",
       "      <td>SEFI DOHC 32V Ti-VCT Flat-Plane Crank</td>\n",
       "      <td>Gasoline</td>\n",
       "      <td>526</td>\n",
       "      <td>387</td>\n",
       "      <td>Z</td>\n",
       "      <td>Ford Mustang Shelby GT350/ GT350R ('15-'20)</td>\n",
       "    </tr>\n",
       "    <tr>\n",
       "      <th>124</th>\n",
       "      <td>V8</td>\n",
       "      <td>Predator</td>\n",
       "      <td>5.2 L</td>\n",
       "      <td>SEFI DOHC 32V Ti-VCT SC IC</td>\n",
       "      <td>Gasoline</td>\n",
       "      <td>760</td>\n",
       "      <td>559</td>\n",
       "      <td>J</td>\n",
       "      <td>Ford Mustang Shelby GT500  ('20-'22)</td>\n",
       "    </tr>\n",
       "    <tr>\n",
       "      <th>125</th>\n",
       "      <td>V8</td>\n",
       "      <td>NaN</td>\n",
       "      <td>NaN</td>\n",
       "      <td>NaN</td>\n",
       "      <td>NaN</td>\n",
       "      <td>NaN</td>\n",
       "      <td>NaN</td>\n",
       "      <td>NaN</td>\n",
       "      <td>NaN</td>\n",
       "    </tr>\n",
       "    <tr>\n",
       "      <th>126</th>\n",
       "      <td>V8</td>\n",
       "      <td>NaN</td>\n",
       "      <td>NaN</td>\n",
       "      <td>NaN</td>\n",
       "      <td>NaN</td>\n",
       "      <td>NaN</td>\n",
       "      <td>NaN</td>\n",
       "      <td>NaN</td>\n",
       "      <td>NaN</td>\n",
       "    </tr>\n",
       "  </tbody>\n",
       "</table>\n",
       "<p>127 rows × 9 columns</p>\n",
       "</div>"
      ],
      "text/plain": [
       "    Configuration         Name      Displacement  \\\n",
       "0              I3          Fox             1.0 L   \n",
       "1              I4  Lima (LL23)             2.3 L   \n",
       "2              I4  Lima (LL23)             2.3 L   \n",
       "3              I4  Lima (LL23)             2.3 L   \n",
       "4              I4  Lima (LL23)             2.3 L   \n",
       "..            ...          ...               ...   \n",
       "122            V8       Coyote  5.0 L (5,035 cc)   \n",
       "123            V8       Voodoo             5.2 L   \n",
       "124            V8     Predator             5.2 L   \n",
       "125            V8          NaN               NaN   \n",
       "126            V8          NaN               NaN   \n",
       "\n",
       "                                Description      Fuel   Power (hp)  \\\n",
       "0    DOHC 12V Ti-VCT DI Turbo IC (EcoBoost)  Gasoline          123   \n",
       "1                            2-bbl. SOHC 8V  Gasoline        86-88   \n",
       "2                            2-bbl. SOHC 8V   Propane           86   \n",
       "3                            1-bbl. SOHC 8V  Gasoline        88-90   \n",
       "4                            1-bbl. SOHC 8V   Propane           88   \n",
       "..                                      ...       ...          ...   \n",
       "122   Port/Direct injection DOHC 32V Ti-VCT  Gasoline  470-480-500   \n",
       "123   SEFI DOHC 32V Ti-VCT Flat-Plane Crank  Gasoline          526   \n",
       "124              SEFI DOHC 32V Ti-VCT SC IC  Gasoline          760   \n",
       "125                                     NaN       NaN          NaN   \n",
       "126                                     NaN       NaN          NaN   \n",
       "\n",
       "      Power (kW) VIN code                                 Notes/Applications  \n",
       "0             91        E       Ford Fiesta ('14-'17),  Ford Focus ('15-'18)  \n",
       "1          63-65        A  Ford Mustang, Mercury Capri, Ford Fairmont, Me...  \n",
       "2             63        6                 Ford Granada, Mercury Cougar ('82)  \n",
       "3          65-66        A  Ford Mustang, Mercury Capri ('83-'86), Ford Fa...  \n",
       "4             65        6                Ford LTD, Mercury Marquis ('83-'84)  \n",
       "..           ...      ...                                                ...  \n",
       "122  346-353-368        0  Gen 6: Ford Mustang Bullitt ('19-'20), Ford Mu...  \n",
       "123          387        Z        Ford Mustang Shelby GT350/ GT350R ('15-'20)  \n",
       "124          559        J               Ford Mustang Shelby GT500  ('20-'22)  \n",
       "125          NaN      NaN                                                NaN  \n",
       "126          NaN      NaN                                                NaN  \n",
       "\n",
       "[127 rows x 9 columns]"
      ]
     },
     "execution_count": 37,
     "metadata": {},
     "output_type": "execute_result"
    }
   ],
   "source": [
    "df_engine_8 = list_of_tables[9]\n",
    "df_engine_8"
   ]
  },
  {
   "cell_type": "code",
   "execution_count": 38,
   "metadata": {
    "colab": {
     "base_uri": "https://localhost:8080/"
    },
    "executionInfo": {
     "elapsed": 11,
     "status": "ok",
     "timestamp": 1713847416988,
     "user": {
      "displayName": "Эдгар Низаев",
      "userId": "15628445951160379931"
     },
     "user_tz": -240
    },
    "id": "CLP8cNquJvdN",
    "outputId": "26ca9c56-4f12-40dd-dc50-40709d5808f3",
    "tags": []
   },
   "outputs": [
    {
     "name": "stdout",
     "output_type": "stream",
     "text": [
      "<class 'pandas.core.frame.DataFrame'>\n",
      "RangeIndex: 127 entries, 0 to 126\n",
      "Data columns (total 9 columns):\n",
      " #   Column              Non-Null Count  Dtype \n",
      "---  ------              --------------  ----- \n",
      " 0   Configuration       127 non-null    object\n",
      " 1   Name                125 non-null    object\n",
      " 2   Displacement        125 non-null    object\n",
      " 3   Description         125 non-null    object\n",
      " 4   Fuel                125 non-null    object\n",
      " 5   Power (hp)          125 non-null    object\n",
      " 6   Power (kW)          125 non-null    object\n",
      " 7   VIN code            125 non-null    object\n",
      " 8   Notes/Applications  125 non-null    object\n",
      "dtypes: object(9)\n",
      "memory usage: 9.1+ KB\n"
     ]
    }
   ],
   "source": [
    "df_engine_8.info()"
   ]
  },
  {
   "cell_type": "markdown",
   "metadata": {
    "id": "PyvHp0cNJvdN"
   },
   "source": [
    "**10 значение в VIN-коде (Год выпуска авто)**"
   ]
  },
  {
   "cell_type": "code",
   "execution_count": 39,
   "metadata": {
    "colab": {
     "base_uri": "https://localhost:8080/",
     "height": 990
    },
    "executionInfo": {
     "elapsed": 10,
     "status": "ok",
     "timestamp": 1713847416988,
     "user": {
      "displayName": "Эдгар Низаев",
      "userId": "15628445951160379931"
     },
     "user_tz": -240
    },
    "id": "aSDcAivGJvdN",
    "outputId": "0677f643-89c9-4c1a-b98f-d802697a5b12"
   },
   "outputs": [
    {
     "data": {
      "text/html": [
       "<div>\n",
       "<style scoped>\n",
       "    .dataframe tbody tr th:only-of-type {\n",
       "        vertical-align: middle;\n",
       "    }\n",
       "\n",
       "    .dataframe tbody tr th {\n",
       "        vertical-align: top;\n",
       "    }\n",
       "\n",
       "    .dataframe thead th {\n",
       "        text-align: right;\n",
       "    }\n",
       "</style>\n",
       "<table border=\"1\" class=\"dataframe\">\n",
       "  <thead>\n",
       "    <tr style=\"text-align: right;\">\n",
       "      <th></th>\n",
       "      <th>Code</th>\n",
       "      <th>Years</th>\n",
       "    </tr>\n",
       "  </thead>\n",
       "  <tbody>\n",
       "    <tr>\n",
       "      <th>0</th>\n",
       "      <td>A</td>\n",
       "      <td>1980, 2010</td>\n",
       "    </tr>\n",
       "    <tr>\n",
       "      <th>1</th>\n",
       "      <td>B</td>\n",
       "      <td>1981, 2011</td>\n",
       "    </tr>\n",
       "    <tr>\n",
       "      <th>2</th>\n",
       "      <td>C</td>\n",
       "      <td>1982, 2012</td>\n",
       "    </tr>\n",
       "    <tr>\n",
       "      <th>3</th>\n",
       "      <td>D</td>\n",
       "      <td>1983, 2013</td>\n",
       "    </tr>\n",
       "    <tr>\n",
       "      <th>4</th>\n",
       "      <td>E</td>\n",
       "      <td>1984, 2014</td>\n",
       "    </tr>\n",
       "    <tr>\n",
       "      <th>5</th>\n",
       "      <td>F</td>\n",
       "      <td>1985, 2015</td>\n",
       "    </tr>\n",
       "    <tr>\n",
       "      <th>6</th>\n",
       "      <td>G</td>\n",
       "      <td>1986, 2016</td>\n",
       "    </tr>\n",
       "    <tr>\n",
       "      <th>7</th>\n",
       "      <td>H</td>\n",
       "      <td>1987, 2017</td>\n",
       "    </tr>\n",
       "    <tr>\n",
       "      <th>8</th>\n",
       "      <td>J</td>\n",
       "      <td>1988, 2018</td>\n",
       "    </tr>\n",
       "    <tr>\n",
       "      <th>9</th>\n",
       "      <td>K</td>\n",
       "      <td>1989, 2019</td>\n",
       "    </tr>\n",
       "    <tr>\n",
       "      <th>10</th>\n",
       "      <td>L</td>\n",
       "      <td>1990, 2020</td>\n",
       "    </tr>\n",
       "    <tr>\n",
       "      <th>11</th>\n",
       "      <td>M</td>\n",
       "      <td>1991, 2021</td>\n",
       "    </tr>\n",
       "    <tr>\n",
       "      <th>12</th>\n",
       "      <td>N</td>\n",
       "      <td>1992, 2022</td>\n",
       "    </tr>\n",
       "    <tr>\n",
       "      <th>13</th>\n",
       "      <td>P</td>\n",
       "      <td>1993, 2023</td>\n",
       "    </tr>\n",
       "    <tr>\n",
       "      <th>14</th>\n",
       "      <td>R</td>\n",
       "      <td>1994, 2024</td>\n",
       "    </tr>\n",
       "    <tr>\n",
       "      <th>15</th>\n",
       "      <td>S</td>\n",
       "      <td>1995, 2025</td>\n",
       "    </tr>\n",
       "    <tr>\n",
       "      <th>16</th>\n",
       "      <td>T</td>\n",
       "      <td>1996, 2026</td>\n",
       "    </tr>\n",
       "    <tr>\n",
       "      <th>17</th>\n",
       "      <td>V</td>\n",
       "      <td>1997, 2027</td>\n",
       "    </tr>\n",
       "    <tr>\n",
       "      <th>18</th>\n",
       "      <td>W</td>\n",
       "      <td>1998, 2028</td>\n",
       "    </tr>\n",
       "    <tr>\n",
       "      <th>19</th>\n",
       "      <td>X</td>\n",
       "      <td>1999, 2029</td>\n",
       "    </tr>\n",
       "    <tr>\n",
       "      <th>20</th>\n",
       "      <td>Y</td>\n",
       "      <td>2000, 2030</td>\n",
       "    </tr>\n",
       "    <tr>\n",
       "      <th>21</th>\n",
       "      <td>1</td>\n",
       "      <td>2001, 2031</td>\n",
       "    </tr>\n",
       "    <tr>\n",
       "      <th>22</th>\n",
       "      <td>2</td>\n",
       "      <td>2002, 2032</td>\n",
       "    </tr>\n",
       "    <tr>\n",
       "      <th>23</th>\n",
       "      <td>3</td>\n",
       "      <td>2003, 2033</td>\n",
       "    </tr>\n",
       "    <tr>\n",
       "      <th>24</th>\n",
       "      <td>4</td>\n",
       "      <td>2004, 2034</td>\n",
       "    </tr>\n",
       "    <tr>\n",
       "      <th>25</th>\n",
       "      <td>5</td>\n",
       "      <td>2005, 2035</td>\n",
       "    </tr>\n",
       "    <tr>\n",
       "      <th>26</th>\n",
       "      <td>6</td>\n",
       "      <td>2006, 2036</td>\n",
       "    </tr>\n",
       "    <tr>\n",
       "      <th>27</th>\n",
       "      <td>7</td>\n",
       "      <td>2007, 2037</td>\n",
       "    </tr>\n",
       "    <tr>\n",
       "      <th>28</th>\n",
       "      <td>8</td>\n",
       "      <td>2008, 2038</td>\n",
       "    </tr>\n",
       "    <tr>\n",
       "      <th>29</th>\n",
       "      <td>9</td>\n",
       "      <td>2009, 2039</td>\n",
       "    </tr>\n",
       "  </tbody>\n",
       "</table>\n",
       "</div>"
      ],
      "text/plain": [
       "   Code       Years\n",
       "0     A  1980, 2010\n",
       "1     B  1981, 2011\n",
       "2     C  1982, 2012\n",
       "3     D  1983, 2013\n",
       "4     E  1984, 2014\n",
       "5     F  1985, 2015\n",
       "6     G  1986, 2016\n",
       "7     H  1987, 2017\n",
       "8     J  1988, 2018\n",
       "9     K  1989, 2019\n",
       "10    L  1990, 2020\n",
       "11    M  1991, 2021\n",
       "12    N  1992, 2022\n",
       "13    P  1993, 2023\n",
       "14    R  1994, 2024\n",
       "15    S  1995, 2025\n",
       "16    T  1996, 2026\n",
       "17    V  1997, 2027\n",
       "18    W  1998, 2028\n",
       "19    X  1999, 2029\n",
       "20    Y  2000, 2030\n",
       "21    1  2001, 2031\n",
       "22    2  2002, 2032\n",
       "23    3  2003, 2033\n",
       "24    4  2004, 2034\n",
       "25    5  2005, 2035\n",
       "26    6  2006, 2036\n",
       "27    7  2007, 2037\n",
       "28    8  2008, 2038\n",
       "29    9  2009, 2039"
      ]
     },
     "execution_count": 39,
     "metadata": {},
     "output_type": "execute_result"
    }
   ],
   "source": [
    "df_year_10 = pd.read_html('https://en.wikibooks.org/wiki/Vehicle_Identification_Numbers_(VIN_codes)/Model_year')\n",
    "df_year_10 = df_year_10[0]\n",
    "df_year_10"
   ]
  },
  {
   "cell_type": "code",
   "execution_count": 40,
   "metadata": {
    "colab": {
     "base_uri": "https://localhost:8080/"
    },
    "executionInfo": {
     "elapsed": 10,
     "status": "ok",
     "timestamp": 1713847416989,
     "user": {
      "displayName": "Эдгар Низаев",
      "userId": "15628445951160379931"
     },
     "user_tz": -240
    },
    "id": "3GFAylyJJvdN",
    "outputId": "31487bc1-f6a7-42c4-8c4e-e6ce237f859c",
    "tags": []
   },
   "outputs": [
    {
     "name": "stdout",
     "output_type": "stream",
     "text": [
      "<class 'pandas.core.frame.DataFrame'>\n",
      "RangeIndex: 30 entries, 0 to 29\n",
      "Data columns (total 2 columns):\n",
      " #   Column  Non-Null Count  Dtype \n",
      "---  ------  --------------  ----- \n",
      " 0   Code    30 non-null     object\n",
      " 1   Years   30 non-null     object\n",
      "dtypes: object(2)\n",
      "memory usage: 612.0+ bytes\n"
     ]
    }
   ],
   "source": [
    "df_year_10.info()"
   ]
  },
  {
   "cell_type": "markdown",
   "metadata": {
    "id": "D9fRHXXaJvdN"
   },
   "source": [
    "**11 значение в VIN-коде (Завод-изготовитель)**"
   ]
  },
  {
   "cell_type": "code",
   "execution_count": 41,
   "metadata": {
    "colab": {
     "base_uri": "https://localhost:8080/",
     "height": 1000
    },
    "executionInfo": {
     "elapsed": 9,
     "status": "ok",
     "timestamp": 1713847416989,
     "user": {
      "displayName": "Эдгар Низаев",
      "userId": "15628445951160379931"
     },
     "user_tz": -240
    },
    "id": "sKTCfyAwJvdN",
    "outputId": "a1eec96e-5cf9-4e66-b68f-380a27acb9e0"
   },
   "outputs": [
    {
     "data": {
      "text/html": [
       "<div>\n",
       "<style scoped>\n",
       "    .dataframe tbody tr th:only-of-type {\n",
       "        vertical-align: middle;\n",
       "    }\n",
       "\n",
       "    .dataframe tbody tr th {\n",
       "        vertical-align: top;\n",
       "    }\n",
       "\n",
       "    .dataframe thead th {\n",
       "        text-align: right;\n",
       "    }\n",
       "</style>\n",
       "<table border=\"1\" class=\"dataframe\">\n",
       "  <thead>\n",
       "    <tr style=\"text-align: right;\">\n",
       "      <th></th>\n",
       "      <th>VIN code</th>\n",
       "      <th>Location</th>\n",
       "      <th>Notes</th>\n",
       "    </tr>\n",
       "  </thead>\n",
       "  <tbody>\n",
       "    <tr>\n",
       "      <th>0</th>\n",
       "      <td>A</td>\n",
       "      <td>Atlanta Assembly (Hapeville, Georgia)</td>\n",
       "      <td>through 2007 model year</td>\n",
       "    </tr>\n",
       "    <tr>\n",
       "      <th>1</th>\n",
       "      <td>B</td>\n",
       "      <td>Oakville Assembly (Oakville, Ontario, Canada)</td>\n",
       "      <td>NaN</td>\n",
       "    </tr>\n",
       "    <tr>\n",
       "      <th>2</th>\n",
       "      <td>C</td>\n",
       "      <td>Ontario Truck (Oakville, Ontario, Canada)</td>\n",
       "      <td>through 2004 model year</td>\n",
       "    </tr>\n",
       "    <tr>\n",
       "      <th>3</th>\n",
       "      <td>D</td>\n",
       "      <td>Ohio Assembly (Avon Lake, Ohio)</td>\n",
       "      <td>NaN</td>\n",
       "    </tr>\n",
       "    <tr>\n",
       "      <th>4</th>\n",
       "      <td>E</td>\n",
       "      <td>Kentucky Truck Assembly (Louisville, Kentucky)</td>\n",
       "      <td>For light duty vehicles (pickups/chassis cab p...</td>\n",
       "    </tr>\n",
       "    <tr>\n",
       "      <th>5</th>\n",
       "      <td>F</td>\n",
       "      <td>Dearborn Assembly (Dearborn, Michigan)</td>\n",
       "      <td>through 2004 model year</td>\n",
       "    </tr>\n",
       "    <tr>\n",
       "      <th>6</th>\n",
       "      <td>F</td>\n",
       "      <td>Dearborn Truck Assembly (Dearborn, Michigan)</td>\n",
       "      <td>since 2005 model year</td>\n",
       "    </tr>\n",
       "    <tr>\n",
       "      <th>7</th>\n",
       "      <td>G</td>\n",
       "      <td>Chicago Assembly (Chicago, Illinois)</td>\n",
       "      <td>NaN</td>\n",
       "    </tr>\n",
       "    <tr>\n",
       "      <th>8</th>\n",
       "      <td>H</td>\n",
       "      <td>Lorain Assembly (Lorain, Ohio)</td>\n",
       "      <td>through 2006 model year</td>\n",
       "    </tr>\n",
       "    <tr>\n",
       "      <th>9</th>\n",
       "      <td>H</td>\n",
       "      <td>Multimatic, Inc. plant (Markham, Ontario, Canada)</td>\n",
       "      <td>from 2017-2022 model year</td>\n",
       "    </tr>\n",
       "    <tr>\n",
       "      <th>10</th>\n",
       "      <td>J</td>\n",
       "      <td>IMMSA plant (Monterrey, Nuevo León, Mexico)</td>\n",
       "      <td>from 1988-2000 model year</td>\n",
       "    </tr>\n",
       "    <tr>\n",
       "      <th>11</th>\n",
       "      <td>K</td>\n",
       "      <td>Kansas City Assembly (Claycomo, Missouri)</td>\n",
       "      <td>NaN</td>\n",
       "    </tr>\n",
       "    <tr>\n",
       "      <th>12</th>\n",
       "      <td>L</td>\n",
       "      <td>Michigan Assembly (formerly Michigan Truck) (W...</td>\n",
       "      <td>NaN</td>\n",
       "    </tr>\n",
       "    <tr>\n",
       "      <th>13</th>\n",
       "      <td>M</td>\n",
       "      <td>Cuautitlán Assembly (Cuautitlán Izcalli, Mexic...</td>\n",
       "      <td>NaN</td>\n",
       "    </tr>\n",
       "    <tr>\n",
       "      <th>14</th>\n",
       "      <td>N</td>\n",
       "      <td>Norfolk Assembly (Norfolk, Virginia)</td>\n",
       "      <td>through 2007 model year</td>\n",
       "    </tr>\n",
       "    <tr>\n",
       "      <th>15</th>\n",
       "      <td>N</td>\n",
       "      <td>Chicago SHO Center (Chicago, Illinois)</td>\n",
       "      <td>since 2021 model year</td>\n",
       "    </tr>\n",
       "    <tr>\n",
       "      <th>16</th>\n",
       "      <td>P</td>\n",
       "      <td>Twin Cities Assembly (St. Paul, Minnesota)</td>\n",
       "      <td>Closed 2011</td>\n",
       "    </tr>\n",
       "    <tr>\n",
       "      <th>17</th>\n",
       "      <td>R</td>\n",
       "      <td>San Jose Assembly (Milpitas, California)</td>\n",
       "      <td>through 1983 model year</td>\n",
       "    </tr>\n",
       "    <tr>\n",
       "      <th>18</th>\n",
       "      <td>R</td>\n",
       "      <td>Hermosillo Stamping &amp; Assembly (Hermosillo, So...</td>\n",
       "      <td>since 1988 model year</td>\n",
       "    </tr>\n",
       "    <tr>\n",
       "      <th>19</th>\n",
       "      <td>S</td>\n",
       "      <td>Ford New Model Programs Development Center (Al...</td>\n",
       "      <td>(Pilot &amp; Pre-Production)</td>\n",
       "    </tr>\n",
       "    <tr>\n",
       "      <th>20</th>\n",
       "      <td>T</td>\n",
       "      <td>Edison Assembly (Edison, New Jersey)</td>\n",
       "      <td>through 2004 model year</td>\n",
       "    </tr>\n",
       "    <tr>\n",
       "      <th>21</th>\n",
       "      <td>U</td>\n",
       "      <td>Louisville Assembly (Louisville, Kentucky)</td>\n",
       "      <td>NaN</td>\n",
       "    </tr>\n",
       "    <tr>\n",
       "      <th>22</th>\n",
       "      <td>V</td>\n",
       "      <td>Kentucky Truck Assembly (Louisville, Kentucky)</td>\n",
       "      <td>For medium- &amp; heavy-duty commercial trucks &amp; b...</td>\n",
       "    </tr>\n",
       "    <tr>\n",
       "      <th>23</th>\n",
       "      <td>V</td>\n",
       "      <td>Blue Diamond Truck Co. plant (General Escobedo...</td>\n",
       "      <td>from 2004-2015 model year</td>\n",
       "    </tr>\n",
       "    <tr>\n",
       "      <th>24</th>\n",
       "      <td>W</td>\n",
       "      <td>Wayne Stamping &amp; Assembly (Wayne, Michigan)</td>\n",
       "      <td>through 2011 model year</td>\n",
       "    </tr>\n",
       "    <tr>\n",
       "      <th>25</th>\n",
       "      <td>W</td>\n",
       "      <td>Ford Rouge Electric Vehicle Center (Dearborn, ...</td>\n",
       "      <td>since 2022 model year</td>\n",
       "    </tr>\n",
       "    <tr>\n",
       "      <th>26</th>\n",
       "      <td>X</td>\n",
       "      <td>St. Thomas Assembly (Talbotville, Ontario, Can...</td>\n",
       "      <td>Closed 2011</td>\n",
       "    </tr>\n",
       "    <tr>\n",
       "      <th>27</th>\n",
       "      <td>Y</td>\n",
       "      <td>Wixom Assembly (Wixom, Michigan)</td>\n",
       "      <td>through 2007 model year</td>\n",
       "    </tr>\n",
       "    <tr>\n",
       "      <th>28</th>\n",
       "      <td>Z</td>\n",
       "      <td>St. Louis Assembly (Hazelwood, Missouri)</td>\n",
       "      <td>through 2006 model year</td>\n",
       "    </tr>\n",
       "    <tr>\n",
       "      <th>29</th>\n",
       "      <td>0</td>\n",
       "      <td>Detroit Chassis LLC plant (Detroit, Michigan)</td>\n",
       "      <td>since 2000 model year</td>\n",
       "    </tr>\n",
       "    <tr>\n",
       "      <th>30</th>\n",
       "      <td>5</td>\n",
       "      <td>Flat Rock Assembly plant (AutoAlliance Interna...</td>\n",
       "      <td>Previously known as Mazda Motor Manufacturing USA</td>\n",
       "    </tr>\n",
       "  </tbody>\n",
       "</table>\n",
       "</div>"
      ],
      "text/plain": [
       "   VIN code                                           Location  \\\n",
       "0         A              Atlanta Assembly (Hapeville, Georgia)   \n",
       "1         B      Oakville Assembly (Oakville, Ontario, Canada)   \n",
       "2         C          Ontario Truck (Oakville, Ontario, Canada)   \n",
       "3         D                    Ohio Assembly (Avon Lake, Ohio)   \n",
       "4         E     Kentucky Truck Assembly (Louisville, Kentucky)   \n",
       "5         F             Dearborn Assembly (Dearborn, Michigan)   \n",
       "6         F       Dearborn Truck Assembly (Dearborn, Michigan)   \n",
       "7         G               Chicago Assembly (Chicago, Illinois)   \n",
       "8         H                     Lorain Assembly (Lorain, Ohio)   \n",
       "9         H  Multimatic, Inc. plant (Markham, Ontario, Canada)   \n",
       "10        J        IMMSA plant (Monterrey, Nuevo León, Mexico)   \n",
       "11        K          Kansas City Assembly (Claycomo, Missouri)   \n",
       "12        L  Michigan Assembly (formerly Michigan Truck) (W...   \n",
       "13        M  Cuautitlán Assembly (Cuautitlán Izcalli, Mexic...   \n",
       "14        N               Norfolk Assembly (Norfolk, Virginia)   \n",
       "15        N             Chicago SHO Center (Chicago, Illinois)   \n",
       "16        P         Twin Cities Assembly (St. Paul, Minnesota)   \n",
       "17        R           San Jose Assembly (Milpitas, California)   \n",
       "18        R  Hermosillo Stamping & Assembly (Hermosillo, So...   \n",
       "19        S  Ford New Model Programs Development Center (Al...   \n",
       "20        T               Edison Assembly (Edison, New Jersey)   \n",
       "21        U         Louisville Assembly (Louisville, Kentucky)   \n",
       "22        V     Kentucky Truck Assembly (Louisville, Kentucky)   \n",
       "23        V  Blue Diamond Truck Co. plant (General Escobedo...   \n",
       "24        W        Wayne Stamping & Assembly (Wayne, Michigan)   \n",
       "25        W  Ford Rouge Electric Vehicle Center (Dearborn, ...   \n",
       "26        X  St. Thomas Assembly (Talbotville, Ontario, Can...   \n",
       "27        Y                   Wixom Assembly (Wixom, Michigan)   \n",
       "28        Z           St. Louis Assembly (Hazelwood, Missouri)   \n",
       "29        0      Detroit Chassis LLC plant (Detroit, Michigan)   \n",
       "30        5  Flat Rock Assembly plant (AutoAlliance Interna...   \n",
       "\n",
       "                                                Notes  \n",
       "0                             through 2007 model year  \n",
       "1                                                 NaN  \n",
       "2                             through 2004 model year  \n",
       "3                                                 NaN  \n",
       "4   For light duty vehicles (pickups/chassis cab p...  \n",
       "5                             through 2004 model year  \n",
       "6                               since 2005 model year  \n",
       "7                                                 NaN  \n",
       "8                             through 2006 model year  \n",
       "9                           from 2017-2022 model year  \n",
       "10                          from 1988-2000 model year  \n",
       "11                                                NaN  \n",
       "12                                                NaN  \n",
       "13                                                NaN  \n",
       "14                            through 2007 model year  \n",
       "15                              since 2021 model year  \n",
       "16                                        Closed 2011  \n",
       "17                            through 1983 model year  \n",
       "18                              since 1988 model year  \n",
       "19                           (Pilot & Pre-Production)  \n",
       "20                            through 2004 model year  \n",
       "21                                                NaN  \n",
       "22  For medium- & heavy-duty commercial trucks & b...  \n",
       "23                          from 2004-2015 model year  \n",
       "24                            through 2011 model year  \n",
       "25                              since 2022 model year  \n",
       "26                                        Closed 2011  \n",
       "27                            through 2007 model year  \n",
       "28                            through 2006 model year  \n",
       "29                              since 2000 model year  \n",
       "30  Previously known as Mazda Motor Manufacturing USA  "
      ]
     },
     "execution_count": 41,
     "metadata": {},
     "output_type": "execute_result"
    }
   ],
   "source": [
    "df_factory_11 = list_of_tables[14]\n",
    "df_factory_11"
   ]
  },
  {
   "cell_type": "code",
   "execution_count": 42,
   "metadata": {
    "colab": {
     "base_uri": "https://localhost:8080/"
    },
    "executionInfo": {
     "elapsed": 9,
     "status": "ok",
     "timestamp": 1713847416989,
     "user": {
      "displayName": "Эдгар Низаев",
      "userId": "15628445951160379931"
     },
     "user_tz": -240
    },
    "id": "KJIDu7hhJvdN",
    "outputId": "3999e3e8-e171-4a63-c886-4bf22d1c6b07"
   },
   "outputs": [
    {
     "name": "stdout",
     "output_type": "stream",
     "text": [
      "<class 'pandas.core.frame.DataFrame'>\n",
      "RangeIndex: 31 entries, 0 to 30\n",
      "Data columns (total 3 columns):\n",
      " #   Column    Non-Null Count  Dtype \n",
      "---  ------    --------------  ----- \n",
      " 0   VIN code  31 non-null     object\n",
      " 1   Location  31 non-null     object\n",
      " 2   Notes     24 non-null     object\n",
      "dtypes: object(3)\n",
      "memory usage: 876.0+ bytes\n"
     ]
    }
   ],
   "source": [
    "df_factory_11.info()"
   ]
  },
  {
   "cell_type": "markdown",
   "metadata": {
    "id": "BlrhCzu5JvdN"
   },
   "source": [
    "**5-7 значение в VIN-коде (модель авто)**"
   ]
  },
  {
   "cell_type": "code",
   "execution_count": 43,
   "metadata": {
    "id": "x3FOB2ylJvdN",
    "jupyter": {
     "source_hidden": true
    },
    "tags": []
   },
   "outputs": [],
   "source": [
    "web_table = \"\"\"\n",
    "<table class=\"wikitable\">\n",
    "<tbody><tr>\n",
    "<th>VIN Code\n",
    "</th>\n",
    "<th>Model\n",
    "</th></tr>\n",
    "<tr>\n",
    "<td>A11%A14%A15%A21%A24%A25%A31%A34%A35%A41%A44%A45\n",
    "</td>\n",
    "<td>\n",
    "<p><a href=\"https://en.wikipedia.org/wiki/Ford_Aerostar\" class=\"extiw\" title=\"w:Ford Aerostar\">Ford Aerostar</a> regular length passenger van ('86-'97) %\n",
    "Ford Aerostar regular length cargo van ('86-'97) %\n",
    "Ford Aerostar regular length cargo van w/side windows ('86-'94) %\n",
    "Ford Aerostar regular length passenger van 4WD ('90-'94) %\n",
    "Ford Aerostar regular length cargo van 4WD ('90-'94) %\n",
    "Ford Aerostar regular length cargo van w/side windows 4WD ('90-'94) %\n",
    "Ford Aerostar extended length passenger van ('89-'97) %\n",
    "Ford Aerostar extended length cargo van ('89-'94) %\n",
    "Ford Aerostar extended length cargo van w/side windows ('89-'94) %\n",
    "Ford Aerostar extended length passenger van 4WD ('90-'97) %\n",
    "Ford Aerostar extended length cargo van 4WD ('90-'94) %\n",
    "Ford Aerostar extended length cargo van w/side windows 4WD ('90-'94) %\n",
    "</p>\n",
    "</td></tr>\n",
    "<tr>\n",
    "<td>A51%A50%A51%A52%A53%A54%A57%A58\n",
    "</td>\n",
    "<td>\n",
    "<p><a href=\"https://en.wikipedia.org/wiki/Ford_Windstar\" class=\"extiw\" title=\"w:Ford Windstar\">Ford Windstar</a> passenger van ('95-'98) %\n",
    "Ford Windstar Base model ('00), LX 3-door ('01), LX Base ('02), Base model ('03) %\n",
    "Ford Windstar LX ('99-'00), LX 4-door ('01), LX Standard, LX Deluxe ('02-'03) %\n",
    "Ford Windstar SE ('99-'03) %\n",
    "Ford Windstar SEL ('99-'03), Limited ('00) %\n",
    "Ford Windstar cargo van ('95-'03) %\n",
    "Ford Windstar SE Sport ('01) %\n",
    "Ford Windstar Limited ('01-'03)\n",
    "</p>\n",
    "</td></tr>\n",
    "<tr>\n",
    "<td>A50%A51%A52%A54%A57%A58\n",
    "</td>\n",
    "<td>\n",
    "<p><a href=\"https://en.wikipedia.org/wiki/Ford_Freestar\" class=\"extiw\" title=\"w:Ford Freestar\">Ford Freestar</a> S ('04-'05) %\n",
    "Ford Freestar SE ('04-'07) %\n",
    "Ford Freestar SEL ('04-'07) %\n",
    "Ford Freestar cargo van ('04-'07) %\n",
    "Ford Freestar SES ('04-'05) %\n",
    "Ford Freestar Limited ('04-'07)\n",
    "</p>\n",
    "</td></tr>\n",
    "<tr>\n",
    "<td>A20%A21%A22%A23\n",
    "</td>\n",
    "<td>\n",
    "<p><a href=\"https://en.wikipedia.org/wiki/Ford_Windstar#Mercury_Monterey\" class=\"extiw\" title=\"w:Ford Windstar\">Mercury Monterey</a> ('04) %\n",
    "Mercury Monterey; Convenience ('05) %\n",
    "Mercury Monterey; Luxury ('05-'07) %\n",
    "Mercury Monterey; Premier ('05) %\n",
    "</p>\n",
    "</td></tr>\n",
    "<tr>\n",
    "<td>C35%C45%C55\n",
    "</td>\n",
    "<td>\n",
    "<p><a href=\"https://en.wikipedia.org/wiki/Ford_E-Series\" class=\"extiw\" title=\"w:Ford E-Series\">Ford E-350</a> <i>Chassis Cab</i> ('03-'04) %\n",
    "Ford E-450 <i>Chassis Cab</i> ('03-'04) %\n",
    "Ford E-550 <i>Chassis Cab</i> ('03)\n",
    "</p>\n",
    "</td></tr>\n",
    "<tr>\n",
    "<td>E01%E04%E05%E06%E11%E14%E15%E16%E21%E24%E25%E25%E26%E30%E33%E34%E35%E36%E37%E38%E39\n",
    "</td>\n",
    "<td>\n",
    "<p><a href=\"https://en.wikipedia.org/wiki/Ford_E-Series#Third_generation_(1975–1991)\" class=\"extiw\" title=\"w:Ford E-Series\">Ford Econoline</a>, Club Wagon E-100 regular length ('81-'82) %\n",
    "Ford Econoline, E-100 Cargo Van regular length ('81-'83) %\n",
    "Ford Econoline, E-100 Window Van regular length ('81-'83) %\n",
    "Ford Econoline, E-100 Display Van regular length ('81-'83) %\n",
    "Ford Econoline, Club Wagon E-150 regular length ('81-'91) %\n",
    "Ford Econoline, E-150 Cargo Van regular length ('81-'91) %\n",
    "Ford Econoline, E-150 Window Van regular length ('81-'87) %\n",
    "Ford Econoline, E-150 Display Van regular length ('81-'85) %\n",
    "Ford Econoline, Club Wagon E-250 regular length ('81-'91) %\n",
    "Ford Econoline, E-250 Cargo Van regular length ('81-'91) %\n",
    "Ford Econoline, E-250 Window Van regular length ('81-'87) %\n",
    "Ford Econoline, E-250HD Cargo Van regular length ('91) %\n",
    "Ford Econoline, E-250 Display Van regular length ('81-'85) %\n",
    "Ford Econoline, E-350 RV cutaway ('81-'91) %\n",
    "Ford Econoline, E-350 RV stripped chassis ('85-'91) %\n",
    "Ford Econoline, E-350 Cargo Van regular length ('81-'91) %\n",
    "Ford Econoline, E-350 Window Van regular length ('81-'87) %\n",
    "Ford Econoline, E-350 Display Van regular length ('81-'85) %\n",
    "Ford Econoline, E-350 Commercial cutaway ('81-'91) %\n",
    "Ford Econoline, E-350 Cutaway w/Parcel Delivery Van ('81-'84) %\n",
    "Ford Econoline, E-350 Commercial stripped chassis ('81-'91) %\n",
    "</p>\n",
    "</td></tr>\n",
    "<tr>\n",
    "<td>E11%E14%E24%E25%E27%E29%E30%E31%E33%E34%E35%E37%E39%E40%E45%E47%E49%E55%E1B%E1E%E2E%E2F%E3B%E3E%E3F%E3K%E4F%E4K\n",
    "</td>\n",
    "<td>\n",
    "<p><a href=\"https://en.wikipedia.org/wiki/Ford_E-Series#Fourth_generation_(1992–present)\" class=\"extiw\" title=\"w:Ford E-Series\">Ford E-Series</a>, E-150 wagon regular length ('92-'09) %\n",
    "Ford E-Series, E-150 van regular length ('92-'09) %\n",
    "Ford E-Series, E-250 van regular length ('92-'09) %\n",
    "Ford E-Series, E-250 Super Duty cutaway ('07-'09) %\n",
    "Ford E-Series, E-250 (Super Duty) Commercial cutaway ('94-'99) %\n",
    "Ford E-Series, E-250 (Super Duty) Commercial stripped chassis ('94-'03) %\n",
    "Ford E-Series, E-350 (Super Duty) RV cutaway ('92-'99) %\n",
    "Ford E-Series, E-350 (Super Duty) wagon regular length ('92-'09) %\n",
    "Ford E-Series, E-350 (Super Duty) RV stripped chassis ('92-'93) %\n",
    "Ford E-Series, E-350 (Super Duty) van regular length ('92-'09) %\n",
    "Ford E-Series, E-350 Super Duty cutaway ('00-'09) %\n",
    "Ford E-Series, E-350 (Super Duty) Commercial cutaway ('92-'99) %\n",
    "Ford E-Series, E-350 (Super Duty) Commercial stripped chassis ('92-'09) %\n",
    "Ford E-Series, E-Super Duty RV cutaway ('96-'98), E-450 Super Duty RV cutaway ('99) %\n",
    "Ford E-Series, E-450 Super Duty cutaway ('00-'09) %\n",
    "Ford E-Series, E-Super Duty Commercial cutaway ('96-'98), E-450 Super Duty Commercial cutaway ('99) %\n",
    "Ford E-Series, E-450 Super Duty stripped chassis ('00-'09) %\n",
    "Ford E-Series, E-550 Super Duty cutaway ('02-'03) %\n",
    "Ford E-Series, E-150 wagon regular length ('10-'14) %\n",
    "Ford E-Series, E-150 van regular length ('10-'14) %\n",
    "Ford E-Series, E-250 van regular length ('10-'14) %\n",
    "Ford E-Series, E-250 Super Duty cutaway ('10-'12) %\n",
    "Ford E-Series, E-350 Super Duty wagon regular length ('10-'14) %\n",
    "Ford E-Series, E-350 Super Duty van regular length ('10-'14) %\n",
    "Ford E-Series, E-350 Super Duty cutaway ('10-) %\n",
    "Ford E-Series, E-350 Super Duty stripped chassis ('10-) %\n",
    "Ford E-Series, E-450 Super Duty cutaway ('10-) %\n",
    "Ford E-Series, E-450 Super Duty stripped chassis ('10-)\n",
    "</p>\n",
    "</td></tr>\n",
    "<tr>\n",
    "<td>E1Y%E1Z%E2Y%E9Z%E1C%E1D%E2C%E2D%E1Y%E2Y%E1Z%E9Z%E1C%E2C%E1D%E2D\n",
    "</td>\n",
    "<td>\n",
    "<p><a href=\"https://en.wikipedia.org/wiki/Ford_Transit#Fourth_generation_(2014)\" class=\"extiw\" title=\"w:Ford Transit\">Ford Transit</a> 150, Cargo Van, Low Roof, Sliding Passenger-Side Cargo Door, Regular (130 in.) wheelbase ('15-'19) %\n",
    "Ford Transit 150, Cargo Van, Low Roof, 60/40 Passenger-Side Cargo Doors, Regular (130 in.) wheelbase ('15-'19) %\n",
    "Ford Transit 150, Cargo Van, Low Roof, Sliding Passenger-Side Cargo Door, Long (148 in.) wheelbase ('15-'19) %\n",
    "Ford Transit 150, Cargo Van, Low Roof, 60/40 Passenger-Side Cargo Doors, Long (148 in.) wheelbase ('15-'19) %\n",
    "Ford Transit 150, Cargo Van, Medium Roof, Sliding Passenger-Side Cargo Door, Regular (130 in.) wheelbase ('15-'19) %\n",
    "Ford Transit 150, Cargo Van, Medium Roof, Dual Sliding Side Cargo-Doors, Regular (130 in.) wheelbase ('16-'19) %\n",
    "Ford Transit 150, Cargo Van, Medium Roof, Sliding Passenger-Side Cargo Door, Long (148 in.) wheelbase ('15-'19) %\n",
    "Ford Transit 150, Cargo Van, Medium Roof, Dual Sliding Side Cargo-Doors, Long (148 in.) wheelbase ('16-'19) %\n",
    "Ford Transit 150, Cargo Van, Low Roof, RWD ('20-) %\n",
    "Ford Transit 150, Cargo Van, Low Roof, AWD ('20-) %\n",
    "Ford Transit 150, Crew Van, Low Roof, RWD ('20-'23) %\n",
    "Ford Transit 150, Crew Van, Low Roof, AWD ('20-'23) %\n",
    "Ford Transit 150, Cargo Van, Medium Roof, RWD ('20-) %\n",
    "Ford Transit 150, Cargo Van, Medium Roof, AWD ('20-) %\n",
    "Ford Transit 150, Crew Van, Medium Roof, RWD ('20-'23) %\n",
    "Ford Transit 150, Crew Van, Medium Roof, AWD ('20-'23) %\n",
    "</p>\n",
    "</td></tr>\n",
    "<tr>\n",
    "<td>E5A%E5B%E5C%E5D%E5E%E5F%E5J%E4C%E4D%E4E%E4G%E0R%E1A%E1B%E2A%E2B%E4H%E7A%E7B%E8B%E9A% E9B%\n",
    "</td>\n",
    "<td>\n",
    "<p><a href=\"https://en.wikipedia.org/wiki/Ford_Bronco\" class=\"extiw\" title=\"w:Ford Bronco\">Ford Bronco</a>; 2-door; 4x4; Base model, Big Bend, Black Diamond, Outer Banks ('21-'23) %\n",
    "Ford Bronco; 4-door; 4x4; Base model, Big Bend, Black Diamond, Outer Banks ('21-'23) %\n",
    "Ford Bronco; 2-door; Advanced 4x4; Base model, Big Bend, Black Diamond, Outer Banks, Badlands, Wildtrak ('21-'23) %\n",
    "Ford Bronco; 4-door; Advanced 4x4; Base model, Big Bend, Black Diamond, Outer Banks, Badlands, Wildtrak ('21-'23), Everglades ('22-'23) %\n",
    "Ford Bronco; 4-door; Advanced 4x4; First Edition ('21) %\n",
    "Ford Bronco; 2-door; Advanced 4x4; First Edition ('21) %\n",
    "Ford Bronco; 4-door; Advanced 4x4; Raptor ('22-'23) %\n",
    "Ford Bronco; 2-door; Heritage Edition ('23-) %\n",
    "Ford Bronco; 4-door; Heritage Edition ('23-) %\n",
    "Ford Bronco; 2-door; Heritage Limited Edition ('23-) %\n",
    "Ford Bronco; 4-door; Heritage Limited Edition ('23-) %\n",
    "Ford Bronco; 4-door; Raptor ('24-) %\n",
    "Ford Bronco; 2-door; Black Diamond ('24-) %\n",
    "Ford Bronco; 4-door; Black Diamond ('24-) %\n",
    "Ford Bronco; 2-door; Wildtrak ('24-) %\n",
    "Ford Bronco; 4-door; Wildtrak ('24-) %\n",
    "Ford Bronco; 4-door; Everglades ('24-) %\n",
    "Ford Bronco; 2-door; Big Bend ('24-) %\n",
    "Ford Bronco; 4-door; Big Bend ('24-) %\n",
    "Ford Bronco; 4-door; Outer Banks ('24-) %\n",
    "Ford Bronco; 2-door; Badlands ('24-) %\n",
    "Ford Bronco; 4-door; Badlands ('24-) %\n",
    "</p>\n",
    "</td></tr>\n",
    "<tr>\n",
    "<td>E6E%E6F%E6S%E6T%E7E%E7F%E7S%E7T%E8F%E8G%E9E%E9F%E9G\n",
    "</td>\n",
    "<td>\n",
    "<p><a href=\"https://en.wikipedia.org/wiki/Ford_Transit_Connect#Second_generation_(2012)\" class=\"extiw\" title=\"w:Ford Transit Connect\">Ford Transit Connect</a>; XL Cargo Van SWB w/Rear Liftgate ('14-'21) %\n",
    "Ford Transit Connect; XLT Cargo Van SWB w/Rear Liftgate ('14-'21) %\n",
    "Ford Transit Connect; XL Cargo Van SWB w/Rear Liftgate ('22-'23) %\n",
    "Ford Transit Connect; XLT Cargo Van SWB w/Rear Liftgate ('22-'23) %\n",
    "Ford Transit Connect; XL Cargo Van LWB w/Rear Liftgate ('14-'21) %\n",
    "Ford Transit Connect; XLT Cargo Van LWB w/Rear Liftgate ('14-'21) %\n",
    "Ford Transit Connect; XL Cargo Van LWB w/Rear Liftgate ('22-'23) %\n",
    "Ford Transit Connect; XLT Cargo Van LWB w/Rear Liftgate ('22-'23) %\n",
    "Ford Transit Connect; XLT Wagon SWB w/Rear Liftgate ('14-'18) %\n",
    "Ford Transit Connect; Titanium Wagon SWB w/Rear Liftgate ('17-'18) %\n",
    "Ford Transit Connect; XL Wagon LWB w/Rear Liftgate ('14-'23) %\n",
    "Ford Transit Connect; XLT Wagon LWB w/Rear Liftgate ('14-'23) %\n",
    "Ford Transit Connect; Titanium Wagon LWB w/Rear Liftgate ('14-'23) %\n",
    "</p>\n",
    "</td></tr>\n",
    "<tr>\n",
    "<td>F10%F14%F15%F25%F26%F27%F28%F35%F36%F37%F38%F47\n",
    "</td>\n",
    "<td>\n",
    "<p><a href=\"https://en.wikipedia.org/wiki/Ford_F-Series\" class=\"extiw\" title=\"w:Ford F-Series\">Ford F-Series</a>, F-100, Regular Cab, <a href=\"https://en.wikipedia.org/wiki/2WD\" class=\"extiw\" title=\"w:2WD\">2WD</a> ('81-'83) %\n",
    "Ford F-Series, F-150, Regular Cab, <a href=\"https://en.wikipedia.org/wiki/4WD\" class=\"extiw\" title=\"w:4WD\">4WD</a> ('81-'96) %\n",
    "Ford F-Series, F-150, Regular Cab, 2WD ('81-'96) %\n",
    "Ford F-Series, F-250, Regular Cab, 2WD ('81-'97) %\n",
    "Ford F-Series, F-250, Regular Cab, 4WD ('81-'97) %\n",
    "Ford F-Series, F-250, Regular Cab, 2WD, Chassis Cab ('81-'85) %\n",
    "Ford F-Series, F-250, Regular Cab, 4WD, Chassis Cab ('81-'84) %\n",
    "Ford F-Series, F-350, Regular Cab, 2WD ('81-'97) %\n",
    "Ford F-Series, F-350, Regular Cab, 4WD ('81-'97) %\n",
    "Ford F-Series, F-350, Regular Cab, 2WD, Chassis Cab ('81-'97) %\n",
    "Ford F-Series, F-350, Regular Cab, 4WD, Chassis Cab ('81-'97) %\n",
    "Ford F-Series, F-Super Duty, Regular Cab, 2WD, Chassis Cab ('88-'97)\n",
    "</p>\n",
    "</td></tr>\n",
    "<tr>\n",
    "<td>F07%F08%F17%F18%F07%F08%F17%F18%F27%F28\n",
    "</td>\n",
    "<td>\n",
    "<p><a href=\"https://en.wikipedia.org/wiki/Ford_F-Series_(tenth_generation)\" class=\"extiw\" title=\"w:Ford F-Series (tenth generation)\">Ford F-Series</a>, F-150, Regular Cab, Flareside, <a href=\"https://en.wikipedia.org/wiki/2WD\" class=\"extiw\" title=\"w:2WD\">2WD</a> ('97-'03) %\n",
    "Ford F-Series, F-150, Regular Cab, Flareside, <a href=\"https://en.wikipedia.org/wiki/4WD\" class=\"extiw\" title=\"w:4WD\">4WD</a> ('97-'03) %\n",
    "Ford F-Series, F-150, Regular Cab, Styleside, 2WD ('97-'03) %\n",
    "Ford F-Series, F-150, Regular Cab, Styleside, 4WD ('97-'03) %\n",
    "Ford F-Series, F-150 Heritage, Regular Cab, Flareside, 2WD ('04) %\n",
    "Ford F-Series, F-150 Heritage, Regular Cab, Flareside, 4WD ('04) %\n",
    "Ford F-Series, F-150 Heritage, Regular Cab, Styleside, 2WD ('04) %\n",
    "Ford F-Series, F-150 Heritage, Regular Cab, Styleside, 4WD ('04) %\n",
    "Ford F-Series, F-250, Regular Cab, Styleside, 2WD ('97-'99) %\n",
    "Ford F-Series, F-250, Regular Cab, Styleside, 4WD ('97-'99)\n",
    "</p>\n",
    "</td></tr>\n",
    "<tr>\n",
    "<td>F02%F04%F12%F14\n",
    "</td>\n",
    "<td>\n",
    "<p><a href=\"https://en.wikipedia.org/wiki/Ford_F-Series\" class=\"extiw\" title=\"w:Ford F-Series\">Ford F-Series</a>, F-150, Regular Cab, Flareside, <a href=\"https://en.wikipedia.org/wiki/2WD\" class=\"extiw\" title=\"w:2WD\">2WD</a> ('04-'09) %\n",
    "Ford F-Series, F-150, Regular Cab, Flareside, <a href=\"https://en.wikipedia.org/wiki/4WD\" class=\"extiw\" title=\"w:4WD\">4WD</a> ('04-'09) %\n",
    "Ford F-Series, F-150, Regular Cab, Styleside, 2WD ('04-'09) %\n",
    "Ford F-Series, F-150, Regular Cab, Styleside, 4WD ('04-'09)\n",
    "</p>\n",
    "</td></tr>\n",
    "<tr>\n",
    "<td>F1C%F1E\n",
    "</td>\n",
    "<td>\n",
    "<p><a href=\"https://en.wikipedia.org/wiki/Ford_F-Series\" class=\"extiw\" title=\"w:Ford F-Series\">Ford F-Series</a>, F-150, Regular Cab, Styleside, 2WD ('10-'23) %\n",
    "Ford F-Series, F-150, Regular Cab, Styleside, 4WD ('10-'23)\n",
    "</p>\n",
    "</td></tr>\n",
    "<tr>\n",
    "<td>F1K%F1L\n",
    "</td>\n",
    "<td>\n",
    "<p><a href=\"https://en.wikipedia.org/wiki/Ford_F-Series_(fourteenth_generation)\" class=\"extiw\" title=\"w:Ford F-Series (fourteenth generation)\">Ford F-Series</a>, F-150, Regular Cab, 2WD; XL ('24-) %\n",
    "Ford F-Series, F-150, Regular Cab, 4WD; XL ('24-)\n",
    "</p>\n",
    "</td></tr>\n",
    "<tr>\n",
    "<td>F20%F21%F30%F31%F32%F33%F34%F35%F36%F37%F46%F47%F56%F57\n",
    "</td>\n",
    "<td>\n",
    "<p><a href=\"https://en.wikipedia.org/wiki/Ford_Super_Duty\" class=\"extiw\" title=\"w:Ford Super Duty\">Ford F-Series, Super Duty</a> F-250, Regular Cab, 2WD ('99-'09) %\n",
    "Ford F-Series, Super Duty F-250, Regular Cab, 4WD ('99-'09) %\n",
    "Ford F-Series, Super Duty F-350, Regular Cab, 2WD, Single Rear Wheels ('99-'09) %\n",
    "Ford F-Series, Super Duty F-350, Regular Cab, 4WD, Single Rear Wheels ('99-'09) %\n",
    "Ford F-Series, Super Duty F-350, Regular Cab, 2WD, Dual Rear Wheels ('99-'09) %\n",
    "Ford F-Series, Super Duty F-350, Regular Cab, 4WD, Dual Rear Wheels ('99-'09) %\n",
    "Ford F-Series, Super Duty F-350, Regular Cab, 2WD, Chassis Cab, Single Rear Wheels ('99-'09) %\n",
    "Ford F-Series, Super Duty F-350, Regular Cab, 4WD, Chassis Cab, Single Rear Wheels ('99-'09) %\n",
    "Ford F-Series, Super Duty F-350, Regular Cab, 2WD, Chassis Cab, Dual Rear Wheels ('99-'09) %\n",
    "Ford F-Series, Super Duty F-350, Regular Cab, 4WD, Chassis Cab, Dual Rear Wheels ('99-'09) %\n",
    "Ford F-Series, Super Duty F-450, Regular Cab, 2WD, Chassis Cab, Dual Rear Wheels ('99-'09) %\n",
    "Ford F-Series, Super Duty F-450, Regular Cab, 4WD, Chassis Cab, Dual Rear Wheels ('99-'09) %\n",
    "Ford F-Series, Super Duty F-550, Regular Cab, 2WD, Chassis Cab, Dual Rear Wheels ('99-'09) %\n",
    "Ford F-Series, Super Duty F-550, Regular Cab, 4WD, Chassis Cab, Dual Rear Wheels ('99-'09) %\n",
    "</p>\n",
    "</td></tr>\n",
    "<tr>\n",
    "<td>F2A%F2B%F3A%F3B%F3C%F3D%F3E%F3F%F3G%F3H%F4C%F4D%F4G%F4H%F5G%F5H%F6K%F6L\n",
    "</td>\n",
    "<td>\n",
    "<p><a href=\"https://en.wikipedia.org/wiki/Ford_Super_Duty\" class=\"extiw\" title=\"w:Ford Super Duty\">Ford F-Series, Super Duty</a> F-250, Regular Cab, 2WD ('10-) %\n",
    "Ford F-Series, Super Duty F-250, Regular Cab, 4WD ('10-) %\n",
    "Ford F-Series, Super Duty F-350, Regular Cab, 2WD, Single Rear Wheels ('10-) %\n",
    "Ford F-Series, Super Duty F-350, Regular Cab, 4WD, Single Rear Wheels ('10-) %\n",
    "Ford F-Series, Super Duty F-350, Regular Cab, 2WD, Dual Rear Wheels ('10-) %\n",
    "Ford F-Series, Super Duty F-350, Regular Cab, 4WD, Dual Rear Wheels ('10-) %\n",
    "Ford F-Series, Super Duty F-350, Regular Cab, 2WD, Chassis Cab, Single Rear Wheels ('10-) %\n",
    "Ford F-Series, Super Duty F-350, Regular Cab, 4WD, Chassis Cab, Single Rear Wheels ('10-) %\n",
    "Ford F-Series, Super Duty F-350, Regular Cab, 2WD, Chassis Cab, Dual Rear Wheels ('10-) %\n",
    "Ford F-Series, Super Duty F-350, Regular Cab, 4WD, Chassis Cab, Dual Rear Wheels ('10-) %\n",
    "Ford F-Series, Super Duty F-450, Regular Cab, 2WD, Dual Rear Wheels ('19-) %\n",
    "Ford F-Series, Super Duty F-450, Regular Cab, 4WD, Dual Rear Wheels ('19-) %\n",
    "Ford F-Series, Super Duty F-450, Regular Cab, 2WD, Chassis Cab, Dual Rear Wheels ('10-) %\n",
    "Ford F-Series, Super Duty F-450, Regular Cab, 4WD, Chassis Cab, Dual Rear Wheels ('10-) %\n",
    "Ford F-Series, Super Duty F-550, Regular Cab, 2WD, Chassis Cab, Dual Rear Wheels ('10-) %\n",
    "Ford F-Series, Super Duty F-550, Regular Cab, 4WD, Chassis Cab, Dual Rear Wheels ('10-) %\n",
    "Ford F-Series, Super Duty F-600, Regular Cab, 2WD, Chassis Cab, Dual Rear Wheels ('20-) %\n",
    "Ford F-Series, Super Duty F-600, Regular Cab, 4WD, Chassis Cab, Dual Rear Wheels ('20-)\n",
    "</p>\n",
    "</td></tr>\n",
    "<tr>\n",
    "<td>F4X%F4U%F6P%F6Z%F8P%F8Z%F9P%F9Z%F1Y%F2Y%F1P%F1Z%F2P%F2Z%F7C%F8C%F5X%F6X%F7X%F8X%F4X%F4U%F4V%F4W%F6P%F6Z%F8P%F8Z\n",
    "</td>\n",
    "<td>\n",
    "<p><a href=\"https://en.wikipedia.org/wiki/Ford_Transit#Fourth_generation_(2014)\" class=\"extiw\" title=\"w:Ford Transit\">Ford Transit</a> 350 HD, Dual Rear Wheels, Cargo Van, High Roof, Sliding Passenger-Side Cargo Door, Long (148 in.) wheelbase Extended Length ('15-'19) %\n",
    "Ford Transit 350 HD, Dual Rear Wheels, Cargo Van, High Roof, Dual Sliding Side Cargo Doors, Long (148 in.) wheelbase Extended Length ('16-'19) %\n",
    "Ford Transit 350 HD, Dual Rear Wheels, Cutaway, Low Roof, 138 in. wheelbase, 9,950 lb. GVWR ('15-'19) %\n",
    "Ford Transit 350 HD, Dual Rear Wheels, Chassis Cab, Low Roof, 138 in. wheelbase, 9,950 lb. GVWR ('15-'19) %\n",
    "Ford Transit 350 HD, Dual Rear Wheels, Cutaway, Low Roof, 156 in. wheelbase, 9,950 lb. GVWR ('15-'19) %\n",
    "Ford Transit 350 HD, Dual Rear Wheels, Chassis Cab, Low Roof, 156 in. wheelbase, 9,950 lb. GVWR ('15-'19) %\n",
    "Ford Transit 350 HD, Dual Rear Wheels, Cutaway, Low Roof, 178 in. wheelbase, 9,950 lb. GVWR ('15-'19) %\n",
    "Ford Transit 350 HD, Dual Rear Wheels, Chassis Cab, Low Roof, 178 in. wheelbase, 9,950 lb. GVWR ('15-'19) %\n",
    "Ford Transit 350 HD, Single Rear Wheels, Cargo Van, Low Roof, Long (148 in.) wheelbase, RWD ('23-) %\n",
    "Ford Transit 350 HD, Single Rear Wheels, Cargo Van, Low Roof, Long (148 in.) wheelbase, AWD ('23-) %\n",
    "Ford Transit 350 HD, Single Rear Wheels, Cutaway, Low Roof, RWD, 9,950 lb. GVWR ('23-) %\n",
    "Ford Transit 350 HD, Single Rear Wheels, Chassis Cab, Low Roof, RWD, 9,950 lb. GVWR ('23-) %\n",
    "Ford Transit 350 HD, Single Rear Wheels, Cutaway, Low Roof, AWD, 9,950 lb. GVWR ('23-) %\n",
    "Ford Transit 350 HD, Single Rear Wheels, Chassis Cab, Low Roof, AWD, 9,950 lb. GVWR ('23-) %\n",
    "Ford Transit 350 HD, Single Rear Wheels, Cargo Van, Medium Roof, Long (148 in.) wheelbase, RWD ('23-) %\n",
    "Ford Transit 350 HD, Single Rear Wheels, Cargo Van, Medium Roof, Long (148 in.) wheelbase, AWD ('23-) %\n",
    "Ford Transit 350 HD, Single Rear Wheels, Cargo Van, High Roof, Long (148 in.) wheelbase, RWD ('23-) %\n",
    "Ford Transit 350 HD, Single Rear Wheels, Cargo Van, High Roof, Long (148 in.) wheelbase, AWD ('23-) %\n",
    "Ford Transit 350 HD, Single Rear Wheels, Cargo Van, High Roof, Long (148 in.) wheelbase Extended Length, RWD ('23-) %\n",
    "Ford Transit 350 HD, Single Rear Wheels, Cargo Van, High Roof, Long (148 in.) wheelbase Extended Length, AWD ('23-) %\n",
    "Ford Transit 350 HD, Dual Rear Wheels, Cargo Van, High Roof, Long (148 in.) wheelbase Extended Length, RWD, 9,950 lb. GVWR ('20-) %\n",
    "Ford Transit 350 HD, Dual Rear Wheels, Cargo Van, High Roof, Long (148 in.) wheelbase Extended Length, AWD, 9,950 lb. GVWR ('20-) %\n",
    "Ford Transit 350 HD, Dual Rear Wheels, Crew Van, High Roof, Long (148 in.) wheelbase Extended Length, RWD, 9,950 lb. GVWR ('20-'23) %\n",
    "Ford Transit 350 HD, Dual Rear Wheels, Crew Van, High Roof, Long (148 in.) wheelbase Extended Length, AWD, 9,950 lb. GVWR ('20-'23) %\n",
    "Ford Transit 350 HD, Dual Rear Wheels, Cutaway, Low Roof, RWD, 9,950 lb. GVWR ('20-) %\n",
    "Ford Transit 350 HD, Dual Rear Wheels, Chassis Cab, Low Roof, RWD, 9,950 lb. GVWR ('20-) %\n",
    "Ford Transit 350 HD, Dual Rear Wheels, Cutaway, Low Roof, AWD, 9,950 lb. GVWR ('20-) %\n",
    "Ford Transit 350 HD, Dual Rear Wheels, Chassis Cab, Low Roof, AWD, 9,950 lb. GVWR ('20-) %\n",
    "</p>\n",
    "</td></tr>\n",
    "<tr>\n",
    "<td>J1A%J1B%J2A%J2B%J1C%J1D%J2C%J2D%J3C%J3D%J4C%J4D\n",
    "</td>\n",
    "<td>\n",
    "<p><a href=\"https://en.wikipedia.org/wiki/Lincoln_MKC\" class=\"extiw\" title=\"w:Lincoln MKC\">Lincoln MKC</a>; FWD ('15) %\n",
    "Lincoln MKC Black Label; AWD ('15) %\n",
    "Lincoln MKC; AWD ('15) %\n",
    "Lincoln MKC Black Label; FWD ('15) %\n",
    "Lincoln MKC; Premiere FWD ('16-'18), Base model FWD ('19) %\n",
    "Lincoln MKC; Premiere AWD ('16-'18), Base model AWD ('19) %\n",
    "Lincoln MKC; Select FWD ('16-'19) %\n",
    "Lincoln MKC; Select AWD ('16-'19) %\n",
    "Lincoln MKC; Reserve FWD ('16-'19) %\n",
    "Lincoln MKC; Reserve AWD ('16-'19) %\n",
    "Lincoln MKC Black Label; FWD ('16-'19) %\n",
    "Lincoln MKC Black Label; AWD ('16-'19)\n",
    "</p>\n",
    "</td></tr>\n",
    "<tr>\n",
    "<td>J1C%J1D%J2C%J2D%J5D\n",
    "</td>\n",
    "<td>\n",
    "<p><a href=\"https://en.wikipedia.org/wiki/Lincoln_Corsair\" class=\"extiw\" title=\"w:Lincoln Corsair\">Lincoln Corsair</a>; Base model FWD ('20-) %\n",
    "Lincoln Corsair; Base model AWD ('20-) %\n",
    "Lincoln Corsair; Reserve FWD ('20-) %\n",
    "Lincoln Corsair; Reserve AWD ('20-) %\n",
    "Lincoln Corsair; Grand Touring AWD ('21-) %\n",
    "</p>\n",
    "</td></tr>\n",
    "<tr>\n",
    "<td>J2H%J2J%J3H%J3J%J2H%J2J%J2K%J2L%J3H%J3J%J3K%J3L\n",
    "</td>\n",
    "<td>\n",
    "<p><a href=\"https://en.wikipedia.org/wiki/Lincoln_Navigator#Third_generation_(2007–2017)\" class=\"extiw\" title=\"w:Lincoln Navigator\">Lincoln Navigator</a>; 4x2 ('10-'15)  %\n",
    "Lincoln Navigator; 4x4 ('10-'15) %\n",
    "Lincoln Navigator L; 4x2 ('10-'15)  %\n",
    "Lincoln Navigator L; 4x4 ('10-'15) %\n",
    "Lincoln Navigator; Select 4x2 ('16-'17)  %\n",
    "Lincoln Navigator; Select 4x4 ('16-'17) %\n",
    "Lincoln Navigator; Reserve 4x2 ('16-'17)  %\n",
    "Lincoln Navigator; Reserve 4x4 ('16-'17) %\n",
    "Lincoln Navigator L; Select 4x2 ('16-'17)  %\n",
    "Lincoln Navigator L; Select 4x4 ('16-'17) %\n",
    "Lincoln Navigator L; Reserve 4x2 ('16-'17)  %\n",
    "Lincoln Navigator L; Reserve 4x4 ('16-'17)\n",
    "</p>\n",
    "</td></tr>\n",
    "<tr>\n",
    "<td>J2H%J2J%J2K%J2L%J2M%J2N%J2T%J3H%J3J%J3K%J3L%J3M%J3N%J3T\n",
    "</td>\n",
    "<td>\n",
    "<p><a href=\"https://en.wikipedia.org/wiki/Lincoln_Navigator#Fourth_generation_(2018–present)\" class=\"extiw\" title=\"w:Lincoln Navigator\">Lincoln Navigator</a>; Select 4x2 ('18-'19)  %\n",
    "Lincoln Navigator; Select 4x4 ('18-'19) %\n",
    "Lincoln Navigator; Reserve 4x2 ('20-'23) %\n",
    "Lincoln Navigator; Reserve 4x4 ('18-) %\n",
    "Lincoln Navigator; Premiere 4x2 ('18), Base model 4x2 ('19-'23) %\n",
    "Lincoln Navigator; Premiere 4x4 ('18), Base model 4x4 ('19-) %\n",
    "Lincoln Navigator; Black Label 4x4 ('18-) %\n",
    "Lincoln Navigator L; Select 4x2 ('18-'19)  %\n",
    "Lincoln Navigator L; Select 4x4 ('18-'19) %\n",
    "Lincoln Navigator L; Reserve 4x2 ('20-'23) %\n",
    "Lincoln Navigator L; Reserve 4x4 ('18-) %\n",
    "Lincoln Navigator L; Base model 4x2 ('20-'23) %\n",
    "Lincoln Navigator L; Base model 4x4 ('20-) %\n",
    "Lincoln Navigator L; Black Label 4x4 ('18-)\n",
    "</p>\n",
    "</td></tr>\n",
    "<tr>\n",
    "<td>J5A%J5F%J5L%J5M%J5N\n",
    "</td>\n",
    "<td>\n",
    "<p><a href=\"https://en.wikipedia.org/wiki/Lincoln_MKT\" class=\"extiw\" title=\"w:Lincoln MKT\">Lincoln MKT</a>; AWD ('10-'19) %\n",
    "Lincoln MKT; FWD ('10-'18) %\n",
    "Lincoln MKT Town Car; Hearse/Limo, AWD ('12-'19) %\n",
    "Lincoln MKT Town Car; Livery, FWD ('13-'17) %\n",
    "Lincoln MKT Town Car; Livery, AWD ('13-'19)\n",
    "</p>\n",
    "</td></tr>\n",
    "<tr>\n",
    "<td>J6J%J8J\n",
    "</td>\n",
    "<td>\n",
    "<p><a href=\"https://en.wikipedia.org/wiki/Lincoln_MKX#First_generation_(U388;_2007)\" class=\"extiw\" title=\"w:Lincoln MKX\">Lincoln MKX</a> FWD ('10-'15) %\n",
    "Lincoln MKX AWD ('10-'15)\n",
    "</p>\n",
    "</td></tr>\n",
    "<tr>\n",
    "<td>J6J%J8J%J6K%J8K%J6L%J8L%J7J%J9J\n",
    "</td>\n",
    "<td>\n",
    "<p><a href=\"https://en.wikipedia.org/wiki/Lincoln_MKX#Second_generation_(U540;_2016)\" class=\"extiw\" title=\"w:Lincoln MKX\">Lincoln MKX</a> Premiere FWD ('16-'18) %\n",
    "Lincoln MKX Premiere AWD ('16-'18) %\n",
    "Lincoln MKX Select FWD ('16-'18) %\n",
    "Lincoln MKX Select AWD ('16-'18) %\n",
    "Lincoln MKX Reserve FWD ('16-'18) %\n",
    "Lincoln MKX Reserve AWD ('16-'18) %\n",
    "Lincoln MKX Black Label FWD ('16-'18) %\n",
    "Lincoln MKX Black Label AWD ('16-'18)\n",
    "</p>\n",
    "</td></tr>\n",
    "<tr>\n",
    "<td>J6J%J8J%J6K%J8K%J6L%J8L%J7J%J9J\n",
    "</td>\n",
    "<td>\n",
    "<p><a href=\"https://en.wikipedia.org/wiki/Lincoln_Nautilus#First_generation_(U540;_2019)\" class=\"extiw\" title=\"w:Lincoln Nautilus\">Lincoln Nautilus</a> Base model FWD ('19-'23) %\n",
    "Lincoln Nautilus Base model AWD ('19-'23) %\n",
    "Lincoln Nautilus Select FWD ('19) %\n",
    "Lincoln Nautilus Select AWD ('19) %\n",
    "Lincoln Nautilus Reserve FWD ('19-'23) %\n",
    "Lincoln Nautilus Reserve AWD ('19-'23) %\n",
    "Lincoln Nautilus Black Label FWD ('19) %\n",
    "Lincoln Nautilus Black Label AWD ('19-'23)\n",
    "</p>\n",
    "</td></tr>\n",
    "<tr>\n",
    "<td>J6W%J6X%J7W%J7X%J8X%J9X%J9Y%J0W%J0X\n",
    "</td>\n",
    "<td>\n",
    "<p><a href=\"https://en.wikipedia.org/wiki/Lincoln_Aviator#Second_generation_(U611;_2020)\" class=\"extiw\" title=\"w:Lincoln Aviator\">Lincoln Aviator</a>; Base model, RWD ('20-) %\n",
    "Lincoln Aviator; Base model, AWD ('20-) %\n",
    "Lincoln Aviator; Reserve, RWD ('20-) %\n",
    "Lincoln Aviator; Reserve, AWD ('20-) %\n",
    "Lincoln Aviator; Grand Touring, AWD ('20-'23) %\n",
    "Lincoln Aviator; Black Label, AWD ('20-) %\n",
    "Lincoln Aviator; Black Label Grand Touring, AWD ('20-'23) %\n",
    "Lincoln Aviator; Livery, RWD ('21-) %\n",
    "Lincoln Aviator; Livery, AWD ('21-)\n",
    "</p>\n",
    "</td></tr>\n",
    "<tr>\n",
    "<td>K01%K02%K03%K04%K05%K06%K07%K08\n",
    "</td>\n",
    "<td>\n",
    "<p><a href=\"https://en.wikipedia.org/wiki/Ford_Freestyle\" class=\"extiw\" title=\"w:Ford Freestyle\">Ford Freestyle</a>; SE, <a href=\"https://en.wikipedia.org/wiki/Front-wheel_drive\" class=\"extiw\" title=\"w:Front-wheel drive\">FWD</a> ('05-'06) %\n",
    "Ford Freestyle ('05-'07)/<a href=\"https://en.wikipedia.org/wiki/Ford_Taurus_X\" class=\"extiw\" title=\"w:Ford Taurus X\">Ford Taurus X</a> ('08-'09); SEL, <a href=\"https://en.wikipedia.org/wiki/Front-wheel_drive\" class=\"extiw\" title=\"w:Front-wheel drive\">FWD</a>%\n",
    "Ford Freestyle ('05-'07)/Taurus X ('08-'09); Limited, FWD%\n",
    "Ford Freestyle; SE, <a href=\"https://en.wikipedia.org/wiki/All-wheel_drive\" class=\"extiw\" title=\"w:All-wheel drive\">AWD</a> ('05-'06) %\n",
    "Ford Freestyle ('05-'07)/Taurus X ('08-'09); SEL, <a href=\"https://en.wikipedia.org/wiki/All-wheel_drive\" class=\"extiw\" title=\"w:All-wheel drive\">AWD</a>%\n",
    "Ford Freestyle ('05-'07)/Taurus X ('08-'09); Limited, AWD%\n",
    "Ford Taurus X; <a href=\"https://en.wikipedia.org/wiki/Eddie_Bauer#1971–1987:_General_Mills_and_Ford_Eddie_Bauer_branding\" class=\"extiw\" title=\"w:Eddie Bauer\">Eddie Bauer</a>, FWD ('08-'09) %\n",
    "Ford Taurus X; Eddie Bauer, AWD ('08-'09)\n",
    "</p>\n",
    "</td></tr>\n",
    "<tr>\n",
    "<td>K15%K16%K17%K18%K19%K20%K1F%K1G%K1H%K1J%K1K%K1L%K1M%K2A\n",
    "</td>\n",
    "<td>\n",
    "<p><a href=\"https://en.wikipedia.org/wiki/Ford_Expedition#Expedition_EL/Max\" class=\"extiw\" title=\"w:Ford Expedition\">Ford Expedition EL</a>; 4x2, XLT ('07-'09) %\n",
    "Ford Expedition EL; 4x4, XLT ('07-'09) %\n",
    "Ford Expedition EL; 4x2, Eddie Bauer ('07-'09), King Ranch ('08-'09) %\n",
    "Ford Expedition EL; 4x4, Eddie Bauer ('07-'09), King Ranch ('08-'09) %\n",
    "Ford Expedition EL; 4x2, Limited ('07-'09) %\n",
    "Ford Expedition EL; 4x4, Limited ('07-'09) %\n",
    "Ford Expedition EL; 4x2, XLT ('10), XL ('11-'17) %\n",
    "Ford Expedition EL; 4x4, XLT ('10), XL ('11-'17) %\n",
    "Ford Expedition EL; 4x2, Eddie Bauer ('10), XLT ('11-'17), King Ranch ('10-'17) %\n",
    "Ford Expedition EL; 4x4, Eddie Bauer ('10), XLT ('11-'17), King Ranch ('10-'17) %\n",
    "Ford Expedition EL; 4x2, Limited ('10-'17) %\n",
    "Ford Expedition EL; 4x2, Platinum ('15-'17) %\n",
    "Ford Expedition EL; 4x4, Platinum ('15-'17) %\n",
    "Ford Expedition EL; 4x4, Limited ('10-'17) %\n",
    "</p>\n",
    "</td></tr>\n",
    "<tr>\n",
    "<td>K1F%K1G%K1H%K1J%K1K%K1L%K1M%K1N%K1P%K2A\n",
    "</td>\n",
    "<td>\n",
    "<p><a href=\"https://en.wikipedia.org/wiki/Ford_Expedition#Fourth_generation_(2018)\" class=\"extiw\" title=\"w:Ford Expedition\">Ford Expedition Max</a>; 4x2, XL ('18-) %\n",
    "Ford Expedition Max; 4x4, XL ('18-) %\n",
    "Ford Expedition Max; 4x2, XLT ('18-) %\n",
    "Ford Expedition Max; 4x4, XLT ('18-) %\n",
    "Ford Expedition Max; 4x2, Limited ('18-) %\n",
    "Ford Expedition Max; 4x2, Platinum ('18-) %\n",
    "Ford Expedition Max; 4x4, Platinum ('18-) %\n",
    "Ford Expedition Max; 4x2, King Ranch ('20-) %\n",
    "Ford Expedition Max; 4x4, King Ranch ('20-) %\n",
    "Ford Expedition Max; 4x4, Limited ('18-) %\n",
    "</p>\n",
    "</td></tr>\n",
    "<tr>\n",
    "<td>K1R%K1S%K2R%K2S%K3R%K3S%K4S\n",
    "</td>\n",
    "<td>\n",
    "<p><a href=\"https://en.wikipedia.org/wiki/Ford_Mustang_Mach-E\" class=\"extiw\" title=\"w:Ford Mustang Mach-E\">Ford Mustang Mach-E</a>; RWD, Select ('21-) %\n",
    "Ford Mustang Mach-E; AWD, Select ('21-) %\n",
    "Ford Mustang Mach-E; RWD, California Route 1 ('21-'22) %\n",
    "Ford Mustang Mach-E; AWD, California Route 1 ('22-'23) %\n",
    "Ford Mustang Mach-E; RWD, Premium ('21-) %\n",
    "Ford Mustang Mach-E; AWD, Premium ('21-), First Edition ('21) %\n",
    "Ford Mustang Mach-E; AWD, GT ('21-) %\n",
    "</p>\n",
    "</td></tr>\n",
    "<tr>\n",
    "<td>K1Y%K1Z%K1C%K1Y%K2Y%K1C%K2C\n",
    "</td>\n",
    "<td>\n",
    "<p><a href=\"https://en.wikipedia.org/wiki/Ford_Transit#Fourth_generation_(2014)\" class=\"extiw\" title=\"w:Ford Transit\">Ford Transit</a> 150, Passenger Van, Low Roof, Sliding Passenger-Side Cargo Door ('15-'19) %\n",
    "Ford Transit 150, Passenger Van, Low Roof, 60/40 Passenger-Side Cargo Doors ('15-'19) %\n",
    "Ford Transit 150, Passenger Van, Medium Roof, Sliding Passenger-Side Cargo Door ('15-'19) %\n",
    "Ford Transit 150, Passenger Van, Low Roof, Regular (130 in.) wheelbase, RWD ('20-'22) %\n",
    "Ford Transit 150, Passenger Van, Low Roof, Regular (130 in.) wheelbase, AWD ('20-'22) %\n",
    "Ford Transit 150, Passenger Van, Medium Roof, Regular (130 in.) wheelbase, RWD ('20-'22) %\n",
    "Ford Transit 150, Passenger Van, Medium Roof, Regular (130 in.) wheelbase, AWD ('20-'22) %\n",
    "</p>\n",
    "</td></tr>\n",
    "<tr>\n",
    "<td>K30%K36%K38%K39%K40%K46%K48%K49%K3A%K3G%K3J%K3K%K4A%K4G%K4J%K4K\n",
    "</td>\n",
    "<td>\n",
    "<p><a href=\"https://en.wikipedia.org/wiki/Ford_Edge\" class=\"extiw\" title=\"w:Ford Edge\">Ford Edge</a>; Sport <a href=\"https://en.wikipedia.org/wiki/Front-wheel_drive\" class=\"extiw\" title=\"w:Front-wheel drive\">FWD</a> ('09) %\n",
    "Ford Edge; SE FWD ('07-'09) %\n",
    "Ford Edge; SEL FWD ('07-'09) %\n",
    "Ford Edge; SEL Plus FWD ('07), Limited FWD ('08-'09) %\n",
    "Ford Edge; Sport <a href=\"https://en.wikipedia.org/wiki/All-wheel_drive\" class=\"extiw\" title=\"w:All-wheel drive\">AWD</a> ('09) %\n",
    "Ford Edge; SE AWD ('07-'09) %\n",
    "Ford Edge; SEL AWD ('07-'09) %\n",
    "Ford Edge; SEL Plus AWD ('07), Limited AWD ('08-'09) %\n",
    "Ford Edge; Sport FWD ('10-'15) %\n",
    "Ford Edge; SE FWD ('10-'21) %\n",
    "Ford Edge; SEL FWD ('10-'21), ST-Line FWD ('20-'21) %\n",
    "Ford Edge; Limited FWD ('10-'14), Titanium FWD ('15-'21) %\n",
    "Ford Edge; Sport AWD ('10-'18), ST AWD ('19-'24)  %\n",
    "Ford Edge; SE AWD ('10-'24) %\n",
    "Ford Edge; SEL AWD ('10-'24), ST-Line AWD ('20-'24) %\n",
    "Ford Edge; Limited AWD ('10-'14), Titanium AWD ('15-'24) %\n",
    "</p>\n",
    "</td></tr>\n",
    "<tr>\n",
    "<td>K51%K52%K53%K62%K63%K5B%K5C%K5D%K6C%K6D\n",
    "</td>\n",
    "<td>\n",
    "<p><a href=\"https://en.wikipedia.org/wiki/Ford_Flex\" class=\"extiw\" title=\"w:Ford Flex\">Ford Flex</a>; SE, <a href=\"https://en.wikipedia.org/wiki/Front-wheel_drive\" class=\"extiw\" title=\"w:Front-wheel drive\">FWD</a> ('09)%\n",
    "Ford Flex; SEL, FWD ('09) %\n",
    "Ford Flex; Limited, FWD ('09) %\n",
    "Ford Flex; SEL, <a href=\"https://en.wikipedia.org/wiki/All-wheel_drive\" class=\"extiw\" title=\"w:All-wheel drive\">AWD</a> ('09) %\n",
    "Ford Flex; Limited, AWD ('09) %\n",
    "Ford Flex; SE FWD ('10-'19) %\n",
    "Ford Flex; SEL FWD ('10-'19)%\n",
    "Ford Flex; Limited FWD ('10-'19), Titanium FWD ('11-'12) %\n",
    "Ford Flex; SEL AWD ('10-'19)%\n",
    "Ford Flex; Limited AWD ('10-'19), Titanium AWD ('11-'12) %\n",
    "</p>\n",
    "</td></tr>\n",
    "<tr>\n",
    "<td>K7A%K7B%K7D%K7F%K8A%K8B%K8D%K8F%K8G%K8H\n",
    "</td>\n",
    "<td>\n",
    "<p><a href=\"https://en.wikipedia.org/wiki/Ford_Explorer#Fifth_generation_(U502;_2011)\" class=\"extiw\" title=\"w:Ford Explorer\">Ford Explorer</a>; Police Interceptor Utility, FWD ('13) %\n",
    "Ford Explorer; Base model, FWD ('11-'19) %\n",
    "Ford Explorer; XLT, FWD ('11-'19) %\n",
    "Ford Explorer; Limited, FWD ('11-'19) %\n",
    "Ford Explorer; Police Interceptor Utility, AWD ('13-'19) %\n",
    "Ford Explorer; Base model, AWD ('11-'19) %\n",
    "Ford Explorer; XLT, AWD ('11-'19) %\n",
    "Ford Explorer; Limited, AWD ('11-'19) %\n",
    "Ford Explorer; Sport, AWD ('13-'19) %\n",
    "Ford Explorer; Platinum, AWD ('16-'19) %\n",
    "</p>\n",
    "</td></tr>\n",
    "<tr>\n",
    "<td>K7B%K7D%K7F%K7G%K7H%K7K%K7L%K8A%K8B%K8D%K8F%K8G%K8H%K8J%K8K%K8L\n",
    "</td>\n",
    "<td>\n",
    "<p><a href=\"https://en.wikipedia.org/wiki/Ford_Explorer#Sixth_generation_(U625;_2020)\" class=\"extiw\" title=\"w:Ford Explorer\">Ford Explorer</a>; Base model, RWD ('20-) %\n",
    "Ford Explorer; XLT, RWD ('20-) %\n",
    "Ford Explorer; Limited, RWD ('20-) %\n",
    "Ford Explorer; ST, RWD ('22-) %\n",
    "Ford Explorer; Platinum, RWD ('21-) %\n",
    "Ford Explorer; ST-Line, RWD ('22-) %\n",
    "Ford Explorer; King Ranch, RWD ('21-) %\n",
    "Ford Explorer; Police Interceptor Utility, AWD ('20-) %\n",
    "Ford Explorer; Base model, AWD ('20-) %\n",
    "Ford Explorer; XLT, AWD ('20-) %\n",
    "Ford Explorer; Limited, AWD ('20-) %\n",
    "Ford Explorer; ST, AWD ('20-) %\n",
    "Ford Explorer; Platinum, AWD ('20-) %\n",
    "Ford Explorer; Timberline, AWD ('21-) %\n",
    "Ford Explorer; ST-Line, AWD ('22-) %\n",
    "Ford Explorer; King Ranch, AWD ('21-) %\n",
    "</p>\n",
    "</td></tr>\n",
    "<tr>\n",
    "<td>L27%L28\n",
    "</td>\n",
    "<td>\n",
    "<p><a href=\"https://en.wikipedia.org/wiki/Lincoln_Navigator#Third_generation_(2007–2017)\" class=\"extiw\" title=\"w:Lincoln Navigator\">Lincoln Navigator L</a>; 4x2 ('07-'09)  %\n",
    "Lincoln Navigator L; 4x4 ('07-'09)\n",
    "</p>\n",
    "</td></tr>\n",
    "<tr>\n",
    "<td>L2G%L2J%L2L%L2M%L2N%L2P\n",
    "</td>\n",
    "<td>\n",
    "<p><a href=\"https://en.wikipedia.org/wiki/Lincoln_MKZ\" class=\"extiw\" title=\"w:Lincoln MKZ\">Lincoln MKZ</a> FWD ('10-'16) %\n",
    "Lincoln MKZ AWD ('10-'16) %\n",
    "Lincoln MKZ Hybrid ('11-'16) %\n",
    "<a href=\"https://en.wikipedia.org/wiki/Lincoln_MKZ#Second_generation_(2013–2020)\" class=\"extiw\" title=\"w:Lincoln MKZ\">Lincoln MKZ</a> Black Label FWD ('15-'16) %\n",
    "Lincoln MKZ Black Label AWD ('15-'16) %\n",
    "Lincoln MKZ Hybrid Black Label ('15-'16)\n",
    "</p>\n",
    "</td></tr>\n",
    "<tr>\n",
    "<td>L5A%L5B%L5C%L5D%L5E%L5F%L5G%L5H%L5K%L5L%L5M%L5N\n",
    "</td>\n",
    "<td>\n",
    "<p><a href=\"https://en.wikipedia.org/wiki/Lincoln_MKZ#Second_generation_(2013–2020)\" class=\"extiw\" title=\"w:Lincoln MKZ\">Lincoln MKZ</a>; Premiere/Standard FWD ('17-'18/'19-'20) %\n",
    "Lincoln MKZ; Premiere/Standard AWD ('17-'18/'19-'20) %\n",
    "Lincoln MKZ; Select/Reserve I FWD ('17-'18/'19) %\n",
    "Lincoln MKZ; Select/Reserve I AWD ('17-'18/'19) %\n",
    "Lincoln MKZ; Reserve/Reserve II/Reserve FWD ('17-'18/'19/'20) %\n",
    "Lincoln MKZ; Reserve/Reserve II/Reserve AWD ('17-'18/'19/'20) %\n",
    "Lincoln MKZ Black Label FWD ('17-'18) %\n",
    "Lincoln MKZ Black Label AWD ('17-'18) %\n",
    "Lincoln MKZ Hybrid Premiere/Standard ('17-'18/'19-'20) %\n",
    "Lincoln MKZ Hybrid Select/Reserve I/Reserve ('17-'18/'19/'20) %\n",
    "Lincoln MKZ Hybrid Reserve/Reserve II ('17-'18/'19) %\n",
    "Lincoln MKZ Hybrid Black Label ('17-'18)\n",
    "</p>\n",
    "</td></tr>\n",
    "<tr>\n",
    "<td>L8C%L8E%L8F%L8J\n",
    "</td>\n",
    "<td>\n",
    "<p><a href=\"https://en.wikipedia.org/wiki/Lincoln_Town_Car#Third_generation_(FN145;_1998–2011)\" class=\"extiw\" title=\"w:Lincoln Town Car\">Lincoln Town Car</a>; Signature Limited ('10-'11) %\n",
    "Lincoln Town Car; Executive L ('10-'11) %\n",
    "Lincoln Town Car; Signature L ('10-'11) %\n",
    "Lincoln Town Car; Executive ('10-'11)\n",
    "</p>\n",
    "</td></tr>\n",
    "<tr>\n",
    "<td>L9A%L9B%L9H%L9N%L9P%L9R%L9S%L9T%L9U%L9V\n",
    "</td>\n",
    "<td>\n",
    "<p><a href=\"https://en.wikipedia.org/wiki/Lincoln_Continental#Tenth_generation_(2017–2020)\" class=\"extiw\" title=\"w:Lincoln Continental\">Lincoln Continental</a>; Black Label FWD ('17-'20) %\n",
    "Lincoln Continental; Black Label AWD ('17-'20) %\n",
    "Lincoln Continental; Livery AWD ('17-'20) %\n",
    "Lincoln Continental; Reserve AWD ('17-'20) %\n",
    "Lincoln Continental; Premiere/Standard FWD ('17-'20) %\n",
    "Lincoln Continental; Reserve FWD ('17-'20) %\n",
    "Lincoln Continental; Select FWD ('17-'19) %\n",
    "Lincoln Continental; Select AWD ('17-'19) %\n",
    "Lincoln Continental; Livery FWD ('17-'20) %\n",
    "Lincoln Continental; Premiere/Standard AWD ('17-'20)\n",
    "</p>\n",
    "</td></tr>\n",
    "<tr>\n",
    "<td>L9D%L9E%L9F\n",
    "</td>\n",
    "<td>\n",
    "<p><a href=\"https://en.wikipedia.org/wiki/Lincoln_MKS\" class=\"extiw\" title=\"w:Lincoln MKS\">Lincoln MKS</a>; FWD ('10-'16) %\n",
    "Lincoln MKS; AWD ('10-'16) %\n",
    "Lincoln MKS; EcoBoost AWD ('10-'16)\n",
    "</p>\n",
    "</td></tr>\n",
    "<tr>\n",
    "<td>M01%M02%M07%M08%M0C%M0H%M0J%M0L\n",
    "</td>\n",
    "<td>\n",
    "<p><a href=\"https://en.wikipedia.org/wiki/Mercury_Milan\" class=\"extiw\" title=\"w:Mercury Milan\">Mercury Milan</a>; Base model V6, AWD ('07-'09) %\n",
    "Mercury Milan; Premier V6, AWD ('07-'09) %\n",
    "Mercury Milan; Base model, FWD ('06-'09) %\n",
    "Mercury Milan; Premier, FWD ('06-'09) %\n",
    "Mercury Milan; Premier V6, AWD ('10-'11) %\n",
    "Mercury Milan; Base model, FWD ('10-'11) %\n",
    "Mercury Milan; Premier, FWD ('10-'11) %\n",
    "Mercury Milan; Hybrid ('10-'11)\n",
    "</p>\n",
    "</td></tr>\n",
    "<tr>\n",
    "<td>M11%M12%M13\n",
    "</td>\n",
    "<td>\n",
    "<p><a href=\"https://en.wikipedia.org/wiki/Mercury_Tracer#First_generation_(1987–1989)\" class=\"extiw\" title=\"w:Mercury Tracer\">Mercury Tracer</a>; 3-d ('88-'89) %\n",
    "Mercury Tracer; 5-d ('88-'89) %\n",
    "Mercury Tracer; wagon ('88-'89) %\n",
    "</p>\n",
    "</td></tr>\n",
    "<tr>\n",
    "<td>M10%M14%M15\n",
    "</td>\n",
    "<td>\n",
    "<p><a href=\"https://en.wikipedia.org/wiki/Mercury_Tracer#Second_generation_(1991–1996)\" class=\"extiw\" title=\"w:Mercury Tracer\">Mercury Tracer</a>; Base model sedan ('91-'96) %\n",
    "Mercury Tracer; LTS sedan ('91-'96) %\n",
    "Mercury Tracer; Base model wagon ('91-'96) %\n",
    "</p>\n",
    "</td></tr>\n",
    "<tr>\n",
    "<td>M10%M13%M15\n",
    "</td>\n",
    "<td>\n",
    "<p><a href=\"https://en.wikipedia.org/wiki/Mercury_Tracer#Third_generation_(1997–1999)\" class=\"extiw\" title=\"w:Mercury Tracer\">Mercury Tracer</a>; GS sedan ('97-'99) %\n",
    "Mercury Tracer; LS sedan ('97-'99) %\n",
    "Mercury Tracer; LS wagon ('97-'99) %\n",
    "</p>\n",
    "</td></tr>\n",
    "<tr>\n",
    "<td>M20%M21%M23%M25%M28\n",
    "</td>\n",
    "<td>\n",
    "<p><a href=\"https://en.wikipedia.org/wiki/Mercury_Lynx\" class=\"extiw\" title=\"w:Mercury Lynx\">Mercury Lynx</a> L 3-d ('87) %\n",
    "Mercury Lynx GS 3-d ('87) %\n",
    "Mercury Lynx XR3 3-d ('87) %\n",
    "Mercury Lynx GS 5-d ('87) %\n",
    "Mercury Lynx GS wagon ('87)\n",
    "</p>\n",
    "</td></tr>\n",
    "<tr>\n",
    "<td>M26%M26%M28\n",
    "</td>\n",
    "<td>\n",
    "<p><a href=\"https://en.wikipedia.org/wiki/Lincoln_Zephyr\" class=\"extiw\" title=\"w:Lincoln Zephyr\">Lincoln Zephyr</a> ('06) %\n",
    "<a href=\"https://en.wikipedia.org/wiki/Lincoln_MKZ#First_generation_(2006–2012)\" class=\"extiw\" title=\"w:Lincoln MKZ\">Lincoln MKZ</a> FWD ('07-'09) %\n",
    "Lincoln MKZ AWD ('07-'09)\n",
    "</p>\n",
    "</td></tr>\n",
    "<tr>\n",
    "<td>M31%M33%M36%M37%M38\n",
    "</td>\n",
    "<td>\n",
    "<p><a href=\"https://en.wikipedia.org/wiki/Mercury_Topaz\" class=\"extiw\" title=\"w:Mercury Topaz\">Mercury Topaz</a>; 2-door sedan; GS ('87-'94) %\n",
    "Mercury Topaz; 2-door sedan; GS Sport ('87), XR5 ('88-'92) %\n",
    "Mercury Topaz; 4-door sedan; GS ('87-'94) %\n",
    "Mercury Topaz; 4-door sedan; LS ('87-'92) %\n",
    "Mercury Topaz; 4-door sedan; GS Sport ('87), LTS ('88-'92) %\n",
    "</p>\n",
    "</td></tr>\n",
    "<tr>\n",
    "<td>M40%M41%M42%M43\n",
    "</td>\n",
    "<td>\n",
    "<p><a href=\"https://en.wikipedia.org/wiki/Mercury_Montego#Third_generation_(2005–2007)\" class=\"extiw\" title=\"w:Mercury Montego\">Mercury Montego</a>; Luxury FWD ('05-'07)/<a href=\"https://en.wikipedia.org/wiki/Mercury_Sable#Fifth_generation_(2008–2009)\" class=\"extiw\" title=\"w:Mercury Sable\">Mercury Sable</a>; Base model FWD ('08-'09) %\n",
    "Mercury Montego; Luxury AWD ('05-'06)/Mercury Sable; Base model AWD ('08-'09) %\n",
    "Mercury Montego; Premier FWD ('05-'07)/Mercury Sable; Premier FWD ('08-'09) %\n",
    "Mercury Montego; Premier AWD ('05-'07)/Mercury Sable; Premier AWD ('08-'09)\n",
    "</p>\n",
    "</td></tr>\n",
    "<tr>\n",
    "<td>M50%M51%M53%M55%M58\n",
    "</td>\n",
    "<td>\n",
    "<p><a href=\"https://en.wikipedia.org/wiki/Mercury_Sable\" class=\"extiw\" title=\"w:Mercury Sable\">Mercury Sable</a>; GS sedan ('87-'99), LS sedan ('98) %\n",
    "Mercury Sable; G sedan ('96-'97) %\n",
    "Mercury Sable; LS sedan ('87-'97), LTS sedan ('95), LS Premium sedan ('98), LS sedan ('99) %\n",
    "Mercury Sable; GS wagon ('87-'97), LS wagon ('98) %\n",
    "Mercury Sable; LS wagon ('87-'97), LS Premium wagon ('98), LS wagon ('99) %\n",
    "</p>\n",
    "</td></tr>\n",
    "<tr>\n",
    "<td>M50%M53%M55%M58%M59\n",
    "</td>\n",
    "<td>\n",
    "<p><a href=\"https://en.wikipedia.org/wiki/Mercury_Sable#Fourth_generation_(2000–2005)\" class=\"extiw\" title=\"w:Mercury Sable\">Mercury Sable</a>; GS sedan ('00-'05), GS Plus sedan ('02-'03) %\n",
    "Mercury Sable; LS sedan ('00-'01) %\n",
    "Mercury Sable; LS Premium sedan ('00-'04), LS sedan ('05) %\n",
    "Mercury Sable; GS wagon ('00-'04), GS Plus wagon ('02-'03) %\n",
    "Mercury Sable; LS Premium wagon ('00-'04), LS wagon ('05) %\n",
    "</p>\n",
    "</td></tr>\n",
    "<tr>\n",
    "<td>M60%M62\n",
    "</td>\n",
    "<td>\n",
    "<p><a href=\"https://en.wikipedia.org/wiki/Mercury_Cougar#Sixth_generation_(1983–1988)\" class=\"extiw\" title=\"w:Mercury Cougar\">Mercury Cougar</a>; LS ('87-'88)%\n",
    "Mercury Cougar; XR7 ('87-'88)\n",
    "</p>\n",
    "</td></tr>\n",
    "<tr>\n",
    "<td>M60%M62\n",
    "</td>\n",
    "<td>\n",
    "<p><a href=\"https://en.wikipedia.org/wiki/Mercury_Cougar#Seventh_generation_(1989–1997)\" class=\"extiw\" title=\"w:Mercury Cougar\">Mercury Cougar</a>; LS ('89-'92)%\n",
    "Mercury Cougar; XR7 ('89-'97)\n",
    "</p>\n",
    "</td></tr>\n",
    "<tr>\n",
    "<td>M65%M66\n",
    "</td>\n",
    "<td>\n",
    "<p><a href=\"https://en.wikipedia.org/wiki/Mercury_Mystique\" class=\"extiw\" title=\"w:Mercury Mystique\">Mercury Mystique</a>; Base model ('97-Mid '98), GS ('95-'00) %\n",
    "Mercury Mystique; LS ('95-'00)\n",
    "</p>\n",
    "</td></tr>\n",
    "<tr>\n",
    "<td>M72%M74%M75%M78%M79%M7F%M75%M79%\n",
    "</td>\n",
    "<td>\n",
    "<p><a href=\"https://en.wikipedia.org/wiki/Mercury_Grand_Marquis\" class=\"extiw\" title=\"w:Mercury Grand Marquis\">Mercury Grand Marquis</a>; LS 2-door ('87) %\n",
    "Mercury Grand Marquis; GS 4-door ('87-'08) %\n",
    "Mercury Grand Marquis; LS 4-door ('87-'09), LSE ('01-'05) %\n",
    "Mercury Grand Marquis; Colony Park GS wagon ('87-'91) %\n",
    "Mercury Grand Marquis; Colony Park LS wagon ('87-'91) %\n",
    "Mercury Grand Marquis; LS 4-door ('10-'11)%\n",
    "<a href=\"https://en.wikipedia.org/wiki/Mercury_Marauder#Third_generation_(2003–2004)\" class=\"extiw\" title=\"w:Mercury Marauder\">Mercury Marauder</a> ('03) %\n",
    "<a href=\"https://en.wikipedia.org/wiki/Mercury_Marauder#Third_generation_(2003–2004)\" class=\"extiw\" title=\"w:Mercury Marauder\">Mercury Marauder</a> ('04)\n",
    "</p>\n",
    "</td></tr>\n",
    "<tr>\n",
    "<td>M81%M82%M83%M84%M85%M88%M89\n",
    "</td>\n",
    "<td>\n",
    "<p><a href=\"https://en.wikipedia.org/wiki/Lincoln_Town_Car\" class=\"extiw\" title=\"w:Lincoln Town Car\">Lincoln Town Car</a>; Base model ('87-'91), Executive Series ('92-'04), Signature Series ('04-'07) %\n",
    "Lincoln Town Car; Signature Series ('87-'03), Signature Limited ('05-'09) %\n",
    "Lincoln Town Car; Cartier Designer Series ('87-'03), Ultimate ('04), Designer Series ('06-'07) %\n",
    "Lincoln Town Car; Executive L ('01-'09) %\n",
    "Lincoln Town Car; Cartier L ('01-'03), Ultimate L ('04), Signature L ('05-'09) %\n",
    "Lincoln Town Car; Executive Series ('05-'09) %\n",
    "Lincoln Town Car; Ballistic Protection Series ('04-'06)\n",
    "</p>\n",
    "</td></tr>\n",
    "<tr>\n",
    "<td>M86%M87\n",
    "</td>\n",
    "<td>\n",
    "<p><a href=\"https://en.wikipedia.org/wiki/Lincoln_LS\" class=\"extiw\" title=\"w:Lincoln LS\">Lincoln LS</a>; V6 %\n",
    "<a href=\"https://en.wikipedia.org/wiki/Lincoln_LS\" class=\"extiw\" title=\"w:Lincoln LS\">Lincoln LS</a>; V8\n",
    "</p>\n",
    "</td></tr>\n",
    "<tr>\n",
    "<td>M91%M92%M93\n",
    "</td>\n",
    "<td>\n",
    "<p><a href=\"https://en.wikipedia.org/wiki/Lincoln_Continental_Mark_VII\" class=\"extiw\" title=\"w:Lincoln Continental Mark VII\">Lincoln Mark VII</a>; Base model ('87) %\n",
    "Lincoln Mark VII; Bill Blass Designer Series ('87-'92) %\n",
    "Lincoln Mark VII; LSC ('87-'92)\n",
    "</p>\n",
    "</td></tr>\n",
    "<tr>\n",
    "<td>M91%M92\n",
    "</td>\n",
    "<td>\n",
    "<p><a href=\"https://en.wikipedia.org/wiki/Lincoln_Mark_VIII\" class=\"extiw\" title=\"w:Lincoln Mark VIII\">Lincoln Mark VIII</a>; Base model ('93-'98) %\n",
    "Lincoln Mark VIII; LSC ('97-'98)\n",
    "</p>\n",
    "</td></tr>\n",
    "<tr>\n",
    "<td>M93%M94\n",
    "</td>\n",
    "<td>\n",
    "<p><a href=\"https://en.wikipedia.org/wiki/Lincoln_MKS\" class=\"extiw\" title=\"w:Lincoln MKS\">Lincoln MKS</a>; FWD ('09) %\n",
    "Lincoln MKS; AWD ('09)\n",
    "</p>\n",
    "</td></tr>\n",
    "<tr>\n",
    "<td>M97%M98\n",
    "</td>\n",
    "<td>\n",
    "<p><a href=\"https://en.wikipedia.org/wiki/Lincoln_Continental#Seventh_generation_(1982–1987)\" class=\"extiw\" title=\"w:Lincoln Continental\">Lincoln Continental</a>; Base model ('87) %\n",
    "Lincoln Continental; Givenchy Designer Series ('87)\n",
    "</p>\n",
    "</td></tr>\n",
    "<tr>\n",
    "<td>M97%M98\n",
    "</td>\n",
    "<td>\n",
    "<p><a href=\"https://en.wikipedia.org/wiki/Lincoln_Continental#Eighth_generation_(1988–1994)\" class=\"extiw\" title=\"w:Lincoln Continental\">Lincoln Continental</a>; Base model ('88-'91), Executive Series ('92-'94) %\n",
    "Lincoln Continental; Signature Series ('88-'94)\n",
    "</p>\n",
    "</td></tr>\n",
    "<tr>\n",
    "<td>M97\n",
    "</td>\n",
    "<td><a href=\"https://en.wikipedia.org/wiki/Lincoln_Continental#Ninth_generation_(1995–2002)\" class=\"extiw\" title=\"w:Lincoln Continental\">Lincoln Continental</a> ('95-'02)\n",
    "</td></tr>\n",
    "<tr>\n",
    "<td>N11%N11%N15%N16%N17\n",
    "</td>\n",
    "<td>\n",
    "<p><a href=\"https://en.wikipedia.org/wiki/Nissan_Quest#First_generation_(V40;_1993)\" class=\"extiw\" title=\"w:Nissan Quest\">Nissan Quest</a> ('93-'98) %\n",
    "<a href=\"https://en.wikipedia.org/wiki/Nissan_Quest#Second_generation_(V41;_1999)\" class=\"extiw\" title=\"w:Nissan Quest\">Nissan Quest</a> ('99-'00) %\n",
    "Nissan Quest; GXE ('01-'02) %\n",
    "Nissan Quest; SE ('01-'02) %\n",
    "Nissan Quest; GLE ('01-'02) %\n",
    "</p>\n",
    "</td></tr>\n",
    "<tr>\n",
    "<td>N2K%N3K%N8B%N8H%N9B%N9H\n",
    "</td>\n",
    "<td>\n",
    "<p><a href=\"https://en.wikipedia.org/wiki/Mercury_Mariner#Second_generation\" class=\"extiw\" title=\"w:Mercury Mariner\">Mercury Mariner</a> Hybrid 4x2 ('10-'11) %\n",
    "Mercury Mariner Hybrid 4x4 ('10-'11) %\n",
    "Mercury Mariner Base model 4x2 ('10-'11) %\n",
    "Mercury Mariner Premier 4x2 ('10-'11) %\n",
    "Mercury Mariner Base model 4x4 ('10-'11) %\n",
    "Mercury Mariner Premier 4x4 ('10-'11)\n",
    "</p>\n",
    "</td></tr>\n",
    "<tr>\n",
    "<td>N3H%N3J%N4H%N4J\n",
    "</td>\n",
    "<td>\n",
    "<p><a href=\"https://en.wikipedia.org/wiki/Mercury_Mountaineer#Third_generation_(2006–2010)\" class=\"extiw\" title=\"w:Mercury Mountaineer\">Mercury Mountaineer</a> Base model 4x2 ('10) %\n",
    "Mercury Mountaineer Premier 4x2 ('10) %\n",
    "Mercury Mountaineer Base model AWD ('10) %\n",
    "Mercury Mountaineer Premier 4x4 ('10)\n",
    "</p>\n",
    "</td></tr>\n",
    "<tr>\n",
    "<td>P01\n",
    "</td>\n",
    "<td><a href=\"https://en.wikipedia.org/wiki/Ford_EXP\" class=\"extiw\" title=\"w:Ford EXP\">Ford EXP</a> ('82-'86)\n",
    "</td></tr>\n",
    "<tr>\n",
    "<td>P05%P06%P08\n",
    "</td>\n",
    "<td>\n",
    "<p><a href=\"https://en.wikipedia.org/wiki/Ford_Escort_(North_America)#First_generation_(1981–1990)\" class=\"extiw\" title=\"w:Ford Escort (North America)\">Ford Escort</a>; 3-door hatchback ('81-'82) %\n",
    "Ford Escort; 5-door hatchback ('82) %\n",
    "Ford Escort; wagon ('81-'82)\n",
    "</p>\n",
    "</td></tr>\n",
    "<tr>\n",
    "<td>P04%P05%P06%P07%P09%P10%P11%P13%P14%P15\n",
    "</td>\n",
    "<td>\n",
    "<p><a href=\"https://en.wikipedia.org/wiki/Ford_Escort_(North_America)#First_generation_(1981–1990)\" class=\"extiw\" title=\"w:Ford Escort (North America)\">Ford Escort</a>; 3-door hatchback; Base model ('84-'85), L ('83-'85) %\n",
    "Ford Escort; 3-door hatchback; GL ('83-'85) %\n",
    "Ford Escort; 3-door hatchback; GLX ('83) %\n",
    "Ford Escort; 3-door hatchback; GT ('83-'85), Turbo GT ('84-'85) %\n",
    "Ford Escort; wagon; L ('83-'85) %\n",
    "Ford Escort; wagon; GL ('83-'85) %\n",
    "Ford Escort; wagon; GLX ('83), LX ('84-'85) %\n",
    "Ford Escort; 5-door hatchback; Base model ('84-'85), L ('83-'85) %\n",
    "Ford Escort; 5-door hatchback; GL ('83-'85) %\n",
    "Ford Escort; 5-door hatchback; GLX ('83), LX ('84-'85)\n",
    "</p>\n",
    "</td></tr>\n",
    "<tr>\n",
    "<td>P01%P02%P06%P07%P08%P0C%P0D%P0G%P0H%P0J%P0K%P0L\n",
    "</td>\n",
    "<td>\n",
    "<p><a href=\"https://en.wikipedia.org/wiki/Ford_Fusion_(Americas)#First_generation_(2006)\" class=\"extiw\" title=\"w:Ford Fusion (Americas)\">Ford Fusion</a>; SE V6, <a href=\"https://en.wikipedia.org/wiki/All-wheel_drive\" class=\"extiw\" title=\"w:All-wheel drive\">AWD</a> ('07-'09) %\n",
    "Ford Fusion; SEL V6, AWD ('07-'09) %\n",
    "Ford Fusion; S, <a href=\"https://en.wikipedia.org/wiki/Front-wheel_drive\" class=\"extiw\" title=\"w:Front-wheel drive\">FWD</a> ('06-'09) %\n",
    "Ford Fusion; SE, FWD ('06-'09) %\n",
    "Ford Fusion; SEL, FWD ('06-'09) %\n",
    "Ford Fusion; SEL V6, AWD ('10-'12) %\n",
    "Ford Fusion; Sport V6, AWD ('10-'12) %\n",
    "Ford Fusion; S, FWD ('10-'12) %\n",
    "Ford Fusion; SE, FWD ('10-'12) %\n",
    "Ford Fusion; SEL, FWD ('10-'12) %\n",
    "Ford Fusion; Sport V6, FWD ('10-'12) %\n",
    "Ford Fusion; Hybrid ('10-'12)\n",
    "</p>\n",
    "</td></tr>\n",
    "<tr>\n",
    "<td>P0A%P0C%P0D%P0E%P0G%P0H%P0K%P0L%P0M%P0P%P0R%P0S%P0T%P0U%P0V%P0W%P0X\n",
    "</td>\n",
    "<td>\n",
    "<p><a href=\"https://en.wikipedia.org/wiki/Ford_Fusion_(Americas)#Second_generation_(2013)\" class=\"extiw\" title=\"w:Ford Fusion (Americas)\">Ford Fusion</a>; Police Responder Hybrid, FWD ('19-'20) %\n",
    "Ford Fusion; SEL, FWD ('19-'20) %\n",
    "Ford Fusion; Titanium, AWD ('13-'20); Platinum, AWD ('17-'18) %\n",
    "Ford Fusion; SEL, AWD ('19) %\n",
    "Ford Fusion; S, FWD ('13-'20) %\n",
    "Ford Fusion; SE, FWD ('13-'20) %\n",
    "Ford Fusion; Titanium, FWD ('13-'20); Platinum, FWD ('17-'18) %\n",
    "Ford Fusion; Hybrid SE ('13-'20) %\n",
    "Ford Fusion; Hybrid SEL ('19-'20) %\n",
    "Ford Fusion; Energi SE ('13-'18) %\n",
    "Ford Fusion; Hybrid Titanium ('13-'20); Hybrid Platinum, FWD ('17-'18) %\n",
    "Ford Fusion; Energi Titanium ('13-'20); Energi Platinum, FWD ('17-'18) %\n",
    "Ford Fusion; SE, AWD ('13-'14 Canada only) ('15-'20 US &amp; Canada) %\n",
    "Ford Fusion; Hybrid S ('14-'18) %\n",
    "Ford Fusion; Sport V6, AWD ('17-'19) %\n",
    "Ford Fusion; Special Service Vehicle Plug-in Hybrid, FWD ('19-'20) %\n",
    "Ford Fusion; Taxi Hybrid, FWD ('19) %\n",
    "</p>\n",
    "</td></tr>\n",
    "<tr>\n",
    "<td>P10%P11%P12%P13%P14%P15%P16\n",
    "</td>\n",
    "<td>\n",
    "<p><a href=\"https://en.wikipedia.org/wiki/Ford_Escort_(North_America)#Second_generation_(1991–1996)\" class=\"extiw\" title=\"w:Ford Escort (North America)\">Ford Escort</a>; 3-door hatchback; Pony ('91), Base model ('92-'96)%\n",
    "Ford Escort; 3-door hatchback; LX ('91-'96)%\n",
    "Ford Escort; 3-door hatchback; GT ('91-'96)%\n",
    "Ford Escort; 4-door sedan; LX ('92-'96)%\n",
    "Ford Escort; 5-door hatchback; LX ('91-'96)%\n",
    "Ford Escort; wagon; LX ('91-'96)%\n",
    "Ford Escort; 4-door sedan; LX-E ('92-'93)%\n",
    "</p>\n",
    "</td></tr>\n",
    "<tr>\n",
    "<td>P10%P11%P13%P15\n",
    "</td>\n",
    "<td>\n",
    "<p><a href=\"https://en.wikipedia.org/wiki/Ford_Escort_(North_America)#Third_generation_(1997–2003)\" class=\"extiw\" title=\"w:Ford Escort (North America)\">Ford Escort</a>, 4-door sedan; Base model ('97), LX ('98-'02)%\n",
    "Ford Escort, 2-door coupe; ZX2 ('98-'03)%\n",
    "Ford Escort, 4-door sedan; LX ('97), SE ('98-'99), Standard ('00-'02) %\n",
    "Ford Escort, wagon; LX ('97), SE ('98-'99)\n",
    "</p>\n",
    "</td></tr>\n",
    "<tr>\n",
    "<td>P18%P19%P20%P21%P22%P23\n",
    "</td>\n",
    "<td>\n",
    "<p><a href=\"https://en.wikipedia.org/wiki/Ford_Tempo\" class=\"extiw\" title=\"w:Ford Tempo\">Ford Tempo</a>, 2-door sedan; L ('84-'85)%\n",
    "Ford Tempo, 2-door sedan; GL ('84-'86)%\n",
    "Ford Tempo, 2-door sedan; GLX ('84-'85), LX ('86) %\n",
    "Ford Tempo, 4-door sedan; L ('84-'85) %\n",
    "Ford Tempo, 4-door sedan; GL ('84-'86) %\n",
    "Ford Tempo, 4-door sedan; GLX ('84-'85), LX ('86)\n",
    "</p>\n",
    "</td></tr>\n",
    "<tr>\n",
    "<td>P17%P18\n",
    "</td>\n",
    "<td>\n",
    "<p><a href=\"https://en.wikipedia.org/wiki/Ford_EXP\" class=\"extiw\" title=\"w:Ford EXP\">Ford EXP</a>; Luxury Coupe ('87-'88) %\n",
    "Ford EXP; Sport Coupe ('87)\n",
    "</p>\n",
    "</td></tr>\n",
    "<tr>\n",
    "<td>P20%P21%P23%P25%P28\n",
    "</td>\n",
    "<td>\n",
    "<p><a href=\"https://en.wikipedia.org/wiki/Ford_Escort_(North_America)#First_generation_(1981–1990)\" class=\"extiw\" title=\"w:Ford Escort (North America)\">Ford Escort</a>; 3-door hatchback; Pony ('87-'88) %\n",
    "Ford Escort; 3-door hatchback; GL ('87-'88) %\n",
    "Ford Escort; 3-door hatchback; GT ('87-'88) %\n",
    "Ford Escort; 5-door hatchback; GL ('87-'88) %\n",
    "Ford Escort; wagon; GL ('87-'88)\n",
    "</p>\n",
    "</td></tr>\n",
    "<tr>\n",
    "<td>P1C%P1R%P1S%P1T%P1U%P1V%P1W\n",
    "</td>\n",
    "<td>\n",
    "<p><a href=\"https://en.wikipedia.org/wiki/Ford_EcoSport#Second_generation_(B515;_2012)\" class=\"extiw\" title=\"w:Ford EcoSport\">Ford EcoSport</a>; SES AWD ('18) %\n",
    "Ford EcoSport; S FWD ('18) %\n",
    "Ford EcoSport; S AWD ('18) %\n",
    "Ford EcoSport; SE FWD ('18) %\n",
    "Ford EcoSport; SE AWD ('18) %\n",
    "Ford EcoSport; Titanium FWD ('18) %\n",
    "Ford EcoSport; Titanium AWD ('18)\n",
    "</p>\n",
    "</td></tr>\n",
    "<tr>\n",
    "<td>P20%P21%P22%P23\n",
    "</td>\n",
    "<td>\n",
    "<p><a href=\"https://en.wikipedia.org/wiki/Ford_Fairmont\" class=\"extiw\" title=\"w:Ford Fairmont\">Ford Fairmont</a>; 2-d sedan ('81-'82) %\n",
    "Ford Fairmont; 4-d sedan ('81-'82) %\n",
    "Ford Fairmont; Futura 2-d coupe ('81-'82) %\n",
    "Ford Fairmont; wagon ('81)\n",
    "</p>\n",
    "</td></tr>\n",
    "<tr>\n",
    "<td>P26%P27%P28\n",
    "</td>\n",
    "<td>\n",
    "<p><a href=\"https://en.wikipedia.org/wiki/Ford_Granada_(North_America)#Second_generation_(1981–1982)\" class=\"extiw\" title=\"w:Ford Granada (North America)\">Ford Granada</a>; 2-d sedan ('81-'82) %\n",
    "Ford Granada; 4-d sedan ('81-'82) %\n",
    "Ford Granada; wagon ('82)\n",
    "</p>\n",
    "</td></tr>\n",
    "<tr>\n",
    "<td>P29%P30\n",
    "</td>\n",
    "<td>\n",
    "<p><a href=\"https://en.wikipedia.org/wiki/Ford_Taurus_(first_generation)\" class=\"extiw\" title=\"w:Ford Taurus (first generation)\">Ford Taurus</a>; sedan ('86) %\n",
    "Ford Taurus; wagon ('86)\n",
    "</p>\n",
    "</td></tr>\n",
    "<tr>\n",
    "<td>P23%P24%P25%P26%P27%P28\n",
    "</td>\n",
    "<td>\n",
    "<p><a href=\"https://en.wikipedia.org/wiki/Ford_Five_Hundred\" class=\"extiw\" title=\"w:Ford Five Hundred\">Ford Five Hundred</a> ('05-'06)/<a href=\"https://en.wikipedia.org/wiki/Ford_Taurus_(fifth_generation)\" class=\"extiw\" title=\"w:Ford Taurus (fifth generation)\">Ford Taurus</a>  ('09); SE, FWD %\n",
    "Ford Five Hundred ('05-'07)/Taurus ('08-'09); SEL, FWD %\n",
    "Ford Five Hundred ('05-'07)/Taurus ('08-'09); Limited, FWD %\n",
    "Ford Five Hundred ('05-'06)/Taurus ('09); SE, AWD %\n",
    "Ford Five Hundred ('05-'07)/Taurus ('08-'09); SEL, AWD %\n",
    "Ford Five Hundred ('05-'07)/Taurus ('08-'09); Limited, AWD\n",
    "</p>\n",
    "</td></tr>\n",
    "<tr>\n",
    "<td>P2D%P2E%P2F%P2H%P2J%P2K%P2L%P2M\n",
    "</td>\n",
    "<td>\n",
    "<p><a href=\"https://en.wikipedia.org/wiki/Ford_Taurus_(sixth_generation)\" class=\"extiw\" title=\"w:Ford Taurus (sixth generation)\">Ford Taurus</a>; SE, FWD ('10-'19) %\n",
    "Ford Taurus; SEL, FWD ('10-'19) %\n",
    "Ford Taurus; Limited, FWD ('10-'19) %\n",
    "Ford Taurus; SEL, AWD ('10-'19) %\n",
    "Ford Taurus; Limited, AWD ('10-'19) %\n",
    "Ford Taurus; SHO, AWD ('10-'19) %\n",
    "Ford Taurus; Police Interceptor Sedan, FWD ('13-'19), Special Service Police Sedan, FWD ('14-'18) %\n",
    "Ford Taurus; Police Interceptor Sedan, AWD ('13-'19)\n",
    "</p>\n",
    "</td></tr>\n",
    "<tr>\n",
    "<td>P31%P32%P33%P34%P35%P37%P38%P39\n",
    "</td>\n",
    "<td>\n",
    "<p><a href=\"https://en.wikipedia.org/wiki/Ford_LTD_(Americas)#Third_generation_(1979–1982)\" class=\"extiw\" title=\"w:Ford LTD (Americas)\">Ford LTD</a>; S 4-d sedan ('81-'82) %\n",
    "Ford LTD; 2-d sedan ('81-'82) %\n",
    "Ford LTD; 4-d sedan ('81-'82) %\n",
    "Ford LTD; Crown Victoria 2-d sedan ('81-'82) %\n",
    "Ford LTD; Crown Victoria 4-d sedan ('81-'82) %\n",
    "Ford LTD; S wagon ('81-'82) %\n",
    "Ford LTD; wagon ('81-'82) %\n",
    "Ford LTD; Country Squire wagon ('81-'82)\n",
    "</p>\n",
    "</td></tr>\n",
    "<tr>\n",
    "<td>P35%P36%P37\n",
    "</td>\n",
    "<td>\n",
    "<p><a href=\"https://en.wikipedia.org/wiki/Ford_Fairmont\" class=\"extiw\" title=\"w:Ford Fairmont\">Ford Fairmont</a>; 2-d sedan ('83) %\n",
    "Ford Fairmont; 4-d sedan ('83) %\n",
    "Ford Fairmont; Futura 2-d coupe ('83)\n",
    "</p>\n",
    "</td></tr>\n",
    "<tr>\n",
    "<td>P31%P32%P33%P34%P35%P36%P37\n",
    "</td>\n",
    "<td>\n",
    "<p><a href=\"https://en.wikipedia.org/wiki/Ford_Escort_(North_America)#First_generation_(1981–1990)\" class=\"extiw\" title=\"w:Ford Escort (North America)\">Ford Escort</a>; 3-door hatchback; Base model ('85 1/2), Pony ('86), L ('85 1/2-'86) %\n",
    "Ford Escort; 3-door hatchback; GL ('85 1/2), LX ('86) %\n",
    "Ford Escort; 3-door hatchback; GT ('86) %\n",
    "Ford Escort; wagon; L ('85 1/2-'86) %\n",
    "Ford Escort; wagon; GL ('85 1/2), LX ('86) %\n",
    "Ford Escort; 5-door hatchback; L ('85 1/2-'86) %\n",
    "Ford Escort; 5-door hatchback; GL ('85 1/2), LX ('86)\n",
    "</p>\n",
    "</td></tr>\n",
    "<tr>\n",
    "<td>P39%P40\n",
    "</td>\n",
    "<td>\n",
    "<p><a href=\"https://en.wikipedia.org/wiki/Ford_LTD_(Americas)#Fourth_generation_(1983–1986)\" class=\"extiw\" title=\"w:Ford LTD (Americas)\">Ford LTD</a>; 4-d sedan ('83-'86) %\n",
    "Ford LTD; wagon ('83-'86) %\n",
    "</p>\n",
    "</td></tr>\n",
    "<tr>\n",
    "<td>P42%P43%P44\n",
    "</td>\n",
    "<td>\n",
    "<p><a href=\"https://en.wikipedia.org/wiki/Ford_LTD_Crown_Victoria\" class=\"extiw\" title=\"w:Ford LTD Crown Victoria\">Ford LTD Crown Victoria</a>; 2-d sedan ('83-'86) %\n",
    "Ford LTD Crown Victoria; 4-d sedan ('83-'86) %\n",
    "Ford LTD Crown Victoria; wagon, S wagon, Country Squire wagon ('83-'86) %\n",
    "</p>\n",
    "</td></tr>\n",
    "<tr>\n",
    "<td>P30%P31%P32%P33%P34%P35%P36%P37%P38%P39\n",
    "</td>\n",
    "<td>\n",
    "<p><a href=\"https://en.wikipedia.org/wiki/Ford_Tempo\" class=\"extiw\" title=\"w:Ford Tempo\">Ford Tempo</a>, 2-door sedan; L ('91)%\n",
    "Ford Tempo, 2-door sedan; GL ('87-'94)%\n",
    "Ford Tempo, 2-door sedan; LX ('87)%\n",
    "Ford Tempo, 2-door sedan; Sport GL ('87), GLS ('88-'92) %\n",
    "Ford Tempo, 2-door sedan; AWD ('87) %\n",
    "Ford Tempo, 4-door sedan; L ('91) %\n",
    "Ford Tempo, 4-door sedan; GL ('87-'94) %\n",
    "Ford Tempo, 4-door sedan; LX ('87-'94) %\n",
    "Ford Tempo, 4-door sedan; Sport GL ('87), GLS ('88-'92) %\n",
    "Ford Tempo, 4-door sedan; AWD ('87-'91)\n",
    "</p>\n",
    "</td></tr>\n",
    "<tr>\n",
    "<td>P30%P31%P33%P34%P35%P36%P37%P38%P39%\n",
    "</td>\n",
    "<td>\n",
    "<p><a href=\"https://en.wikipedia.org/wiki/Ford_Focus_(first_generation)\" class=\"extiw\" title=\"w:Ford Focus (first generation)\">Ford Focus</a>, 5-door hatchback; <a href=\"https://en.wikipedia.org/wiki/Ford_Focus_(first_generation)#SVT_models\" class=\"extiw\" title=\"w:Ford Focus (first generation)\">SVT</a> ('04) %\n",
    "Ford Focus, 3-door hatchback; ZX3 ('00-'04), ZX3 S/SE/SES ('05-'07) %\n",
    "Ford Focus, Sedan; LX ('00-'04) %\n",
    "Ford Focus, Sedan; SE ('00-'04), ZX4 S/SE/SES ('05-'07) %\n",
    "Ford Focus, Wagon; ZTW ('04) %\n",
    "Ford Focus, Wagon; SE ('00-'04), ZTW ('02-'03), ZXW SE/SES ('05-'07) %\n",
    "Ford Focus, 5-door hatchback; ZX5 ('02-'04), SVT ('03), ZX5 S/SE/SES ('05-'07) %\n",
    "Ford Focus, Sedan; ZTS ('00-'04), ZX4 ST ('05-) %\n",
    "Ford Focus, 3-door hatchback; <a href=\"https://en.wikipedia.org/wiki/Ford_Focus_(first_generation)#SVT_models\" class=\"extiw\" title=\"w:Ford Focus (first generation)\">SVT</a> ('02-'04) %\n",
    "</p>\n",
    "</td></tr>\n",
    "<tr>\n",
    "<td>P32%P33%P34%P35%P36%P37%P3C%P3D%P3E%P3F%P3G%P3H\n",
    "</td>\n",
    "<td>\n",
    "<p><a href=\"https://en.wikipedia.org/wiki/Ford_Focus_(second_generation,_North_America)\" class=\"extiw\" title=\"w:Ford Focus (second generation, North America)\">Ford Focus</a>, 2-door coupe; S ('08), SE ('09) %\n",
    "Ford Focus, 2-door coupe; SE/SES ('08), SES ('09) %\n",
    "Ford Focus, 4-door sedan; S ('08-'09) %\n",
    "Ford Focus, 4-door sedan; SE/SES ('08), SE ('09) %\n",
    "Ford Focus, 4-door sedan; SES ('09) %\n",
    "Ford Focus, 4-door sedan; SEL ('09) %\n",
    "Ford Focus, 2-door coupe; SE ('10) %\n",
    "Ford Focus, 2-door coupe; SES ('10) %\n",
    "Ford Focus, 4-door sedan; S ('10-'11) %\n",
    "Ford Focus, 4-door sedan; SE ('10-'11) %\n",
    "Ford Focus, 4-door sedan; SES ('10-'11) %\n",
    "Ford Focus, 4-door sedan; SEL ('10-'11)\n",
    "</p>\n",
    "</td></tr>\n",
    "<tr>\n",
    "<td>P3E%P3F%P3H%P3J%P3K%P3L%P3M%P3N%P3R%P3T\n",
    "</td>\n",
    "<td>\n",
    "<p><a href=\"https://en.wikipedia.org/wiki/Ford_Focus_(third_generation)\" class=\"extiw\" title=\"w:Ford Focus (third generation)\">Ford Focus</a>, 4-door sedan; S ('12-'18) %\n",
    "Ford Focus, 4-door sedan; SE ('12-'18) %\n",
    "Ford Focus, 4-door sedan; SEL ('12, '17-'18) %\n",
    "Ford Focus, 4-door sedan; Titanium ('12-'18) %\n",
    "Ford Focus, 5-door hatchback; SE ('12-'18) %\n",
    "Ford Focus, 5-door hatchback; ST ('13-'18) %\n",
    "Ford Focus, 5-door hatchback; SEL ('12, '17-'18) %\n",
    "Ford Focus, 5-door hatchback; Titanium ('12-'18) %\n",
    "Ford Focus, 5-door hatchback; Electric ('12-'18) %\n",
    "Ford Focus, 5-door hatchback; RS ('16-'18)\n",
    "</p>\n",
    "</td></tr>\n",
    "<tr>\n",
    "<td>P10%P12%P13%P15%P16%P26%P27%P28%P40%P41%P42%P44%P45\n",
    "</td>\n",
    "<td>\n",
    "<p><a href=\"https://en.wikipedia.org/wiki/Ford_Mustang_(third_generation)\" class=\"extiw\" title=\"w:Ford Mustang (third generation)\">Ford Mustang</a>, Coupe; Base model, L/GL ('81-'82)%\n",
    "Ford Mustang, Coupe; Ghia, GLX ('81-'82)%\n",
    "Ford Mustang, Hatchback;  Ghia, GLX ('81-'82)%\n",
    "Ford Mustang, Hatchback; Base model ('81)%\n",
    "Ford Mustang, Hatchback; GL/GT ('82)%\n",
    "Ford Mustang, Coupe ('83-'86)%\n",
    "Ford Mustang, Convertible ('83-'86)%\n",
    "Ford Mustang, Hatchback ('83-'86)%\n",
    "Ford Mustang, Coupe; LX ('87-'93)%\n",
    "Ford Mustang, Hatchback; LX ('87-'93)%\n",
    "Ford Mustang, Hatchback; GT ('87-'93), Cobra ('93), Cobra R ('93)%\n",
    "Ford Mustang, Convertible; LX ('87-'93)%\n",
    "Ford Mustang, Convertible; GT ('87-'93)%\n",
    "</p>\n",
    "</td></tr>\n",
    "<tr>\n",
    "<td>P40%P42%P44%P45%P46%P47%P48%P49\n",
    "</td>\n",
    "<td>\n",
    "<p><a href=\"https://en.wikipedia.org/wiki/Ford_Mustang_(fourth_generation)\" class=\"extiw\" title=\"w:Ford Mustang (fourth generation)\">Ford Mustang</a>, Coupe; V6 ('94-'04)%\n",
    "Ford Mustang, Coupe; GT ('94-'04), GTS ('95), Cobra ('94-'95), Cobra R ('95), <a href=\"https://en.wikipedia.org/wiki/Ford_Mustang_variants#Bullitt\" class=\"extiw\" title=\"w:Ford Mustang variants\">Bullitt</a> ('01), <a href=\"https://en.wikipedia.org/wiki/Ford_Mustang_Mach_1\" class=\"extiw\" title=\"w:Ford Mustang Mach 1\">Mach 1</a> ('03-'04)%\n",
    "Ford Mustang, Convertible; V6 ('94-'04)%\n",
    "Ford Mustang, Convertible; GT ('94-'04), Cobra ('94-'95)%\n",
    "Ford Mustang, Convertible; <a href=\"https://en.wikipedia.org/wiki/Ford_Mustang_SVT_Cobra\" class=\"extiw\" title=\"w:Ford Mustang SVT Cobra\">SVT Cobra</a> ('96-'01)%\n",
    "Ford Mustang, Coupe; SVT Cobra ('96-'01), <a href=\"https://en.wikipedia.org/wiki/Ford_Mustang_SVT_Cobra#Cobra_R_2\" class=\"extiw\" title=\"w:Ford Mustang SVT Cobra\">SVT Cobra R</a> ('00)%\n",
    "Ford Mustang, Coupe; SVT Cobra ('03-'04)%\n",
    "Ford Mustang, Convertible; SVT Cobra ('03-04)%\n",
    "</p>\n",
    "</td></tr>\n",
    "<tr>\n",
    "<td>P4A%P4B%P4C%P4D%P4E%P4F%P4G%P4T\n",
    "</td>\n",
    "<td>\n",
    "<p><a href=\"https://en.wikipedia.org/wiki/Ford_Fiesta_(sixth_generation)\" class=\"extiw\" title=\"w:Ford Fiesta (sixth generation)\">Ford Fiesta</a>, Sedan, S ('11-'19) %\n",
    "Ford Fiesta, Sedan, SE ('11-'19) %\n",
    "Ford Fiesta, Sedan, SEL ('11-'12), Titanium ('13-'18) %\n",
    "Ford Fiesta, Hatchback, ST-Line ('19) %\n",
    "Ford Fiesta, Hatchback, SE ('11-'19) %\n",
    "Ford Fiesta, Hatchback, SES ('11-'12), Titanium ('13-'18) %\n",
    "Ford Fiesta, Hatchback, ST ('14-'19) %\n",
    "Ford Fiesta, Hatchback, S ('12-'19)\n",
    "</p>\n",
    "</td></tr>\n",
    "<tr>\n",
    "<td>P50%P51%P52%P53%P54%P55%P56%P57%P58\n",
    "</td>\n",
    "<td>\n",
    "<p><a href=\"https://en.wikipedia.org/wiki/Ford_Taurus\" class=\"extiw\" title=\"w:Ford Taurus\">Ford Taurus</a>; L sedan ('87-'92) %\n",
    "Ford Taurus; MT5 sedan ('87-'88), G sedan ('96-'97) %\n",
    "Ford Taurus; GL sedan ('87-'97), SE sedan ('95), LX sedan ('98-'99), SE sedan ('98) %\n",
    "Ford Taurus; LX sedan ('87-'97), SE Comfort sedan ('98), SE sedan ('99) %\n",
    "Ford Taurus; <a href=\"https://en.wikipedia.org/wiki/Ford_Taurus_SHO\" class=\"extiw\" title=\"w:Ford Taurus SHO\">SHO</a> ('89-'99)%\n",
    "Ford Taurus; L wagon ('87-'92) %\n",
    "Ford Taurus; MT5 wagon ('87)  %\n",
    "Ford Taurus; GL wagon ('87-'97), SE wagon ('98) %\n",
    "Ford Taurus; LX wagon ('87-'97), SE Comfort wagon ('98), SE wagon ('99) %\n",
    "</p>\n",
    "</td></tr>\n",
    "<tr>\n",
    "<td>P52%P53%P55%P56%P58%P59\n",
    "</td>\n",
    "<td>\n",
    "<p><a href=\"https://en.wikipedia.org/wiki/Ford_Taurus_(fourth_generation)\" class=\"extiw\" title=\"w:Ford Taurus (fourth generation)\">Ford Taurus</a>; LX sedan ('00-'04) %\n",
    "Ford Taurus; SE sedan ('00-'07) %\n",
    "Ford Taurus; SE Special Value Group (SVG)/SES sedan ('00-'04) %\n",
    "Ford Taurus; SE Comfort/SEL sedan ('00-'07)  %\n",
    "Ford Taurus; SE wagon ('00-'05) %\n",
    "Ford Taurus; SEL wagon ('02-'05) %\n",
    "</p>\n",
    "</td></tr>\n",
    "<tr>\n",
    "<td>P5A%P5B%P5C%P5D%P5E%P5F\n",
    "</td>\n",
    "<td>\n",
    "<p><a href=\"https://en.wikipedia.org/wiki/Ford_C-Max#Hybrid\" class=\"extiw\" title=\"w:Ford C-Max\">Ford C-Max</a>; Hybrid SE ('13-'18) %\n",
    "Ford C-Max; Hybrid SEL ('13-'16) %\n",
    "Ford C-Max; Energi SEL ('13-'16) %\n",
    "Ford C-Max; Hybrid Titanium ('17-'18) %\n",
    "Ford C-Max; Energi SE ('17) %\n",
    "Ford C-Max; Energi Titanium ('17)\n",
    "</p>\n",
    "</td></tr>\n",
    "<tr>\n",
    "<td>P51\n",
    "</td>\n",
    "<td>\n",
    "<p><a href=\"https://en.wikipedia.org/wiki/Mercury_LN7\" class=\"extiw\" title=\"w:Mercury LN7\">Mercury LN7</a> ('83) %\n",
    "</p>\n",
    "</td></tr>\n",
    "<tr>\n",
    "<td>P54%P55%P57%P58%P60%P61%P63%P65%P66%P68%P51%P52%P53%P58%P59%P63%P64%\n",
    "</td>\n",
    "<td>\n",
    "<p><a href=\"https://en.wikipedia.org/wiki/Mercury_Lynx\" class=\"extiw\" title=\"w:Mercury Lynx\">Mercury Lynx</a>; 3-d hatchback; Base model ('84-'85), L ('83-'85) %\n",
    "Mercury Lynx; 3-d hatchback; GS ('83-'85) %\n",
    "Mercury Lynx; 3-d hatchback; RS ('83-'84), Turbo RS ('84) %\n",
    "Mercury Lynx; 3-d hatchback; LS ('83) %\n",
    "Mercury Lynx; wagon; L ('83-'85) %\n",
    "Mercury Lynx; wagon; GS ('83-'85) %\n",
    "Mercury Lynx; wagon; LS ('83) %\n",
    "Mercury Lynx; 5-d hatchback; Base model ('84), L ('83-'85), LTS ('83) %\n",
    "Mercury Lynx; 5-d hatchback; GS ('83-'85) %\n",
    "Mercury Lynx; 5-d hatchback; LS ('83), LTS ('84) %\n",
    "Mercury Lynx; 3-d hatchback; Base model, L ('85 1/2-'86)  %\n",
    "Mercury Lynx; 3-d hatchback; GS ('85 1/2-'86) %\n",
    "Mercury Lynx; 3-d hatchback; XR3 ('86) %\n",
    "Mercury Lynx; wagon; L ('85 1/2-'86) %\n",
    "Mercury Lynx; wagon; GS ('85 1/2-'86) %\n",
    "Mercury Lynx; 5-d hatchback; L ('85 1/2-'86) %\n",
    "Mercury Lynx; 5-d hatchback; GS ('85 1/2-'86) %\n",
    "</p>\n",
    "</td></tr>\n",
    "<tr>\n",
    "<td>P61\n",
    "</td>\n",
    "<td>\n",
    "<p><a href=\"https://en.wikipedia.org/wiki/Mercury_LN7\" class=\"extiw\" title=\"w:Mercury LN7\">Mercury LN7</a> ('82) %\n",
    "</p>\n",
    "</td></tr>\n",
    "<tr>\n",
    "<td>P63%P64%P65\n",
    "</td>\n",
    "<td>\n",
    "<p><a href=\"https://en.wikipedia.org/wiki/Mercury_Lynx\" class=\"extiw\" title=\"w:Mercury Lynx\">Mercury Lynx</a>; 3-d hatchback ('81-'82) %\n",
    "Mercury Lynx; 5-d hatchback ('82) %\n",
    "Mercury Lynx; wagon ('81-'82) %\n",
    "</p>\n",
    "</td></tr>\n",
    "<tr>\n",
    "<td>P42\n",
    "</td>\n",
    "<td>\n",
    "<p><a href=\"https://en.wikipedia.org/wiki/Ford_Thunderbird_(eighth_generation)\" class=\"extiw\" title=\"w:Ford Thunderbird (eighth generation)\">Ford Thunderbird</a>; All models ('81-'82)%\n",
    "</p>\n",
    "</td></tr>\n",
    "<tr>\n",
    "<td>P46%P60%P61%P62%P64\n",
    "</td>\n",
    "<td>\n",
    "<p><a href=\"https://en.wikipedia.org/wiki/Ford_Thunderbird_(ninth_generation)\" class=\"extiw\" title=\"w:Ford Thunderbird (ninth generation)\">Ford Thunderbird</a>; All models ('83-'86)%\n",
    "Ford Thunderbird, Base model ('87-'88)%\n",
    "Ford Thunderbird, Sport ('87-'88)%\n",
    "Ford Thunderbird, LX ('87-'88)%\n",
    "Ford Thunderbird, Turbo Coupe ('87-'88)\n",
    "</p>\n",
    "</td></tr>\n",
    "<tr>\n",
    "<td>P60%P62%P64\n",
    "</td>\n",
    "<td>\n",
    "<p><a href=\"https://en.wikipedia.org/wiki/Ford_Thunderbird_(tenth_generation)\" class=\"extiw\" title=\"w:Ford Thunderbird (tenth generation)\">Ford Thunderbird</a>; Base model ('89-'92)%\n",
    "Ford Thunderbird, LX ('89-'97)%\n",
    "Ford Thunderbird, Super Coupe ('89-'95)\n",
    "</p>\n",
    "</td></tr>\n",
    "<tr>\n",
    "<td>P60%P62%P63%P64%P69\n",
    "</td>\n",
    "<td>\n",
    "<p><a href=\"https://en.wikipedia.org/wiki/Ford_Thunderbird_(eleventh_generation)\" class=\"extiw\" title=\"w:Ford Thunderbird (eleventh generation)\">Ford Thunderbird</a>; ('02-'05)%\n",
    "Ford Thunderbird; James Bond Edition ('03)%\n",
    "Ford Thunderbird; Pacific Coast Roadster Edition ('04)%\n",
    "Ford Thunderbird; Neiman Marcus Edition ('02)%\n",
    "Ford Thunderbird; 50th Anniversary \"Cashmere\" Limited Edition ('05)\n",
    "</p>\n",
    "</td></tr>\n",
    "<tr>\n",
    "<td>P65%P66%P67%P68\n",
    "</td>\n",
    "<td>\n",
    "<p><a href=\"https://en.wikipedia.org/wiki/Ford_Contour\" class=\"extiw\" title=\"w:Ford Contour\">Ford Contour</a>; Base model ('97-Mid '98), GL ('95-Mid '98), LX (Mid '98-'99) %\n",
    "Ford Contour; LX ('95-Mid '98), SE (Mid '98-'00) %\n",
    "Ford Contour; SE ('95-Mid '98) %\n",
    "Ford Contour; <a href=\"https://en.wikipedia.org/wiki/Ford_SVT_Contour\" class=\"extiw\" title=\"w:Ford SVT Contour\">SVT</a> ('98-'00)\n",
    "</p>\n",
    "</td></tr>\n",
    "<tr>\n",
    "<td>P67%P68%P79\n",
    "</td>\n",
    "<td>\n",
    "<p><a href=\"https://en.wikipedia.org/wiki/Mercury_Capri#Second_generation_(1979–1986)\" class=\"extiw\" title=\"w:Mercury Capri\">Mercury Capri</a>; Base, L, RS, Turbo RS, Black Magic ('81-'82)%\n",
    "Mercury Capri; GS ('81-'82)%\n",
    "Mercury Capri; All models ('83-'86)\n",
    "</p>\n",
    "</td></tr>\n",
    "<tr>\n",
    "<td>P70%P71%P72%P73%P86%P87\n",
    "</td>\n",
    "<td>\n",
    "<p><a href=\"https://en.wikipedia.org/wiki/Mercury_Zephyr\" class=\"extiw\" title=\"w:Mercury Zephyr\">Mercury Zephyr</a>; 2-d sedan; ('81) %\n",
    "Mercury Zephyr; 4-d sedan; ('81-'82) %\n",
    "Mercury Zephyr; Z-7 2-d coupe; ('81-'82) %\n",
    "Mercury Zephyr; wagon; ('81) %\n",
    "Mercury Zephyr; 4-d sedan; ('83) %\n",
    "Mercury Zephyr; Z-7 2-d coupe; ('83)\n",
    "</p>\n",
    "</td></tr>\n",
    "<tr>\n",
    "<td>P72%P73%P75%P76\n",
    "</td>\n",
    "<td>\n",
    "<p><a href=\"https://en.wikipedia.org/wiki/Mercury_Topaz\" class=\"extiw\" title=\"w:Mercury Topaz\">Mercury Topaz</a> GS 2-door sedan ('84-'86) %\n",
    "Mercury Topaz LS 2-door sedan ('84-'86) %\n",
    "Mercury Topaz GS 4-door sedan ('84-'86) %\n",
    "Mercury Topaz LS 4-door sedan ('84-'86)\n",
    "</p>\n",
    "</td></tr>\n",
    "<tr>\n",
    "<td>P70%P71%P72%P73%P74%P75%P76%P77%P78%P79\n",
    "</td>\n",
    "<td>\n",
    "<p><a href=\"https://en.wikipedia.org/wiki/Ford_LTD_Crown_Victoria\" class=\"extiw\" title=\"w:Ford LTD Crown Victoria\">Ford LTD Crown Victoria</a>; 2-d sedan ('87) %\n",
    "Ford LTD Crown Victoria; LX 2-d sedan ('87) %\n",
    "Ford LTD Crown Victoria; S 4-d sedan ('87-'91) %\n",
    "Ford LTD Crown Victoria; 4-d sedan ('87-'91) %\n",
    "Ford LTD Crown Victoria; LX 4-d sedan ('87-'91) %\n",
    "Ford LTD Crown Victoria; S wagon ('87) %\n",
    "Ford LTD Crown Victoria; wagon ('87-'91) %\n",
    "Ford LTD Crown Victoria; LX wagon ('87-'91) %\n",
    "Ford LTD Crown Victoria; Country Squire wagon ('87-'91) %\n",
    "Ford LTD Crown Victoria; Country Squire LX wagon ('87-'91)\n",
    "</p>\n",
    "</td></tr>\n",
    "<tr>\n",
    "<td>P70%P71%P72%P73%P74%P75%P7A%P7B%P7C%P7E\n",
    "</td>\n",
    "<td>\n",
    "<p><a href=\"https://en.wikipedia.org/wiki/Ford_Crown_Victoria\" class=\"extiw\" title=\"w:Ford Crown Victoria\">Ford Crown Victoria</a>; Long Wheelbase - Fleet/Taxi/Commercial ('02-'09) %\n",
    "Ford Crown Victoria; <a href=\"https://en.wikipedia.org/wiki/Ford_Crown_Victoria_Police_Interceptor\" class=\"extiw\" title=\"w:Ford Crown Victoria Police Interceptor\">Police Interceptor</a> ('93-'09) %\n",
    "Ford Crown Victoria; (S) Fleet/Taxi/Commercial ('92-'09), Police ('92) %\n",
    "Ford Crown Victoria; Base model ('92-'08) %\n",
    "Ford Crown Victoria; LX ('92-'09) &amp; LX Sport ('02-'06) %\n",
    "Ford Crown Victoria; Touring Sedan ('92) %\n",
    "Ford Crown Victoria; Long Wheelbase - Fleet/Taxi/Commercial ('10-'11) %\n",
    "Ford Crown Victoria; <a href=\"https://en.wikipedia.org/wiki/Ford_Crown_Victoria_Police_Interceptor\" class=\"extiw\" title=\"w:Ford Crown Victoria Police Interceptor\">Police Interceptor</a> ('10-'11) %\n",
    "Ford Crown Victoria; (S) Fleet/Taxi/Commercial ('10-'11) %\n",
    "Ford Crown Victoria; LX ('10-'11)\n",
    "</p>\n",
    "</td></tr>\n",
    "<tr>\n",
    "<td>P80\n",
    "</td>\n",
    "<td><a href=\"https://en.wikipedia.org/wiki/Merkur_XR4Ti\" class=\"extiw\" title=\"w:Merkur XR4Ti\">Merkur XR4Ti</a> ('85-'86)\n",
    "</td></tr>\n",
    "<tr>\n",
    "<td>P81%P82%P83%P84%P85%P87%P88\n",
    "</td>\n",
    "<td>\n",
    "<p><a href=\"https://en.wikipedia.org/wiki/Mercury_Marquis#Third_generation_(1979–1982)\" class=\"extiw\" title=\"w:Mercury Marquis\">Mercury Marquis</a> 4-door sedan ('81-'82) %\n",
    "Mercury Marquis Brougham 2-door sedan ('81-'82) %\n",
    "Mercury Marquis Brougham 4-door sedan ('81-'82) %\n",
    "Mercury Grand Marquis 2-door sedan ('81-'82) %\n",
    "Mercury Grand Marquis 4-door sedan ('81-'82) %\n",
    "Mercury Marquis wagon ('81-'82) %\n",
    "Mercury Marquis Colony Park wagon ('81-'82)\n",
    "</p>\n",
    "</td></tr>\n",
    "<tr>\n",
    "<td>P80%P82%P84\n",
    "</td>\n",
    "<td>\n",
    "<p><a href=\"https://en.wikipedia.org/wiki/Mazda_6#First_generation_(GG1;_2002)\" class=\"extiw\" title=\"w:Mazda 6\">Mazda 6</a>; 4-d sedan ('03-'08)* %\n",
    "Mazda 6; wagon ('04-'07) %\n",
    "Mazda 6; 5-d hatchback ('04-'08)\n",
    "</p>\n",
    "</td></tr>\n",
    "<tr>\n",
    "<td>P80%P81%P82\n",
    "</td>\n",
    "<td>\n",
    "<p><a href=\"https://en.wikipedia.org/wiki/Mazda_6#North_America\" class=\"extiw\" title=\"w:Mazda 6\">Mazda 6</a>; SV (Special Value) ('09) %\n",
    "Mazda 6; Sport ('09) %\n",
    "Mazda 6; Touring, Grand Touring ('09)\n",
    "</p>\n",
    "</td></tr>\n",
    "<tr>\n",
    "<td>P87%P88\n",
    "</td>\n",
    "<td>\n",
    "<p><a href=\"https://en.wikipedia.org/wiki/Mercury_Sable#First_generation_(1986–1991)\" class=\"extiw\" title=\"w:Mercury Sable\">Mercury Sable</a> 4-door sedan ('86) %\n",
    "Mercury Sable wagon ('86)\n",
    "</p>\n",
    "</td></tr>\n",
    "<tr>\n",
    "<td>P89%P90\n",
    "</td>\n",
    "<td>\n",
    "<p><a href=\"https://en.wikipedia.org/wiki/Mercury_Marquis#Fourth_generation_(1983–1986)\" class=\"extiw\" title=\"w:Mercury Marquis\">Mercury Marquis</a> 4-door sedan ('83-'86) %\n",
    "Mercury Marquis wagon ('83-'86)\n",
    "</p>\n",
    "</td></tr>\n",
    "<tr>\n",
    "<td>P88\n",
    "</td>\n",
    "<td>\n",
    "<p><a href=\"https://en.wikipedia.org/wiki/Ford_EXP\" class=\"extiw\" title=\"w:Ford EXP\">Ford EXP</a>; Luxury Coupe ('88 1/2)\n",
    "</p>\n",
    "</td></tr>\n",
    "<tr>\n",
    "<td>P90%P91%P93%P95%P98\n",
    "</td>\n",
    "<td>\n",
    "<p><a href=\"https://en.wikipedia.org/wiki/Ford_Escort_(North_America)#First_generation_(1981–1990)\" class=\"extiw\" title=\"w:Ford Escort (North America)\">Ford Escort</a>; 3-door hatchback; Pony ('88 1/2-'90) %\n",
    "Ford Escort; 3-door hatchback; LX ('88 1/2-'90) %\n",
    "Ford Escort; 3-door hatchback; GT ('88 1/2-'90) %\n",
    "Ford Escort; 5-door hatchback; LX ('88 1/2-'90) %\n",
    "Ford Escort; wagon; LX ('88 1/2-'90)\n",
    "</p>\n",
    "</td></tr>\n",
    "<tr>\n",
    "<td>P8A%P8C%P8E%P8F%P8J%P8K\n",
    "</td>\n",
    "<td>\n",
    "<p><a href=\"https://en.wikipedia.org/wiki/Ford_Mustang_(fifth_generation)\" class=\"extiw\" title=\"w:Ford Mustang (fifth generation)\">Ford Mustang</a>, Coupe; V6 ('10-'14)%\n",
    "Ford Mustang, Coupe; GT ('10-'14), <a href=\"https://en.wikipedia.org/wiki/Boss_302_Mustang#Second_generation_(2012–2013)\" class=\"extiw\" title=\"w:Boss 302 Mustang\">Boss 302</a> ('11-'12)%\n",
    "Ford Mustang, Convertible; V6 ('10-'14)%\n",
    "Ford Mustang, Convertible; GT ('10-'14)%\n",
    "Ford Mustang, Coupe; <a href=\"https://en.wikipedia.org/wiki/Ford_Mustang_(fifth_generation)#Shelby_GT500\" class=\"extiw\" title=\"w:Ford Mustang (fifth generation)\">Shelby GT500</a> ('10-'14)%\n",
    "Ford Mustang, Convertible; Shelby GT500 ('10-'14)\n",
    "</p>\n",
    "</td></tr>\n",
    "<tr>\n",
    "<td>P8A%P8C%P8E%P8F%P8J%P8K%P8R%P8R%P8S%P8T%P8U\n",
    "</td>\n",
    "<td>\n",
    "<p><a href=\"https://en.wikipedia.org/wiki/Ford_Mustang_(sixth_generation)\" class=\"extiw\" title=\"w:Ford Mustang (sixth generation)\">Ford Mustang</a>, Coupe; V6 ('15-'17)%\n",
    "Ford Mustang, Coupe; GT ('15-'23)%\n",
    "Ford Mustang, Convertible; V6 ('15-'17)%\n",
    "Ford Mustang, Convertible; GT ('15-'23)%\n",
    "Ford Mustang, Coupe; <a href=\"https://en.wikipedia.org/wiki/Shelby_Mustang#Ford_Performance_3rd_generation_Shelby_GT350_(2015–2020)\" class=\"extiw\" title=\"w:Shelby Mustang\">Shelby GT350/GT350R</a> ('15-'20)%\n",
    "Ford Mustang, Coupe; <a href=\"https://en.wikipedia.org/wiki/Ford_Mustang_variants#Bullitt\" class=\"extiw\" title=\"w:Ford Mustang variants\">Bullitt</a> ('19-'20)%\n",
    "Ford Mustang, Coupe; <a href=\"https://en.wikipedia.org/wiki/Ford_Mustang_(sixth_generation)#Mustang_50_Year_Limited_Edition_(2015)\" class=\"extiw\" title=\"w:Ford Mustang (sixth generation)\">50th Anniversary Limited Edition</a> ('15)%\n",
    "Ford Mustang, Coupe; <a href=\"https://en.wikipedia.org/wiki/Ford_Mustang_(sixth_generation)#Mach_1_(2021–2023)\" class=\"extiw\" title=\"w:Ford Mustang (sixth generation)\">Mach 1</a> ('21-'23)%\n",
    "Ford Mustang, Coupe; <a href=\"https://en.wikipedia.org/wiki/Shelby_Mustang#Ford_Performance_3rd_generation_Shelby_GT500_(2020–2022)\" class=\"extiw\" title=\"w:Shelby Mustang\">Shelby GT500</a> ('20-'22)%\n",
    "Ford Mustang, Coupe; EcoBoost I4 ('15-'23)%\n",
    "Ford Mustang, Convertible; EcoBoost I4 ('15-'23)\n",
    "</p>\n",
    "</td></tr>\n",
    "<tr>\n",
    "<td>P8C%P8F%P8R%P8T%P8U\n",
    "</td>\n",
    "<td>\n",
    "<p><a href=\"https://en.wikipedia.org/wiki/Ford_Mustang_(seventh_generation)\" class=\"extiw\" title=\"w:Ford Mustang (seventh generation)\">Ford Mustang</a>, Coupe;  GT ('24)%\n",
    "Ford Mustang, Convertible; GT ('24)%\n",
    "Ford Mustang, Coupe; Dark Horse ('24)%\n",
    "Ford Mustang, Coupe; EcoBoost I4 ('24)%\n",
    "Ford Mustang, Convertible; EcoBoost I4 ('24)\n",
    "</p>\n",
    "</td></tr>\n",
    "<tr>\n",
    "<td>P76%P77%P78%P90\n",
    "</td>\n",
    "<td>\n",
    "<p><a href=\"https://en.wikipedia.org/wiki/Mercury_Cougar#Fifth_generation_(1980–1982)\" class=\"extiw\" title=\"w:Mercury Cougar\">Mercury Cougar</a>; 2-d sedan ('81-'82) %\n",
    "Mercury Cougar; 4-d sedan ('81-'82) %\n",
    "Mercury Cougar; wagon ('82) %\n",
    "Mercury Cougar XR-7; 2-d coupe ('81-'82)\n",
    "</p>\n",
    "</td></tr>\n",
    "<tr>\n",
    "<td>P92\n",
    "</td>\n",
    "<td>\n",
    "<p><a href=\"https://en.wikipedia.org/wiki/Mercury_Cougar#Sixth_generation_(1983–1988)\" class=\"extiw\" title=\"w:Mercury Cougar\">Mercury Cougar</a>; All models ('83-'86)\n",
    "</p>\n",
    "</td></tr>\n",
    "<tr>\n",
    "<td>P93%P94%P96\n",
    "</td>\n",
    "<td>\n",
    "<p><a href=\"https://en.wikipedia.org/wiki/Lincoln_Town_Car#First_generation_(1981–1989)\" class=\"extiw\" title=\"w:Lincoln Town Car\">Lincoln Town Car</a>; 2-d ('81) %\n",
    "Lincoln Town Car; 4-d ('81-'82) %\n",
    "Lincoln Town Car; All models ('83-'86) %\n",
    "</p>\n",
    "</td></tr>\n",
    "<tr>\n",
    "<td>P95%P96\n",
    "</td>\n",
    "<td>\n",
    "<p><a href=\"https://en.wikipedia.org/wiki/Lincoln_Continental_Mark_VI\" class=\"extiw\" title=\"w:Lincoln Continental Mark VI\">Lincoln Continental Mark VI</a>; 2-d ('81-'82) %\n",
    "Lincoln Continental Mark VI; 4-d ('81-'82)\n",
    "</p>\n",
    "</td></tr>\n",
    "<tr>\n",
    "<td>P93%P94%P95\n",
    "</td>\n",
    "<td>\n",
    "<p><a href=\"https://en.wikipedia.org/wiki/Mercury_Grand_Marquis#First_generation_(1979–1991)\" class=\"extiw\" title=\"w:Mercury Grand Marquis\">Mercury Grand Marquis</a> 2-door sedan ('83-'86) %\n",
    "Mercury Grand Marquis Colony Park wagon ('83-'86) %\n",
    "Mercury Grand Marquis 4-door sedan ('83-'86) %\n",
    "</p>\n",
    "</td></tr>\n",
    "<tr>\n",
    "<td>P97\n",
    "</td>\n",
    "<td>\n",
    "<p><a href=\"https://en.wikipedia.org/wiki/Lincoln_Continental#Seventh_generation_(1982–1987)\" class=\"extiw\" title=\"w:Lincoln Continental\">Lincoln Continental</a>; All models ('83-'86)\n",
    "</p>\n",
    "</td></tr>\n",
    "<tr>\n",
    "<td>P98\n",
    "</td>\n",
    "<td>\n",
    "<p><a href=\"https://en.wikipedia.org/wiki/Lincoln_Continental#Seventh_generation_(1982–1987)\" class=\"extiw\" title=\"w:Lincoln Continental\">Lincoln Continental</a>; All models ('82)\n",
    "</p>\n",
    "</td></tr>\n",
    "<tr>\n",
    "<td>P98%P99\n",
    "</td>\n",
    "<td>\n",
    "<p><a href=\"https://en.wikipedia.org/wiki/Lincoln_Continental_Mark_VI\" class=\"extiw\" title=\"w:Lincoln Continental Mark VI\">Lincoln Continental Mark VI</a>; 2-d ('83) %\n",
    "Lincoln Continental Mark VI; 4-d ('83)\n",
    "</p>\n",
    "</td></tr>\n",
    "<tr>\n",
    "<td>P98\n",
    "</td>\n",
    "<td>\n",
    "<p><a href=\"https://en.wikipedia.org/wiki/Lincoln_Continental_Mark_VII\" class=\"extiw\" title=\"w:Lincoln Continental Mark VII\">Lincoln Mark VII</a>; All models ('84-'86)\n",
    "</p>\n",
    "</td></tr>\n",
    "<tr>\n",
    "<td>P90%P9C%P9D%P9E%P9F%P9G%P9H%P9J%P9K\n",
    "</td>\n",
    "<td>\n",
    "<p><a href=\"https://en.wikipedia.org/wiki/Ford_GT#First_generation_(2005–2006)\" class=\"extiw\" title=\"w:Ford GT\">Ford GT</a> ('05-'06) %\n",
    "<a href=\"https://en.wikipedia.org/wiki/Ford_GT#Second_generation_(2016–2022)\" class=\"extiw\" title=\"w:Ford GT\">Ford GT</a> ('17-'22) %\n",
    "Ford GT ('20-'22) Carbon Series %\n",
    "Ford GT ('20-'22) Heritage Edition %\n",
    "Ford GT ('21-'22) Liquid Carbon Series %\n",
    "Ford GT ('21-'22) Studio Collection 1 %\n",
    "Ford GT ('21-'22) Studio Collection 2 %\n",
    "Ford GT ('21-'22) Studio Collection 3 %\n",
    "Ford GT ('22) Final Edition\n",
    "</p>\n",
    "</td></tr>\n",
    "<tr>\n",
    "<td>R08%R10%R11%R12%R14%R15%R14%R15%R44%R45%R1A%R1E%R1F%R4E%R4F\n",
    "</td>\n",
    "<td>\n",
    "<p><a href=\"https://en.wikipedia.org/wiki/Ford_Ranger_EV\" class=\"extiw\" title=\"w:Ford Ranger EV\">Ford Ranger EV</a> Regular Cab 4x2 ('99-'01) %\n",
    "<a href=\"https://en.wikipedia.org/wiki/Ford_Ranger_(Americas)\" class=\"extiw\" title=\"w:Ford Ranger (Americas)\">Ford Ranger</a> Regular Cab 4x2 ('83-'09), Ranger EV ('98) %\n",
    "Ford Ranger Regular Cab 4x4 ('83-'08) %\n",
    "Ford Ranger Chassis Cab 4x2 ('84-'86) %\n",
    "Ford Ranger SuperCab 4x2 ('86-'01) %\n",
    "Ford Ranger SuperCab 4x4 ('86-'01) %\n",
    "Ford Ranger SuperCab 2-door 4x2 ('02-'09) %\n",
    "Ford Ranger SuperCab 2-door 4x4 ('02-'09) %\n",
    "Ford Ranger SuperCab 4-door 4x2 ('02-'09) %\n",
    "Ford Ranger SuperCab 4-door 4x4 ('02-'09) %\n",
    "Ford Ranger Regular Cab 4x2 ('10-'11) %\n",
    "Ford Ranger SuperCab 2-door 4x2 ('10-'11) %\n",
    "Ford Ranger SuperCab 2-door 4x4 ('10-'11) %\n",
    "Ford Ranger SuperCab 4-door 4x2 ('10-'11) %\n",
    "Ford Ranger SuperCab 4-door 4x4 ('10-'11)\n",
    "</p>\n",
    "</td></tr>\n",
    "<tr>\n",
    "<td>R12%R13%R16%R17%R16%R17%R46%R47\n",
    "</td>\n",
    "<td>\n",
    "<p><a href=\"https://en.wikipedia.org/wiki/Ford_Ranger_(Americas)#Mazda_B-Series/Mazda_Truck_(1994–2010)\" class=\"extiw\" title=\"w:Ford Ranger (Americas)\">Mazda B-Series</a> Regular Cab 4x2 ('94-'09) %\n",
    "Mazda B-Series Regular Cab 4x4 ('94-'01) %\n",
    "Mazda B-Series Cab Plus 4x2 ('94-'01) %\n",
    "Mazda B-Series Cab Plus 4x4 ('94-'01) %\n",
    "Mazda B-Series Cab Plus 2-door 4x2 ('02-'04) %\n",
    "Mazda B-Series Cab Plus 2-door 4x4 ('02-'04) %\n",
    "Mazda B-Series Cab Plus 4 (4-door) 4x2 ('02-'09) %\n",
    "Mazda B-Series Cab Plus 4 (4-door) 4x4 ('02-'09)\n",
    "</p>\n",
    "</td></tr>\n",
    "<tr>\n",
    "<td>R1A%R1E%R1F%R4E%R4F\n",
    "</td>\n",
    "<td>\n",
    "<p><a href=\"https://en.wikipedia.org/wiki/Ford_Ranger_(T6)#North_American_version_(2019–2023)\" class=\"extiw\" title=\"w:Ford Ranger (T6)\">Ford Ranger</a> SuperCab, Box Delete, 4x2 ('19-'21) %\n",
    "Ford Ranger SuperCab 4x2 ('19-'23) %\n",
    "Ford Ranger SuperCab 4x4 ('19-'23) %\n",
    "Ford Ranger SuperCrew 4x2 ('19-'23) %\n",
    "Ford Ranger SuperCrew 4x4 ('19-'23)\n",
    "</p>\n",
    "</td></tr>\n",
    "<tr>\n",
    "<td>R4B%R4G%R4H%R4J%R4K%R4L%R4P\n",
    "</td>\n",
    "<td>\n",
    "<p><a href=\"https://en.wikipedia.org/wiki/Ford_Ranger_(T6)#North_American_version\" class=\"extiw\" title=\"w:Ford Ranger (T6)\">Ford Ranger</a> XL 4x2 SuperCrew ('24-) %\n",
    "Ford Ranger XLT 4x2 SuperCrew ('24-) %\n",
    "Ford Ranger XLT 4x4 SuperCrew ('24-) %\n",
    "Ford Ranger Lariat 4x2 SuperCrew ('24-) %\n",
    "Ford Ranger Lariat 4x4 SuperCrew ('24-) %\n",
    "Ford Ranger Raptor 4x4 SuperCrew ('24-) %\n",
    "Ford Ranger XL 4x4 SuperCrew ('24-)\n",
    "</p>\n",
    "</td></tr>\n",
    "<tr>\n",
    "<td>R1Y%R1Z%R2Y%R2Z%R1C%R1D%R2C%R2D%R2X%R2U%R3X%R3U%R5P%R5Z%R7P%R7Z%R1Y%R2Y%R1Z%R2Z%R5P%R5Z%R7P%R7Z%R1C%R2C%R1D%R2D%R1X%R2X%R1V%R2V%R3X%R3U%\n",
    "</td>\n",
    "<td>\n",
    "<p><a href=\"https://en.wikipedia.org/wiki/Ford_Transit#Fourth_generation_(2014)\" class=\"extiw\" title=\"w:Ford Transit\">Ford Transit</a> 250, Cargo Van, Low Roof, Sliding Passenger-Side Cargo Door, Regular (130 in.) wheelbase ('15-'19) %\n",
    "Ford Transit 250, Cargo Van, Low Roof, 60/40 Passenger-Side Cargo Doors, Regular (130 in.) wheelbase ('15-'19) %\n",
    "Ford Transit 250, Cargo Van, Low Roof, Sliding Passenger-Side Cargo Door, Long (148 in.) wheelbase ('15-'19) %\n",
    "Ford Transit 250, Cargo Van, Low Roof, 60/40 Passenger-Side Cargo Doors, Long (148 in.) wheelbase ('15-'19) %\n",
    "Ford Transit 250, Cargo Van, Medium Roof, Sliding Passenger-Side Cargo Door, Regular (130 in.) wheelbase ('15-'19) %\n",
    "Ford Transit 250, Cargo Van, Medium Roof, Dual Sliding Side Cargo-Doors, Regular (130 in.) wheelbase ('16-'19) %\n",
    "Ford Transit 250, Cargo Van, Medium Roof, Sliding Passenger-Side Cargo Door, Long (148 in.) wheelbase ('15-'19) %\n",
    "Ford Transit 250, Cargo Van, Medium Roof, Dual Sliding Side Cargo-Doors, Long (148 in.) wheelbase ('16-'19) %\n",
    "Ford Transit 250, Cargo Van, High Roof, Sliding Passenger-Side Cargo Door, Long (148 in.) wheelbase ('15-'19) %\n",
    "Ford Transit 250, Cargo Van, High Roof, Dual Sliding Side Cargo-Doors, Long (148 in.) wheelbase ('16-'19) %\n",
    "Ford Transit 250, Cargo Van, High Roof, Sliding Passenger-Side Cargo Door, Long (148 in.) wheelbase Extended Length ('15-'19) %\n",
    "Ford Transit 250, Cargo Van, High Roof, Dual Sliding Side Cargo-Doors, Long (148 in.) wheelbase Extended Length ('16-'19) %\n",
    "Ford Transit 250, Single Rear Wheels, Cutaway, Low Roof, 138 in. wheelbase, 9,000 lb. GVWR ('15-'19) %\n",
    "Ford Transit 250, Single Rear Wheels, Chassis Cab, Low Roof, 138 in. wheelbase, 9,000 lb. GVWR ('15-'19) %\n",
    "Ford Transit 250, Single Rear Wheels, Cutaway, Low Roof, 156 in. wheelbase, 9,000 lb. GVWR ('15-'19) %\n",
    "Ford Transit 250, Single Rear Wheels, Chassis Cab, Low Roof, 156 in. wheelbase, 9,000 lb. GVWR ('15-'19) %\n",
    "Ford Transit 250, Cargo Van, Low Roof, RWD ('20-) %\n",
    "Ford Transit 250, Cargo Van, Low Roof, AWD ('20-) %\n",
    "Ford Transit 250, Crew Van, Low Roof, RWD ('20-'23) %\n",
    "Ford Transit 250, Crew Van, Low Roof, AWD ('20-'23) %\n",
    "Ford Transit 250, Single Rear Wheels, Cutaway, Low Roof, RWD, 9,070 lb. GVWR ('20-'23)/9,150 lb. GVWR ('24-) %\n",
    "Ford Transit 250, Single Rear Wheels, Chassis Cab, Low Roof, RWD, 9,070 lb. GVWR ('20-'23)/9,150 lb. GVWR ('24-) %\n",
    "Ford Transit 250, Single Rear Wheels, Cutaway, Low Roof, AWD, 9,070 lb. GVWR ('20-'23)/9,150 lb. GVWR ('24-) %\n",
    "Ford Transit 250, Single Rear Wheels, Chassis Cab, Low Roof, AWD, 9,070 lb. GVWR ('20-'23)/9,150 lb. GVWR ('24-) %\n",
    "Ford Transit 250, Cargo Van, Medium Roof, RWD ('20-) %\n",
    "Ford Transit 250, Cargo Van, Medium Roof, AWD ('20-) %\n",
    "Ford Transit 250, Crew Van, Medium Roof, RWD ('20-'23) %\n",
    "Ford Transit 250, Crew Van, Medium Roof, AWD ('20-'23) %\n",
    "Ford Transit 250, Cargo Van, High Roof, Long (148 in.) wheelbase, RWD ('20-) %\n",
    "Ford Transit 250, Cargo Van, High Roof, Long (148 in.) wheelbase, AWD ('20-) %\n",
    "Ford Transit 250, Crew Van, High Roof, Long (148 in.) wheelbase, RWD ('20-'23) %\n",
    "Ford Transit 250, Crew Van, High Roof, Long (148 in.) wheelbase, AWD ('20-'23) %\n",
    "Ford Transit 250, Cargo Van, High Roof, Long (148 in.) wheelbase Extended Length, RWD ('20-) %\n",
    "Ford Transit 250, Cargo Van, High Roof, Long (148 in.) wheelbase Extended Length, AWD ('20-) %\n",
    "</p>\n",
    "</td></tr>\n",
    "<tr>\n",
    "<td>R9A%R9B%R9C%R9D%R9F%R9G%R9H%R9K\n",
    "</td>\n",
    "<td>\n",
    "<p><a href=\"https://en.wikipedia.org/wiki/Ford_Bronco_Sport\" class=\"extiw\" title=\"w:Ford Bronco Sport\">Ford Bronco Sport</a> Base model ('21-'23) %\n",
    "Ford Bronco Sport Big Bend ('21-) %\n",
    "Ford Bronco Sport Outer Banks ('21-) %\n",
    "Ford Bronco Sport Badlands ('21-) %\n",
    "Ford Bronco Sport First Edition ('21) %\n",
    "Ford Bronco Sport Heritage Edition ('23-) %\n",
    "Ford Bronco Sport Heritage Limited Edition ('23) %\n",
    "Ford Bronco Sport Free Wheeling ('24-) %\n",
    "</p>\n",
    "</td></tr>\n",
    "<tr>\n",
    "<td>S11%S14%S15%S16%S21%S24%S25%S26%S31%S34%S35%S36\n",
    "</td>\n",
    "<td>\n",
    "<p><a href=\"https://en.wikipedia.org/wiki/Ford_E-Series#Third_generation_(1975–1991)\" class=\"extiw\" title=\"w:Ford E-Series\">Ford Econoline</a>, Club Wagon E-150 extended length ('81-'82) %\n",
    "Ford Econoline, E-150 Cargo Van extended length ('81-'91) %\n",
    "Ford Econoline, E-150 Window Van extended length ('81-'87) %\n",
    "Ford Econoline, E-150 Display Van extended length ('81-'84) %\n",
    "Ford Econoline, Club Wagon E-250 extended length ('83-'84) %\n",
    "Ford Econoline, E-250 Cargo Van extended length ('81-'91) %\n",
    "Ford Econoline, E-250 Window Van extended length ('81-'85) %\n",
    "Ford Econoline, E-250 Display Van extended length ('81-'84) %\n",
    "Ford Econoline, Club Wagon E-350 extended length ('81-'91) %\n",
    "Ford Econoline, E-350 Cargo Van extended length ('81-'91) %\n",
    "Ford Econoline, E-350 Window Van extended length ('81-'87) %\n",
    "Ford Econoline, E-350 Display Van extended length ('81-'84) %\n",
    "</p>\n",
    "</td></tr>\n",
    "<tr>\n",
    "<td>S14%S24%S31%S34%S1E%S2E%S3B%S3E\n",
    "</td>\n",
    "<td>\n",
    "<p><a href=\"https://en.wikipedia.org/wiki/Ford_E-Series#Fourth_generation_(1992–present)\" class=\"extiw\" title=\"w:Ford E-Series\">Ford E-Series</a>, E-150 van extended length ('09) %\n",
    "Ford E-Series, E-250 van extended length ('92-'09) %\n",
    "Ford E-Series, E-350 (Super Duty) wagon extended length ('92-'09) %\n",
    "Ford E-Series, E-350 (Super Duty) van extended length ('92-'09) %\n",
    "Ford E-Series, E-150 van extended length ('10-'14) %\n",
    "Ford E-Series, E-250 van extended length ('10-'14) %\n",
    "Ford E-Series, E-350 Super Duty wagon extended length ('10-'14) %\n",
    "Ford E-Series, E-350 Super Duty van extended length ('10-'14)\n",
    "</p>\n",
    "</td></tr>\n",
    "<tr>\n",
    "<td>S2F%S2G%S2K%S3F%S3G%S3J%S3K\n",
    "</td>\n",
    "<td>\n",
    "<p><a href=\"https://en.wikipedia.org/wiki/Ford_EcoSport#Second_generation_(B515;_2012)\" class=\"extiw\" title=\"w:Ford EcoSport\">Ford EcoSport</a>; S FWD ('19-'21) %\n",
    "Ford EcoSport; SE FWD ('19-'21) %\n",
    "Ford EcoSport; Titanium FWD ('19-'21) %\n",
    "Ford EcoSport; S AWD ('19-'22) %\n",
    "Ford EcoSport; SE AWD ('19-'22) %\n",
    "Ford EcoSport; SES AWD ('19-'22) %\n",
    "Ford EcoSport; Titanium AWD ('19-'22)\n",
    "</p>\n",
    "</td></tr>\n",
    "<tr>\n",
    "<td>S4X%S4U%S6P%S6Z%S8P%S8Z%S9P%S9Z%S4X%S4U%S4V%S4W%S6P%S6Z%S8P%S8Z\n",
    "</td>\n",
    "<td>\n",
    "<p><a href=\"https://en.wikipedia.org/wiki/Ford_Transit#Fourth_generation_(2014)\" class=\"extiw\" title=\"w:Ford Transit\">Ford Transit</a> 350 HD, Dual Rear Wheels, Cargo Van, High Roof, Sliding Passenger-Side Cargo Door, Long (148 in.) wheelbase Extended Length ('15-'19) %\n",
    "Ford Transit 350 HD, Dual Rear Wheels, Cargo Van, High Roof, Dual Sliding Side Cargo Doors, Long (148 in.) wheelbase Extended Length ('16-'19) %\n",
    "Ford Transit 350 HD, Dual Rear Wheels, Cutaway, Low Roof, 138 in. wheelbase, 10,360 lb. GVWR ('15-'19) %\n",
    "Ford Transit 350 HD, Dual Rear Wheels, Chassis Cab, Low Roof, 138 in. wheelbase, 10,360 lb. GVWR ('15-'19) %\n",
    "Ford Transit 350 HD, Dual Rear Wheels, Cutaway, Low Roof, 156 in. wheelbase, 10,360 lb. GVWR ('15-'19) %\n",
    "Ford Transit 350 HD, Dual Rear Wheels, Chassis Cab, Low Roof, 156 in. wheelbase, 10,360 lb. GVWR ('15-'19) %\n",
    "Ford Transit 350 HD, Dual Rear Wheels, Cutaway, Low Roof, 178 in. wheelbase, 10,360 lb. GVWR ('15-'19) %\n",
    "Ford Transit 350 HD, Dual Rear Wheels, Chassis Cab, Low Roof, 178 in. wheelbase, 10,360 lb. GVWR ('15-'19) %\n",
    "Ford Transit 350 HD, Dual Rear Wheels, Cargo Van, High Roof, Long (148 in.) wheelbase Extended Length, RWD, 10,360 lb. GVWR ('20-'23) %\n",
    "Ford Transit 350 HD, Dual Rear Wheels, Cargo Van, High Roof, Long (148 in.) wheelbase Extended Length, AWD, 10,360 lb. GVWR ('20-'23) %\n",
    "Ford Transit 350 HD, Dual Rear Wheels, Crew Van, High Roof, Long (148 in.) wheelbase Extended Length, RWD, 10,360 lb. GVWR ('20-'23) %\n",
    "Ford Transit 350 HD, Dual Rear Wheels, Crew Van, High Roof, Long (148 in.) wheelbase Extended Length, AWD, 10,360 lb. GVWR ('20-'23) %\n",
    "Ford Transit 350 HD, Dual Rear Wheels, Cutaway, Low Roof, RWD, 10,360 lb. GVWR ('20-'23) %\n",
    "Ford Transit 350 HD, Dual Rear Wheels, Chassis Cab, Low Roof, RWD, 10,360 lb. GVWR ('20-'23) %\n",
    "Ford Transit 350 HD, Dual Rear Wheels, Cutaway, Low Roof, AWD, 10,360 lb. GVWR ('20-'23) %\n",
    "Ford Transit 350 HD, Dual Rear Wheels, Chassis Cab, Low Roof, AWD, 10,360 lb. GVWR ('20-'23) %\n",
    "</p>\n",
    "</td></tr>\n",
    "<tr>\n",
    "<td>S6A%S6B%S7A%S7B%S7C%S7D%S8A%S9A%S9B%S9C\n",
    "</td>\n",
    "<td>\n",
    "<p><a href=\"https://en.wikipedia.org/wiki/Ford_Transit_Connect#First_generation_(2002)\" class=\"extiw\" title=\"w:Ford Transit Connect\">Ford Transit Connect</a>; XL Cargo Van w/rear- &amp; side-door window glass ('10-'13) %\n",
    "Ford Transit Connect; XLT Cargo Van w/rear- &amp; side-door window glass ('10-'13) %\n",
    "Ford Transit Connect; XL Cargo Van w/no rear- or side-door window glass ('10-'13) %\n",
    "Ford Transit Connect; XLT Cargo Van w/no rear- or side-door window glass ('10-'13) %\n",
    "Ford Transit Connect; XL Cargo Van w/rear-door window glass but no side-door window glass ('10-'13) %\n",
    "Ford Transit Connect; XLT Cargo Van w/rear-door window glass but no side-door window glass ('10-'13) %\n",
    "Ford Transit Connect; XLT Cargo Van w/no rear- or side-door window glass for Canada Post ('11-'13) %\n",
    "Ford Transit Connect; XL Wagon w/rear- &amp; side-door window glass ('10) %\n",
    "Ford Transit Connect; XLT Wagon w/rear- &amp; side-door window glass ('10-'13) %\n",
    "Ford Transit Connect; XLT Premium Wagon w/rear- &amp; side-door window glass &amp; rear-quarter (3rd row) window glass ('11-'13)\n",
    "</p>\n",
    "</td></tr>\n",
    "<tr>\n",
    "<td>S6E%S6F%S6S%S6T%S7E%S7F%S7P%S7R%S7S%S7T%S7U%S8F%S9E%S9F\n",
    "</td>\n",
    "<td>\n",
    "<p><a href=\"https://en.wikipedia.org/wiki/Ford_Transit_Connect#Second_generation_(2012)\" class=\"extiw\" title=\"w:Ford Transit Connect\">Ford Transit Connect</a>; XL Cargo Van SWB w/Swing-Out Rear Cargo Doors ('14-'21) %\n",
    "Ford Transit Connect; XLT Cargo Van SWB w/Swing-Out Rear Cargo Doors ('14-'21) %\n",
    "Ford Transit Connect; XL Cargo Van SWB w/Swing-Out Rear Cargo Doors ('22-'23) %\n",
    "Ford Transit Connect; XLT Cargo Van SWB w/Swing-Out Rear Cargo Doors ('22-'23) %\n",
    "Ford Transit Connect; XL Cargo Van LWB w/Swing-Out Rear Cargo Doors ('14-'21) %\n",
    "Ford Transit Connect; XLT Cargo Van LWB w/Swing-Out Rear Cargo Doors ('14-'21) %\n",
    "Ford Transit Connect; XL Cargo Van LWB w/Swing-Out Rear Cargo Doors for Canada Post ('14-'18) %\n",
    "Ford Transit Connect; XLT Cargo Van LWB w/Swing-Out Rear Cargo Doors for Canada Post ('14-'15) %\n",
    "Ford Transit Connect; XL Cargo Van LWB w/Swing-Out Rear Cargo Doors ('22-'23) %\n",
    "Ford Transit Connect; XLT Cargo Van LWB w/Swing-Out Rear Cargo Doors ('22-'23) %\n",
    "Ford Transit Connect; XL Cargo Van LWB w/Swing-Out Rear Cargo Doors for US Postal Service ('19-'23) %\n",
    "Ford Transit Connect; XLT Wagon SWB w/Swing-Out Rear Cargo Doors ('14-'18) %\n",
    "Ford Transit Connect; XL Wagon LWB w/Swing-Out Rear Cargo Doors ('14-'23) %\n",
    "Ford Transit Connect; XLT Wagon LWB w/Swing-Out Rear Cargo Doors ('14-'23) %\n",
    "</p>\n",
    "</td></tr>\n",
    "<tr>\n",
    "<td>T01%T03\n",
    "</td>\n",
    "<td>\n",
    "<p><a href=\"https://en.wikipedia.org/wiki/Mercury_Capri#Third_generation_(1991–1994)\" class=\"extiw\" title=\"w:Mercury Capri\">Mercury Capri</a>; Base model ('91-'94)%\n",
    "Mercury Capri; XR2 ('91-'94)\n",
    "</p>\n",
    "</td></tr>\n",
    "<tr>\n",
    "<td>T05%T06%T07\n",
    "</td>\n",
    "<td>\n",
    "<p><a href=\"https://en.wikipedia.org/wiki/Ford_Festiva#North_America\" class=\"extiw\" title=\"w:Ford Festiva\">Ford Festiva</a>; L ('90-'93) %\n",
    "Ford Festiva; L ('88-'89), L Plus ('88-'90), GL ('91-'93) %\n",
    "Ford Festiva; LX ('88-'90)\n",
    "</p>\n",
    "</td></tr>\n",
    "<tr>\n",
    "<td>T05%T06%T07\n",
    "</td>\n",
    "<td>\n",
    "<p><a href=\"https://en.wikipedia.org/wiki/Ford_Festiva#Ford_Aspire\" class=\"extiw\" title=\"w:Ford Festiva\">Ford Aspire</a>; 3-door hatchback; Base model ('94-'97) %\n",
    "Ford Aspire; 5-door hatchback; Base model ('94-'97) %\n",
    "Ford Aspire; 3-door hatchback; SE ('94-'95)\n",
    "</p>\n",
    "</td></tr>\n",
    "<tr>\n",
    "<td>T20%T21%T22\n",
    "</td>\n",
    "<td>\n",
    "<p><a href=\"https://en.wikipedia.org/wiki/Ford_Probe\" class=\"extiw\" title=\"w:Ford Probe\">Ford Probe</a>; GL/Base/SE%\n",
    "Ford Probe; LX ('89-'92)%\n",
    "Ford Probe; GT\n",
    "</p>\n",
    "</td></tr>\n",
    "<tr>\n",
    "<td>T60%T61\n",
    "</td>\n",
    "<td>\n",
    "<p><a href=\"https://en.wikipedia.org/wiki/Mercury_Cougar#Eighth_generation_(1999–2002)\" class=\"extiw\" title=\"w:Mercury Cougar\">Mercury Cougar</a>; I4  ('99-'02)%\n",
    "Mercury Cougar; V6 ('99-'02)\n",
    "</p>\n",
    "</td></tr>\n",
    "<tr>\n",
    "<td>T80\n",
    "</td>\n",
    "<td><a href=\"https://en.wikipedia.org/wiki/Merkur_XR4Ti\" class=\"extiw\" title=\"w:Merkur XR4Ti\">Merkur XR4Ti</a> ('87-'89)\n",
    "</td></tr>\n",
    "<tr>\n",
    "<td>T81\n",
    "</td>\n",
    "<td><a href=\"https://en.wikipedia.org/wiki/Merkur_Scorpio\" class=\"extiw\" title=\"w:Merkur Scorpio\">Merkur Scorpio</a> ('88-'89)\n",
    "</td></tr>\n",
    "<tr>\n",
    "<td>T80%T82%T84%T85%T88%T89\n",
    "</td>\n",
    "<td>\n",
    "<p><a href=\"https://en.wikipedia.org/wiki/Ford_Mustang_(fifth_generation)\" class=\"extiw\" title=\"w:Ford Mustang (fifth generation)\">Ford Mustang</a>, Coupe; V6 ('05-'09)%\n",
    "Ford Mustang, Coupe; GT ('05-'09), <a href=\"https://en.wikipedia.org/wiki/Shelby_Mustang#2006;_2007_Ford_Shelby_GT-H\" class=\"extiw\" title=\"w:Shelby Mustang\">Shelby GT-H</a> ('06), <a href=\"https://en.wikipedia.org/wiki/Shelby_Mustang#2007–2008_Ford_Shelby_GT\" class=\"extiw\" title=\"w:Shelby Mustang\">Shelby GT</a> ('07-'08), <a href=\"https://en.wikipedia.org/wiki/Ford_Mustang_variants#Bullitt\" class=\"extiw\" title=\"w:Ford Mustang variants\">Bullitt</a> ('08-'09)%\n",
    "Ford Mustang, Convertible; V6 ('05-'09)%\n",
    "Ford Mustang, Convertible; GT ('05-'09), <a href=\"https://en.wikipedia.org/wiki/Shelby_Mustang#2006;_2007_Ford_Shelby_GT-H\" class=\"extiw\" title=\"w:Shelby Mustang\">Shelby GT-H</a> ('07), <a href=\"https://en.wikipedia.org/wiki/Shelby_Mustang#2007–2008_Ford_Shelby_GT\" class=\"extiw\" title=\"w:Shelby Mustang\">Shelby GT</a> ('08)%\n",
    "Ford Mustang, Coupe; <a href=\"https://en.wikipedia.org/wiki/Shelby_Mustang#2007–2009_Ford_Shelby_GT500\" class=\"extiw\" title=\"w:Shelby Mustang\">Shelby GT500</a> ('07-'09)%\n",
    "Ford Mustang, Convertible; Shelby GT500 ('07-'09)\n",
    "</p>\n",
    "</td></tr>\n",
    "<tr>\n",
    "<td>U01%U02%U03%U04%U02%U03%U04%U92%U93%U94%U95%U96%U49%U59%U0C%U0D%U0E%U4K%U5K%U9C% U9D%U9E\n",
    "</td>\n",
    "<td>\n",
    "<p><a href=\"https://en.wikipedia.org/wiki/Ford_Escape\" class=\"extiw\" title=\"w:Ford Escape\">Ford Escape</a> XLS 4x2 ('01-'02) %\n",
    "Ford Escape XLS 4x4 ('01-'02) %\n",
    "Ford Escape XLT 4x2 ('01-'02) %\n",
    "Ford Escape XLT 4x4 ('01-'02) %\n",
    "Ford Escape XLS 4x2 ('03-'09) %\n",
    "Ford Escape XLT 4x2 ('03-'09) %\n",
    "Ford Escape Limited 4x2 ('03-'09) %\n",
    "Ford Escape XLS 4x4 ('03-'09) %\n",
    "Ford Escape XLT 4x4 ('03-'09) %\n",
    "Ford Escape Limited 4x4 ('03-'09) %\n",
    "<a href=\"https://en.wikipedia.org/wiki/Ford_Escape_Hybrid\" class=\"extiw\" title=\"w:Ford Escape Hybrid\">Ford Escape Hybrid</a> 4x2 ('05-'06) %\n",
    "Ford Escape Hybrid 4x4 ('05-'06) %\n",
    "Ford Escape Hybrid 4x2 ('07-'09) %\n",
    "Ford Escape Hybrid 4x4 ('07-'09) %\n",
    "Ford Escape XLS 4x2 ('10-'12) %\n",
    "Ford Escape XLT 4x2 ('10-'12) %\n",
    "Ford Escape Limited 4x2 ('10-'12) %\n",
    "Ford Escape Hybrid 4x2 ('10-'12) %\n",
    "Ford Escape Hybrid 4x4 ('10-'12) %\n",
    "Ford Escape XLS 4x4 ('10-'12) %\n",
    "Ford Escape XLT 4x4 ('10-'12) %\n",
    "Ford Escape Limited 4x4 ('10-'12)\n",
    "</p>\n",
    "</td></tr>\n",
    "<tr>\n",
    "<td>U06%U07%U08%U09\n",
    "</td>\n",
    "<td>\n",
    "<p><a href=\"https://en.wikipedia.org/wiki/Mazda_Tribute#First_generation_(EP;_2000)\" class=\"extiw\" title=\"w:Mazda Tribute\">Mazda Tribute</a> DX 4x4 ('01-'02) %\n",
    "Mazda Tribute DX 4x2 ('01-'02) %\n",
    "Mazda Tribute LX 4x4 ('01-'02) %\n",
    "Mazda Tribute LX 4x2 ('01-'02)\n",
    "</p>\n",
    "</td></tr>\n",
    "<tr>\n",
    "<td>U0F%U0G%U0H%U0J%U9G%U9H%U9J\n",
    "</td>\n",
    "<td>\n",
    "<p><a href=\"https://en.wikipedia.org/wiki/Ford_Escape#Third_generation_(2013)\" class=\"extiw\" title=\"w:Ford Escape\">Ford Escape</a> S 4x2 ('13-'19) %\n",
    "Ford Escape SE 4x2 ('13-'19) %\n",
    "Ford Escape SEL 4x2 ('13, '18-'19) %\n",
    "Ford Escape Titanium 4x2 ('13-'19) %\n",
    "Ford Escape SE 4x4 ('13-'19) %\n",
    "Ford Escape SEL 4x4 ('13, '18-'19) %\n",
    "Ford Escape Titanium 4x4 ('13-'19)\n",
    "</p>\n",
    "</td></tr>\n",
    "<tr>\n",
    "<td>U0B%U0C%U0D%U0E%U0F%U0G%U0H%U0K%U0L%U0E%U0F%U0G%U0J%U0M%U9B%U9C%U9D%U9F%U9G%U9H%U9J%U9F%U9G%U9J%U9M%U9N%U9P\n",
    "</td>\n",
    "<td>\n",
    "<p><a href=\"https://en.wikipedia.org/wiki/Ford_Escape#Fourth_generation_(2020)\" class=\"extiw\" title=\"w:Ford Escape\">Ford Escape</a> SE Sport Hybrid 4x2 ('20), SE Hybrid 4x2 ('21-'22) %\n",
    "Ford Escape SEL Hybrid 4x2 ('21-'22) %\n",
    "Ford Escape Titanium Hybrid 4x2 ('20-'22) %\n",
    "Ford Escape SE Plug-in Hybrid 4x2 ('20-'22) %\n",
    "Ford Escape S 4x2 ('20-'22) %\n",
    "Ford Escape SE 4x2 ('20-'22) %\n",
    "Ford Escape SEL 4x2 ('20-'22) %\n",
    "Ford Escape SEL Plug-in Hybrid 4x2 ('20-'22) %\n",
    "Ford Escape Titanium Plug-in Hybrid 4x2 ('20-'22) %\n",
    "Ford Escape Plug-in Hybrid 4x2 ('23-) %\n",
    "Ford Escape Base model 4x2 ('23-) %\n",
    "Ford Escape Active 4x2 ('23-) %\n",
    "Ford Escape Platinum 4x2 ('23-) %\n",
    "Ford Escape ST-Line 4x2 ('23-) %\n",
    "Ford Escape SE Sport Hybrid 4x4 ('20), SE Hybrid 4x4 ('21-'22) %\n",
    "Ford Escape SEL Hybrid 4x4 ('21-'22) %\n",
    "Ford Escape Titanium Hybrid 4x4 ('20-'22) %\n",
    "Ford Escape S 4x4 ('20-'22) %\n",
    "Ford Escape SE 4x4 ('20-'22) %\n",
    "Ford Escape SEL 4x4 ('20-'22) %\n",
    "Ford Escape Titanium 4x4 ('20-'22) %\n",
    "Ford Escape Base model 4x4 ('23-) %\n",
    "Ford Escape Active 4x4 ('23-) %\n",
    "Ford Escape Platinum 4x4 ('23-) %\n",
    "Ford Escape ST-Line 4x4 ('23-) %\n",
    "Ford Escape ST-Line Select 4x4 ('23-) %\n",
    "Ford Escape ST-Line Elite 4x4 ('23-) %\n",
    "</p>\n",
    "</td></tr>\n",
    "<tr>\n",
    "<td>U12%U14\n",
    "</td>\n",
    "<td>\n",
    "<p><a href=\"https://en.wikipedia.org/wiki/Ford_Bronco_II\" class=\"extiw\" title=\"w:Ford Bronco II\">Ford Bronco II</a> 4x2 ('87-'90) %\n",
    "Ford Bronco II 4x4 ('84-'90)\n",
    "</p>\n",
    "</td></tr>\n",
    "<tr>\n",
    "<td>U15\n",
    "</td>\n",
    "<td><a href=\"https://en.wikipedia.org/wiki/Ford_Bronco\" class=\"extiw\" title=\"w:Ford Bronco\">Ford Bronco</a> ('81-'96)\n",
    "</td></tr>\n",
    "<tr>\n",
    "<td>U17%U18%U13%U14%U15%U16%U17%U18%U19%U20%U1F%U1G%U1H%U1J%U1K%U1L%U1M%U2A\n",
    "</td>\n",
    "<td>\n",
    "<p><a href=\"https://en.wikipedia.org/wiki/Ford_Expedition\" class=\"extiw\" title=\"w:Ford Expedition\">Ford Expedition</a>; 4x2, All models ('97-'99) %\n",
    "Ford Expedition; 4x4, All models ('97-'99) %\n",
    "Ford Expedition; 4x2, XLS ('04-'06) %\n",
    "Ford Expedition; 4x4, XLS ('04-'06) %\n",
    "Ford Expedition; 4x2, XLT ('00-'09) %\n",
    "Ford Expedition; 4x4, XLT ('00-'09), NBX ('04-'05) %\n",
    "Ford Expedition; 4x2, Eddie Bauer ('00-'09), King Ranch ('05-'06, '08-'09) %\n",
    "Ford Expedition; 4x4, Eddie Bauer ('00-'09), King Ranch ('05-'06, '08-'09) %\n",
    "Ford Expedition; 4x2, Limited ('05-'09) %\n",
    "Ford Expedition; 4x4, Limited ('05-'09) %\n",
    "Ford Expedition; 4x2, XLT ('10), XL ('11-'17) %\n",
    "Ford Expedition; 4x4, XLT ('10), XL ('11-'17) %\n",
    "Ford Expedition; 4x2, Eddie Bauer ('10), XLT ('11-'17), King Ranch ('10-'17) %\n",
    "Ford Expedition; 4x4, Eddie Bauer ('10), XLT ('11-'17), King Ranch ('10-'17) %\n",
    "Ford Expedition; 4x2, Limited ('10-'17) %\n",
    "Ford Expedition; 4x2, Platinum ('15-'17) %\n",
    "Ford Expedition; 4x4, Platinum ('15-'17) %\n",
    "Ford Expedition; 4x4, Limited ('10-'17) %\n",
    "</p>\n",
    "</td></tr>\n",
    "<tr>\n",
    "<td>U1F%U1G%U1H%U1J%U1K%U1L%U1M%U1N%U1P%U1R%U2A\n",
    "</td>\n",
    "<td>\n",
    "<p><a href=\"https://en.wikipedia.org/wiki/Ford_Expedition#Fourth_generation_(2018)\" class=\"extiw\" title=\"w:Ford Expedition\">Ford Expedition</a>; 4x2, XL ('18-), XL STX ('21-) %\n",
    "Ford Expedition; 4x4, XL ('18-), XL STX ('21-) %\n",
    "Ford Expedition; 4x2, XLT ('18-) %\n",
    "Ford Expedition; 4x4, XLT ('18-) %\n",
    "Ford Expedition; 4x2, Limited ('18-) %\n",
    "Ford Expedition; 4x2, Platinum ('18-) %\n",
    "Ford Expedition; 4x4, Platinum ('18-) %\n",
    "Ford Expedition; 4x2, King Ranch ('20-) %\n",
    "Ford Expedition; 4x4, King Ranch ('20-) %\n",
    "Ford Expedition; 4x4, Timberline ('22-) %\n",
    "Ford Expedition; 4x4, Limited ('18-) %\n",
    "</p>\n",
    "</td></tr>\n",
    "<tr>\n",
    "<td>U27%U28\n",
    "</td>\n",
    "<td>\n",
    "<p><a href=\"https://en.wikipedia.org/wiki/Lincoln_Navigator\" class=\"extiw\" title=\"w:Lincoln Navigator\">Lincoln Navigator</a>; 4x2 ('98-'09)  %\n",
    "Lincoln Navigator; 4x4 ('98-'09)\n",
    "</p>\n",
    "</td></tr>\n",
    "<tr>\n",
    "<td>U22%U24%U32%U34%U35\n",
    "</td>\n",
    "<td>\n",
    "<p><a href=\"https://en.wikipedia.org/wiki/Ford_Explorer\" class=\"extiw\" title=\"w:Ford Explorer\">Ford Explorer</a> 2-door 4x2 ('91-'99) %\n",
    "Ford Explorer 2-door 4x4 ('91-'99) %\n",
    "Ford Explorer 4-door 4x2 ('91-'99) %\n",
    "Ford Explorer 4-door 4x4 ('91-'99) %\n",
    "Ford Explorer 4-door AWD ('96-'99)\n",
    "</p>\n",
    "</td></tr>\n",
    "<tr>\n",
    "<td>U23%U31%U33%U51%U53%U2D%U3B%U3D%U5B%U5D\n",
    "</td>\n",
    "<td>\n",
    "<p><a href=\"https://en.wikipedia.org/wiki/Ford_Explorer_Sport_Trac#Second_generation_(2007–2010)\" class=\"extiw\" title=\"w:Ford Explorer Sport Trac\">Ford Explorer Sport Trac</a>; Limited AWD ('08-'09) %\n",
    "Ford Explorer Sport Trac; XLT 4x2 ('07-'09) %\n",
    "Ford Explorer Sport Trac; Limited 4x2 ('07-'09) %\n",
    "Ford Explorer Sport Trac; XLT 4x4 ('07-'09) %\n",
    "Ford Explorer Sport Trac; Limited 4x4 ('07-'09) %\n",
    "Ford Explorer Sport Trac; Limited AWD ('10) %\n",
    "Ford Explorer Sport Trac; XLT 4x2 ('10) %\n",
    "Ford Explorer Sport Trac; Limited 4x2 ('10) %\n",
    "Ford Explorer Sport Trac; XLT 4x4 ('10) %\n",
    "Ford Explorer Sport Trac; Limited 4x4 ('10)\n",
    "</p>\n",
    "</td></tr>\n",
    "<tr>\n",
    "<td>U29%U39%U80%U81%U81%U87%U90%U91%U91%U97\n",
    "</td>\n",
    "<td>\n",
    "<p><a href=\"https://en.wikipedia.org/wiki/Mercury_Mariner\" class=\"extiw\" title=\"w:Mercury Mariner\">Mercury Mariner</a> Hybrid 4x2 ('08-'09) %\n",
    "Mercury Mariner Hybrid 4x4 ('07-'09) %\n",
    "Mercury Mariner Convenience 4x2 ('07) %\n",
    "Mercury Mariner Luxury 4x2 ('07) %\n",
    "Mercury Mariner Base model 4x2 ('08-'09) %\n",
    "Mercury Mariner Premier 4x2 ('07-'09) %\n",
    "Mercury Mariner Convenience 4x4 ('07) %\n",
    "Mercury Mariner Luxury 4x4 ('07) %\n",
    "Mercury Mariner Base model 4x4 ('08-'09) %\n",
    "Mercury Mariner Premier 4x4 ('07-'09)\n",
    "</p>\n",
    "</td></tr>\n",
    "<tr>\n",
    "<td>U36%U37%U38%U46%U47%U48\n",
    "</td>\n",
    "<td>\n",
    "<p><a href=\"https://en.wikipedia.org/wiki/Mercury_Mountaineer#Third_generation_(2006–2010)\" class=\"extiw\" title=\"w:Mercury Mountaineer\">Mercury Mountaineer</a> Convenience 4x2 ('06) %\n",
    "Mercury Mountaineer Luxury 4x2 ('06), Base model 4x2 ('07-'09) %\n",
    "Mercury Mountaineer Premier 4x2 ('06-'09) %\n",
    "Mercury Mountaineer Convenience AWD ('06) %\n",
    "Mercury Mountaineer Luxury AWD, Base model AWD ('07-'09)  ('06) %\n",
    "Mercury Mountaineer Premier AWD ('06-'09)\n",
    "</p>\n",
    "</td></tr>\n",
    "<tr>\n",
    "<td>U42%U44\n",
    "</td>\n",
    "<td>\n",
    "<p><a href=\"https://en.wikipedia.org/wiki/Mazda_Navajo\" class=\"extiw\" title=\"w:Mazda Navajo\">Mazda Navajo</a> 2-door 4x2 ('92-'94) %\n",
    "Mazda Navajo 2-door 4x4 ('91-'94)\n",
    "</p>\n",
    "</td></tr>\n",
    "<tr>\n",
    "<td>U40%U41%U42%U43%U44%U45\n",
    "</td>\n",
    "<td>\n",
    "<p><a href=\"https://en.wikipedia.org/wiki/Ford_Excursion\" class=\"extiw\" title=\"w:Ford Excursion\">Ford Excursion</a> XLT 4x2 ('00-'05), XLS 4x2 ('04-'05) %\n",
    "Ford Excursion XLT 4x4 ('00-'05), XLS 4x4 ('04-'05) %\n",
    "Ford Excursion Limited 4x2 ('00-'05) %\n",
    "Ford Excursion Limited 4x4 ('00-'05) %\n",
    "Ford Excursion Eddie Bauer 4x2 ('03-'05) %\n",
    "Ford Excursion Eddie Bauer 4x4 ('03-'05)\n",
    "</p>\n",
    "</td></tr>\n",
    "<tr>\n",
    "<td>U4X%U5X%U6P%U6Z%U8P%U8Z%U8X%U8U\n",
    "</td>\n",
    "<td>\n",
    "<p><a href=\"https://en.wikipedia.org/wiki/Ford_Transit#Fourth_generation_(2014)\" class=\"extiw\" title=\"w:Ford Transit\">Ford Transit</a> 350 HD, Dual Rear Wheels, Passenger Van, High Roof, Sliding Passenger-Side Cargo Door, Long (148 in.) wheelbase Ext. Length, RWD ('15-) %\n",
    "Ford Transit 350 HD, Dual Rear Wheels, Passenger Van, High Roof, Long (148 in.) wheelbase Extended Length, AWD ('20-) %\n",
    "Ford Transit 350 HD, Dual Rear Wheels, Cutaway, Low Roof, RWD ('20-) %\n",
    "Ford Transit 350 HD, Dual Rear Wheels, Chassis Cab, Low Roof, RWD ('20-) %\n",
    "Ford Transit 350 HD, Dual Rear Wheels, Cutaway, Low Roof, AWD ('20-) %\n",
    "Ford Transit 350 HD, Dual Rear Wheels, Chassis Cab, Low Roof, AWD ('20-) %\n",
    "Ford Transit 350 HD, Dual Rear Wheels, Cargo Van, High Roof, Long (148 in.) wheelbase Extended Length, RWD, 11,000 lb. GVWR ('21-) %\n",
    "Ford Transit 350 HD, Dual Rear Wheels, Cargo Van, High Roof, Long (148 in.) wheelbase Extended Length, AWD, 11,000 lb. GVWR ('21-) %\n",
    "</p>\n",
    "</td></tr>\n",
    "<tr>\n",
    "<td>U52%U54%U55\n",
    "</td>\n",
    "<td>\n",
    "<p><a href=\"https://en.wikipedia.org/wiki/Mercury_Mountaineer#First_generation_(1997–2001)\" class=\"extiw\" title=\"w:Mercury Mountaineer\">Mercury Mountaineer</a> 4x2 ('97-'99) %\n",
    "Mercury Mountaineer 4x4 ('98-'99) %\n",
    "Mercury Mountaineer AWD ('97-'99)\n",
    "</p>\n",
    "</td></tr>\n",
    "<tr>\n",
    "<td>U56%U57%U98\n",
    "</td>\n",
    "<td>\n",
    "<p><a href=\"https://en.wikipedia.org/wiki/Mercury_Mariner\" class=\"extiw\" title=\"w:Mercury Mariner\">Mercury Mariner</a> 4x2 ('05-'06) %\n",
    "Mercury Mariner 4x4 ('05-'06) %\n",
    "Mercury Mariner Hybrid 4x4 ('06)\n",
    "</p>\n",
    "</td></tr>\n",
    "<tr>\n",
    "<td>U60%U70%U61%U71%U62%U72%U63%U73%U83%U64%U74%U84%U65%U75%U85%\n",
    "</td>\n",
    "<td>\n",
    "<p><a href=\"https://en.wikipedia.org/wiki/Ford_Explorer#Second_generation_(UN105/150;_1995)\" class=\"extiw\" title=\"w:Ford Explorer\">Ford Explorer</a>; Sport 2-door; 4x2 ('00) %\n",
    "Ford Explorer; Sport 2-door; 4x4 ('00) %\n",
    "Ford Explorer; XL 4-door; 4x2 ('00) %\n",
    "Ford Explorer; XL 4-door; 4x4 ('00) %\n",
    "Ford Explorer; XLS 4-door; 4x2 ('00-'01) %\n",
    "Ford Explorer; XLS 4-door; 4x4 ('00-'01) %\n",
    "Ford Explorer; XLT 4-door; 4x2 ('00-'01) %\n",
    "Ford Explorer; XLT 4-door; 4x4 ('00-'01) %\n",
    "Ford Explorer; XLT 4-door; AWD ('00-'01) %\n",
    "Ford Explorer; Eddie Bauer 4-door; 4x2 ('00-'01) %\n",
    "Ford Explorer; Eddie Bauer 4-door; 4x4 ('00-'01) %\n",
    "Ford Explorer; Eddie Bauer 4-door; AWD ('00-'01) %\n",
    "Ford Explorer; Limited 4-door; 4x2 ('00-'01) %\n",
    "Ford Explorer; Limited 4-door; 4x4 ('00-'01) %\n",
    "Ford Explorer; Limited 4-door; AWD ('00-'01)\n",
    "</p>\n",
    "</td></tr>\n",
    "<tr>\n",
    "<td>U60%U70\n",
    "</td>\n",
    "<td>\n",
    "<p><a href=\"https://en.wikipedia.org/wiki/Ford_Explorer#3-door_/_Explorer_Sport\" class=\"extiw\" title=\"w:Ford Explorer\">Ford Explorer Sport</a>; 2-door; 4x2 ('01-'03) %\n",
    "Ford Explorer Sport; 2-door; 4x4 ('01-'03)\n",
    "</p>\n",
    "</td></tr>\n",
    "<tr>\n",
    "<td>U67%U77\n",
    "</td>\n",
    "<td>\n",
    "<p><a href=\"https://en.wikipedia.org/wiki/Ford_Explorer_Sport_Trac#First_generation_(2001–2005)\" class=\"extiw\" title=\"w:Ford Explorer Sport Trac\">Ford Explorer Sport Trac</a>; 4x2 ('01-'05) %\n",
    "Ford Explorer Sport Trac; 4x4 ('01-'05)\n",
    "</p>\n",
    "</td></tr>\n",
    "<tr>\n",
    "<td>U62%U63%U64%U65%U72%U73%U74%U75%U82%U83%U84%U85\n",
    "</td>\n",
    "<td>\n",
    "<p><a href=\"https://en.wikipedia.org/wiki/Ford_Explorer#Third_generation_(U152;_2002)\" class=\"extiw\" title=\"w:Ford Explorer\">Ford Explorer</a>; XLS 4x2 ('02-'05), XLS Sport 4x2 ('03-'05) %\n",
    "Ford Explorer; XLT 4x2 ('02-'05), XLT Sport 4x2 ('03-'05), NBX 4x2 ('03) %\n",
    "Ford Explorer; Eddie Bauer 4x2 ('02-'05) %\n",
    "Ford Explorer; Limited 4x2 ('02-'05) %\n",
    "Ford Explorer; XLS 4x4 ('02-'05), XLS Sport 4x4 ('03-'05) %\n",
    "Ford Explorer; XLT 4x4 ('02-'05), XLT Sport 4x4 ('03-'05), NBX 4x4 ('03-'04) %\n",
    "Ford Explorer; Eddie Bauer 4x4 ('02-'05) %\n",
    "Ford Explorer; Limited 4x4 ('02-'05) %\n",
    "Ford Explorer; XLS AWD ('03-'04), XLS Sport AWD ('03-'04) %\n",
    "Ford Explorer; XLT AWD ('03-'04), XLT Sport AWD ('03-'04) %\n",
    "Ford Explorer; Eddie Bauer AWD ('03-'04) %\n",
    "Ford Explorer; Limited AWD ('03-'04) %\n",
    "</p>\n",
    "</td></tr>\n",
    "<tr>\n",
    "<td>U62%U63%U64%U65%U72%U73%U74%U75%U83%U84%U85%U6D%U6E%U6F%U7D%U7E%U7F%U8D%U8F\n",
    "</td>\n",
    "<td>\n",
    "<p><a href=\"https://en.wikipedia.org/wiki/Ford_Explorer#Fourth_generation_(U251;_2006)\" class=\"extiw\" title=\"w:Ford Explorer\">Ford Explorer</a>; XLS 4x2 ('06) %\n",
    "Ford Explorer; XLT 4x2 ('06-'09) %\n",
    "Ford Explorer; Eddie Bauer 4x2 ('06-'09) %\n",
    "Ford Explorer; Limited 4x2 ('06-'09) %\n",
    "Ford Explorer; XLS 4x4 ('06) %\n",
    "Ford Explorer; XLT 4x4 ('06-'09) %\n",
    "Ford Explorer; Eddie Bauer 4x4 ('06-'09) %\n",
    "Ford Explorer; Limited 4x4 ('06-'09) %\n",
    "Ford Explorer; XLT AWD ('09) %\n",
    "Ford Explorer; Eddie Bauer AWD ('08-'09) %\n",
    "Ford Explorer; Limited AWD ('08-'09) %\n",
    "Ford Explorer; XLT 4x2 ('10) %\n",
    "Ford Explorer; Eddie Bauer 4x2 ('10) %\n",
    "Ford Explorer; Limited 4x2 ('10) %\n",
    "Ford Explorer; XLT 4x4 ('10) %\n",
    "Ford Explorer; Eddie Bauer 4x4 ('10) %\n",
    "Ford Explorer; Limited 4x4 ('10) %\n",
    "Ford Explorer; XLT AWD ('10) %\n",
    "Ford Explorer; Limited AWD ('10)\n",
    "</p>\n",
    "</td></tr>\n",
    "<tr>\n",
    "<td>U66%U76%U86\n",
    "</td>\n",
    "<td>\n",
    "<p><a href=\"https://en.wikipedia.org/wiki/Mercury_Mountaineer\" class=\"extiw\" title=\"w:Mercury Mountaineer\">Mercury Mountaineer</a> 4x2 ('00-'05) %\n",
    "Mercury Mountaineer 4x4 ('00-'01) %\n",
    "Mercury Mountaineer AWD ('00-'05)\n",
    "</p>\n",
    "</td></tr>\n",
    "<tr>\n",
    "<td>U68%U78%U88\n",
    "</td>\n",
    "<td>\n",
    "<p><a href=\"https://en.wikipedia.org/wiki/Lincoln_Aviator#First_generation_(UN152;_2003)\" class=\"extiw\" title=\"w:Lincoln Aviator\">Lincoln Aviator</a> 4x2 ('03-'05) %\n",
    "Lincoln Aviator 4x4 &amp; AdvanceTrac ('03) %\n",
    "Lincoln Aviator AWD ('03-'05)\n",
    "</p>\n",
    "</td></tr>\n",
    "<tr>\n",
    "<td>U68%U88\n",
    "</td>\n",
    "<td>\n",
    "<p><a href=\"https://en.wikipedia.org/wiki/Lincoln_MKX#First_generation_(U388;_2007)\" class=\"extiw\" title=\"w:Lincoln MKX\">Lincoln MKX</a> FWD ('07-'09) %\n",
    "Lincoln MKX AWD ('07-'09)\n",
    "</p>\n",
    "</td></tr>\n",
    "<tr>\n",
    "<td>V11%V12%V14%V14\n",
    "</td>\n",
    "<td>\n",
    "<p><a href=\"https://en.wikipedia.org/wiki/Mercury_Villager\" class=\"extiw\" title=\"w:Mercury Villager\">Mercury Villager</a>; All passenger vans ('93-'99), Base model ('00-'01), Value, Popular ('02) %\n",
    "Mercury Villager; Sport ('00-'02), Sport Plus ('02) %\n",
    "Mercury Villager; cargo van ('93-'98) %\n",
    "Mercury Villager; Estate ('00-'02), Estate Premium ('02)\n",
    "</p>\n",
    "</td></tr>\n",
    "<tr>\n",
    "<td>W25%W26%W35%W36\n",
    "</td>\n",
    "<td>\n",
    "<p><a href=\"https://en.wikipedia.org/wiki/Ford_F-Series\" class=\"extiw\" title=\"w:Ford F-Series\">Ford F-Series</a>, F-250, Crew Cab, 2WD ('96-'97) %\n",
    "Ford F-Series, F-250, Crew Cab, 4WD ('96-'97) %\n",
    "Ford F-Series, F-350, Crew Cab, 2WD ('83-'97) %\n",
    "Ford F-Series, F-350, Crew Cab, 4WD ('83-'97)\n",
    "</p>\n",
    "</td></tr>\n",
    "<tr>\n",
    "<td>W07%W08\n",
    "</td>\n",
    "<td>\n",
    "<p><a href=\"https://en.wikipedia.org/wiki/Ford_F-Series_(tenth_generation)\" class=\"extiw\" title=\"w:Ford F-Series (tenth generation)\">Ford F-Series</a>, F-150, SuperCrew (Crew Cab), Styleside, <a href=\"https://en.wikipedia.org/wiki/2WD\" class=\"extiw\" title=\"w:2WD\">2WD</a> ('01-'03) %\n",
    "Ford F-Series, F-150, SuperCrew (Crew Cab), Styleside, <a href=\"https://en.wikipedia.org/wiki/4WD\" class=\"extiw\" title=\"w:4WD\">4WD</a> ('01-'03)\n",
    "</p>\n",
    "</td></tr>\n",
    "<tr>\n",
    "<td>W02%W04%W12%W14\n",
    "</td>\n",
    "<td>\n",
    "<p><a href=\"https://en.wikipedia.org/wiki/Ford_F-Series\" class=\"extiw\" title=\"w:Ford F-Series\">Ford F-Series</a>, F-150, SuperCrew (Crew Cab), Flareside, <a href=\"https://en.wikipedia.org/wiki/2WD\" class=\"extiw\" title=\"w:2WD\">2WD</a> ('06-'09) %\n",
    "Ford F-Series, F-150, SuperCrew (Crew Cab), Flareside, <a href=\"https://en.wikipedia.org/wiki/4WD\" class=\"extiw\" title=\"w:4WD\">4WD</a> ('06-'09) %\n",
    "Ford F-Series, F-150, SuperCrew (Crew Cab), Styleside, 2WD ('04-'09) %\n",
    "Ford F-Series, F-150, SuperCrew (Crew Cab), Styleside, 4WD ('04-'09) %\n",
    "</p>\n",
    "</td></tr>\n",
    "<tr>\n",
    "<td>W1C%W1E%W1E%W1P%W1R%W1S%W1T\n",
    "</td>\n",
    "<td>\n",
    "<p><a href=\"https://en.wikipedia.org/wiki/Ford_F-Series\" class=\"extiw\" title=\"w:Ford F-Series\">Ford F-Series</a>, F-150, SuperCrew (Crew Cab), Styleside, 2WD ('10-'23) %\n",
    "Ford F-Series, F-150, SuperCrew (Crew Cab), Styleside, 4WD ('10-'23) %\n",
    "Ford F-Series, F-150 Lightning EV, SuperCrew (Crew Cab), Styleside, 4WD ('22-'23) %\n",
    "Ford F-Series, F-150 Police Responder, SuperCrew (Crew Cab), Styleside, 4WD ('18-'23) %\n",
    "Ford F-Series, F-150 Raptor, SuperCrew (Crew Cab), Styleside, 4WD ('11-'14, '17-'23) %\n",
    "Ford F-Series, F-150 Special Service Vehicle (SSV), SuperCrew (Crew Cab), Styleside, 2WD ('22-'23) %\n",
    "Ford F-Series, F-150 Special Service Vehicle (SSV), SuperCrew (Crew Cab), Styleside, 4WD ('22-'23) %\n",
    "</p>\n",
    "</td></tr>\n",
    "<tr>\n",
    "<td>W1B%W1K%W1L%W1P%W1R%W2K%W2L%W3K%W3L%W4L%W5L%W6L%W7L\n",
    "</td>\n",
    "<td>\n",
    "<p>Ford F-Series, <a href=\"https://en.wikipedia.org/wiki/Ford_F-150_Lightning\" class=\"extiw\" title=\"w:Ford F-150 Lightning\">F-150 Lightning EV</a>, SuperCrew (Crew Cab), 4WD; Pro ('24-) %\n",
    "<a href=\"https://en.wikipedia.org/wiki/Ford_F-Series_(fourteenth_generation)\" class=\"extiw\" title=\"w:Ford F-Series (fourteenth generation)\">Ford F-Series</a>, F-150, SuperCrew (Crew Cab), 2WD; XL ('24-) %\n",
    "Ford F-Series, F-150, SuperCrew (Crew Cab), 4WD; XL ('24-) %\n",
    "Ford F-Series, F-150, SuperCrew (Crew Cab), 4WD; Police Responder ('24-) %\n",
    "Ford F-Series, F-150, SuperCrew (Crew Cab), 4WD; Raptor, Raptor R ('24-) %\n",
    "Ford F-Series, F-150, SuperCrew (Crew Cab), 2WD; STX ('24-) %\n",
    "Ford F-Series, F-150, SuperCrew (Crew Cab), 4WD; STX ('24-) %\n",
    "Ford F-Series, F-150, SuperCrew (Crew Cab), 2WD; XLT ('24-) %\n",
    "Ford F-Series, F-150, SuperCrew (Crew Cab), 4WD; XLT ('24-), F-150 Lightning EV; XLT, Flash ('24-) %\n",
    "Ford F-Series, F-150, SuperCrew (Crew Cab), 4WD; Tremor ('24-) %\n",
    "Ford F-Series, F-150, SuperCrew (Crew Cab), 4WD; Lariat ('24-), F-150 Lightning EV; Lariat ('24-) %\n",
    "Ford F-Series, F-150, SuperCrew (Crew Cab), 4WD; King Ranch ('24-) %\n",
    "Ford F-Series, F-150, SuperCrew (Crew Cab), 4WD; Platinum ('24-), F-150 Lightning EV; Platinum ('24-) %\n",
    "</p>\n",
    "</td></tr>\n",
    "<tr>\n",
    "<td>W20%W21%W30%W31%W32%W33%W34%W35%W36%W37%W42%W43%W46%W47%W56%W57\n",
    "</td>\n",
    "<td>\n",
    "<p><a href=\"https://en.wikipedia.org/wiki/Ford_Super_Duty\" class=\"extiw\" title=\"w:Ford Super Duty\">Ford F-Series, Super Duty</a> F-250, Crew Cab, 2WD ('99-'09) %\n",
    "Ford F-Series, Super Duty F-250, Crew Cab, 4WD ('99-'09) %\n",
    "Ford F-Series, Super Duty F-350, Crew Cab, 2WD, Single Rear Wheels ('99-'09) %\n",
    "Ford F-Series, Super Duty F-350, Crew Cab, 4WD, Single Rear Wheels ('99-'09) %\n",
    "Ford F-Series, Super Duty F-350, Crew Cab, 2WD, Dual Rear Wheels ('99-'09) %\n",
    "Ford F-Series, Super Duty F-350, Crew Cab, 4WD, Dual Rear Wheels ('99-'09) %\n",
    "Ford F-Series, Super Duty F-350, Crew Cab, 2WD, Chassis Cab, Single Rear Wheels ('99-'09) %\n",
    "Ford F-Series, Super Duty F-350, Crew Cab, 4WD, Chassis Cab, Single Rear Wheels ('99-'09) %\n",
    "Ford F-Series, Super Duty F-350, Crew Cab, 2WD, Chassis Cab, Dual Rear Wheels ('99-'09) %\n",
    "Ford F-Series, Super Duty F-350, Crew Cab, 4WD, Chassis Cab, Dual Rear Wheels ('99-'09) %\n",
    "Ford F-Series, Super Duty F-450, Crew Cab, 2WD, Dual Rear Wheels ('08-'09) %\n",
    "Ford F-Series, Super Duty F-450, Crew Cab, 4WD, Dual Rear Wheels ('08-'09) %\n",
    "Ford F-Series, Super Duty F-450, Crew Cab, 2WD, Chassis Cab, Dual Rear Wheels ('99-'09) %\n",
    "Ford F-Series, Super Duty F-450, Crew Cab, 4WD, Chassis Cab, Dual Rear Wheels ('99-'09) %\n",
    "Ford F-Series, Super Duty F-550, Crew Cab, 2WD, Chassis Cab, Dual Rear Wheels ('99-'09) %\n",
    "Ford F-Series, Super Duty F-550, Crew Cab, 4WD, Chassis Cab, Dual Rear Wheels ('99-'09) %\n",
    "</p>\n",
    "</td></tr>\n",
    "<tr>\n",
    "<td>W2A%W2B%W3A%W3B%W3C%W3D%W3E%W3F%W3G%W3H%W4C%W4D%W4G%W4H%W5G%W5H\n",
    "</td>\n",
    "<td>\n",
    "<p><a href=\"https://en.wikipedia.org/wiki/Ford_Super_Duty\" class=\"extiw\" title=\"w:Ford Super Duty\">Ford F-Series, Super Duty</a> F-250, Crew Cab, 2WD ('10-) %\n",
    "Ford F-Series, Super Duty F-250, Crew Cab, 4WD ('10-) %\n",
    "Ford F-Series, Super Duty F-350, Crew Cab, 2WD, Single Rear Wheels ('10-) %\n",
    "Ford F-Series, Super Duty F-350, Crew Cab, 4WD, Single Rear Wheels ('10-) %\n",
    "Ford F-Series, Super Duty F-350, Crew Cab, 2WD, Dual Rear Wheels ('10-) %\n",
    "Ford F-Series, Super Duty F-350, Crew Cab, 4WD, Dual Rear Wheels ('10-) %\n",
    "Ford F-Series, Super Duty F-350, Crew Cab, 2WD, Chassis Cab, Single Rear Wheels ('10-) %\n",
    "Ford F-Series, Super Duty F-350, Crew Cab, 4WD, Chassis Cab, Single Rear Wheels ('10-) %\n",
    "Ford F-Series, Super Duty F-350, Crew Cab, 2WD, Chassis Cab, Dual Rear Wheels ('10-) %\n",
    "Ford F-Series, Super Duty F-350, Crew Cab, 4WD, Chassis Cab, Dual Rear Wheels ('10-) %\n",
    "Ford F-Series, Super Duty F-450, Crew Cab, 2WD, Dual Rear Wheels ('10-) %\n",
    "Ford F-Series, Super Duty F-450, Crew Cab, 4WD, Dual Rear Wheels ('10-) %\n",
    "Ford F-Series, Super Duty F-450, Crew Cab, 2WD, Chassis Cab, Dual Rear Wheels ('10-) %\n",
    "Ford F-Series, Super Duty F-450, Crew Cab, 4WD, Chassis Cab, Dual Rear Wheels ('10-) %\n",
    "Ford F-Series, Super Duty F-550, Crew Cab, 2WD, Chassis Cab, Dual Rear Wheels ('10-) %\n",
    "Ford F-Series, Super Duty F-550, Crew Cab, 4WD, Chassis Cab, Dual Rear Wheels ('10-)\n",
    "</p>\n",
    "</td></tr>\n",
    "<tr>\n",
    "<td>W05\n",
    "</td>\n",
    "<td>\n",
    "<p><a href=\"https://en.wikipedia.org/wiki/Lincoln_Blackwood\" class=\"extiw\" title=\"w:Lincoln Blackwood\">Lincoln Blackwood</a> ('02)\n",
    "</p>\n",
    "</td></tr>\n",
    "<tr>\n",
    "<td>W16%W18\n",
    "</td>\n",
    "<td>\n",
    "<p><a href=\"https://en.wikipedia.org/wiki/Lincoln_Mark_LT\" class=\"extiw\" title=\"w:Lincoln Mark LT\">Lincoln Mark LT</a> 4x2 ('06-'08)%\n",
    "Lincoln Mark LT 4x4 ('06-'08)\n",
    "</p>\n",
    "</td></tr>\n",
    "<tr>\n",
    "<td>W1Y%W1Z%W2Y%W2Z%W9C%W1D%W2C%W2D%W2X%W2U%W3X%W3U%W5P%W5Z%W7P%W7Z%W1Y%W2Y%W1Z%W2Z%W5P%W5Z%W7P%W7Z%W9C%W2C%W1D%W2D%W1X%W2X%W1V%W2V%W3X%W3U%\n",
    "</td>\n",
    "<td>\n",
    "<p><a href=\"https://en.wikipedia.org/wiki/Ford_Transit#Fourth_generation_(2014)\" class=\"extiw\" title=\"w:Ford Transit\">Ford Transit</a> 350, Cargo Van, Low Roof, Sliding Passenger-Side Cargo Door, Regular (130 in.) wheelbase ('17-'19) %\n",
    "Ford Transit 350, Cargo Van, Low Roof, 60/40 Passenger-Side Cargo Doors, Regular (130 in.) wheelbase ('17-'19) %\n",
    "Ford Transit 350, Cargo Van, Low Roof, Sliding Passenger-Side Cargo Door, Long (148 in.) wheelbase ('15-'19) %\n",
    "Ford Transit 350, Cargo Van, Low Roof, 60/40 Passenger-Side Cargo Doors, Long (148 in.) wheelbase ('15-'19) %\n",
    "Ford Transit 350, Cargo Van, Medium Roof, Sliding Passenger-Side Cargo Door, Regular (130 in.) wheelbase ('17-'19) %\n",
    "Ford Transit 350, Cargo Van, Medium Roof, Dual Sliding Side Cargo-Doors, Regular (130 in.) wheelbase ('17-'19) %\n",
    "Ford Transit 350, Cargo Van, Medium Roof, Sliding Passenger-Side Cargo Door, Long (148 in.) wheelbase ('15-'19) %\n",
    "Ford Transit 350, Cargo Van, Medium Roof, Dual Sliding Side Cargo-Doors, Long (148 in.) wheelbase ('16-'19) %\n",
    "Ford Transit 350, Cargo Van, High Roof, Sliding Passenger-Side Cargo Door, Long (148 in.) wheelbase ('15-'19) %\n",
    "Ford Transit 350, Cargo Van, High Roof, Dual Sliding Side Cargo-Doors, Long (148 in.) wheelbase ('16-'19) %\n",
    "Ford Transit 350, Cargo Van, High Roof, Sliding Passenger-Side Cargo Door, Long (148 in.) wheelbase Extended Length ('15-'19) %\n",
    "Ford Transit 350, Cargo Van, High Roof, Dual Sliding Side Cargo-Doors, Long (148 in.) wheelbase Extended Length ('16-'19) %\n",
    "Ford Transit 350, Single Rear Wheels, Cutaway, Low Roof, 138 in. wheelbase, 9,500 lb. GVWR ('17-'19) %\n",
    "Ford Transit 350, Single Rear Wheels, Chassis Cab, Low Roof, 138 in. wheelbase, 9,500 lb. GVWR ('17-'19) %\n",
    "Ford Transit 350, Single Rear Wheels, Cutaway, Low Roof, 156 in. wheelbase, 9,500 lb. GVWR ('15-'19) %\n",
    "Ford Transit 350, Single Rear Wheels, Chassis Cab, Low Roof, 156 in. wheelbase, 9,500 lb. GVWR ('15-'19) %\n",
    "Ford Transit 350, Cargo Van, Low Roof, RWD ('20-) %\n",
    "Ford Transit 350, Cargo Van, Low Roof, AWD ('20-) %\n",
    "Ford Transit 350, Crew Van, Low Roof, RWD ('20-'23) %\n",
    "Ford Transit 350, Crew Van, Low Roof, AWD ('20-'23) %\n",
    "Ford Transit 350, Single Rear Wheels, Cutaway, Low Roof, RWD, 9,500 lb. GVWR ('20-) %\n",
    "Ford Transit 350, Single Rear Wheels, Chassis Cab, Low Roof, RWD, 9,500 lb. GVWR ('20-) %\n",
    "Ford Transit 350, Single Rear Wheels, Cutaway, Low Roof, AWD, 9,500 lb. GVWR ('20-) %\n",
    "Ford Transit 350, Single Rear Wheels, Chassis Cab, Low Roof, AWD, 9,500 lb. GVWR ('20-) %\n",
    "Ford Transit 350, Cargo Van, Medium Roof, RWD ('20-) %\n",
    "Ford Transit 350, Cargo Van, Medium Roof, AWD ('20-) %\n",
    "Ford Transit 350, Crew Van, Medium Roof, RWD ('20-'23) %\n",
    "Ford Transit 350, Crew Van, Medium Roof, AWD ('20-'23) %\n",
    "Ford Transit 350, Cargo Van, High Roof, Long (148 in.) wheelbase, RWD ('20-) %\n",
    "Ford Transit 350, Cargo Van, High Roof, Long (148 in.) wheelbase, AWD ('20-) %\n",
    "Ford Transit 350, Crew Van, High Roof, Long (148 in.) wheelbase, RWD ('20-'23) %\n",
    "Ford Transit 350, Crew Van, High Roof, Long (148 in.) wheelbase, AWD ('20-'23) %\n",
    "Ford Transit 350, Cargo Van, High Roof, Long (148 in.) wheelbase Extended Length, RWD ('20-) %\n",
    "Ford Transit 350, Cargo Van, High Roof, Long (148 in.) wheelbase Extended Length, AWD ('20-) %\n",
    "</p>\n",
    "</td></tr>\n",
    "<tr>\n",
    "<td>W8E%W8F%W8G%W8A%W8B%W8C%W8H%W8J%W8M%W8R%W8S%\n",
    "</td>\n",
    "<td>\n",
    "<p><a href=\"https://en.wikipedia.org/wiki/Ford_Maverick_(2022)\" class=\"extiw\" title=\"w:Ford Maverick (2022)\">Ford Maverick</a> FWD ('22-'23) %\n",
    "Ford Maverick AWD ('22-'23) %\n",
    "Ford Maverick with Tremor pkg. &amp; Advanced AWD ('23) %\n",
    "Ford Maverick XL FWD ('24-) %\n",
    "Ford Maverick XL AWD ('24-) %\n",
    "Ford Maverick XLT Tremor AWD ('24-) %\n",
    "Ford Maverick XLT FWD ('24-) %\n",
    "Ford Maverick XLT AWD ('24-) %\n",
    "Ford Maverick Lariat FWD ('24-) %\n",
    "Ford Maverick Lariat Tremor AWD ('24-) %\n",
    "Ford Maverick Lariat AWD ('24-)\n",
    "</p>\n",
    "</td></tr>\n",
    "<tr>\n",
    "<td>X14%X15%X25%X26%X35\n",
    "</td>\n",
    "<td>\n",
    "<p><a href=\"https://en.wikipedia.org/wiki/Ford_F-Series\" class=\"extiw\" title=\"w:Ford F-Series\">Ford F-Series</a>, F-150, Super Cab, <a href=\"https://en.wikipedia.org/wiki/4WD\" class=\"extiw\" title=\"w:4WD\">4WD</a> ('81-'96) %\n",
    "Ford F-Series, F-150, Super Cab, 2WD ('81-'96) %\n",
    "Ford F-Series, F-250, Super Cab, 2WD ('81-'97) %\n",
    "Ford F-Series, F-250, Super Cab, 4WD ('81-'97) %\n",
    "Ford F-Series, F-350, Super Cab, 2WD ('88-'97)\n",
    "</p>\n",
    "</td></tr>\n",
    "<tr>\n",
    "<td>X07%X08%X17%X18%X07%X08%X17%X18%X27%X28\n",
    "</td>\n",
    "<td>\n",
    "<p><a href=\"https://en.wikipedia.org/wiki/Ford_F-Series_(tenth_generation)\" class=\"extiw\" title=\"w:Ford F-Series (tenth generation)\">Ford F-Series</a>, F-150, Super Cab, Flareside, <a href=\"https://en.wikipedia.org/wiki/2WD\" class=\"extiw\" title=\"w:2WD\">2WD</a> ('97-'03) %\n",
    "Ford F-Series, F-150, Super Cab, Flareside, <a href=\"https://en.wikipedia.org/wiki/4WD\" class=\"extiw\" title=\"w:4WD\">4WD</a> ('97-'03) %\n",
    "Ford F-Series, F-150, Super Cab, Styleside, 2WD ('97-'03) %\n",
    "Ford F-Series, F-150, Super Cab, Styleside, 4WD ('97-'03) %\n",
    "Ford F-Series, F-150 Heritage, Super Cab, Flareside, 2WD ('04) %\n",
    "Ford F-Series, F-150 Heritage, Super Cab, Flareside, 4WD ('04) %\n",
    "Ford F-Series, F-150 Heritage, Super Cab, Styleside, 2WD ('04) %\n",
    "Ford F-Series, F-150 Heritage, Super Cab, Styleside, 4WD ('04) %\n",
    "Ford F-Series, F-250, Super Cab, Styleside, 2WD ('97-'99) %\n",
    "Ford F-Series, F-250, Super Cab, Styleside, 4WD ('97-'99)\n",
    "</p>\n",
    "</td></tr>\n",
    "<tr>\n",
    "<td>X02%X04%X12%X14\n",
    "</td>\n",
    "<td>\n",
    "<p><a href=\"https://en.wikipedia.org/wiki/Ford_F-Series\" class=\"extiw\" title=\"w:Ford F-Series\">Ford F-Series</a>, F-150, Super Cab, Flareside, <a href=\"https://en.wikipedia.org/wiki/2WD\" class=\"extiw\" title=\"w:2WD\">2WD</a> ('04-'09) %\n",
    "Ford F-Series, F-150, Super Cab, Flareside, <a href=\"https://en.wikipedia.org/wiki/4WD\" class=\"extiw\" title=\"w:4WD\">4WD</a> ('04-'09) %\n",
    "Ford F-Series, F-150, Super Cab, Styleside, 2WD ('04-'09) %\n",
    "Ford F-Series, F-150, Super Cab, Styleside, 4WD ('04-'09) %\n",
    "</p>\n",
    "</td></tr>\n",
    "<tr>\n",
    "<td>X1C%X1E%X1R\n",
    "</td>\n",
    "<td>\n",
    "<p><a href=\"https://en.wikipedia.org/wiki/Ford_F-Series\" class=\"extiw\" title=\"w:Ford F-Series\">Ford F-Series</a>, F-150, Super Cab, Styleside, 2WD ('10-'23) %\n",
    "Ford F-Series, F-150, Super Cab, Styleside, 4WD ('10-'23); F-150 Raptor, Super Cab, Styleside, 4WD ('10) %\n",
    "Ford F-Series, F-150 Raptor, Super Cab, Styleside, 4WD ('11-'14, '17-'20)\n",
    "</p>\n",
    "</td></tr>\n",
    "<tr>\n",
    "<td>X1K%X1L%X2K%X2L%X3K%X3L\n",
    "</td>\n",
    "<td>\n",
    "<p><a href=\"https://en.wikipedia.org/wiki/Ford_F-Series_(fourteenth_generation)\" class=\"extiw\" title=\"w:Ford F-Series (fourteenth generation)\">Ford F-Series</a>, F-150, Super Cab, 2WD; XL ('24-) %\n",
    "Ford F-Series, F-150, Super Cab, 4WD; XL ('24-) %\n",
    "Ford F-Series, F-150, Super Cab, 2WD; STX ('24-) %\n",
    "Ford F-Series, F-150, Super Cab, 4WD; STX ('24-) %\n",
    "Ford F-Series, F-150, Super Cab, 2WD; XLT ('24-) %\n",
    "Ford F-Series, F-150, Super Cab, 4WD; XLT ('24-) %\n",
    "</p>\n",
    "</td></tr>\n",
    "<tr>\n",
    "<td>X20%X21%X30%X31%X32%X33%X34%X35%X36%X37%X46%X47%X56%X57\n",
    "</td>\n",
    "<td>\n",
    "<p><a href=\"https://en.wikipedia.org/wiki/Ford_Super_Duty\" class=\"extiw\" title=\"w:Ford Super Duty\">Ford F-Series, Super Duty</a> F-250, Super Cab, 2WD ('99-'09) %\n",
    "Ford F-Series, Super Duty F-250, Super Cab, 4WD ('99-'09) %\n",
    "Ford F-Series, Super Duty F-350, Super Cab, 2WD, Single Rear Wheels ('99-'09) %\n",
    "Ford F-Series, Super Duty F-350, Super Cab, 4WD, Single Rear Wheels ('99-'09) %\n",
    "Ford F-Series, Super Duty F-350, Super Cab, 2WD, Dual Rear Wheels ('99-'09) %\n",
    "Ford F-Series, Super Duty F-350, Super Cab, 4WD, Dual Rear Wheels ('99-'09) %\n",
    "Ford F-Series, Super Duty F-350, Super Cab, 2WD, Chassis Cab, Single Rear Wheels ('99-'09) %\n",
    "Ford F-Series, Super Duty F-350, Super Cab, 4WD, Chassis Cab, Single Rear Wheels ('99-'09) %\n",
    "Ford F-Series, Super Duty F-350, Super Cab, 2WD, Chassis Cab, Dual Rear Wheels ('99-'09) %\n",
    "Ford F-Series, Super Duty F-350, Super Cab, 4WD, Chassis Cab, Dual Rear Wheels ('99-'09) %\n",
    "Ford F-Series, Super Duty F-450, Super Cab, 2WD, Chassis Cab, Dual Rear Wheels ('02-'09) %\n",
    "Ford F-Series, Super Duty F-450, Super Cab, 4WD, Chassis Cab, Dual Rear Wheels ('02-'09) %\n",
    "Ford F-Series, Super Duty F-550, Super Cab, 2WD, Chassis Cab, Dual Rear Wheels ('02-'09) %\n",
    "Ford F-Series, Super Duty F-550, Super Cab, 4WD, Chassis Cab, Dual Rear Wheels ('02-'09) %\n",
    "</p>\n",
    "</td></tr>\n",
    "<tr>\n",
    "<td>X2A%X2B%X3A%X3B%X3C%X3D%X3E%X3F%X3G%X3H%X4G%X4H%X5G%X5H\n",
    "</td>\n",
    "<td>\n",
    "<p><a href=\"https://en.wikipedia.org/wiki/Ford_Super_Duty\" class=\"extiw\" title=\"w:Ford Super Duty\">Ford F-Series, Super Duty</a> F-250, Super Cab, 2WD ('10-) %\n",
    "Ford F-Series, Super Duty F-250, Super Cab, 4WD ('10-) %\n",
    "Ford F-Series, Super Duty F-350, Super Cab, 2WD, Single Rear Wheels ('10-) %\n",
    "Ford F-Series, Super Duty F-350, Super Cab, 4WD, Single Rear Wheels ('10-) %\n",
    "Ford F-Series, Super Duty F-350, Super Cab, 2WD, Dual Rear Wheels ('10-) %\n",
    "Ford F-Series, Super Duty F-350, Super Cab, 4WD, Dual Rear Wheels ('10-) %\n",
    "Ford F-Series, Super Duty F-350, Super Cab, 2WD, Chassis Cab, Single Rear Wheels ('10-) %\n",
    "Ford F-Series, Super Duty F-350, Super Cab, 4WD, Chassis Cab, Single Rear Wheels ('10-) %\n",
    "Ford F-Series, Super Duty F-350, Super Cab, 2WD, Chassis Cab, Dual Rear Wheels ('10-) %\n",
    "Ford F-Series, Super Duty F-350, Super Cab, 4WD, Chassis Cab, Dual Rear Wheels ('10-) %\n",
    "Ford F-Series, Super Duty F-450, Super Cab, 2WD, Chassis Cab, Dual Rear Wheels ('10-) %\n",
    "Ford F-Series, Super Duty F-450, Super Cab, 4WD, Chassis Cab, Dual Rear Wheels ('10-) %\n",
    "Ford F-Series, Super Duty F-550, Super Cab, 2WD, Chassis Cab, Dual Rear Wheels ('10-) %\n",
    "Ford F-Series, Super Duty F-550, Super Cab, 4WD, Chassis Cab, Dual Rear Wheels ('10-)\n",
    "</p>\n",
    "</td></tr>\n",
    "<tr>\n",
    "<td>X2Y%X2Z%X2C%X2X%X2Y%X9Y%X2C%X9C%X2X%X9X\n",
    "</td>\n",
    "<td>\n",
    "<p><a href=\"https://en.wikipedia.org/wiki/Ford_Transit#Fourth_generation_(2014)\" class=\"extiw\" title=\"w:Ford Transit\">Ford Transit</a> 350, Passenger Van, Low Roof, Sliding Passenger-Side Cargo Door ('15-'19) %\n",
    "Ford Transit 350, Passenger Van, Low Roof, 60/40 Passenger-Side Cargo Doors ('15-'19) %\n",
    "Ford Transit 350, Passenger Van, Medium Roof, Sliding Passenger-Side Cargo Door ('15-'19) %\n",
    "Ford Transit 350, Passenger Van, High Roof, Sliding Passenger-Side Cargo Door ('15-'19) %\n",
    "Ford Transit 350, Passenger Van, Low Roof, Long (148 in.) wheelbase, RWD ('20-) %\n",
    "Ford Transit 350, Passenger Van, Low Roof, Long (148 in.) wheelbase, AWD ('20-) %\n",
    "Ford Transit 350, Passenger Van, Medium Roof, Long (148 in.) wheelbase, RWD ('20-) %\n",
    "Ford Transit 350, Passenger Van, Medium Roof, Long (148 in.) wheelbase, AWD ('20-) %\n",
    "Ford Transit 350, Passenger Van, High Roof, Long (148 in.) wheelbase, RWD ('20-) %\n",
    "Ford Transit 350, Passenger Van, High Roof, Long (148 in.) wheelbase, AWD ('20-) %\n",
    "</p>\n",
    "</td></tr>\n",
    "<tr>\n",
    "<td>Y1C%Y4G%Y4H\n",
    "</td>\n",
    "<td>\n",
    "<p><a href=\"https://en.wikipedia.org/wiki/Ford_Ranger_(Americas)#Mazda_B-Series/Mazda_Truck_(1994–2010)\" class=\"extiw\" title=\"w:Ford Ranger (Americas)\">Mazda B-Series</a> Regular Cab 4x2 ('10) (Canada only) %\n",
    "Mazda B-Series Cab Plus 4 (4-door) 4x2 ('10) (Canada only) %\n",
    "Mazda B-Series Cab Plus 4 (4-door) 4x4 ('10) (Canada only)\n",
    "</p>\n",
    "</td></tr>\n",
    "<tr>\n",
    "<td>Y0C%Y0G%Y9C%Y9G\n",
    "</td>\n",
    "<td>\n",
    "<p><a href=\"https://en.wikipedia.org/wiki/Mazda_Tribute#Second_generation_(2007)\" class=\"extiw\" title=\"w:Mazda Tribute\">Mazda Tribute</a> i 4x2 ('10-'11) %\n",
    "Mazda Tribute s 4x2 ('10-'11) %\n",
    "Mazda Tribute i 4x4 ('10-'11) %\n",
    "Mazda Tribute s 4x4 ('10-'11)\n",
    "</p>\n",
    "</td></tr>\n",
    "<tr>\n",
    "<td>Z02%Z04%Z06%Z92%Z94%Z96%Z02%Z06%Z49%Z59%Z92%Z96%\n",
    "</td>\n",
    "<td>\n",
    "<p><a href=\"https://en.wikipedia.org/wiki/Mazda_Tribute\" class=\"extiw\" title=\"w:Mazda Tribute\">Mazda Tribute</a> DX 4x2 ('03-'06) %\n",
    "Mazda Tribute LX 4x2 ('03-'06) %\n",
    "Mazda Tribute ES 4x2 ('03-'06) %\n",
    "Mazda Tribute DX 4x4 ('03-'06) %\n",
    "Mazda Tribute LX 4x4 ('03-'06) %\n",
    "Mazda Tribute ES 4x4 ('03-'06) %\n",
    "Mazda Tribute i 4x2 ('08-'09) %\n",
    "Mazda Tribute s 4x2 ('08-'09) %\n",
    "Mazda Tribute Hybrid 4x2 ('08-'09) %\n",
    "Mazda Tribute Hybrid 4x4 ('08-'09) %\n",
    "Mazda Tribute i 4x4 ('08-'09) %\n",
    "Mazda Tribute s 4x4 ('08-'09)\n",
    "</p>\n",
    "</td></tr>\n",
    "<tr>\n",
    "<td>Z8A%Z8B%Z8C%Z8D%Z8E\n",
    "</td>\n",
    "<td>\n",
    "<p><a href=\"https://en.wikipedia.org/wiki/Mazda_6#North_America\" class=\"extiw\" title=\"w:Mazda 6\">Mazda 6</a>; SV (Special Value) ('10) %\n",
    "Mazda 6; Sport ('10-'13) %\n",
    "Mazda 6; Touring, Touring Plus, Grand Touring ('10-'11), Grand Touring ('12-'13) %\n",
    "Mazda 6; Touring ('12-'13) %\n",
    "Mazda 6; Touring Plus ('12-'13)\n",
    "</p>\n",
    "</td></tr></tbody></table>\n",
    "\"\"\"\n",
    "\n",
    "# таблица скопирована с сайта https://en.wikibooks.org/wiki/Vehicle_Identification_Numbers_(VIN_codes)/Ford/VIN_Codes#American_models"
   ]
  },
  {
   "cell_type": "code",
   "execution_count": 44,
   "metadata": {
    "colab": {
     "base_uri": "https://localhost:8080/",
     "height": 424
    },
    "executionInfo": {
     "elapsed": 12,
     "status": "ok",
     "timestamp": 1713847417568,
     "user": {
      "displayName": "Эдгар Низаев",
      "userId": "15628445951160379931"
     },
     "user_tz": -240
    },
    "id": "W7xRD8DQJvdR",
    "outputId": "c5c59622-306e-4d9d-d567-ff814dbfa248",
    "tags": []
   },
   "outputs": [
    {
     "data": {
      "text/html": [
       "<div>\n",
       "<style scoped>\n",
       "    .dataframe tbody tr th:only-of-type {\n",
       "        vertical-align: middle;\n",
       "    }\n",
       "\n",
       "    .dataframe tbody tr th {\n",
       "        vertical-align: top;\n",
       "    }\n",
       "\n",
       "    .dataframe thead th {\n",
       "        text-align: right;\n",
       "    }\n",
       "</style>\n",
       "<table border=\"1\" class=\"dataframe\">\n",
       "  <thead>\n",
       "    <tr style=\"text-align: right;\">\n",
       "      <th></th>\n",
       "      <th>VIN Code</th>\n",
       "      <th>Model</th>\n",
       "    </tr>\n",
       "  </thead>\n",
       "  <tbody>\n",
       "    <tr>\n",
       "      <th>0</th>\n",
       "      <td>A11%A14%A15%A21%A24%A25%A31%A34%A35%A41%A44%A45</td>\n",
       "      <td>Ford Aerostar regular length passenger van ('8...</td>\n",
       "    </tr>\n",
       "    <tr>\n",
       "      <th>1</th>\n",
       "      <td>A51%A50%A51%A52%A53%A54%A57%A58</td>\n",
       "      <td>Ford Windstar passenger van ('95-'98) % Ford W...</td>\n",
       "    </tr>\n",
       "    <tr>\n",
       "      <th>2</th>\n",
       "      <td>A50%A51%A52%A54%A57%A58</td>\n",
       "      <td>Ford Freestar S ('04-'05) % Ford Freestar SE (...</td>\n",
       "    </tr>\n",
       "    <tr>\n",
       "      <th>3</th>\n",
       "      <td>A20%A21%A22%A23</td>\n",
       "      <td>Mercury Monterey ('04) % Mercury Monterey; Con...</td>\n",
       "    </tr>\n",
       "    <tr>\n",
       "      <th>4</th>\n",
       "      <td>C35%C45%C55</td>\n",
       "      <td>Ford E-350 Chassis Cab ('03-'04) % Ford E-450 ...</td>\n",
       "    </tr>\n",
       "    <tr>\n",
       "      <th>...</th>\n",
       "      <td>...</td>\n",
       "      <td>...</td>\n",
       "    </tr>\n",
       "    <tr>\n",
       "      <th>198</th>\n",
       "      <td>X2Y%X2Z%X2C%X2X%X2Y%X9Y%X2C%X9C%X2X%X9X</td>\n",
       "      <td>Ford Transit 350, Passenger Van, Low Roof, Sli...</td>\n",
       "    </tr>\n",
       "    <tr>\n",
       "      <th>199</th>\n",
       "      <td>Y1C%Y4G%Y4H</td>\n",
       "      <td>Mazda B-Series Regular Cab 4x2 ('10) (Canada o...</td>\n",
       "    </tr>\n",
       "    <tr>\n",
       "      <th>200</th>\n",
       "      <td>Y0C%Y0G%Y9C%Y9G</td>\n",
       "      <td>Mazda Tribute i 4x2 ('10-'11) % Mazda Tribute ...</td>\n",
       "    </tr>\n",
       "    <tr>\n",
       "      <th>201</th>\n",
       "      <td>Z02%Z04%Z06%Z92%Z94%Z96%Z02%Z06%Z49%Z59%Z92%Z96%</td>\n",
       "      <td>Mazda Tribute DX 4x2 ('03-'06) % Mazda Tribute...</td>\n",
       "    </tr>\n",
       "    <tr>\n",
       "      <th>202</th>\n",
       "      <td>Z8A%Z8B%Z8C%Z8D%Z8E</td>\n",
       "      <td>Mazda 6; SV (Special Value) ('10) % Mazda 6; S...</td>\n",
       "    </tr>\n",
       "  </tbody>\n",
       "</table>\n",
       "<p>203 rows × 2 columns</p>\n",
       "</div>"
      ],
      "text/plain": [
       "                                             VIN Code  \\\n",
       "0     A11%A14%A15%A21%A24%A25%A31%A34%A35%A41%A44%A45   \n",
       "1                     A51%A50%A51%A52%A53%A54%A57%A58   \n",
       "2                             A50%A51%A52%A54%A57%A58   \n",
       "3                                     A20%A21%A22%A23   \n",
       "4                                         C35%C45%C55   \n",
       "..                                                ...   \n",
       "198           X2Y%X2Z%X2C%X2X%X2Y%X9Y%X2C%X9C%X2X%X9X   \n",
       "199                                       Y1C%Y4G%Y4H   \n",
       "200                                   Y0C%Y0G%Y9C%Y9G   \n",
       "201  Z02%Z04%Z06%Z92%Z94%Z96%Z02%Z06%Z49%Z59%Z92%Z96%   \n",
       "202                               Z8A%Z8B%Z8C%Z8D%Z8E   \n",
       "\n",
       "                                                 Model  \n",
       "0    Ford Aerostar regular length passenger van ('8...  \n",
       "1    Ford Windstar passenger van ('95-'98) % Ford W...  \n",
       "2    Ford Freestar S ('04-'05) % Ford Freestar SE (...  \n",
       "3    Mercury Monterey ('04) % Mercury Monterey; Con...  \n",
       "4    Ford E-350 Chassis Cab ('03-'04) % Ford E-450 ...  \n",
       "..                                                 ...  \n",
       "198  Ford Transit 350, Passenger Van, Low Roof, Sli...  \n",
       "199  Mazda B-Series Regular Cab 4x2 ('10) (Canada o...  \n",
       "200  Mazda Tribute i 4x2 ('10-'11) % Mazda Tribute ...  \n",
       "201  Mazda Tribute DX 4x2 ('03-'06) % Mazda Tribute...  \n",
       "202  Mazda 6; SV (Special Value) ('10) % Mazda 6; S...  \n",
       "\n",
       "[203 rows x 2 columns]"
      ]
     },
     "execution_count": 44,
     "metadata": {},
     "output_type": "execute_result"
    }
   ],
   "source": [
    "df_model = pd.read_html(web_table)[0]\n",
    "df_model"
   ]
  },
  {
   "cell_type": "code",
   "execution_count": 45,
   "metadata": {
    "id": "IuM_BYExJvdR",
    "tags": []
   },
   "outputs": [],
   "source": [
    "vin = df_model['VIN Code'].str.split('%').explode()"
   ]
  },
  {
   "cell_type": "code",
   "execution_count": 46,
   "metadata": {
    "colab": {
     "base_uri": "https://localhost:8080/"
    },
    "executionInfo": {
     "elapsed": 11,
     "status": "ok",
     "timestamp": 1713847417568,
     "user": {
      "displayName": "Эдгар Низаев",
      "userId": "15628445951160379931"
     },
     "user_tz": -240
    },
    "id": "UweG-KtLJvdR",
    "outputId": "4d85595c-e62f-4a23-eea3-93fe84b4de2f",
    "tags": []
   },
   "outputs": [
    {
     "data": {
      "text/plain": [
       "VIN Code\n",
       "       9\n",
       "P37    6\n",
       "P35    6\n",
       "P34    5\n",
       "P64    5\n",
       "      ..\n",
       "M38    1\n",
       "M40    1\n",
       "M41    1\n",
       "M42    1\n",
       "Z8E    1\n",
       "Name: count, Length: 1037, dtype: int64"
      ]
     },
     "execution_count": 46,
     "metadata": {},
     "output_type": "execute_result"
    }
   ],
   "source": [
    "vin.value_counts()"
   ]
  },
  {
   "cell_type": "code",
   "execution_count": 47,
   "metadata": {
    "colab": {
     "base_uri": "https://localhost:8080/"
    },
    "executionInfo": {
     "elapsed": 10,
     "status": "ok",
     "timestamp": 1713847417568,
     "user": {
      "displayName": "Эдгар Низаев",
      "userId": "15628445951160379931"
     },
     "user_tz": -240
    },
    "id": "qXRKJ99KJvdR",
    "outputId": "7e15db94-f3c0-4186-b73b-ee3f6c1c3afd",
    "tags": []
   },
   "outputs": [
    {
     "name": "stdout",
     "output_type": "stream",
     "text": [
      "<class 'pandas.core.series.Series'>\n",
      "Index: 1467 entries, 0 to 202\n",
      "Series name: VIN Code\n",
      "Non-Null Count  Dtype \n",
      "--------------  ----- \n",
      "1467 non-null   object\n",
      "dtypes: object(1)\n",
      "memory usage: 22.9+ KB\n"
     ]
    }
   ],
   "source": [
    "vin.info()"
   ]
  },
  {
   "cell_type": "code",
   "execution_count": 48,
   "metadata": {
    "colab": {
     "base_uri": "https://localhost:8080/"
    },
    "executionInfo": {
     "elapsed": 10,
     "status": "ok",
     "timestamp": 1713847417568,
     "user": {
      "displayName": "Эдгар Низаев",
      "userId": "15628445951160379931"
     },
     "user_tz": -240
    },
    "id": "t-eHG-qvJvdR",
    "outputId": "a0075603-6a62-4f4e-82a9-8455283a4942",
    "tags": []
   },
   "outputs": [
    {
     "data": {
      "text/plain": [
       "0      A11\n",
       "0      A14\n",
       "0      A15\n",
       "0      A21\n",
       "0      A24\n",
       "      ... \n",
       "202    Z8A\n",
       "202    Z8B\n",
       "202    Z8C\n",
       "202    Z8D\n",
       "202    Z8E\n",
       "Name: VIN Code, Length: 1458, dtype: object"
      ]
     },
     "execution_count": 48,
     "metadata": {},
     "output_type": "execute_result"
    }
   ],
   "source": [
    "vin = vin[vin!='']\n",
    "vin"
   ]
  },
  {
   "cell_type": "code",
   "execution_count": 49,
   "metadata": {
    "id": "OsLcf6sMJvdR",
    "tags": []
   },
   "outputs": [],
   "source": [
    "model = df_model['Model'].str.split('%').explode()"
   ]
  },
  {
   "cell_type": "code",
   "execution_count": 50,
   "metadata": {
    "colab": {
     "base_uri": "https://localhost:8080/"
    },
    "executionInfo": {
     "elapsed": 9,
     "status": "ok",
     "timestamp": 1713847417568,
     "user": {
      "displayName": "Эдгар Низаев",
      "userId": "15628445951160379931"
     },
     "user_tz": -240
    },
    "id": "wfk8MOyEJvdR",
    "outputId": "1c8ec3ad-08c3-4c47-9ad5-20bb58d040bb",
    "tags": []
   },
   "outputs": [
    {
     "data": {
      "text/plain": [
       "Model\n",
       "                                                                                                                                                       59\n",
       "Ford Transit 350 HD, Dual Rear Wheels, Cargo Van, High Roof, Sliding Passenger-Side Cargo Door, Long (148 in.) wheelbase Extended Length ('15-'19)      2\n",
       " Ford Transit 350 HD, Dual Rear Wheels, Cargo Van, High Roof, Dual Sliding Side Cargo Doors, Long (148 in.) wheelbase Extended Length ('16-'19)         2\n",
       " Ford E-Series, E-150 van extended length ('10-'14)                                                                                                     1\n",
       " Ford E-Series, E-350 (Super Duty) van extended length ('92-'09)                                                                                        1\n",
       "                                                                                                                                                       ..\n",
       " Mercury Grand Marquis; LS 4-door ('87-'09), LSE ('01-'05)                                                                                              1\n",
       " Mercury Grand Marquis; GS 4-door ('87-'08)                                                                                                             1\n",
       "Mercury Grand Marquis; LS 2-door ('87)                                                                                                                  1\n",
       " Mercury Mystique; LS ('95-'00)                                                                                                                         1\n",
       " Mazda 6; Touring Plus ('12-'13)                                                                                                                        1\n",
       "Name: count, Length: 1457, dtype: int64"
      ]
     },
     "execution_count": 50,
     "metadata": {},
     "output_type": "execute_result"
    }
   ],
   "source": [
    "model.value_counts()"
   ]
  },
  {
   "cell_type": "code",
   "execution_count": 51,
   "metadata": {
    "colab": {
     "base_uri": "https://localhost:8080/"
    },
    "executionInfo": {
     "elapsed": 8,
     "status": "ok",
     "timestamp": 1713847417568,
     "user": {
      "displayName": "Эдгар Низаев",
      "userId": "15628445951160379931"
     },
     "user_tz": -240
    },
    "id": "1n_kFQ6UJvdR",
    "outputId": "36f58c59-e737-48fb-c4b3-1f3c5f52187e",
    "tags": []
   },
   "outputs": [
    {
     "data": {
      "text/plain": [
       "0      Ford Aerostar regular length passenger van ('8...\n",
       "0       Ford Aerostar regular length cargo van ('86-'...\n",
       "0       Ford Aerostar regular length cargo van w/side...\n",
       "0       Ford Aerostar regular length passenger van 4W...\n",
       "0       Ford Aerostar regular length cargo van 4WD ('...\n",
       "                             ...                        \n",
       "202                   Mazda 6; SV (Special Value) ('10) \n",
       "202                            Mazda 6; Sport ('10-'13) \n",
       "202     Mazda 6; Touring, Touring Plus, Grand Touring...\n",
       "202                          Mazda 6; Touring ('12-'13) \n",
       "202                      Mazda 6; Touring Plus ('12-'13)\n",
       "Name: Model, Length: 1458, dtype: object"
      ]
     },
     "execution_count": 51,
     "metadata": {},
     "output_type": "execute_result"
    }
   ],
   "source": [
    "model = model[model!='']\n",
    "model"
   ]
  },
  {
   "cell_type": "code",
   "execution_count": 52,
   "metadata": {
    "colab": {
     "base_uri": "https://localhost:8080/",
     "height": 424
    },
    "executionInfo": {
     "elapsed": 7,
     "status": "ok",
     "timestamp": 1713847417568,
     "user": {
      "displayName": "Эдгар Низаев",
      "userId": "15628445951160379931"
     },
     "user_tz": -240
    },
    "id": "YB1vPT9-JvdR",
    "outputId": "47deda12-43b3-402c-d66d-f7d1e58a34b1",
    "tags": []
   },
   "outputs": [
    {
     "data": {
      "text/html": [
       "<div>\n",
       "<style scoped>\n",
       "    .dataframe tbody tr th:only-of-type {\n",
       "        vertical-align: middle;\n",
       "    }\n",
       "\n",
       "    .dataframe tbody tr th {\n",
       "        vertical-align: top;\n",
       "    }\n",
       "\n",
       "    .dataframe thead th {\n",
       "        text-align: right;\n",
       "    }\n",
       "</style>\n",
       "<table border=\"1\" class=\"dataframe\">\n",
       "  <thead>\n",
       "    <tr style=\"text-align: right;\">\n",
       "      <th></th>\n",
       "      <th>vin</th>\n",
       "      <th>model</th>\n",
       "    </tr>\n",
       "  </thead>\n",
       "  <tbody>\n",
       "    <tr>\n",
       "      <th>0</th>\n",
       "      <td>A11</td>\n",
       "      <td>Ford Aerostar regular length passenger van ('8...</td>\n",
       "    </tr>\n",
       "    <tr>\n",
       "      <th>0</th>\n",
       "      <td>A14</td>\n",
       "      <td>Ford Aerostar regular length cargo van ('86-'...</td>\n",
       "    </tr>\n",
       "    <tr>\n",
       "      <th>0</th>\n",
       "      <td>A15</td>\n",
       "      <td>Ford Aerostar regular length cargo van w/side...</td>\n",
       "    </tr>\n",
       "    <tr>\n",
       "      <th>0</th>\n",
       "      <td>A21</td>\n",
       "      <td>Ford Aerostar regular length passenger van 4W...</td>\n",
       "    </tr>\n",
       "    <tr>\n",
       "      <th>0</th>\n",
       "      <td>A24</td>\n",
       "      <td>Ford Aerostar regular length cargo van 4WD ('...</td>\n",
       "    </tr>\n",
       "    <tr>\n",
       "      <th>...</th>\n",
       "      <td>...</td>\n",
       "      <td>...</td>\n",
       "    </tr>\n",
       "    <tr>\n",
       "      <th>202</th>\n",
       "      <td>Z8A</td>\n",
       "      <td>Mazda 6; SV (Special Value) ('10)</td>\n",
       "    </tr>\n",
       "    <tr>\n",
       "      <th>202</th>\n",
       "      <td>Z8B</td>\n",
       "      <td>Mazda 6; Sport ('10-'13)</td>\n",
       "    </tr>\n",
       "    <tr>\n",
       "      <th>202</th>\n",
       "      <td>Z8C</td>\n",
       "      <td>Mazda 6; Touring, Touring Plus, Grand Touring...</td>\n",
       "    </tr>\n",
       "    <tr>\n",
       "      <th>202</th>\n",
       "      <td>Z8D</td>\n",
       "      <td>Mazda 6; Touring ('12-'13)</td>\n",
       "    </tr>\n",
       "    <tr>\n",
       "      <th>202</th>\n",
       "      <td>Z8E</td>\n",
       "      <td>Mazda 6; Touring Plus ('12-'13)</td>\n",
       "    </tr>\n",
       "  </tbody>\n",
       "</table>\n",
       "<p>1458 rows × 2 columns</p>\n",
       "</div>"
      ],
      "text/plain": [
       "     vin                                              model\n",
       "0    A11  Ford Aerostar regular length passenger van ('8...\n",
       "0    A14   Ford Aerostar regular length cargo van ('86-'...\n",
       "0    A15   Ford Aerostar regular length cargo van w/side...\n",
       "0    A21   Ford Aerostar regular length passenger van 4W...\n",
       "0    A24   Ford Aerostar regular length cargo van 4WD ('...\n",
       "..   ...                                                ...\n",
       "202  Z8A                 Mazda 6; SV (Special Value) ('10) \n",
       "202  Z8B                          Mazda 6; Sport ('10-'13) \n",
       "202  Z8C   Mazda 6; Touring, Touring Plus, Grand Touring...\n",
       "202  Z8D                        Mazda 6; Touring ('12-'13) \n",
       "202  Z8E                    Mazda 6; Touring Plus ('12-'13)\n",
       "\n",
       "[1458 rows x 2 columns]"
      ]
     },
     "execution_count": 52,
     "metadata": {},
     "output_type": "execute_result"
    }
   ],
   "source": [
    "df_model_5_7 = pd.DataFrame({\n",
    "    'vin': vin,\n",
    "    'model': model\n",
    "})\n",
    "\n",
    "df_model_5_7"
   ]
  },
  {
   "cell_type": "code",
   "execution_count": 53,
   "metadata": {
    "colab": {
     "base_uri": "https://localhost:8080/"
    },
    "executionInfo": {
     "elapsed": 6,
     "status": "ok",
     "timestamp": 1713847417568,
     "user": {
      "displayName": "Эдгар Низаев",
      "userId": "15628445951160379931"
     },
     "user_tz": -240
    },
    "id": "IrNNEbUvJvdR",
    "outputId": "d1a4bbe8-c121-48bc-89e5-0eb185917d20",
    "tags": []
   },
   "outputs": [
    {
     "name": "stdout",
     "output_type": "stream",
     "text": [
      "Количество дубликатов: 422\n"
     ]
    }
   ],
   "source": [
    "print('Количество дубликатов:', df_model_5_7['vin'].duplicated().sum())"
   ]
  },
  {
   "cell_type": "code",
   "execution_count": 54,
   "metadata": {
    "colab": {
     "base_uri": "https://localhost:8080/",
     "height": 363
    },
    "executionInfo": {
     "elapsed": 6,
     "status": "ok",
     "timestamp": 1713847417569,
     "user": {
      "displayName": "Эдгар Низаев",
      "userId": "15628445951160379931"
     },
     "user_tz": -240
    },
    "id": "1uPh0VBLJvdS",
    "outputId": "1be77800-5c88-4239-b9e1-a72bce1500c2",
    "tags": []
   },
   "outputs": [
    {
     "data": {
      "text/html": [
       "<div>\n",
       "<style scoped>\n",
       "    .dataframe tbody tr th:only-of-type {\n",
       "        vertical-align: middle;\n",
       "    }\n",
       "\n",
       "    .dataframe tbody tr th {\n",
       "        vertical-align: top;\n",
       "    }\n",
       "\n",
       "    .dataframe thead th {\n",
       "        text-align: right;\n",
       "    }\n",
       "</style>\n",
       "<table border=\"1\" class=\"dataframe\">\n",
       "  <thead>\n",
       "    <tr style=\"text-align: right;\">\n",
       "      <th></th>\n",
       "      <th>vin</th>\n",
       "      <th>model</th>\n",
       "    </tr>\n",
       "  </thead>\n",
       "  <tbody>\n",
       "    <tr>\n",
       "      <th>0</th>\n",
       "      <td>A21</td>\n",
       "      <td>Ford Aerostar regular length passenger van 4W...</td>\n",
       "    </tr>\n",
       "    <tr>\n",
       "      <th>1</th>\n",
       "      <td>A51</td>\n",
       "      <td>Ford Windstar passenger van ('95-'98)</td>\n",
       "    </tr>\n",
       "    <tr>\n",
       "      <th>1</th>\n",
       "      <td>A50</td>\n",
       "      <td>Ford Windstar Base model ('00), LX 3-door ('0...</td>\n",
       "    </tr>\n",
       "    <tr>\n",
       "      <th>1</th>\n",
       "      <td>A51</td>\n",
       "      <td>Ford Windstar LX ('99-'00), LX 4-door ('01), ...</td>\n",
       "    </tr>\n",
       "    <tr>\n",
       "      <th>1</th>\n",
       "      <td>A52</td>\n",
       "      <td>Ford Windstar SE ('99-'03)</td>\n",
       "    </tr>\n",
       "    <tr>\n",
       "      <th>1</th>\n",
       "      <td>A54</td>\n",
       "      <td>Ford Windstar cargo van ('95-'03)</td>\n",
       "    </tr>\n",
       "    <tr>\n",
       "      <th>1</th>\n",
       "      <td>A57</td>\n",
       "      <td>Ford Windstar SE Sport ('01)</td>\n",
       "    </tr>\n",
       "    <tr>\n",
       "      <th>1</th>\n",
       "      <td>A58</td>\n",
       "      <td>Ford Windstar Limited ('01-'03)</td>\n",
       "    </tr>\n",
       "    <tr>\n",
       "      <th>5</th>\n",
       "      <td>E11</td>\n",
       "      <td>Ford Econoline, Club Wagon E-150 regular leng...</td>\n",
       "    </tr>\n",
       "    <tr>\n",
       "      <th>5</th>\n",
       "      <td>E14</td>\n",
       "      <td>Ford Econoline, E-150 Cargo Van regular lengt...</td>\n",
       "    </tr>\n",
       "  </tbody>\n",
       "</table>\n",
       "</div>"
      ],
      "text/plain": [
       "   vin                                              model\n",
       "0  A21   Ford Aerostar regular length passenger van 4W...\n",
       "1  A51             Ford Windstar passenger van ('95-'98) \n",
       "1  A50   Ford Windstar Base model ('00), LX 3-door ('0...\n",
       "1  A51   Ford Windstar LX ('99-'00), LX 4-door ('01), ...\n",
       "1  A52                        Ford Windstar SE ('99-'03) \n",
       "1  A54                 Ford Windstar cargo van ('95-'03) \n",
       "1  A57                      Ford Windstar SE Sport ('01) \n",
       "1  A58                    Ford Windstar Limited ('01-'03)\n",
       "5  E11   Ford Econoline, Club Wagon E-150 regular leng...\n",
       "5  E14   Ford Econoline, E-150 Cargo Van regular lengt..."
      ]
     },
     "execution_count": 54,
     "metadata": {},
     "output_type": "execute_result"
    }
   ],
   "source": [
    "df_model_5_7[df_model_5_7['vin'].duplicated (keep='last')].head(10)"
   ]
  },
  {
   "cell_type": "markdown",
   "metadata": {
    "id": "33T-8xecJvdS"
   },
   "source": [
    "Дубликаты в кодах имеются, но это разные модели разных годов."
   ]
  },
  {
   "cell_type": "markdown",
   "metadata": {
    "id": "PbC-33yMJvdS"
   },
   "source": [
    "#### Дополним нашу таблицу дополнительными признаками"
   ]
  },
  {
   "cell_type": "code",
   "execution_count": 55,
   "metadata": {
    "colab": {
     "base_uri": "https://localhost:8080/",
     "height": 206
    },
    "executionInfo": {
     "elapsed": 501,
     "status": "ok",
     "timestamp": 1713847418065,
     "user": {
      "displayName": "Эдгар Низаев",
      "userId": "15628445951160379931"
     },
     "user_tz": -240
    },
    "id": "P4wh3Cq9JvdS",
    "outputId": "a43ffa79-6ea1-422d-dfe1-e12f3a881f20",
    "tags": []
   },
   "outputs": [
    {
     "data": {
      "text/html": [
       "<div>\n",
       "<style scoped>\n",
       "    .dataframe tbody tr th:only-of-type {\n",
       "        vertical-align: middle;\n",
       "    }\n",
       "\n",
       "    .dataframe tbody tr th {\n",
       "        vertical-align: top;\n",
       "    }\n",
       "\n",
       "    .dataframe thead th {\n",
       "        text-align: right;\n",
       "    }\n",
       "</style>\n",
       "<table border=\"1\" class=\"dataframe\">\n",
       "  <thead>\n",
       "    <tr style=\"text-align: right;\">\n",
       "      <th></th>\n",
       "      <th>wmi</th>\n",
       "      <th>brake</th>\n",
       "      <th>model</th>\n",
       "      <th>engine</th>\n",
       "      <th>check</th>\n",
       "      <th>year</th>\n",
       "      <th>factory</th>\n",
       "      <th>serial_num</th>\n",
       "      <th>price</th>\n",
       "      <th>WMI</th>\n",
       "      <th>Country</th>\n",
       "      <th>Description</th>\n",
       "      <th>Vehicle types</th>\n",
       "    </tr>\n",
       "  </thead>\n",
       "  <tbody>\n",
       "    <tr>\n",
       "      <th>0</th>\n",
       "      <td>2FM</td>\n",
       "      <td>D</td>\n",
       "      <td>K3J</td>\n",
       "      <td>C</td>\n",
       "      <td>4</td>\n",
       "      <td>B</td>\n",
       "      <td>B</td>\n",
       "      <td>A41556</td>\n",
       "      <td>12500</td>\n",
       "      <td>2FM</td>\n",
       "      <td>Canada</td>\n",
       "      <td>Ford Motor Company of Canada, Ltd.</td>\n",
       "      <td>Ford MPV</td>\n",
       "    </tr>\n",
       "    <tr>\n",
       "      <th>1</th>\n",
       "      <td>2FM</td>\n",
       "      <td>D</td>\n",
       "      <td>K3J</td>\n",
       "      <td>C</td>\n",
       "      <td>6</td>\n",
       "      <td>C</td>\n",
       "      <td>B</td>\n",
       "      <td>A90002</td>\n",
       "      <td>19500</td>\n",
       "      <td>2FM</td>\n",
       "      <td>Canada</td>\n",
       "      <td>Ford Motor Company of Canada, Ltd.</td>\n",
       "      <td>Ford MPV</td>\n",
       "    </tr>\n",
       "    <tr>\n",
       "      <th>2</th>\n",
       "      <td>2FM</td>\n",
       "      <td>D</td>\n",
       "      <td>K3J</td>\n",
       "      <td>C</td>\n",
       "      <td>9</td>\n",
       "      <td>D</td>\n",
       "      <td>B</td>\n",
       "      <td>B30736</td>\n",
       "      <td>23500</td>\n",
       "      <td>2FM</td>\n",
       "      <td>Canada</td>\n",
       "      <td>Ford Motor Company of Canada, Ltd.</td>\n",
       "      <td>Ford MPV</td>\n",
       "    </tr>\n",
       "    <tr>\n",
       "      <th>3</th>\n",
       "      <td>2FM</td>\n",
       "      <td>G</td>\n",
       "      <td>K5D</td>\n",
       "      <td>8</td>\n",
       "      <td>5</td>\n",
       "      <td>E</td>\n",
       "      <td>B</td>\n",
       "      <td>D31213</td>\n",
       "      <td>26700</td>\n",
       "      <td>2FM</td>\n",
       "      <td>Canada</td>\n",
       "      <td>Ford Motor Company of Canada, Ltd.</td>\n",
       "      <td>Ford MPV</td>\n",
       "    </tr>\n",
       "    <tr>\n",
       "      <th>4</th>\n",
       "      <td>2FM</td>\n",
       "      <td>D</td>\n",
       "      <td>K4K</td>\n",
       "      <td>C</td>\n",
       "      <td>6</td>\n",
       "      <td>E</td>\n",
       "      <td>B</td>\n",
       "      <td>A72011</td>\n",
       "      <td>25100</td>\n",
       "      <td>2FM</td>\n",
       "      <td>Canada</td>\n",
       "      <td>Ford Motor Company of Canada, Ltd.</td>\n",
       "      <td>Ford MPV</td>\n",
       "    </tr>\n",
       "  </tbody>\n",
       "</table>\n",
       "</div>"
      ],
      "text/plain": [
       "   wmi brake model engine check year factory serial_num  price  WMI Country  \\\n",
       "0  2FM     D   K3J      C     4    B       B     A41556  12500  2FM  Canada   \n",
       "1  2FM     D   K3J      C     6    C       B     A90002  19500  2FM  Canada   \n",
       "2  2FM     D   K3J      C     9    D       B     B30736  23500  2FM  Canada   \n",
       "3  2FM     G   K5D      8     5    E       B     D31213  26700  2FM  Canada   \n",
       "4  2FM     D   K4K      C     6    E       B     A72011  25100  2FM  Canada   \n",
       "\n",
       "                          Description Vehicle types  \n",
       "0  Ford Motor Company of Canada, Ltd.      Ford MPV  \n",
       "1  Ford Motor Company of Canada, Ltd.      Ford MPV  \n",
       "2  Ford Motor Company of Canada, Ltd.      Ford MPV  \n",
       "3  Ford Motor Company of Canada, Ltd.      Ford MPV  \n",
       "4  Ford Motor Company of Canada, Ltd.      Ford MPV  "
      ]
     },
     "execution_count": 55,
     "metadata": {},
     "output_type": "execute_result"
    }
   ],
   "source": [
    "df_merged = pd.merge(df, df_wmi_1_3, left_on='wmi', right_on='WMI', suffixes=('_df', '_df_wmi_1_3'))\n",
    "df_merged.head()"
   ]
  },
  {
   "cell_type": "code",
   "execution_count": 56,
   "metadata": {
    "id": "bvg9mMUAJvdS",
    "tags": []
   },
   "outputs": [],
   "source": [
    "# Удалим лишний столбец\n",
    "df_merged = df_merged.drop('WMI', axis=1)"
   ]
  },
  {
   "cell_type": "code",
   "execution_count": 57,
   "metadata": {
    "id": "YCZfAhx5JvdS",
    "tags": []
   },
   "outputs": [],
   "source": [
    "df_merged.columns = df_merged.columns.str.lower()"
   ]
  },
  {
   "cell_type": "code",
   "execution_count": 58,
   "metadata": {
    "id": "oxUggbD7JvdS",
    "tags": []
   },
   "outputs": [],
   "source": [
    "# Переименуем добавленные столбцы\n",
    "df_merged.rename(columns={\n",
    "    'country' : 'wmi_country',\n",
    "    'description' : 'wmi_description',\n",
    "    'vehicle types' : 'wmi_vehicle types'\n",
    "}, inplace=True)"
   ]
  },
  {
   "cell_type": "code",
   "execution_count": 59,
   "metadata": {
    "colab": {
     "base_uri": "https://localhost:8080/"
    },
    "executionInfo": {
     "elapsed": 8,
     "status": "ok",
     "timestamp": 1713847418066,
     "user": {
      "displayName": "Эдгар Низаев",
      "userId": "15628445951160379931"
     },
     "user_tz": -240
    },
    "id": "uSaUPW-GJvdS",
    "outputId": "f7916d2e-ba93-45d3-afc7-9674469e8ee8",
    "tags": []
   },
   "outputs": [
    {
     "name": "stdout",
     "output_type": "stream",
     "text": [
      "<class 'pandas.core.frame.DataFrame'>\n",
      "RangeIndex: 71884 entries, 0 to 71883\n",
      "Data columns (total 12 columns):\n",
      " #   Column             Non-Null Count  Dtype \n",
      "---  ------             --------------  ----- \n",
      " 0   wmi                71884 non-null  object\n",
      " 1   brake              71884 non-null  object\n",
      " 2   model              71884 non-null  object\n",
      " 3   engine             71884 non-null  object\n",
      " 4   check              71884 non-null  object\n",
      " 5   year               71884 non-null  object\n",
      " 6   factory            71884 non-null  object\n",
      " 7   serial_num         71884 non-null  object\n",
      " 8   price              71884 non-null  int32 \n",
      " 9   wmi_country        71884 non-null  object\n",
      " 10  wmi_description    71884 non-null  object\n",
      " 11  wmi_vehicle types  71884 non-null  object\n",
      "dtypes: int32(1), object(11)\n",
      "memory usage: 6.3+ MB\n"
     ]
    }
   ],
   "source": [
    "df_merged.info()"
   ]
  },
  {
   "cell_type": "code",
   "execution_count": 60,
   "metadata": {
    "colab": {
     "base_uri": "https://localhost:8080/"
    },
    "executionInfo": {
     "elapsed": 6,
     "status": "ok",
     "timestamp": 1713847418066,
     "user": {
      "displayName": "Эдгар Низаев",
      "userId": "15628445951160379931"
     },
     "user_tz": -240
    },
    "id": "29rp-d28JvdS",
    "outputId": "fd593d97-de39-42c3-d25a-2f55c3e6fee1",
    "tags": []
   },
   "outputs": [
    {
     "data": {
      "text/plain": [
       "wmi_country\n",
       "USA       53292\n",
       "Mexico    12419\n",
       "Canada     6173\n",
       "Name: count, dtype: int64"
      ]
     },
     "execution_count": 60,
     "metadata": {},
     "output_type": "execute_result"
    }
   ],
   "source": [
    "df_merged['wmi_country'].value_counts()"
   ]
  },
  {
   "cell_type": "code",
   "execution_count": 61,
   "metadata": {
    "colab": {
     "base_uri": "https://localhost:8080/"
    },
    "executionInfo": {
     "elapsed": 5,
     "status": "ok",
     "timestamp": 1713847418066,
     "user": {
      "displayName": "Эдгар Низаев",
      "userId": "15628445951160379931"
     },
     "user_tz": -240
    },
    "id": "CX8rICJnJvdS",
    "outputId": "07dbbda2-1951-4eb3-c21e-0a055b79efbf",
    "tags": []
   },
   "outputs": [
    {
     "data": {
      "text/plain": [
       "wmi_vehicle types\n",
       "Ford passenger car                    25447\n",
       "Ford MPV                              24176\n",
       "Ford truck (completed vehicle)        17337\n",
       "Ford Mustang 2005-2014, Ford Probe     3257\n",
       "Ford Bus                               1124\n",
       "Mazda MPV                               263\n",
       "Ford incomplete vehicle                 242\n",
       "Nissan MPV                               22\n",
       "Mazda truck (completed vehicle)          16\n",
       "Name: count, dtype: int64"
      ]
     },
     "execution_count": 61,
     "metadata": {},
     "output_type": "execute_result"
    }
   ],
   "source": [
    "df_merged['wmi_vehicle types'].value_counts()"
   ]
  },
  {
   "cell_type": "code",
   "execution_count": 62,
   "metadata": {
    "colab": {
     "base_uri": "https://localhost:8080/"
    },
    "executionInfo": {
     "elapsed": 4,
     "status": "ok",
     "timestamp": 1713847418066,
     "user": {
      "displayName": "Эдгар Низаев",
      "userId": "15628445951160379931"
     },
     "user_tz": -240
    },
    "id": "6O0R5Q1xJvdS",
    "outputId": "2a4a356a-5fee-4c81-b134-90dca026526b",
    "tags": []
   },
   "outputs": [
    {
     "data": {
      "text/plain": [
       "wmi_description\n",
       "Ford Motor Company                    50035\n",
       "Ford Motor Company (Mexico)           12419\n",
       "Ford Motor Company of Canada, Ltd.     6173\n",
       "AutoAlliance International             3257\n",
       "Name: count, dtype: int64"
      ]
     },
     "execution_count": 62,
     "metadata": {},
     "output_type": "execute_result"
    }
   ],
   "source": [
    "df_merged['wmi_description'].value_counts()"
   ]
  },
  {
   "cell_type": "code",
   "execution_count": 63,
   "metadata": {
    "colab": {
     "base_uri": "https://localhost:8080/",
     "height": 206
    },
    "executionInfo": {
     "elapsed": 422,
     "status": "ok",
     "timestamp": 1713847418485,
     "user": {
      "displayName": "Эдгар Низаев",
      "userId": "15628445951160379931"
     },
     "user_tz": -240
    },
    "id": "k6CfMOROJvdT",
    "outputId": "f9b4bec6-799f-412d-b0b3-afdc10122e23",
    "tags": []
   },
   "outputs": [
    {
     "data": {
      "text/html": [
       "<div>\n",
       "<style scoped>\n",
       "    .dataframe tbody tr th:only-of-type {\n",
       "        vertical-align: middle;\n",
       "    }\n",
       "\n",
       "    .dataframe tbody tr th {\n",
       "        vertical-align: top;\n",
       "    }\n",
       "\n",
       "    .dataframe thead th {\n",
       "        text-align: right;\n",
       "    }\n",
       "</style>\n",
       "<table border=\"1\" class=\"dataframe\">\n",
       "  <thead>\n",
       "    <tr style=\"text-align: right;\">\n",
       "      <th></th>\n",
       "      <th>wmi</th>\n",
       "      <th>brake</th>\n",
       "      <th>model</th>\n",
       "      <th>engine</th>\n",
       "      <th>check</th>\n",
       "      <th>year</th>\n",
       "      <th>factory</th>\n",
       "      <th>serial_num</th>\n",
       "      <th>price</th>\n",
       "      <th>wmi_country</th>\n",
       "      <th>wmi_description</th>\n",
       "      <th>wmi_vehicle types</th>\n",
       "    </tr>\n",
       "  </thead>\n",
       "  <tbody>\n",
       "    <tr>\n",
       "      <th>0</th>\n",
       "      <td>2FM</td>\n",
       "      <td>D</td>\n",
       "      <td>K3J</td>\n",
       "      <td>C</td>\n",
       "      <td>4</td>\n",
       "      <td>B</td>\n",
       "      <td>B</td>\n",
       "      <td>A41556</td>\n",
       "      <td>12500</td>\n",
       "      <td>Canada</td>\n",
       "      <td>Ford Motor Company of Canada, Ltd.</td>\n",
       "      <td>Ford MPV</td>\n",
       "    </tr>\n",
       "    <tr>\n",
       "      <th>1</th>\n",
       "      <td>2FM</td>\n",
       "      <td>D</td>\n",
       "      <td>K3J</td>\n",
       "      <td>C</td>\n",
       "      <td>6</td>\n",
       "      <td>C</td>\n",
       "      <td>B</td>\n",
       "      <td>A90002</td>\n",
       "      <td>19500</td>\n",
       "      <td>Canada</td>\n",
       "      <td>Ford Motor Company of Canada, Ltd.</td>\n",
       "      <td>Ford MPV</td>\n",
       "    </tr>\n",
       "    <tr>\n",
       "      <th>2</th>\n",
       "      <td>2FM</td>\n",
       "      <td>D</td>\n",
       "      <td>K3J</td>\n",
       "      <td>C</td>\n",
       "      <td>9</td>\n",
       "      <td>D</td>\n",
       "      <td>B</td>\n",
       "      <td>B30736</td>\n",
       "      <td>23500</td>\n",
       "      <td>Canada</td>\n",
       "      <td>Ford Motor Company of Canada, Ltd.</td>\n",
       "      <td>Ford MPV</td>\n",
       "    </tr>\n",
       "    <tr>\n",
       "      <th>3</th>\n",
       "      <td>2FM</td>\n",
       "      <td>G</td>\n",
       "      <td>K5D</td>\n",
       "      <td>8</td>\n",
       "      <td>5</td>\n",
       "      <td>E</td>\n",
       "      <td>B</td>\n",
       "      <td>D31213</td>\n",
       "      <td>26700</td>\n",
       "      <td>Canada</td>\n",
       "      <td>Ford Motor Company of Canada, Ltd.</td>\n",
       "      <td>Ford MPV</td>\n",
       "    </tr>\n",
       "    <tr>\n",
       "      <th>4</th>\n",
       "      <td>2FM</td>\n",
       "      <td>D</td>\n",
       "      <td>K4K</td>\n",
       "      <td>C</td>\n",
       "      <td>6</td>\n",
       "      <td>E</td>\n",
       "      <td>B</td>\n",
       "      <td>A72011</td>\n",
       "      <td>25100</td>\n",
       "      <td>Canada</td>\n",
       "      <td>Ford Motor Company of Canada, Ltd.</td>\n",
       "      <td>Ford MPV</td>\n",
       "    </tr>\n",
       "  </tbody>\n",
       "</table>\n",
       "</div>"
      ],
      "text/plain": [
       "   wmi brake model engine check year factory serial_num  price wmi_country  \\\n",
       "0  2FM     D   K3J      C     4    B       B     A41556  12500      Canada   \n",
       "1  2FM     D   K3J      C     6    C       B     A90002  19500      Canada   \n",
       "2  2FM     D   K3J      C     9    D       B     B30736  23500      Canada   \n",
       "3  2FM     G   K5D      8     5    E       B     D31213  26700      Canada   \n",
       "4  2FM     D   K4K      C     6    E       B     A72011  25100      Canada   \n",
       "\n",
       "                      wmi_description wmi_vehicle types  \n",
       "0  Ford Motor Company of Canada, Ltd.          Ford MPV  \n",
       "1  Ford Motor Company of Canada, Ltd.          Ford MPV  \n",
       "2  Ford Motor Company of Canada, Ltd.          Ford MPV  \n",
       "3  Ford Motor Company of Canada, Ltd.          Ford MPV  \n",
       "4  Ford Motor Company of Canada, Ltd.          Ford MPV  "
      ]
     },
     "execution_count": 63,
     "metadata": {},
     "output_type": "execute_result"
    }
   ],
   "source": [
    "df_merged.head()"
   ]
  },
  {
   "cell_type": "code",
   "execution_count": 64,
   "metadata": {
    "colab": {
     "base_uri": "https://localhost:8080/",
     "height": 311
    },
    "executionInfo": {
     "elapsed": 1219,
     "status": "ok",
     "timestamp": 1713847419702,
     "user": {
      "displayName": "Эдгар Низаев",
      "userId": "15628445951160379931"
     },
     "user_tz": -240
    },
    "id": "cd6mV2-tJvdT",
    "outputId": "b75c3344-f4aa-4142-d9d4-086072cd35dc",
    "tags": []
   },
   "outputs": [
    {
     "data": {
      "text/html": [
       "<div>\n",
       "<style scoped>\n",
       "    .dataframe tbody tr th:only-of-type {\n",
       "        vertical-align: middle;\n",
       "    }\n",
       "\n",
       "    .dataframe tbody tr th {\n",
       "        vertical-align: top;\n",
       "    }\n",
       "\n",
       "    .dataframe thead th {\n",
       "        text-align: right;\n",
       "    }\n",
       "</style>\n",
       "<table border=\"1\" class=\"dataframe\">\n",
       "  <thead>\n",
       "    <tr style=\"text-align: right;\">\n",
       "      <th></th>\n",
       "      <th>wmi</th>\n",
       "      <th>brake</th>\n",
       "      <th>model</th>\n",
       "      <th>engine</th>\n",
       "      <th>check</th>\n",
       "      <th>year</th>\n",
       "      <th>factory</th>\n",
       "      <th>serial_num</th>\n",
       "      <th>price</th>\n",
       "      <th>wmi_country</th>\n",
       "      <th>wmi_description</th>\n",
       "      <th>wmi_vehicle types</th>\n",
       "      <th>VIN code</th>\n",
       "      <th>Description</th>\n",
       "    </tr>\n",
       "  </thead>\n",
       "  <tbody>\n",
       "    <tr>\n",
       "      <th>0</th>\n",
       "      <td>2FM</td>\n",
       "      <td>D</td>\n",
       "      <td>K3J</td>\n",
       "      <td>C</td>\n",
       "      <td>4</td>\n",
       "      <td>B</td>\n",
       "      <td>B</td>\n",
       "      <td>A41556</td>\n",
       "      <td>12500</td>\n",
       "      <td>Canada</td>\n",
       "      <td>Ford Motor Company of Canada, Ltd.</td>\n",
       "      <td>Ford MPV</td>\n",
       "      <td>D</td>\n",
       "      <td>Active Belts plus Driver and Passenger Front A...</td>\n",
       "    </tr>\n",
       "    <tr>\n",
       "      <th>1</th>\n",
       "      <td>2FM</td>\n",
       "      <td>D</td>\n",
       "      <td>K3J</td>\n",
       "      <td>C</td>\n",
       "      <td>6</td>\n",
       "      <td>C</td>\n",
       "      <td>B</td>\n",
       "      <td>A90002</td>\n",
       "      <td>19500</td>\n",
       "      <td>Canada</td>\n",
       "      <td>Ford Motor Company of Canada, Ltd.</td>\n",
       "      <td>Ford MPV</td>\n",
       "      <td>D</td>\n",
       "      <td>Active Belts plus Driver and Passenger Front A...</td>\n",
       "    </tr>\n",
       "    <tr>\n",
       "      <th>2</th>\n",
       "      <td>2FM</td>\n",
       "      <td>D</td>\n",
       "      <td>K3J</td>\n",
       "      <td>C</td>\n",
       "      <td>9</td>\n",
       "      <td>D</td>\n",
       "      <td>B</td>\n",
       "      <td>B30736</td>\n",
       "      <td>23500</td>\n",
       "      <td>Canada</td>\n",
       "      <td>Ford Motor Company of Canada, Ltd.</td>\n",
       "      <td>Ford MPV</td>\n",
       "      <td>D</td>\n",
       "      <td>Active Belts plus Driver and Passenger Front A...</td>\n",
       "    </tr>\n",
       "    <tr>\n",
       "      <th>3</th>\n",
       "      <td>2FM</td>\n",
       "      <td>G</td>\n",
       "      <td>K5D</td>\n",
       "      <td>8</td>\n",
       "      <td>5</td>\n",
       "      <td>E</td>\n",
       "      <td>B</td>\n",
       "      <td>D31213</td>\n",
       "      <td>26700</td>\n",
       "      <td>Canada</td>\n",
       "      <td>Ford Motor Company of Canada, Ltd.</td>\n",
       "      <td>Ford MPV</td>\n",
       "      <td>G</td>\n",
       "      <td>Active Belts plus Driver and Passenger Front A...</td>\n",
       "    </tr>\n",
       "    <tr>\n",
       "      <th>4</th>\n",
       "      <td>2FM</td>\n",
       "      <td>D</td>\n",
       "      <td>K4K</td>\n",
       "      <td>C</td>\n",
       "      <td>6</td>\n",
       "      <td>E</td>\n",
       "      <td>B</td>\n",
       "      <td>A72011</td>\n",
       "      <td>25100</td>\n",
       "      <td>Canada</td>\n",
       "      <td>Ford Motor Company of Canada, Ltd.</td>\n",
       "      <td>Ford MPV</td>\n",
       "      <td>D</td>\n",
       "      <td>Active Belts plus Driver and Passenger Front A...</td>\n",
       "    </tr>\n",
       "  </tbody>\n",
       "</table>\n",
       "</div>"
      ],
      "text/plain": [
       "   wmi brake model engine check year factory serial_num  price wmi_country  \\\n",
       "0  2FM     D   K3J      C     4    B       B     A41556  12500      Canada   \n",
       "1  2FM     D   K3J      C     6    C       B     A90002  19500      Canada   \n",
       "2  2FM     D   K3J      C     9    D       B     B30736  23500      Canada   \n",
       "3  2FM     G   K5D      8     5    E       B     D31213  26700      Canada   \n",
       "4  2FM     D   K4K      C     6    E       B     A72011  25100      Canada   \n",
       "\n",
       "                      wmi_description wmi_vehicle types VIN code  \\\n",
       "0  Ford Motor Company of Canada, Ltd.          Ford MPV        D   \n",
       "1  Ford Motor Company of Canada, Ltd.          Ford MPV        D   \n",
       "2  Ford Motor Company of Canada, Ltd.          Ford MPV        D   \n",
       "3  Ford Motor Company of Canada, Ltd.          Ford MPV        G   \n",
       "4  Ford Motor Company of Canada, Ltd.          Ford MPV        D   \n",
       "\n",
       "                                         Description  \n",
       "0  Active Belts plus Driver and Passenger Front A...  \n",
       "1  Active Belts plus Driver and Passenger Front A...  \n",
       "2  Active Belts plus Driver and Passenger Front A...  \n",
       "3  Active Belts plus Driver and Passenger Front A...  \n",
       "4  Active Belts plus Driver and Passenger Front A...  "
      ]
     },
     "execution_count": 64,
     "metadata": {},
     "output_type": "execute_result"
    }
   ],
   "source": [
    "df_merged_1 = pd.merge(df_merged, df_brake_4, left_on='brake', right_on='VIN code', how='left', suffixes=('_df_merged', '_df_brake_4'))\n",
    "df_merged_1.head()"
   ]
  },
  {
   "cell_type": "code",
   "execution_count": 65,
   "metadata": {
    "tags": []
   },
   "outputs": [
    {
     "name": "stdout",
     "output_type": "stream",
     "text": [
      "(71884, 12)\n",
      "(86600, 14)\n"
     ]
    }
   ],
   "source": [
    "print(df_merged.shape)\n",
    "print(df_merged_1.shape)"
   ]
  },
  {
   "cell_type": "code",
   "execution_count": 64,
   "metadata": {
    "id": "FSMugugiJvdT",
    "tags": []
   },
   "outputs": [],
   "source": [
    "# Удалим лишний столбец\n",
    "df_merged_1 = df_merged_1.drop('VIN code', axis=1)"
   ]
  },
  {
   "cell_type": "code",
   "execution_count": 65,
   "metadata": {
    "id": "zTtwQdCPJvdT",
    "tags": []
   },
   "outputs": [],
   "source": [
    "df_merged_1.columns = df_merged_1.columns.str.lower()"
   ]
  },
  {
   "cell_type": "code",
   "execution_count": 66,
   "metadata": {
    "id": "VrWWtRR1JvdT",
    "tags": []
   },
   "outputs": [],
   "source": [
    "# Переименуем добавленные столбцы\n",
    "df_merged_1.rename(columns={'description' : 'brake_description'}, inplace=True)"
   ]
  },
  {
   "cell_type": "code",
   "execution_count": 67,
   "metadata": {
    "colab": {
     "base_uri": "https://localhost:8080/"
    },
    "executionInfo": {
     "elapsed": 8,
     "status": "ok",
     "timestamp": 1713847419703,
     "user": {
      "displayName": "Эдгар Низаев",
      "userId": "15628445951160379931"
     },
     "user_tz": -240
    },
    "id": "Y1feS6YAJvdT",
    "outputId": "9de3b668-6f12-4b74-e960-6e114fe7ca40",
    "tags": []
   },
   "outputs": [
    {
     "name": "stdout",
     "output_type": "stream",
     "text": [
      "<class 'pandas.core.frame.DataFrame'>\n",
      "RangeIndex: 86600 entries, 0 to 86599\n",
      "Data columns (total 13 columns):\n",
      " #   Column             Non-Null Count  Dtype \n",
      "---  ------             --------------  ----- \n",
      " 0   wmi                86600 non-null  object\n",
      " 1   brake              86600 non-null  object\n",
      " 2   model              86600 non-null  object\n",
      " 3   engine             86600 non-null  object\n",
      " 4   check              86600 non-null  object\n",
      " 5   year               86600 non-null  object\n",
      " 6   factory            86600 non-null  object\n",
      " 7   serial_num         86600 non-null  object\n",
      " 8   price              86600 non-null  int32 \n",
      " 9   wmi_country        86600 non-null  object\n",
      " 10  wmi_description    86600 non-null  object\n",
      " 11  wmi_vehicle types  86600 non-null  object\n",
      " 12  brake_description  68608 non-null  object\n",
      "dtypes: int32(1), object(12)\n",
      "memory usage: 8.3+ MB\n"
     ]
    }
   ],
   "source": [
    "df_merged_1.info()"
   ]
  },
  {
   "cell_type": "code",
   "execution_count": 68,
   "metadata": {
    "colab": {
     "base_uri": "https://localhost:8080/",
     "height": 528
    },
    "executionInfo": {
     "elapsed": 7,
     "status": "ok",
     "timestamp": 1713847419703,
     "user": {
      "displayName": "Эдгар Низаев",
      "userId": "15628445951160379931"
     },
     "user_tz": -240
    },
    "id": "LjoZcP9DJvdT",
    "outputId": "01904724-80f6-4868-a36b-234f4e6dd4ce",
    "tags": []
   },
   "outputs": [
    {
     "data": {
      "text/html": [
       "<div>\n",
       "<style scoped>\n",
       "    .dataframe tbody tr th:only-of-type {\n",
       "        vertical-align: middle;\n",
       "    }\n",
       "\n",
       "    .dataframe tbody tr th {\n",
       "        vertical-align: top;\n",
       "    }\n",
       "\n",
       "    .dataframe thead th {\n",
       "        text-align: right;\n",
       "    }\n",
       "</style>\n",
       "<table border=\"1\" class=\"dataframe\">\n",
       "  <thead>\n",
       "    <tr style=\"text-align: right;\">\n",
       "      <th></th>\n",
       "      <th>wmi</th>\n",
       "      <th>brake</th>\n",
       "      <th>model</th>\n",
       "      <th>engine</th>\n",
       "      <th>check</th>\n",
       "      <th>year</th>\n",
       "      <th>factory</th>\n",
       "      <th>serial_num</th>\n",
       "      <th>price</th>\n",
       "      <th>wmi_country</th>\n",
       "      <th>wmi_description</th>\n",
       "      <th>wmi_vehicle types</th>\n",
       "      <th>brake_description</th>\n",
       "    </tr>\n",
       "  </thead>\n",
       "  <tbody>\n",
       "    <tr>\n",
       "      <th>85</th>\n",
       "      <td>2FM</td>\n",
       "      <td>E</td>\n",
       "      <td>K62</td>\n",
       "      <td>C</td>\n",
       "      <td>3</td>\n",
       "      <td>9</td>\n",
       "      <td>B</td>\n",
       "      <td>B08095</td>\n",
       "      <td>11600</td>\n",
       "      <td>Canada</td>\n",
       "      <td>Ford Motor Company of Canada, Ltd.</td>\n",
       "      <td>Ford MPV</td>\n",
       "      <td>NaN</td>\n",
       "    </tr>\n",
       "    <tr>\n",
       "      <th>189</th>\n",
       "      <td>2FM</td>\n",
       "      <td>Z</td>\n",
       "      <td>A52</td>\n",
       "      <td>2</td>\n",
       "      <td>9</td>\n",
       "      <td>4</td>\n",
       "      <td>B</td>\n",
       "      <td>A04595</td>\n",
       "      <td>2400</td>\n",
       "      <td>Canada</td>\n",
       "      <td>Ford Motor Company of Canada, Ltd.</td>\n",
       "      <td>Ford MPV</td>\n",
       "      <td>NaN</td>\n",
       "    </tr>\n",
       "    <tr>\n",
       "      <th>198</th>\n",
       "      <td>2FM</td>\n",
       "      <td>Z</td>\n",
       "      <td>A52</td>\n",
       "      <td>4</td>\n",
       "      <td>4</td>\n",
       "      <td>3</td>\n",
       "      <td>B</td>\n",
       "      <td>B30539</td>\n",
       "      <td>1100</td>\n",
       "      <td>Canada</td>\n",
       "      <td>Ford Motor Company of Canada, Ltd.</td>\n",
       "      <td>Ford MPV</td>\n",
       "      <td>NaN</td>\n",
       "    </tr>\n",
       "    <tr>\n",
       "      <th>257</th>\n",
       "      <td>2FM</td>\n",
       "      <td>Z</td>\n",
       "      <td>A51</td>\n",
       "      <td>6</td>\n",
       "      <td>8</td>\n",
       "      <td>6</td>\n",
       "      <td>B</td>\n",
       "      <td>A32685</td>\n",
       "      <td>1400</td>\n",
       "      <td>Canada</td>\n",
       "      <td>Ford Motor Company of Canada, Ltd.</td>\n",
       "      <td>Ford MPV</td>\n",
       "      <td>NaN</td>\n",
       "    </tr>\n",
       "    <tr>\n",
       "      <th>270</th>\n",
       "      <td>2FM</td>\n",
       "      <td>Z</td>\n",
       "      <td>A51</td>\n",
       "      <td>6</td>\n",
       "      <td>9</td>\n",
       "      <td>6</td>\n",
       "      <td>B</td>\n",
       "      <td>A16074</td>\n",
       "      <td>1300</td>\n",
       "      <td>Canada</td>\n",
       "      <td>Ford Motor Company of Canada, Ltd.</td>\n",
       "      <td>Ford MPV</td>\n",
       "      <td>NaN</td>\n",
       "    </tr>\n",
       "    <tr>\n",
       "      <th>...</th>\n",
       "      <td>...</td>\n",
       "      <td>...</td>\n",
       "      <td>...</td>\n",
       "      <td>...</td>\n",
       "      <td>...</td>\n",
       "      <td>...</td>\n",
       "      <td>...</td>\n",
       "      <td>...</td>\n",
       "      <td>...</td>\n",
       "      <td>...</td>\n",
       "      <td>...</td>\n",
       "      <td>...</td>\n",
       "      <td>...</td>\n",
       "    </tr>\n",
       "    <tr>\n",
       "      <th>86594</th>\n",
       "      <td>4N2</td>\n",
       "      <td>Z</td>\n",
       "      <td>N16</td>\n",
       "      <td>T</td>\n",
       "      <td>8</td>\n",
       "      <td>1</td>\n",
       "      <td>D</td>\n",
       "      <td>803453</td>\n",
       "      <td>1150</td>\n",
       "      <td>USA</td>\n",
       "      <td>Ford Motor Company</td>\n",
       "      <td>Nissan MPV</td>\n",
       "      <td>NaN</td>\n",
       "    </tr>\n",
       "    <tr>\n",
       "      <th>86596</th>\n",
       "      <td>4N2</td>\n",
       "      <td>Z</td>\n",
       "      <td>N15</td>\n",
       "      <td>T</td>\n",
       "      <td>0</td>\n",
       "      <td>1</td>\n",
       "      <td>D</td>\n",
       "      <td>821396</td>\n",
       "      <td>2000</td>\n",
       "      <td>USA</td>\n",
       "      <td>Ford Motor Company</td>\n",
       "      <td>Nissan MPV</td>\n",
       "      <td>NaN</td>\n",
       "    </tr>\n",
       "    <tr>\n",
       "      <th>86597</th>\n",
       "      <td>4N2</td>\n",
       "      <td>Z</td>\n",
       "      <td>N17</td>\n",
       "      <td>T</td>\n",
       "      <td>8</td>\n",
       "      <td>1</td>\n",
       "      <td>D</td>\n",
       "      <td>805606</td>\n",
       "      <td>1200</td>\n",
       "      <td>USA</td>\n",
       "      <td>Ford Motor Company</td>\n",
       "      <td>Nissan MPV</td>\n",
       "      <td>NaN</td>\n",
       "    </tr>\n",
       "    <tr>\n",
       "      <th>86598</th>\n",
       "      <td>4N2</td>\n",
       "      <td>Z</td>\n",
       "      <td>N17</td>\n",
       "      <td>T</td>\n",
       "      <td>8</td>\n",
       "      <td>1</td>\n",
       "      <td>D</td>\n",
       "      <td>811339</td>\n",
       "      <td>1500</td>\n",
       "      <td>USA</td>\n",
       "      <td>Ford Motor Company</td>\n",
       "      <td>Nissan MPV</td>\n",
       "      <td>NaN</td>\n",
       "    </tr>\n",
       "    <tr>\n",
       "      <th>86599</th>\n",
       "      <td>4N2</td>\n",
       "      <td>X</td>\n",
       "      <td>N11</td>\n",
       "      <td>T</td>\n",
       "      <td>4</td>\n",
       "      <td>X</td>\n",
       "      <td>D</td>\n",
       "      <td>827434</td>\n",
       "      <td>1400</td>\n",
       "      <td>USA</td>\n",
       "      <td>Ford Motor Company</td>\n",
       "      <td>Nissan MPV</td>\n",
       "      <td>NaN</td>\n",
       "    </tr>\n",
       "  </tbody>\n",
       "</table>\n",
       "<p>17992 rows × 13 columns</p>\n",
       "</div>"
      ],
      "text/plain": [
       "       wmi brake model engine check year factory serial_num  price  \\\n",
       "85     2FM     E   K62      C     3    9       B     B08095  11600   \n",
       "189    2FM     Z   A52      2     9    4       B     A04595   2400   \n",
       "198    2FM     Z   A52      4     4    3       B     B30539   1100   \n",
       "257    2FM     Z   A51      6     8    6       B     A32685   1400   \n",
       "270    2FM     Z   A51      6     9    6       B     A16074   1300   \n",
       "...    ...   ...   ...    ...   ...  ...     ...        ...    ...   \n",
       "86594  4N2     Z   N16      T     8    1       D     803453   1150   \n",
       "86596  4N2     Z   N15      T     0    1       D     821396   2000   \n",
       "86597  4N2     Z   N17      T     8    1       D     805606   1200   \n",
       "86598  4N2     Z   N17      T     8    1       D     811339   1500   \n",
       "86599  4N2     X   N11      T     4    X       D     827434   1400   \n",
       "\n",
       "      wmi_country                     wmi_description wmi_vehicle types  \\\n",
       "85         Canada  Ford Motor Company of Canada, Ltd.          Ford MPV   \n",
       "189        Canada  Ford Motor Company of Canada, Ltd.          Ford MPV   \n",
       "198        Canada  Ford Motor Company of Canada, Ltd.          Ford MPV   \n",
       "257        Canada  Ford Motor Company of Canada, Ltd.          Ford MPV   \n",
       "270        Canada  Ford Motor Company of Canada, Ltd.          Ford MPV   \n",
       "...           ...                                 ...               ...   \n",
       "86594         USA                  Ford Motor Company        Nissan MPV   \n",
       "86596         USA                  Ford Motor Company        Nissan MPV   \n",
       "86597         USA                  Ford Motor Company        Nissan MPV   \n",
       "86598         USA                  Ford Motor Company        Nissan MPV   \n",
       "86599         USA                  Ford Motor Company        Nissan MPV   \n",
       "\n",
       "      brake_description  \n",
       "85                  NaN  \n",
       "189                 NaN  \n",
       "198                 NaN  \n",
       "257                 NaN  \n",
       "270                 NaN  \n",
       "...                 ...  \n",
       "86594               NaN  \n",
       "86596               NaN  \n",
       "86597               NaN  \n",
       "86598               NaN  \n",
       "86599               NaN  \n",
       "\n",
       "[17992 rows x 13 columns]"
      ]
     },
     "execution_count": 68,
     "metadata": {},
     "output_type": "execute_result"
    }
   ],
   "source": [
    "df_merged_1[df_merged_1['brake_description'].isnull()]"
   ]
  },
  {
   "cell_type": "markdown",
   "metadata": {
    "id": "MYsxuC27JvdT"
   },
   "source": [
    "Данные пропуски связаны с тем, что для *light trucks* есть дополнительные обозначения. Поставим заглушку."
   ]
  },
  {
   "cell_type": "code",
   "execution_count": 69,
   "metadata": {
    "colab": {
     "base_uri": "https://localhost:8080/"
    },
    "executionInfo": {
     "elapsed": 6,
     "status": "ok",
     "timestamp": 1713847419703,
     "user": {
      "displayName": "Эдгар Низаев",
      "userId": "15628445951160379931"
     },
     "user_tz": -240
    },
    "id": "55QfmeQJJvdT",
    "outputId": "26b94d5e-6add-453b-a545-85dcaafb6ceb",
    "tags": []
   },
   "outputs": [
    {
     "data": {
      "text/plain": [
       "brake_description\n",
       "Specified character for light trucks                                                                                                   17992\n",
       "Active Belts plus Driver and Passenger Front Airbags & Side Airbags (1st & 2nd row) & Driver-side Knee Airbags ('10-)                  12370\n",
       "Active Belts and Driver and Passenger Front and Side &/or Side Curtain Airbags ('99-'09)                                               12012\n",
       "Active Belts plus Driver and Passenger Front Airbags & Side Airbags (1st & 2nd row) ('10-)                                             12012\n",
       "Active Belts and Driver-side Front Airbag                                                                                               9034\n",
       "Active Belts and Driver and Passenger (Second Generation) Front Airbags                                                                 8376\n",
       "Active Belts plus Driver and Passenger Front Airbags & Side Airbags (1st & 2nd row) & Driver and Passenger Knee Airbags ('13-)          5890\n",
       "Active belts (Manual)                                                                                                                   2704\n",
       "Active Belts plus Driver and Passenger Front Airbags & Side Airbags (1st row) ('10-)                                                    2704\n",
       "Passive belts (Motorized)                                                                                                               2289\n",
       "Active Belts and Driver and Passenger (Second Generation) Front Airbags (only applies to '98-Early '01 Escort ZX2)                       525\n",
       "Active Belts plus Driver and Passenger Front Airbags & Side Airbags (1st row) & Driver and Passenger Knee Airbags ('17-'22 Ford GT)      497\n",
       "Active Belts and Driver and Passenger (First Generation) Front Airbags                                                                   192\n",
       "Active (Manual) Belt (Driver) & Passive (Motorized) Belt (Passenger) plus Driver-side Front Airbag ('94 Tempo/Topaz)                       3\n",
       "Name: count, dtype: int64"
      ]
     },
     "execution_count": 69,
     "metadata": {},
     "output_type": "execute_result"
    }
   ],
   "source": [
    "df_merged_1['brake_description'] = df_merged_1['brake_description'].fillna('Specified character for light trucks')\n",
    "df_merged_1['brake_description'].value_counts()"
   ]
  },
  {
   "cell_type": "code",
   "execution_count": 70,
   "metadata": {
    "colab": {
     "base_uri": "https://localhost:8080/",
     "height": 311
    },
    "executionInfo": {
     "elapsed": 346,
     "status": "ok",
     "timestamp": 1713847420044,
     "user": {
      "displayName": "Эдгар Низаев",
      "userId": "15628445951160379931"
     },
     "user_tz": -240
    },
    "id": "vtaAuR6qJvdU",
    "outputId": "5c01e0f0-9e08-4ffd-94fb-1a598d68f66c",
    "tags": []
   },
   "outputs": [
    {
     "data": {
      "text/html": [
       "<div>\n",
       "<style scoped>\n",
       "    .dataframe tbody tr th:only-of-type {\n",
       "        vertical-align: middle;\n",
       "    }\n",
       "\n",
       "    .dataframe tbody tr th {\n",
       "        vertical-align: top;\n",
       "    }\n",
       "\n",
       "    .dataframe thead th {\n",
       "        text-align: right;\n",
       "    }\n",
       "</style>\n",
       "<table border=\"1\" class=\"dataframe\">\n",
       "  <thead>\n",
       "    <tr style=\"text-align: right;\">\n",
       "      <th></th>\n",
       "      <th>wmi</th>\n",
       "      <th>brake</th>\n",
       "      <th>model</th>\n",
       "      <th>engine</th>\n",
       "      <th>check</th>\n",
       "      <th>year</th>\n",
       "      <th>factory</th>\n",
       "      <th>serial_num</th>\n",
       "      <th>price</th>\n",
       "      <th>wmi_country</th>\n",
       "      <th>wmi_description</th>\n",
       "      <th>wmi_vehicle types</th>\n",
       "      <th>brake_description</th>\n",
       "    </tr>\n",
       "  </thead>\n",
       "  <tbody>\n",
       "    <tr>\n",
       "      <th>0</th>\n",
       "      <td>2FM</td>\n",
       "      <td>D</td>\n",
       "      <td>K3J</td>\n",
       "      <td>C</td>\n",
       "      <td>4</td>\n",
       "      <td>B</td>\n",
       "      <td>B</td>\n",
       "      <td>A41556</td>\n",
       "      <td>12500</td>\n",
       "      <td>Canada</td>\n",
       "      <td>Ford Motor Company of Canada, Ltd.</td>\n",
       "      <td>Ford MPV</td>\n",
       "      <td>Active Belts plus Driver and Passenger Front A...</td>\n",
       "    </tr>\n",
       "    <tr>\n",
       "      <th>1</th>\n",
       "      <td>2FM</td>\n",
       "      <td>D</td>\n",
       "      <td>K3J</td>\n",
       "      <td>C</td>\n",
       "      <td>6</td>\n",
       "      <td>C</td>\n",
       "      <td>B</td>\n",
       "      <td>A90002</td>\n",
       "      <td>19500</td>\n",
       "      <td>Canada</td>\n",
       "      <td>Ford Motor Company of Canada, Ltd.</td>\n",
       "      <td>Ford MPV</td>\n",
       "      <td>Active Belts plus Driver and Passenger Front A...</td>\n",
       "    </tr>\n",
       "    <tr>\n",
       "      <th>2</th>\n",
       "      <td>2FM</td>\n",
       "      <td>D</td>\n",
       "      <td>K3J</td>\n",
       "      <td>C</td>\n",
       "      <td>9</td>\n",
       "      <td>D</td>\n",
       "      <td>B</td>\n",
       "      <td>B30736</td>\n",
       "      <td>23500</td>\n",
       "      <td>Canada</td>\n",
       "      <td>Ford Motor Company of Canada, Ltd.</td>\n",
       "      <td>Ford MPV</td>\n",
       "      <td>Active Belts plus Driver and Passenger Front A...</td>\n",
       "    </tr>\n",
       "    <tr>\n",
       "      <th>3</th>\n",
       "      <td>2FM</td>\n",
       "      <td>G</td>\n",
       "      <td>K5D</td>\n",
       "      <td>8</td>\n",
       "      <td>5</td>\n",
       "      <td>E</td>\n",
       "      <td>B</td>\n",
       "      <td>D31213</td>\n",
       "      <td>26700</td>\n",
       "      <td>Canada</td>\n",
       "      <td>Ford Motor Company of Canada, Ltd.</td>\n",
       "      <td>Ford MPV</td>\n",
       "      <td>Active Belts plus Driver and Passenger Front A...</td>\n",
       "    </tr>\n",
       "    <tr>\n",
       "      <th>4</th>\n",
       "      <td>2FM</td>\n",
       "      <td>D</td>\n",
       "      <td>K4K</td>\n",
       "      <td>C</td>\n",
       "      <td>6</td>\n",
       "      <td>E</td>\n",
       "      <td>B</td>\n",
       "      <td>A72011</td>\n",
       "      <td>25100</td>\n",
       "      <td>Canada</td>\n",
       "      <td>Ford Motor Company of Canada, Ltd.</td>\n",
       "      <td>Ford MPV</td>\n",
       "      <td>Active Belts plus Driver and Passenger Front A...</td>\n",
       "    </tr>\n",
       "  </tbody>\n",
       "</table>\n",
       "</div>"
      ],
      "text/plain": [
       "   wmi brake model engine check year factory serial_num  price wmi_country  \\\n",
       "0  2FM     D   K3J      C     4    B       B     A41556  12500      Canada   \n",
       "1  2FM     D   K3J      C     6    C       B     A90002  19500      Canada   \n",
       "2  2FM     D   K3J      C     9    D       B     B30736  23500      Canada   \n",
       "3  2FM     G   K5D      8     5    E       B     D31213  26700      Canada   \n",
       "4  2FM     D   K4K      C     6    E       B     A72011  25100      Canada   \n",
       "\n",
       "                      wmi_description wmi_vehicle types  \\\n",
       "0  Ford Motor Company of Canada, Ltd.          Ford MPV   \n",
       "1  Ford Motor Company of Canada, Ltd.          Ford MPV   \n",
       "2  Ford Motor Company of Canada, Ltd.          Ford MPV   \n",
       "3  Ford Motor Company of Canada, Ltd.          Ford MPV   \n",
       "4  Ford Motor Company of Canada, Ltd.          Ford MPV   \n",
       "\n",
       "                                   brake_description  \n",
       "0  Active Belts plus Driver and Passenger Front A...  \n",
       "1  Active Belts plus Driver and Passenger Front A...  \n",
       "2  Active Belts plus Driver and Passenger Front A...  \n",
       "3  Active Belts plus Driver and Passenger Front A...  \n",
       "4  Active Belts plus Driver and Passenger Front A...  "
      ]
     },
     "execution_count": 70,
     "metadata": {},
     "output_type": "execute_result"
    }
   ],
   "source": [
    "df_merged_1.head()"
   ]
  },
  {
   "cell_type": "code",
   "execution_count": 71,
   "metadata": {
    "colab": {
     "base_uri": "https://localhost:8080/"
    },
    "executionInfo": {
     "elapsed": 7,
     "status": "ok",
     "timestamp": 1713847420044,
     "user": {
      "displayName": "Эдгар Низаев",
      "userId": "15628445951160379931"
     },
     "user_tz": -240
    },
    "id": "xQXPH4e-JvdU",
    "outputId": "0e41aa14-1005-4362-baa8-15b900058156",
    "tags": []
   },
   "outputs": [
    {
     "name": "stdout",
     "output_type": "stream",
     "text": [
      "<class 'pandas.core.frame.DataFrame'>\n",
      "RangeIndex: 86600 entries, 0 to 86599\n",
      "Data columns (total 13 columns):\n",
      " #   Column             Non-Null Count  Dtype \n",
      "---  ------             --------------  ----- \n",
      " 0   wmi                86600 non-null  object\n",
      " 1   brake              86600 non-null  object\n",
      " 2   model              86600 non-null  object\n",
      " 3   engine             86600 non-null  object\n",
      " 4   check              86600 non-null  object\n",
      " 5   year               86600 non-null  object\n",
      " 6   factory            86600 non-null  object\n",
      " 7   serial_num         86600 non-null  object\n",
      " 8   price              86600 non-null  int32 \n",
      " 9   wmi_country        86600 non-null  object\n",
      " 10  wmi_description    86600 non-null  object\n",
      " 11  wmi_vehicle types  86600 non-null  object\n",
      " 12  brake_description  86600 non-null  object\n",
      "dtypes: int32(1), object(12)\n",
      "memory usage: 8.3+ MB\n"
     ]
    }
   ],
   "source": [
    "df_merged_1.info()"
   ]
  },
  {
   "cell_type": "markdown",
   "metadata": {
    "id": "PrtC5LfrJvdU"
   },
   "source": [
    "Добавили в таблицу расшифровку некоторых позиций VIN-кода. Попробуем построить модель на имеющихся данных."
   ]
  },
  {
   "cell_type": "markdown",
   "metadata": {
    "id": "ci4Un72wJvdU"
   },
   "source": [
    "## Подготовка данных для построения модели"
   ]
  },
  {
   "cell_type": "markdown",
   "metadata": {
    "id": "l_cybsx2JvdU"
   },
   "source": [
    "### Деление данных на выборки"
   ]
  },
  {
   "cell_type": "code",
   "execution_count": 72,
   "metadata": {
    "id": "NYohYozfJvdU",
    "tags": []
   },
   "outputs": [],
   "source": [
    "# отделяем целевой признак\n",
    "\n",
    "features = df_merged_1.drop(['price', 'brake_description', 'check', 'serial_num'], axis=1) # 'brake_description' уберем потому что это по сути дублер столбца brake, \n",
    "target = df_merged_1['price']                                                              # 'check' уберем из-за невалидных данных\n",
    "                                                                                           # 'serial_num' уберем, так как данные значения не несут никакой информации для обучения"
   ]
  },
  {
   "cell_type": "code",
   "execution_count": 73,
   "metadata": {
    "colab": {
     "base_uri": "https://localhost:8080/"
    },
    "executionInfo": {
     "elapsed": 4,
     "status": "ok",
     "timestamp": 1713847420044,
     "user": {
      "displayName": "Эдгар Низаев",
      "userId": "15628445951160379931"
     },
     "user_tz": -240
    },
    "id": "RrJugTTvJvdU",
    "outputId": "cd6d9bee-a874-47da-bc93-40f2d9e29521",
    "tags": []
   },
   "outputs": [
    {
     "name": "stdout",
     "output_type": "stream",
     "text": [
      "Размер тренировочной выборки (признаки): (64950, 9)\n",
      "Размер тестовой выборки (признаки): (21650, 9)\n",
      "Размер тренировочной выборки (целевой признак): (64950,)\n",
      "Размер тестовой выборки (целевой признак): (21650,)\n"
     ]
    }
   ],
   "source": [
    "features_train, features_test, target_train, target_test = train_test_split(\n",
    "    features, target, test_size=0.25, random_state=RANDOM_STATE)\n",
    "\n",
    "print('Размер тренировочной выборки (признаки):', features_train.shape)\n",
    "print('Размер тестовой выборки (признаки):', features_test.shape)\n",
    "print('Размер тренировочной выборки (целевой признак):', target_train.shape)\n",
    "print('Размер тестовой выборки (целевой признак):', target_test.shape)"
   ]
  },
  {
   "cell_type": "code",
   "execution_count": 74,
   "metadata": {
    "colab": {
     "base_uri": "https://localhost:8080/",
     "height": 293
    },
    "executionInfo": {
     "elapsed": 707,
     "status": "ok",
     "timestamp": 1713847420748,
     "user": {
      "displayName": "Эдгар Низаев",
      "userId": "15628445951160379931"
     },
     "user_tz": -240
    },
    "id": "7ABh2flfJvdU",
    "outputId": "4db50d19-6bf5-4b27-ee0c-e4a9123bb0a5",
    "tags": []
   },
   "outputs": [
    {
     "data": {
      "text/html": [
       "<div>\n",
       "<style scoped>\n",
       "    .dataframe tbody tr th:only-of-type {\n",
       "        vertical-align: middle;\n",
       "    }\n",
       "\n",
       "    .dataframe tbody tr th {\n",
       "        vertical-align: top;\n",
       "    }\n",
       "\n",
       "    .dataframe thead th {\n",
       "        text-align: right;\n",
       "    }\n",
       "</style>\n",
       "<table border=\"1\" class=\"dataframe\">\n",
       "  <thead>\n",
       "    <tr style=\"text-align: right;\">\n",
       "      <th></th>\n",
       "      <th>wmi</th>\n",
       "      <th>brake</th>\n",
       "      <th>model</th>\n",
       "      <th>engine</th>\n",
       "      <th>year</th>\n",
       "      <th>factory</th>\n",
       "      <th>wmi_country</th>\n",
       "      <th>wmi_description</th>\n",
       "      <th>wmi_vehicle types</th>\n",
       "    </tr>\n",
       "  </thead>\n",
       "  <tbody>\n",
       "    <tr>\n",
       "      <th>77918</th>\n",
       "      <td>1FT</td>\n",
       "      <td>F</td>\n",
       "      <td>W1E</td>\n",
       "      <td>F</td>\n",
       "      <td>C</td>\n",
       "      <td>F</td>\n",
       "      <td>USA</td>\n",
       "      <td>Ford Motor Company</td>\n",
       "      <td>Ford truck (completed vehicle)</td>\n",
       "    </tr>\n",
       "    <tr>\n",
       "      <th>43822</th>\n",
       "      <td>1FA</td>\n",
       "      <td>F</td>\n",
       "      <td>P56</td>\n",
       "      <td>U</td>\n",
       "      <td>7</td>\n",
       "      <td>A</td>\n",
       "      <td>USA</td>\n",
       "      <td>Ford Motor Company</td>\n",
       "      <td>Ford passenger car</td>\n",
       "    </tr>\n",
       "    <tr>\n",
       "      <th>72402</th>\n",
       "      <td>1FT</td>\n",
       "      <td>P</td>\n",
       "      <td>X12</td>\n",
       "      <td>5</td>\n",
       "      <td>7</td>\n",
       "      <td>F</td>\n",
       "      <td>USA</td>\n",
       "      <td>Ford Motor Company</td>\n",
       "      <td>Ford truck (completed vehicle)</td>\n",
       "    </tr>\n",
       "    <tr>\n",
       "      <th>4668</th>\n",
       "      <td>2FM</td>\n",
       "      <td>G</td>\n",
       "      <td>K5B</td>\n",
       "      <td>C</td>\n",
       "      <td>C</td>\n",
       "      <td>B</td>\n",
       "      <td>Canada</td>\n",
       "      <td>Ford Motor Company of Canada, Ltd.</td>\n",
       "      <td>Ford MPV</td>\n",
       "    </tr>\n",
       "    <tr>\n",
       "      <th>24204</th>\n",
       "      <td>1FM</td>\n",
       "      <td>C</td>\n",
       "      <td>U9H</td>\n",
       "      <td>9</td>\n",
       "      <td>D</td>\n",
       "      <td>U</td>\n",
       "      <td>USA</td>\n",
       "      <td>Ford Motor Company</td>\n",
       "      <td>Ford MPV</td>\n",
       "    </tr>\n",
       "  </tbody>\n",
       "</table>\n",
       "</div>"
      ],
      "text/plain": [
       "       wmi brake model engine year factory wmi_country  \\\n",
       "77918  1FT     F   W1E      F    C       F         USA   \n",
       "43822  1FA     F   P56      U    7       A         USA   \n",
       "72402  1FT     P   X12      5    7       F         USA   \n",
       "4668   2FM     G   K5B      C    C       B      Canada   \n",
       "24204  1FM     C   U9H      9    D       U         USA   \n",
       "\n",
       "                          wmi_description               wmi_vehicle types  \n",
       "77918                  Ford Motor Company  Ford truck (completed vehicle)  \n",
       "43822                  Ford Motor Company              Ford passenger car  \n",
       "72402                  Ford Motor Company  Ford truck (completed vehicle)  \n",
       "4668   Ford Motor Company of Canada, Ltd.                        Ford MPV  \n",
       "24204                  Ford Motor Company                        Ford MPV  "
      ]
     },
     "execution_count": 74,
     "metadata": {},
     "output_type": "execute_result"
    }
   ],
   "source": [
    "features_train.head()"
   ]
  },
  {
   "cell_type": "markdown",
   "metadata": {
    "id": "0YqLQ7f-RKb5"
   },
   "source": [
    "Выделим отдельным массивом категориальные признаки"
   ]
  },
  {
   "cell_type": "code",
   "execution_count": 75,
   "metadata": {
    "colab": {
     "base_uri": "https://localhost:8080/"
    },
    "executionInfo": {
     "elapsed": 7,
     "status": "ok",
     "timestamp": 1713847420748,
     "user": {
      "displayName": "Эдгар Низаев",
      "userId": "15628445951160379931"
     },
     "user_tz": -240
    },
    "id": "1gEnC4KQJvdU",
    "outputId": "d6c0155b-47f8-4a27-8ded-25c4b8966fba",
    "tags": []
   },
   "outputs": [
    {
     "data": {
      "text/plain": [
       "['wmi',\n",
       " 'brake',\n",
       " 'model',\n",
       " 'engine',\n",
       " 'year',\n",
       " 'factory',\n",
       " 'wmi_country',\n",
       " 'wmi_description',\n",
       " 'wmi_vehicle types']"
      ]
     },
     "execution_count": 75,
     "metadata": {},
     "output_type": "execute_result"
    }
   ],
   "source": [
    "cat_features = features_train.select_dtypes(include=['object']).columns.to_list()\n",
    "cat_features"
   ]
  },
  {
   "cell_type": "markdown",
   "metadata": {
    "id": "ReqCuYarJvdU"
   },
   "source": [
    "Преобразуем категориальные признаки в численные с помощью техники *MEstimateEncoder*. Она заключается в замене категориальных значений в переменной средним значением целевой переменной (целевого признака) для каждой категории."
   ]
  },
  {
   "cell_type": "code",
   "execution_count": 76,
   "metadata": {
    "id": "lSGjuJ2BJvdU",
    "tags": []
   },
   "outputs": [
    {
     "data": {
      "text/html": [
       "<div>\n",
       "<style scoped>\n",
       "    .dataframe tbody tr th:only-of-type {\n",
       "        vertical-align: middle;\n",
       "    }\n",
       "\n",
       "    .dataframe tbody tr th {\n",
       "        vertical-align: top;\n",
       "    }\n",
       "\n",
       "    .dataframe thead th {\n",
       "        text-align: right;\n",
       "    }\n",
       "</style>\n",
       "<table border=\"1\" class=\"dataframe\">\n",
       "  <thead>\n",
       "    <tr style=\"text-align: right;\">\n",
       "      <th></th>\n",
       "      <th>wmi</th>\n",
       "      <th>brake</th>\n",
       "      <th>model</th>\n",
       "      <th>engine</th>\n",
       "      <th>year</th>\n",
       "      <th>factory</th>\n",
       "      <th>wmi_country</th>\n",
       "      <th>wmi_description</th>\n",
       "      <th>wmi_vehicle types</th>\n",
       "    </tr>\n",
       "  </thead>\n",
       "  <tbody>\n",
       "    <tr>\n",
       "      <th>77918</th>\n",
       "      <td>16793.999141</td>\n",
       "      <td>17746.073928</td>\n",
       "      <td>25610.917248</td>\n",
       "      <td>22886.957360</td>\n",
       "      <td>14100.356278</td>\n",
       "      <td>19963.448964</td>\n",
       "      <td>14381.617877</td>\n",
       "      <td>14239.851500</td>\n",
       "      <td>16668.746187</td>\n",
       "    </tr>\n",
       "    <tr>\n",
       "      <th>43822</th>\n",
       "      <td>10627.479790</td>\n",
       "      <td>17746.073928</td>\n",
       "      <td>2742.425598</td>\n",
       "      <td>10526.556755</td>\n",
       "      <td>6721.473475</td>\n",
       "      <td>2258.674454</td>\n",
       "      <td>14381.617877</td>\n",
       "      <td>14239.851500</td>\n",
       "      <td>10865.556389</td>\n",
       "    </tr>\n",
       "    <tr>\n",
       "      <th>72402</th>\n",
       "      <td>16793.999141</td>\n",
       "      <td>9613.257622</td>\n",
       "      <td>7228.138323</td>\n",
       "      <td>14060.631962</td>\n",
       "      <td>6721.473475</td>\n",
       "      <td>19963.448964</td>\n",
       "      <td>14381.617877</td>\n",
       "      <td>14239.851500</td>\n",
       "      <td>16668.746187</td>\n",
       "    </tr>\n",
       "    <tr>\n",
       "      <th>4668</th>\n",
       "      <td>18498.934372</td>\n",
       "      <td>19217.724448</td>\n",
       "      <td>14820.556073</td>\n",
       "      <td>17833.419468</td>\n",
       "      <td>14100.356278</td>\n",
       "      <td>18466.795119</td>\n",
       "      <td>17433.700651</td>\n",
       "      <td>17433.700651</td>\n",
       "      <td>16191.553972</td>\n",
       "    </tr>\n",
       "    <tr>\n",
       "      <th>24204</th>\n",
       "      <td>15445.990521</td>\n",
       "      <td>14547.538053</td>\n",
       "      <td>17367.518474</td>\n",
       "      <td>18160.615818</td>\n",
       "      <td>17100.690884</td>\n",
       "      <td>14002.780501</td>\n",
       "      <td>14381.617877</td>\n",
       "      <td>14239.851500</td>\n",
       "      <td>16191.553972</td>\n",
       "    </tr>\n",
       "  </tbody>\n",
       "</table>\n",
       "</div>"
      ],
      "text/plain": [
       "                wmi         brake         model        engine          year  \\\n",
       "77918  16793.999141  17746.073928  25610.917248  22886.957360  14100.356278   \n",
       "43822  10627.479790  17746.073928   2742.425598  10526.556755   6721.473475   \n",
       "72402  16793.999141   9613.257622   7228.138323  14060.631962   6721.473475   \n",
       "4668   18498.934372  19217.724448  14820.556073  17833.419468  14100.356278   \n",
       "24204  15445.990521  14547.538053  17367.518474  18160.615818  17100.690884   \n",
       "\n",
       "            factory   wmi_country  wmi_description  wmi_vehicle types  \n",
       "77918  19963.448964  14381.617877     14239.851500       16668.746187  \n",
       "43822   2258.674454  14381.617877     14239.851500       10865.556389  \n",
       "72402  19963.448964  14381.617877     14239.851500       16668.746187  \n",
       "4668   18466.795119  17433.700651     17433.700651       16191.553972  \n",
       "24204  14002.780501  14381.617877     14239.851500       16191.553972  "
      ]
     },
     "execution_count": 76,
     "metadata": {},
     "output_type": "execute_result"
    }
   ],
   "source": [
    "enc = MEstimateEncoder(cols=cat_features, m=5.0)\n",
    "\n",
    "enc.fit(features_train[cat_features], target_train)\n",
    "\n",
    "features_train[cat_features] = enc.transform(features_train[cat_features])\n",
    "features_test[cat_features] = enc.transform(features_test[cat_features])\n",
    "\n",
    "features_train.head()"
   ]
  },
  {
   "cell_type": "markdown",
   "metadata": {
    "id": "K9i8t56qJvdU"
   },
   "source": [
    "### Обучение моделей"
   ]
  },
  {
   "cell_type": "markdown",
   "metadata": {
    "id": "2fX7NWZrJvdV"
   },
   "source": [
    "Выберем следующие алгоритмы для обучения модели:\n",
    "\n",
    "- `RandomForestRegressor`\n",
    "- `CatBoostRegressor`\n",
    "- `LGBMRegressor`\n",
    "\n",
    "Метрикой выберем *MAE*."
   ]
  },
  {
   "cell_type": "code",
   "execution_count": 77,
   "metadata": {
    "tags": []
   },
   "outputs": [],
   "source": [
    "def best_hyper_model(model, \n",
    "                     parameters_m, \n",
    "                     features=features_train, \n",
    "                     target=target_train):\n",
    "\n",
    "    # подбор лучших гиперпараметров модели с учетом метрики\n",
    "\n",
    "    rand_m = RandomizedSearchCV(estimator=model, \n",
    "                                param_distributions=parameters_m, \n",
    "                                cv=5, \n",
    "                                scoring='neg_mean_absolute_error', \n",
    "                                n_jobs=-1, \n",
    "                                random_state=RANDOM_STATE)\n",
    "    \n",
    "    rand_m.fit(features, target)\n",
    "\n",
    "    best_params = rand_m.best_params_\n",
    "    print('Гиперпараметры лучшей модели', best_params)\n",
    "    \n",
    "    best_model = rand_m.best_estimator_\n",
    "    \n",
    "    best_score = rand_m.best_score_\n",
    "    print('MAE модели', best_score)\n",
    "\n",
    "    return  best_model, best_params, best_score"
   ]
  },
  {
   "cell_type": "markdown",
   "metadata": {},
   "source": [
    "#### RandomForestRegressor"
   ]
  },
  {
   "cell_type": "code",
   "execution_count": 78,
   "metadata": {},
   "outputs": [],
   "source": [
    "parameters_rfr  = {'max_depth': [None] + [i for i in range(2, 7)],\n",
    "                   'n_estimators': range(1, 101, 10)}"
   ]
  },
  {
   "cell_type": "code",
   "execution_count": 79,
   "metadata": {},
   "outputs": [
    {
     "name": "stdout",
     "output_type": "stream",
     "text": [
      "Гиперпараметры лучшей модели {'n_estimators': 1, 'max_depth': None}\n",
      "MAE модели -1931.1523559051898\n",
      "CPU times: total: 2.08 s\n",
      "Wall time: 10.8 s\n"
     ]
    }
   ],
   "source": [
    "%%time\n",
    "\n",
    "model_rfr, params_rfr, best_score_rfr = best_hyper_model(\n",
    "    RandomForestRegressor(random_state=RANDOM_STATE),\n",
    "    parameters_rfr\n",
    ")"
   ]
  },
  {
   "cell_type": "code",
   "execution_count": 80,
   "metadata": {},
   "outputs": [
    {
     "data": {
      "text/html": [
       "<div>\n",
       "<style scoped>\n",
       "    .dataframe tbody tr th:only-of-type {\n",
       "        vertical-align: middle;\n",
       "    }\n",
       "\n",
       "    .dataframe tbody tr th {\n",
       "        vertical-align: top;\n",
       "    }\n",
       "\n",
       "    .dataframe thead th {\n",
       "        text-align: right;\n",
       "    }\n",
       "</style>\n",
       "<table border=\"1\" class=\"dataframe\">\n",
       "  <thead>\n",
       "    <tr style=\"text-align: right;\">\n",
       "      <th></th>\n",
       "      <th>Модель</th>\n",
       "      <th>Параметры</th>\n",
       "      <th>MAE</th>\n",
       "    </tr>\n",
       "  </thead>\n",
       "  <tbody>\n",
       "    <tr>\n",
       "      <th>0</th>\n",
       "      <td>RandomForestRegressor</td>\n",
       "      <td>{'n_estimators': 1, 'max_depth': None}</td>\n",
       "      <td>1931.15</td>\n",
       "    </tr>\n",
       "  </tbody>\n",
       "</table>\n",
       "</div>"
      ],
      "text/plain": [
       "                  Модель                               Параметры      MAE\n",
       "0  RandomForestRegressor  {'n_estimators': 1, 'max_depth': None}  1931.15"
      ]
     },
     "execution_count": 80,
     "metadata": {},
     "output_type": "execute_result"
    }
   ],
   "source": [
    "results_rfr = []\n",
    "results_rfr.append({'Модель': 'RandomForestRegressor',\n",
    "                    'Параметры': params_rfr,\n",
    "                    'MAE': round(best_score_rfr*-1, 2)})\n",
    "\n",
    "pd.set_option('display.max_colwidth', None)\n",
    "pd.DataFrame(results_rfr)"
   ]
  },
  {
   "cell_type": "markdown",
   "metadata": {
    "id": "zAesKJ3SRS_i",
    "tags": []
   },
   "source": [
    "#### CatBoostRegressor"
   ]
  },
  {
   "cell_type": "code",
   "execution_count": 81,
   "metadata": {
    "id": "YdMJJMoKJvdV"
   },
   "outputs": [],
   "source": [
    "parameters_cbr = {'learning_rate': [0.001,0.01,0.02,0.03,0.04],\n",
    "                  'depth': range(1, 16, 1),\n",
    "                  'iterations': range(1, 301, 50)}"
   ]
  },
  {
   "cell_type": "code",
   "execution_count": 82,
   "metadata": {
    "tags": []
   },
   "outputs": [
    {
     "name": "stdout",
     "output_type": "stream",
     "text": [
      "0:\tlearn: 5936.1685706\ttotal: 152ms\tremaining: 30.5s\n",
      "1:\tlearn: 5783.3982263\ttotal: 297ms\tremaining: 29.5s\n",
      "2:\tlearn: 5639.3453836\ttotal: 443ms\tremaining: 29.3s\n",
      "3:\tlearn: 5496.3796138\ttotal: 587ms\tremaining: 28.9s\n",
      "4:\tlearn: 5358.3088703\ttotal: 732ms\tremaining: 28.7s\n",
      "5:\tlearn: 5225.9093759\ttotal: 878ms\tremaining: 28.6s\n",
      "6:\tlearn: 5098.9565522\ttotal: 1.02s\tremaining: 28.4s\n",
      "7:\tlearn: 4974.8656924\ttotal: 1.17s\tremaining: 28.2s\n",
      "8:\tlearn: 4857.4950180\ttotal: 1.31s\tremaining: 28s\n",
      "9:\tlearn: 4746.0762244\ttotal: 1.38s\tremaining: 26.4s\n",
      "10:\tlearn: 4637.0889919\ttotal: 1.52s\tremaining: 26.3s\n",
      "11:\tlearn: 4532.0669292\ttotal: 1.67s\tremaining: 26.3s\n",
      "12:\tlearn: 4430.3428427\ttotal: 1.81s\tremaining: 26.3s\n",
      "13:\tlearn: 4332.0656098\ttotal: 1.96s\tremaining: 26.2s\n",
      "14:\tlearn: 4235.7243497\ttotal: 2.11s\tremaining: 26.1s\n",
      "15:\tlearn: 4146.9601515\ttotal: 2.25s\tremaining: 26s\n",
      "16:\tlearn: 4060.3861670\ttotal: 2.4s\tremaining: 26s\n",
      "17:\tlearn: 3978.0866863\ttotal: 2.55s\tremaining: 25.9s\n",
      "18:\tlearn: 3896.9240838\ttotal: 2.69s\tremaining: 25.8s\n",
      "19:\tlearn: 3820.1678981\ttotal: 2.83s\tremaining: 25.7s\n",
      "20:\tlearn: 3744.4943590\ttotal: 2.98s\tremaining: 25.6s\n",
      "21:\tlearn: 3676.6777758\ttotal: 2.99s\tremaining: 24.3s\n",
      "22:\tlearn: 3605.7584251\ttotal: 3.13s\tremaining: 24.2s\n",
      "23:\tlearn: 3538.8459704\ttotal: 3.28s\tremaining: 24.2s\n",
      "24:\tlearn: 3474.2471352\ttotal: 3.42s\tremaining: 24.1s\n",
      "25:\tlearn: 3410.9002670\ttotal: 3.56s\tremaining: 24s\n",
      "26:\tlearn: 3350.0713757\ttotal: 3.71s\tremaining: 23.9s\n",
      "27:\tlearn: 3296.1536935\ttotal: 3.85s\tremaining: 23.8s\n",
      "28:\tlearn: 3240.8892077\ttotal: 4s\tremaining: 23.7s\n",
      "29:\tlearn: 3187.0401686\ttotal: 4.14s\tremaining: 23.6s\n",
      "30:\tlearn: 3137.6716841\ttotal: 4.15s\tremaining: 22.8s\n",
      "31:\tlearn: 3089.7266008\ttotal: 4.3s\tremaining: 22.7s\n",
      "32:\tlearn: 3044.1306837\ttotal: 4.44s\tremaining: 22.6s\n",
      "33:\tlearn: 2999.3905119\ttotal: 4.59s\tremaining: 22.5s\n",
      "34:\tlearn: 2956.5012096\ttotal: 4.73s\tremaining: 22.4s\n",
      "35:\tlearn: 2914.4867153\ttotal: 4.88s\tremaining: 22.4s\n",
      "36:\tlearn: 2873.7001025\ttotal: 5.02s\tremaining: 22.3s\n",
      "37:\tlearn: 2834.9292960\ttotal: 5.17s\tremaining: 22.2s\n",
      "38:\tlearn: 2799.0337312\ttotal: 5.31s\tremaining: 22.1s\n",
      "39:\tlearn: 2764.0221529\ttotal: 5.46s\tremaining: 22s\n",
      "40:\tlearn: 2732.5069051\ttotal: 5.6s\tremaining: 21.9s\n",
      "41:\tlearn: 2700.4989717\ttotal: 5.75s\tremaining: 21.8s\n",
      "42:\tlearn: 2669.2472344\ttotal: 5.89s\tremaining: 21.7s\n",
      "43:\tlearn: 2638.8821272\ttotal: 6.04s\tremaining: 21.5s\n",
      "44:\tlearn: 2609.8838042\ttotal: 6.18s\tremaining: 21.4s\n",
      "45:\tlearn: 2581.4224911\ttotal: 6.33s\tremaining: 21.3s\n",
      "46:\tlearn: 2555.1114887\ttotal: 6.47s\tremaining: 21.2s\n",
      "47:\tlearn: 2530.3858031\ttotal: 6.62s\tremaining: 21.1s\n",
      "48:\tlearn: 2505.5031823\ttotal: 6.76s\tremaining: 21s\n",
      "49:\tlearn: 2482.0270195\ttotal: 6.91s\tremaining: 20.9s\n",
      "50:\tlearn: 2458.3001216\ttotal: 7.05s\tremaining: 20.7s\n",
      "51:\tlearn: 2436.0518793\ttotal: 7.2s\tremaining: 20.6s\n",
      "52:\tlearn: 2415.2563238\ttotal: 7.34s\tremaining: 20.5s\n",
      "53:\tlearn: 2395.2905875\ttotal: 7.49s\tremaining: 20.4s\n",
      "54:\tlearn: 2375.4125497\ttotal: 7.63s\tremaining: 20.3s\n",
      "55:\tlearn: 2357.4587624\ttotal: 7.77s\tremaining: 20.1s\n",
      "56:\tlearn: 2340.3818719\ttotal: 7.92s\tremaining: 20s\n",
      "57:\tlearn: 2324.5621483\ttotal: 8.06s\tremaining: 19.9s\n",
      "58:\tlearn: 2308.3779201\ttotal: 8.21s\tremaining: 19.8s\n",
      "59:\tlearn: 2292.2249177\ttotal: 8.36s\tremaining: 19.6s\n",
      "60:\tlearn: 2276.8835281\ttotal: 8.5s\tremaining: 19.5s\n",
      "61:\tlearn: 2263.1000781\ttotal: 8.64s\tremaining: 19.4s\n",
      "62:\tlearn: 2249.6766198\ttotal: 8.79s\tremaining: 19.3s\n",
      "63:\tlearn: 2236.6955393\ttotal: 8.94s\tremaining: 19.1s\n",
      "64:\tlearn: 2224.5908703\ttotal: 9.08s\tremaining: 19s\n",
      "65:\tlearn: 2213.3707142\ttotal: 9.23s\tremaining: 18.9s\n",
      "66:\tlearn: 2201.6254245\ttotal: 9.37s\tremaining: 18.7s\n",
      "67:\tlearn: 2190.8465418\ttotal: 9.52s\tremaining: 18.6s\n",
      "68:\tlearn: 2180.4617154\ttotal: 9.67s\tremaining: 18.5s\n",
      "69:\tlearn: 2169.9322172\ttotal: 9.81s\tremaining: 18.4s\n",
      "70:\tlearn: 2161.2007906\ttotal: 9.96s\tremaining: 18.2s\n",
      "71:\tlearn: 2151.8814763\ttotal: 10.1s\tremaining: 18.1s\n",
      "72:\tlearn: 2143.0817361\ttotal: 10.2s\tremaining: 18s\n",
      "73:\tlearn: 2134.7462497\ttotal: 10.4s\tremaining: 17.8s\n",
      "74:\tlearn: 2127.3193546\ttotal: 10.5s\tremaining: 17.7s\n",
      "75:\tlearn: 2119.1994161\ttotal: 10.7s\tremaining: 17.6s\n",
      "76:\tlearn: 2112.4728900\ttotal: 10.8s\tremaining: 17.4s\n",
      "77:\tlearn: 2105.2709996\ttotal: 11s\tremaining: 17.3s\n",
      "78:\tlearn: 2098.3871386\ttotal: 11.1s\tremaining: 17.2s\n",
      "79:\tlearn: 2092.8494643\ttotal: 11.3s\tremaining: 17s\n",
      "80:\tlearn: 2086.3701029\ttotal: 11.4s\tremaining: 16.9s\n",
      "81:\tlearn: 2080.3715993\ttotal: 11.5s\tremaining: 16.8s\n",
      "82:\tlearn: 2075.0519723\ttotal: 11.7s\tremaining: 16.6s\n",
      "83:\tlearn: 2069.7929486\ttotal: 11.8s\tremaining: 16.5s\n",
      "84:\tlearn: 2063.9771744\ttotal: 12s\tremaining: 16.4s\n",
      "85:\tlearn: 2058.5552333\ttotal: 12.1s\tremaining: 16.2s\n",
      "86:\tlearn: 2053.7273111\ttotal: 12.3s\tremaining: 16.1s\n",
      "87:\tlearn: 2048.9406079\ttotal: 12.4s\tremaining: 15.9s\n",
      "88:\tlearn: 2043.9530915\ttotal: 12.6s\tremaining: 15.8s\n",
      "89:\tlearn: 2040.0398281\ttotal: 12.7s\tremaining: 15.7s\n",
      "90:\tlearn: 2035.4490637\ttotal: 12.8s\tremaining: 15.5s\n",
      "91:\tlearn: 2030.9533760\ttotal: 13s\tremaining: 15.4s\n",
      "92:\tlearn: 2026.8504036\ttotal: 13.1s\tremaining: 15.3s\n",
      "93:\tlearn: 2023.3032089\ttotal: 13.3s\tremaining: 15.1s\n",
      "94:\tlearn: 2019.7480909\ttotal: 13.4s\tremaining: 15s\n",
      "95:\tlearn: 2016.2235212\ttotal: 13.6s\tremaining: 14.8s\n",
      "96:\tlearn: 2012.6403790\ttotal: 13.7s\tremaining: 14.7s\n",
      "97:\tlearn: 2009.7827154\ttotal: 13.9s\tremaining: 14.6s\n",
      "98:\tlearn: 2007.2919213\ttotal: 14s\tremaining: 14.4s\n",
      "99:\tlearn: 2004.2468729\ttotal: 14.2s\tremaining: 14.3s\n",
      "100:\tlearn: 2000.6003308\ttotal: 14.3s\tremaining: 14.2s\n",
      "101:\tlearn: 1997.7288045\ttotal: 14.5s\tremaining: 14s\n",
      "102:\tlearn: 1994.8849894\ttotal: 14.6s\tremaining: 13.9s\n",
      "103:\tlearn: 1992.5472481\ttotal: 14.8s\tremaining: 13.8s\n",
      "104:\tlearn: 1989.8255484\ttotal: 14.9s\tremaining: 13.6s\n",
      "105:\tlearn: 1987.5110690\ttotal: 15s\tremaining: 13.5s\n",
      "106:\tlearn: 1984.9344140\ttotal: 15.2s\tremaining: 13.3s\n",
      "107:\tlearn: 1982.4526065\ttotal: 15.3s\tremaining: 13.2s\n",
      "108:\tlearn: 1980.8868265\ttotal: 15.4s\tremaining: 13s\n",
      "109:\tlearn: 1978.5017221\ttotal: 15.5s\tremaining: 12.8s\n",
      "110:\tlearn: 1976.5151076\ttotal: 15.7s\tremaining: 12.7s\n",
      "111:\tlearn: 1974.3688308\ttotal: 15.8s\tremaining: 12.6s\n",
      "112:\tlearn: 1972.4051012\ttotal: 15.9s\tremaining: 12.4s\n",
      "113:\tlearn: 1970.4953491\ttotal: 16.1s\tremaining: 12.3s\n",
      "114:\tlearn: 1968.4143888\ttotal: 16.2s\tremaining: 12.1s\n",
      "115:\tlearn: 1967.3068116\ttotal: 16.2s\tremaining: 11.9s\n",
      "116:\tlearn: 1965.7594175\ttotal: 16.4s\tremaining: 11.8s\n",
      "117:\tlearn: 1964.1374149\ttotal: 16.5s\tremaining: 11.6s\n",
      "118:\tlearn: 1962.5114007\ttotal: 16.7s\tremaining: 11.5s\n",
      "119:\tlearn: 1961.1554456\ttotal: 16.8s\tremaining: 11.4s\n",
      "120:\tlearn: 1959.6778307\ttotal: 17s\tremaining: 11.2s\n",
      "121:\tlearn: 1958.3605050\ttotal: 17.1s\tremaining: 11.1s\n",
      "122:\tlearn: 1956.8731351\ttotal: 17.3s\tremaining: 11s\n",
      "123:\tlearn: 1955.0948581\ttotal: 17.4s\tremaining: 10.8s\n",
      "124:\tlearn: 1953.4027334\ttotal: 17.6s\tremaining: 10.7s\n",
      "125:\tlearn: 1952.3062790\ttotal: 17.7s\tremaining: 10.5s\n",
      "126:\tlearn: 1951.0105757\ttotal: 17.9s\tremaining: 10.4s\n",
      "127:\tlearn: 1949.7509088\ttotal: 18s\tremaining: 10.3s\n",
      "128:\tlearn: 1947.9518859\ttotal: 18.1s\tremaining: 10.1s\n",
      "129:\tlearn: 1946.6002054\ttotal: 18.3s\tremaining: 9.99s\n",
      "130:\tlearn: 1945.2958339\ttotal: 18.4s\tremaining: 9.85s\n",
      "131:\tlearn: 1944.1724378\ttotal: 18.6s\tremaining: 9.71s\n",
      "132:\tlearn: 1943.2231155\ttotal: 18.7s\tremaining: 9.57s\n",
      "133:\tlearn: 1942.0659186\ttotal: 18.9s\tremaining: 9.44s\n",
      "134:\tlearn: 1940.6228885\ttotal: 19s\tremaining: 9.3s\n",
      "135:\tlearn: 1939.7589945\ttotal: 19.2s\tremaining: 9.16s\n",
      "136:\tlearn: 1938.4047474\ttotal: 19.3s\tremaining: 9.02s\n",
      "137:\tlearn: 1937.3443642\ttotal: 19.4s\tremaining: 8.88s\n",
      "138:\tlearn: 1936.3089108\ttotal: 19.6s\tremaining: 8.74s\n",
      "139:\tlearn: 1935.2395336\ttotal: 19.7s\tremaining: 8.6s\n",
      "140:\tlearn: 1934.2801104\ttotal: 19.9s\tremaining: 8.46s\n",
      "141:\tlearn: 1933.5053564\ttotal: 20s\tremaining: 8.33s\n",
      "142:\tlearn: 1932.3320916\ttotal: 20.2s\tremaining: 8.19s\n",
      "143:\tlearn: 1931.5508114\ttotal: 20.3s\tremaining: 8.05s\n",
      "144:\tlearn: 1930.7274581\ttotal: 20.5s\tremaining: 7.91s\n",
      "145:\tlearn: 1929.7525856\ttotal: 20.6s\tremaining: 7.77s\n",
      "146:\tlearn: 1928.5095464\ttotal: 20.8s\tremaining: 7.63s\n",
      "147:\tlearn: 1927.6536004\ttotal: 20.9s\tremaining: 7.49s\n",
      "148:\tlearn: 1926.4960881\ttotal: 21.1s\tremaining: 7.35s\n",
      "149:\tlearn: 1925.5236529\ttotal: 21.2s\tremaining: 7.21s\n",
      "150:\tlearn: 1925.0669618\ttotal: 21.4s\tremaining: 7.07s\n",
      "151:\tlearn: 1924.2253629\ttotal: 21.5s\tremaining: 6.93s\n",
      "152:\tlearn: 1923.4905293\ttotal: 21.6s\tremaining: 6.79s\n",
      "153:\tlearn: 1922.8959392\ttotal: 21.8s\tremaining: 6.65s\n",
      "154:\tlearn: 1922.2446315\ttotal: 21.9s\tremaining: 6.51s\n",
      "155:\tlearn: 1921.5018685\ttotal: 22.1s\tremaining: 6.37s\n",
      "156:\tlearn: 1920.7657308\ttotal: 22.2s\tremaining: 6.23s\n",
      "157:\tlearn: 1920.3820301\ttotal: 22.4s\tremaining: 6.09s\n",
      "158:\tlearn: 1919.6340072\ttotal: 22.5s\tremaining: 5.95s\n",
      "159:\tlearn: 1918.7692799\ttotal: 22.7s\tremaining: 5.81s\n",
      "160:\tlearn: 1917.9038658\ttotal: 22.8s\tremaining: 5.67s\n",
      "161:\tlearn: 1917.3904721\ttotal: 22.9s\tremaining: 5.51s\n",
      "162:\tlearn: 1916.4713791\ttotal: 23s\tremaining: 5.37s\n",
      "163:\tlearn: 1915.9844727\ttotal: 23.2s\tremaining: 5.23s\n",
      "164:\tlearn: 1915.4650232\ttotal: 23.3s\tremaining: 5.09s\n",
      "165:\tlearn: 1915.0426391\ttotal: 23.5s\tremaining: 4.95s\n",
      "166:\tlearn: 1914.4438842\ttotal: 23.6s\tremaining: 4.81s\n",
      "167:\tlearn: 1913.3835108\ttotal: 23.8s\tremaining: 4.67s\n",
      "168:\tlearn: 1913.0382770\ttotal: 23.9s\tremaining: 4.53s\n",
      "169:\tlearn: 1911.7547102\ttotal: 24s\tremaining: 4.38s\n",
      "170:\tlearn: 1910.6887518\ttotal: 24.2s\tremaining: 4.24s\n",
      "171:\tlearn: 1910.2636279\ttotal: 24.3s\tremaining: 4.1s\n",
      "172:\tlearn: 1909.7250351\ttotal: 24.5s\tremaining: 3.96s\n",
      "173:\tlearn: 1909.2181472\ttotal: 24.6s\tremaining: 3.82s\n",
      "174:\tlearn: 1908.6786886\ttotal: 24.8s\tremaining: 3.68s\n",
      "175:\tlearn: 1908.0932310\ttotal: 24.9s\tremaining: 3.54s\n",
      "176:\tlearn: 1907.0568719\ttotal: 25.1s\tremaining: 3.4s\n",
      "177:\tlearn: 1906.3812022\ttotal: 25.2s\tremaining: 3.26s\n",
      "178:\tlearn: 1905.9147638\ttotal: 25.3s\tremaining: 3.12s\n",
      "179:\tlearn: 1905.2576110\ttotal: 25.5s\tremaining: 2.97s\n",
      "180:\tlearn: 1905.0619974\ttotal: 25.6s\tremaining: 2.83s\n",
      "181:\tlearn: 1904.7413174\ttotal: 25.8s\tremaining: 2.69s\n",
      "182:\tlearn: 1904.4475954\ttotal: 25.9s\tremaining: 2.55s\n",
      "183:\tlearn: 1903.6634337\ttotal: 26.1s\tremaining: 2.41s\n",
      "184:\tlearn: 1903.3746917\ttotal: 26.2s\tremaining: 2.27s\n",
      "185:\tlearn: 1902.9790916\ttotal: 26.4s\tremaining: 2.13s\n",
      "186:\tlearn: 1902.4941138\ttotal: 26.5s\tremaining: 1.98s\n",
      "187:\tlearn: 1901.6892251\ttotal: 26.7s\tremaining: 1.84s\n",
      "188:\tlearn: 1901.3773428\ttotal: 26.8s\tremaining: 1.7s\n",
      "189:\tlearn: 1901.2101184\ttotal: 26.8s\tremaining: 1.55s\n",
      "190:\tlearn: 1900.9400803\ttotal: 27s\tremaining: 1.41s\n",
      "191:\tlearn: 1900.1252745\ttotal: 27.1s\tremaining: 1.27s\n",
      "192:\tlearn: 1899.4089244\ttotal: 27.2s\tremaining: 1.13s\n",
      "193:\tlearn: 1898.6730707\ttotal: 27.4s\tremaining: 988ms\n",
      "194:\tlearn: 1898.2083250\ttotal: 27.5s\tremaining: 847ms\n",
      "195:\tlearn: 1897.9084150\ttotal: 27.7s\tremaining: 706ms\n",
      "196:\tlearn: 1897.3033933\ttotal: 27.8s\tremaining: 565ms\n",
      "197:\tlearn: 1896.9085123\ttotal: 28s\tremaining: 424ms\n",
      "198:\tlearn: 1896.5938858\ttotal: 28.1s\tremaining: 283ms\n",
      "199:\tlearn: 1896.3784757\ttotal: 28.3s\tremaining: 141ms\n",
      "200:\tlearn: 1896.1031649\ttotal: 28.4s\tremaining: 0us\n",
      "Гиперпараметры лучшей модели {'learning_rate': 0.03, 'iterations': 201, 'depth': 12}\n",
      "MAE модели -1921.324004159574\n",
      "CPU times: total: 48.6 s\n",
      "Wall time: 4min 18s\n"
     ]
    }
   ],
   "source": [
    "%%time\n",
    "\n",
    "model_cbr, params_cbr, best_score_cbr = best_hyper_model(\n",
    "    CatBoostRegressor(random_state=RANDOM_STATE,\n",
    "                      loss_function='MAE'),\n",
    "    parameters_cbr\n",
    ")"
   ]
  },
  {
   "cell_type": "code",
   "execution_count": 83,
   "metadata": {
    "tags": []
   },
   "outputs": [
    {
     "data": {
      "text/html": [
       "<div>\n",
       "<style scoped>\n",
       "    .dataframe tbody tr th:only-of-type {\n",
       "        vertical-align: middle;\n",
       "    }\n",
       "\n",
       "    .dataframe tbody tr th {\n",
       "        vertical-align: top;\n",
       "    }\n",
       "\n",
       "    .dataframe thead th {\n",
       "        text-align: right;\n",
       "    }\n",
       "</style>\n",
       "<table border=\"1\" class=\"dataframe\">\n",
       "  <thead>\n",
       "    <tr style=\"text-align: right;\">\n",
       "      <th></th>\n",
       "      <th>Модель</th>\n",
       "      <th>Параметры</th>\n",
       "      <th>MAE</th>\n",
       "    </tr>\n",
       "  </thead>\n",
       "  <tbody>\n",
       "    <tr>\n",
       "      <th>0</th>\n",
       "      <td>CatBoostRegressor</td>\n",
       "      <td>{'learning_rate': 0.03, 'iterations': 201, 'depth': 12}</td>\n",
       "      <td>1921.32</td>\n",
       "    </tr>\n",
       "  </tbody>\n",
       "</table>\n",
       "</div>"
      ],
      "text/plain": [
       "              Модель                                                Параметры  \\\n",
       "0  CatBoostRegressor  {'learning_rate': 0.03, 'iterations': 201, 'depth': 12}   \n",
       "\n",
       "       MAE  \n",
       "0  1921.32  "
      ]
     },
     "execution_count": 83,
     "metadata": {},
     "output_type": "execute_result"
    }
   ],
   "source": [
    "results_cbr = []\n",
    "results_cbr.append({'Модель': 'CatBoostRegressor',\n",
    "                    'Параметры': params_cbr,\n",
    "                    'MAE': round(best_score_cbr*-1, 2)})\n",
    "\n",
    "pd.set_option('display.max_colwidth', None)\n",
    "pd.DataFrame(results_cbr)"
   ]
  },
  {
   "cell_type": "markdown",
   "metadata": {},
   "source": [
    "#### LGBMRegressor"
   ]
  },
  {
   "cell_type": "code",
   "execution_count": 84,
   "metadata": {
    "tags": []
   },
   "outputs": [],
   "source": [
    "parameters_lgbm = {'max_depth' : range(1, 30, 5),\n",
    "                   'n_estimators' : range(101, 301, 50), \n",
    "                   'num_leaves' : range(1, 51, 10), \n",
    "                   'force_col_wise' : [True, False]}"
   ]
  },
  {
   "cell_type": "code",
   "execution_count": 85,
   "metadata": {
    "tags": []
   },
   "outputs": [
    {
     "name": "stdout",
     "output_type": "stream",
     "text": [
      "[LightGBM] [Warning] Found whitespace in feature_names, replace with underlines\n",
      "[LightGBM] [Info] Total Bins 337\n",
      "[LightGBM] [Info] Number of data points in the train set: 64950, number of used features: 9\n",
      "[LightGBM] [Info] Start training from score 13995.788745\n",
      "Гиперпараметры лучшей модели {'num_leaves': 41, 'n_estimators': 251, 'max_depth': 26, 'force_col_wise': True}\n",
      "MAE модели -1879.8101745781817\n",
      "CPU times: total: 3.7 s\n",
      "Wall time: 5.05 s\n"
     ]
    }
   ],
   "source": [
    "%%time\n",
    "\n",
    "model_lgbm, params_lgbm, best_score_lgbm = best_hyper_model(\n",
    "    LGBMRegressor(random_state=RANDOM_STATE),\n",
    "    parameters_lgbm\n",
    ")"
   ]
  },
  {
   "cell_type": "code",
   "execution_count": 86,
   "metadata": {
    "tags": []
   },
   "outputs": [
    {
     "data": {
      "text/html": [
       "<div>\n",
       "<style scoped>\n",
       "    .dataframe tbody tr th:only-of-type {\n",
       "        vertical-align: middle;\n",
       "    }\n",
       "\n",
       "    .dataframe tbody tr th {\n",
       "        vertical-align: top;\n",
       "    }\n",
       "\n",
       "    .dataframe thead th {\n",
       "        text-align: right;\n",
       "    }\n",
       "</style>\n",
       "<table border=\"1\" class=\"dataframe\">\n",
       "  <thead>\n",
       "    <tr style=\"text-align: right;\">\n",
       "      <th></th>\n",
       "      <th>Модель</th>\n",
       "      <th>Параметры</th>\n",
       "      <th>MAE</th>\n",
       "    </tr>\n",
       "  </thead>\n",
       "  <tbody>\n",
       "    <tr>\n",
       "      <th>0</th>\n",
       "      <td>LGBMRegressor</td>\n",
       "      <td>{'num_leaves': 41, 'n_estimators': 251, 'max_depth': 26, 'force_col_wise': True}</td>\n",
       "      <td>1879.81</td>\n",
       "    </tr>\n",
       "  </tbody>\n",
       "</table>\n",
       "</div>"
      ],
      "text/plain": [
       "          Модель  \\\n",
       "0  LGBMRegressor   \n",
       "\n",
       "                                                                          Параметры  \\\n",
       "0  {'num_leaves': 41, 'n_estimators': 251, 'max_depth': 26, 'force_col_wise': True}   \n",
       "\n",
       "       MAE  \n",
       "0  1879.81  "
      ]
     },
     "execution_count": 86,
     "metadata": {},
     "output_type": "execute_result"
    }
   ],
   "source": [
    "results_lgbm = []\n",
    "results_lgbm.append({'Модель': 'LGBMRegressor',\n",
    "                    'Параметры': params_lgbm,\n",
    "                    'MAE': round(best_score_lgbm*-1, 2)})\n",
    "\n",
    "pd.set_option('display.max_colwidth', None)\n",
    "pd.DataFrame(results_lgbm)"
   ]
  },
  {
   "cell_type": "code",
   "execution_count": 87,
   "metadata": {
    "tags": []
   },
   "outputs": [
    {
     "data": {
      "text/html": [
       "<div>\n",
       "<style scoped>\n",
       "    .dataframe tbody tr th:only-of-type {\n",
       "        vertical-align: middle;\n",
       "    }\n",
       "\n",
       "    .dataframe tbody tr th {\n",
       "        vertical-align: top;\n",
       "    }\n",
       "\n",
       "    .dataframe thead th {\n",
       "        text-align: right;\n",
       "    }\n",
       "</style>\n",
       "<table border=\"1\" class=\"dataframe\">\n",
       "  <thead>\n",
       "    <tr style=\"text-align: right;\">\n",
       "      <th></th>\n",
       "      <th>Model Type</th>\n",
       "      <th>MAE</th>\n",
       "    </tr>\n",
       "  </thead>\n",
       "  <tbody>\n",
       "    <tr>\n",
       "      <th>0</th>\n",
       "      <td>RandomForestRegressor</td>\n",
       "      <td>1931.152356</td>\n",
       "    </tr>\n",
       "    <tr>\n",
       "      <th>1</th>\n",
       "      <td>CatBoostRegressor</td>\n",
       "      <td>1921.324004</td>\n",
       "    </tr>\n",
       "    <tr>\n",
       "      <th>2</th>\n",
       "      <td>LGBMRegressor</td>\n",
       "      <td>1879.810175</td>\n",
       "    </tr>\n",
       "  </tbody>\n",
       "</table>\n",
       "</div>"
      ],
      "text/plain": [
       "              Model Type          MAE\n",
       "0  RandomForestRegressor  1931.152356\n",
       "1      CatBoostRegressor  1921.324004\n",
       "2          LGBMRegressor  1879.810175"
      ]
     },
     "execution_count": 87,
     "metadata": {},
     "output_type": "execute_result"
    }
   ],
   "source": [
    "#занесем результаты в отдельный датафрейм\n",
    "model_type = ['RandomForestRegressor', 'CatBoostRegressor', 'LGBMRegressor']\n",
    "MAE = [best_score_rfr*-1, best_score_cbr*-1, best_score_lgbm*-1]\n",
    "\n",
    "result = pd.DataFrame({'Model Type': model_type,\n",
    "                       'MAE': MAE})\n",
    "\n",
    "result\n"
   ]
  },
  {
   "cell_type": "markdown",
   "metadata": {},
   "source": [
    "Наилучшей моделью стала `LGBMRegressor`."
   ]
  },
  {
   "cell_type": "markdown",
   "metadata": {},
   "source": [
    "## Тестирование лучшей модели"
   ]
  },
  {
   "cell_type": "code",
   "execution_count": 88,
   "metadata": {
    "tags": []
   },
   "outputs": [
    {
     "name": "stdout",
     "output_type": "stream",
     "text": [
      "Результат тестовой метрики MAE для модели LGBMRegressor: 1860.9374269480002\n",
      "Результат тестовой метрики RMSE для модели LGBMRegressor: 2640.0642256598007\n",
      "Результат тестовой метрики MAPE для модели LGBMRegressor: 0.1938601329696314\n"
     ]
    }
   ],
   "source": [
    "best_model_test = model_lgbm.predict(features_test)\n",
    "\n",
    "RMSE_test = mean_squared_error(target_test, best_model_test, squared=False)\n",
    "MAPE_test = mean_absolute_percentage_error(target_test, best_model_test)\n",
    "MAE_test = mean_absolute_error(target_test, best_model_test)\n",
    "\n",
    "print(\"Результат тестовой метрики MAE для модели LGBMRegressor:\", MAE_test)\n",
    "print(\"Результат тестовой метрики RMSE для модели LGBMRegressor:\", RMSE_test)\n",
    "print(\"Результат тестовой метрики MAPE для модели LGBMRegressor:\", MAPE_test)"
   ]
  },
  {
   "cell_type": "markdown",
   "metadata": {},
   "source": [
    "**Mean Absolute Error (MAE)** = 1861 - средняя сумма абсолютной разницы между фактическим значением и прогнозируемым значением.\n",
    "\n",
    "**Root Mean Squared Error (RMSE)** = 2640 - метрика, которая сообщает нам квадратный корень из средней квадратичной разницы между прогнозируемыми значениями и фактическими значениями в наборе данных. Чем ниже *RMSE*, тем лучше модель соответствует набору данных.\n",
    "\n",
    "**Mean Absolute Percentage Error (MAPE)** = 0.19 – средняя абсолютная ошибка."
   ]
  },
  {
   "cell_type": "markdown",
   "metadata": {},
   "source": [
    "## Проверка значений для Dummy-модели"
   ]
  },
  {
   "cell_type": "code",
   "execution_count": 89,
   "metadata": {
    "tags": []
   },
   "outputs": [
    {
     "name": "stdout",
     "output_type": "stream",
     "text": [
      "MAE на dummy модели: 6109.165080831409\n",
      "RMSE на dummy модели: 7660.795305670363\n",
      "MAPE на dummy модели: 0.8786235864440455\n"
     ]
    }
   ],
   "source": [
    "model_dummy = DummyRegressor(strategy=\"median\")\n",
    "model_dummy.fit(features_train, target_train)\n",
    "dummy_pred = model_dummy.predict(features_test)\n",
    "\n",
    "rmse_dummy = mean_squared_error(target_test, dummy_pred, squared=False)\n",
    "mae_dummy = mean_absolute_error(target_test, dummy_pred)\n",
    "mape_dummy = mean_absolute_percentage_error(target_test, dummy_pred)\n",
    "\n",
    "print(\"MAE на dummy модели:\", mae_dummy)\n",
    "print(\"RMSE на dummy модели:\", rmse_dummy)\n",
    "print(\"MAPE на dummy модели:\", mape_dummy)"
   ]
  },
  {
   "cell_type": "markdown",
   "metadata": {},
   "source": [
    "Значения, полученные для модели `LGBMRegressor`, более чем в 3 раза лучше значений константной модели."
   ]
  },
  {
   "cell_type": "markdown",
   "metadata": {},
   "source": [
    "## Важность признаков"
   ]
  },
  {
   "cell_type": "code",
   "execution_count": 90,
   "metadata": {
    "tags": []
   },
   "outputs": [],
   "source": [
    "explainer = shap.Explainer(model_lgbm, feature_names=features.columns)\n",
    "shap_values = explainer(features_train)"
   ]
  },
  {
   "cell_type": "code",
   "execution_count": 91,
   "metadata": {},
   "outputs": [
    {
     "data": {
      "image/png": "[encoded data removed]",
      "text/plain": [
       "<Figure size 800x510 with 2 Axes>"
      ]
     },
     "metadata": {},
     "output_type": "display_data"
    }
   ],
   "source": [
    "shap.summary_plot(shap_values, features_train)"
   ]
  },
  {
   "cell_type": "code",
   "execution_count": 92,
   "metadata": {},
   "outputs": [
    {
     "data": {
      "image/png": "[encoded data removed]",
      "text/plain": [
       "<Figure size 800x600 with 1 Axes>"
      ]
     },
     "metadata": {},
     "output_type": "display_data"
    }
   ],
   "source": [
    "shap.plots.bar(shap_values)"
   ]
  },
  {
   "cell_type": "markdown",
   "metadata": {},
   "source": [
    "Значительную важность для определения цены автомобиля имеют признаки: модель автомобиля (*model*) и год выпуска автомобиля (*year*). "
   ]
  },
  {
   "cell_type": "markdown",
   "metadata": {},
   "source": [
    "## Общий вывод"
   ]
  },
  {
   "cell_type": "markdown",
   "metadata": {},
   "source": [
    "В нашем распоряжении имеются сырые данные по автомобилям Ford `vin_ford_train.txt` с VIN-кодами и ценами на автомобили, которым эти VIN-коды принадлежат. \n",
    "\n",
    "Составив регулярные выражения для поиска и извлечения конкретных частей VIN-кода, мы спарсили текстовый массив данных с VIN-кодами и ценами и получили необходимый датасет.\n",
    "\n",
    "```\n",
    "WMI = f'(?P<wmi>[{ALLOWED}]{{3}})'                                               # 1-3 производитель\n",
    "BRAKE = f'(?P<brake>[{ALLOWED}])'                                                # 4 ремни безопасности, тормоза и грузоподъемность\n",
    "MODEL = f'(?P<model>[{ALLOWED}]{{3}})'                                           # 5-7 модель\n",
    "ENGINE = f'(?P<engine>[{ALLOWED}])'                                              # 8 двигатель\n",
    "CHECK = f'(?P<check>[{ALLOWED}])'                                                # 9 контрольный знак\n",
    "YEAR = f\"(?P<year>[{ALLOWED.replace('U', '').replace('Z', '')}])\"                # 10 год (в кодировке года не используются знаки U и Z)\n",
    "FACTORY = f'(?P<factory>[{ALLOWED}])'                                            # 11 завод-производитель\n",
    "SERIAL_NUM = f'(?P<serial_num>[{ALLOWED}]{{3}}\\\\d{{3}})'                         # 12-17 серийный номер\n",
    "\n",
    "```\n",
    "\n",
    "Изучили структуру VIN-кода, какие информационные компоненты он содержит (регион, производитель, характеристики автомобиля и т. д.).\n",
    "\n",
    "Целью данного исследования была модель, которая будет предсказывать цену автомобиля по её VIN-коду.\n",
    "\n",
    "Были выбраны следующие алгоритмы для обучения модели:\n",
    "\n",
    "- `RandomForestRegressor`\n",
    "- `CatBoostRegressor`\n",
    "- `LGBMRegressor`\n",
    "\n",
    "Качество моделей определялось метрикой *Mean Absolute Error (MAE)*. \n",
    "\n",
    "1. RandomForestRegressor 1931.152356\n",
    "2. CatBoostRegressor 1921.324004\n",
    "3. LGBMRegressor 1879.810175\n",
    "\n",
    "Лучшая модель - LGBMRegressor с гиперпараметрами {'num_leaves': 41, 'n_estimators': 251, 'max_depth': 26, 'force_col_wise': True} показала значение *MAE* на тестовой выборке = 1861, *RMSE* 2640\n",
    "и *MAPE* 0.19\n",
    "\n",
    "Наша обученная модель `LGBMRegressor` почти в 3 раза лучше константной `Dummy-модели`.\n",
    "\n",
    "Значительную важность для определения цены автомобиля имеют признаки: модель автомобиля (*model*) и год выпуска автомобиля (*year*). "
   ]
  },
  {
   "cell_type": "markdown",
   "metadata": {},
   "source": [
    "Небольшой декодер. Принимает на вход VIN-код, если длина не совпадает, возвращает \"Неверный VIN-код\", если длина ок, возвращает датафрейм с расшифровкой.\n",
    "\n",
    "Пример правильного кода VIN: 2FMDK3JC4BBA41556"
   ]
  },
  {
   "cell_type": "code",
   "execution_count": null,
   "metadata": {
    "id": "RTDX91afJvdV",
    "tags": []
   },
   "outputs": [],
   "source": [
    "# Небольшой декодер\n",
    "\n",
    "v = input()\n",
    "vin = re.compile(vin_ford)\n",
    "def decode_vin(s):\n",
    "    if len(v) == 17:\n",
    "        return pd.DataFrame([x.groupdict() for x in vin.finditer(s)]);\n",
    "    else:\n",
    "        print('Неверный VIN-код')\n",
    "    \n",
    "df_1 = decode_vin(v)\n",
    "df_1"
   ]
  },
  {
   "cell_type": "code",
   "execution_count": null,
   "metadata": {
    "id": "RZ4BALbFJvdV"
   },
   "outputs": [],
   "source": []
  }
 ],
 "metadata": {
  "colab": {
   "provenance": []
  },
  "kernelspec": {
   "display_name": "Python 3 (ipykernel)",
   "language": "python",
   "name": "python3"
  },
  "language_info": {
   "codemirror_mode": {
    "name": "ipython",
    "version": 3
   },
   "file_extension": ".py",
   "mimetype": "text/x-python",
   "name": "python",
   "nbconvert_exporter": "python",
   "pygments_lexer": "ipython3",
   "version": "3.11.8"
  },
  "widgets": {
   "application/vnd.jupyter.widget-state+json": {
    "a8caa447dfa54e63ba29969339f53a09": {
     "model_module": "catboost-widget",
     "model_module_version": "^1.0.0",
     "model_name": "CatboostWidgetModel",
     "state": {
      "_dom_classes": [],
      "_model_module": "catboost-widget",
      "_model_module_version": "^1.0.0",
      "_model_name": "CatboostWidgetModel",
      "_view_count": null,
      "_view_module": "catboost-widget",
      "_view_module_version": "^1.0.0",
      "_view_name": "CatboostWidgetView",
      "data": {
       "catboost_info": {
        "content": {
         "data": {
          "iterations": [
           {
            "iteration": 0,
            "learn": [
             2802.679923
            ],
            "parameters": [
             {
              "depth": 4,
              "l2_leaf_reg": 1,
              "learning_rate": 0.03
             }
            ],
            "passed_time": 82.00103214,
            "remaining_time": 2378.029932,
            "test": [
             2701.512281
            ]
           },
           {
            "iteration": 1,
            "learn": [
             2705.319486
            ],
            "parameters": [
             {
              "depth": 4,
              "l2_leaf_reg": 1,
              "learning_rate": 0.1
             }
            ],
            "passed_time": 167.5108576,
            "remaining_time": 2345.152007,
            "test": [
             2642.80804
            ]
           },
           {
            "iteration": 2,
            "learn": [
             2808.975171
            ],
            "parameters": [
             {
              "depth": 4,
              "l2_leaf_reg": 3,
              "learning_rate": 0.03
             }
            ],
            "passed_time": 248.0677278,
            "remaining_time": 2232.60955,
            "test": [
             2705.202196
            ]
           },
           {
            "iteration": 3,
            "learn": [
             2719.523246
            ],
            "parameters": [
             {
              "depth": 4,
              "l2_leaf_reg": 3,
              "learning_rate": 0.1
             }
            ],
            "passed_time": 334.7773419,
            "remaining_time": 2176.052723,
            "test": [
             2645.047881
            ]
           },
           {
            "iteration": 4,
            "learn": [
             2815.860838
            ],
            "parameters": [
             {
              "depth": 4,
              "l2_leaf_reg": 5,
              "learning_rate": 0.03
             }
            ],
            "passed_time": 417.5524783,
            "remaining_time": 2087.762391,
            "test": [
             2710.182311
            ]
           },
           {
            "iteration": 5,
            "learn": [
             2725.141254
            ],
            "parameters": [
             {
              "depth": 4,
              "l2_leaf_reg": 5,
              "learning_rate": 0.1
             }
            ],
            "passed_time": 502.5531676,
            "remaining_time": 2010.212671,
            "test": [
             2645.092984
            ]
           },
           {
            "iteration": 6,
            "learn": [
             2818.949258
            ],
            "parameters": [
             {
              "depth": 4,
              "l2_leaf_reg": 7,
              "learning_rate": 0.03
             }
            ],
            "passed_time": 583.3587896,
            "remaining_time": 1916.750309,
            "test": [
             2712.06978
            ]
           },
           {
            "iteration": 7,
            "learn": [
             2729.663301
            ],
            "parameters": [
             {
              "depth": 4,
              "l2_leaf_reg": 7,
              "learning_rate": 0.1
             }
            ],
            "passed_time": 673.9854851,
            "remaining_time": 1853.460084,
            "test": [
             2653.425088
            ]
           },
           {
            "iteration": 8,
            "learn": [
             2820.154186
            ],
            "parameters": [
             {
              "depth": 4,
              "l2_leaf_reg": 9,
              "learning_rate": 0.03
             }
            ],
            "passed_time": 754.3876601,
            "remaining_time": 1760.237874,
            "test": [
             2711.142926
            ]
           },
           {
            "iteration": 9,
            "learn": [
             2731.798169
            ],
            "parameters": [
             {
              "depth": 4,
              "l2_leaf_reg": 9,
              "learning_rate": 0.1
             }
            ],
            "passed_time": 840.3743964,
            "remaining_time": 1680.748793,
            "test": [
             2647.816431
            ]
           },
           {
            "iteration": 10,
            "learn": [
             2703.139041
            ],
            "parameters": [
             {
              "depth": 6,
              "l2_leaf_reg": 1,
              "learning_rate": 0.03
             }
            ],
            "passed_time": 985.7424885,
            "remaining_time": 1702.646117,
            "test": [
             2633.96165
            ]
           },
           {
            "iteration": 11,
            "learn": [
             2581.274094
            ],
            "parameters": [
             {
              "depth": 6,
              "l2_leaf_reg": 1,
              "learning_rate": 0.1
             }
            ],
            "passed_time": 1142.304097,
            "remaining_time": 1713.456146,
            "test": [
             2608.505273
            ]
           },
           {
            "iteration": 12,
            "learn": [
             2716.078274
            ],
            "parameters": [
             {
              "depth": 6,
              "l2_leaf_reg": 3,
              "learning_rate": 0.03
             }
            ],
            "passed_time": 1286.410854,
            "remaining_time": 1682.229579,
            "test": [
             2638.828148
            ]
           },
           {
            "iteration": 13,
            "learn": [
             2602.808558
            ],
            "parameters": [
             {
              "depth": 6,
              "l2_leaf_reg": 3,
              "learning_rate": 0.1
             }
            ],
            "passed_time": 1437.125966,
            "remaining_time": 1642.429675,
            "test": [
             2618.403075
            ]
           },
           {
            "iteration": 14,
            "learn": [
             2721.198036
            ],
            "parameters": [
             {
              "depth": 6,
              "l2_leaf_reg": 5,
              "learning_rate": 0.03
             }
            ],
            "passed_time": 1581.774008,
            "remaining_time": 1581.774008,
            "test": [
             2641.82344
            ]
           },
           {
            "iteration": 15,
            "learn": [
             2618.23027
            ],
            "parameters": [
             {
              "depth": 6,
              "l2_leaf_reg": 5,
              "learning_rate": 0.1
             }
            ],
            "passed_time": 1731.595819,
            "remaining_time": 1515.146342,
            "test": [
             2614.299114
            ]
           },
           {
            "iteration": 16,
            "learn": [
             2731.78448
            ],
            "parameters": [
             {
              "depth": 6,
              "l2_leaf_reg": 7,
              "learning_rate": 0.03
             }
            ],
            "passed_time": 1874.344659,
            "remaining_time": 1433.322386,
            "test": [
             2645.468936
            ]
           },
           {
            "iteration": 17,
            "learn": [
             2629.721143
            ],
            "parameters": [
             {
              "depth": 6,
              "l2_leaf_reg": 7,
              "learning_rate": 0.1
             }
            ],
            "passed_time": 2030.033299,
            "remaining_time": 1353.355533,
            "test": [
             2619.444441
            ]
           },
           {
            "iteration": 18,
            "learn": [
             2739.901017
            ],
            "parameters": [
             {
              "depth": 6,
              "l2_leaf_reg": 9,
              "learning_rate": 0.03
             }
            ],
            "passed_time": 2174.798045,
            "remaining_time": 1259.093605,
            "test": [
             2649.564527
            ]
           },
           {
            "iteration": 19,
            "learn": [
             2637.20689
            ],
            "parameters": [
             {
              "depth": 6,
              "l2_leaf_reg": 9,
              "learning_rate": 0.1
             }
            ],
            "passed_time": 2322.272333,
            "remaining_time": 1161.136167,
            "test": [
             2614.18198
            ]
           }
          ],
          "meta": {
           "iteration_count": 30,
           "launch_mode": "Train",
           "learn_metrics": [
            {
             "best_value": "Min",
             "name": "RMSE"
            }
           ],
           "learn_sets": [
            "learn"
           ],
           "name": "experiment",
           "parameters": "parameters",
           "test_metrics": [
            {
             "best_value": "Min",
             "name": "RMSE"
            }
           ],
           "test_sets": [
            "test"
           ]
          }
         },
         "passed_iterations": 19,
         "total_iterations": 30
        },
        "name": "catboost_info",
        "path": "catboost_info"
       }
      },
      "layout": "IPY_MODEL_d9f7e970e0db4476a0431b8a959cced3"
     }
    }
   }
  }
 },
 "nbformat": 4,
 "nbformat_minor": 4
}
